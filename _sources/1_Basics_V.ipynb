{
 "cells": [
  {
   "cell_type": "markdown",
   "metadata": {},
   "source": [
    "# モジュールとアルゴリズム"
   ]
  },
  {
   "cell_type": "markdown",
   "metadata": {},
   "source": [
    "<div name=\"html-admonition\" style=\"font-size: 0.8em\">\n",
    "<input type=\"button\" onclick=\"location.href='https://translate.google.com/translate?hl=&sl=ja&tl=en&u='+window.location;\" value=\"Google translation\" style=\"color:#ffffff;background-color:#008080; height:25px\" onmouseover=\"this.style.background='#99ccff'\" onmouseout=\"this.style.background='#008080'\"/> in English or the language of your choice.\n",
    "</div><br>"
   ]
  },
  {
   "cell_type": "markdown",
   "metadata": {
    "heading_collapsed": true
   },
   "source": [
    "## モジュールとパッケージ"
   ]
  },
  {
   "cell_type": "markdown",
   "metadata": {
    "heading_collapsed": true,
    "hidden": true
   },
   "source": [
    "### 説明"
   ]
  },
  {
   "cell_type": "markdown",
   "metadata": {
    "hidden": true
   },
   "source": [
    "Pythonには組み込み関数が多く用意されているが，Jupyter Notebookで`Python`のセッションを開始しても全ての関数が使える状態になっていない。使えるようにするためには，モジュール（modules）やパッケージ（package）と呼ばれるものを読み込む必要がある。２つの違いを簡単にいうと次のようになる。\n",
    "* モジュール（module）は**１つ**のファイル（拡張子が`.py`）にまとめられた関数群であり，\n",
    "* パッケージは（package）**複数**つのファイル（拡張子が`.py`）で構成されている（フォルダーにまとめられている）"
   ]
  },
  {
   "cell_type": "markdown",
   "metadata": {
    "hidden": true
   },
   "source": [
    "従って，モジュール全体を読み込んだり，あるパッケージの１つのモジュールだけを読み込むということも可能である。授業では，`NumPy`，`SciPy`，`Pandas`を使うが，ここでは例として数学用の`math`モジュール，ランダム変数用の`random`モジュール，オブジェクトの属性を表示する`see`モジュールを取り上げる。\n",
    "\n",
    "含まれる関数を使うためには`import`を使って読み込む必要がある。モジュールの全てを読み込むとモジュール内の全ての関数が使用可能となる。"
   ]
  },
  {
   "cell_type": "markdown",
   "metadata": {
    "hidden": true
   },
   "source": [
    "````{note}\n",
    "更に付け加えると，サブパッケージ（subpackage）とサブモジュール（submodule）がある大きなパッケージもある。次の章で説明する[Numpy](chap:numpy)パッケージを例として挙げることができる。フォルダーのの構成で考えると次のようになる。\n",
    "```\n",
    "package（フォルダー）\n",
    "|-- __init__.py（ファイル）\n",
    "|-- module.py（ファイル; 関数が配置）\n",
    "|-- subpackage（フォルダー）\n",
    "        |-- __init__.py（ファイル）\n",
    "        |-- submodule.py（ファイル; 関数が配置）\n",
    "```\n",
    "ここで`__init__.py`はパッケージとサブパッケージのフォルダーに必ず必要なファイルであり，空の場合もあれば関数が含まれる場合もある。\n",
    "````"
   ]
  },
  {
   "cell_type": "markdown",
   "metadata": {
    "heading_collapsed": true,
    "hidden": true,
    "tags": [
     "remove-cell"
    ]
   },
   "source": [
    "### `math`モジュール"
   ]
  },
  {
   "cell_type": "markdown",
   "metadata": {
    "hidden": true
   },
   "source": [
    "(sec:V-solow)=\n",
    "### `math`モジュール"
   ]
  },
  {
   "cell_type": "markdown",
   "metadata": {
    "hidden": true
   },
   "source": [
    "名前が示すように数学に関する関数がまとめられているモジュールとなる（[詳細はこのリンクを参照](https://docs.python.org/ja/3/library/math.html)）。`math`を次のコードで読み込むことができる。"
   ]
  },
  {
   "cell_type": "code",
   "execution_count": 1,
   "metadata": {
    "hidden": true
   },
   "outputs": [],
   "source": [
    "import math"
   ]
  },
  {
   "cell_type": "markdown",
   "metadata": {
    "hidden": true
   },
   "source": [
    "最初の例として平方根を計算してみよう。使う関数名は，square rootの略となる`sqrt()`。"
   ]
  },
  {
   "cell_type": "code",
   "execution_count": 2,
   "metadata": {
    "hidden": true
   },
   "outputs": [
    {
     "data": {
      "text/plain": [
       "2.0"
      ]
     },
     "execution_count": 2,
     "metadata": {},
     "output_type": "execute_result"
    }
   ],
   "source": [
    "math.sqrt(4)"
   ]
  },
  {
   "cell_type": "markdown",
   "metadata": {
    "hidden": true
   },
   "source": [
    "`math.sqrt`とは「`math`モジュールの`sqrt`」という意味であり，`math`をつけるのは他のモジュールの関数`sqrt`とバッティングしないようにするためである。\n",
    "\n",
    "モジュール名が長い場合は，短い名前で読み込むことも可能である。"
   ]
  },
  {
   "cell_type": "code",
   "execution_count": 3,
   "metadata": {
    "hidden": true
   },
   "outputs": [],
   "source": [
    "import math as m"
   ]
  },
  {
   "cell_type": "code",
   "execution_count": 4,
   "metadata": {
    "hidden": true
   },
   "outputs": [
    {
     "data": {
      "text/plain": [
       "3.0"
      ]
     },
     "execution_count": 4,
     "metadata": {},
     "output_type": "execute_result"
    }
   ],
   "source": [
    "m.sqrt(9)"
   ]
  },
  {
   "cell_type": "markdown",
   "metadata": {
    "hidden": true
   },
   "source": [
    "モジュール内の特定の関数だけを読み込むことも可能である。"
   ]
  },
  {
   "cell_type": "code",
   "execution_count": 5,
   "metadata": {
    "hidden": true
   },
   "outputs": [],
   "source": [
    "from math import sqrt, log   # logは自然対数で, sqrtの両方を読み込む"
   ]
  },
  {
   "cell_type": "markdown",
   "metadata": {
    "hidden": true
   },
   "source": [
    "このコードは「`math`モジュールから`sqrt`と`log`を読み込む」と読むことができる。"
   ]
  },
  {
   "cell_type": "code",
   "execution_count": 6,
   "metadata": {
    "hidden": true
   },
   "outputs": [
    {
     "data": {
      "text/plain": [
       "(3.1622776601683795, 2.302585092994046)"
      ]
     },
     "execution_count": 6,
     "metadata": {},
     "output_type": "execute_result"
    }
   ],
   "source": [
    "sqrt(10), log(10)"
   ]
  },
  {
   "cell_type": "markdown",
   "metadata": {
    "hidden": true
   },
   "source": [
    "ただ、この場合は他のモジュールやパッケージ、もしくは自分が定義した関数をバッティングしないように注意する必要がある。"
   ]
  },
  {
   "cell_type": "markdown",
   "metadata": {
    "heading_collapsed": true,
    "hidden": true
   },
   "source": [
    "### `random`モジュール"
   ]
  },
  {
   "cell_type": "markdown",
   "metadata": {
    "hidden": true
   },
   "source": [
    "`random`モジュールを使うことにより乱数を発生させることができる（[詳細はこのリンクを参照](https://docs.python.org/ja/3/library/random.html)）。まず`random`をインポートしよう。"
   ]
  },
  {
   "cell_type": "code",
   "execution_count": 7,
   "metadata": {
    "hidden": true
   },
   "outputs": [],
   "source": [
    "import random"
   ]
  },
  {
   "cell_type": "markdown",
   "metadata": {
    "hidden": true
   },
   "source": [
    "様々な関数が用意されているが，その中の`randint()`関数は，引数で指定するランダムな整数を返す。\n",
    "* 第１引数：最小値（整数型）\n",
    "* 第２引数：最大値（整数型）\n",
    "\n",
    "次のコードは$[1,10]$の間の整数を返す。`1`と`10`は戻り値に含まれることに注意しよう。\n",
    "```\n",
    "random.randint(1, 10)\n",
    "```\n",
    "\n",
    "では実際にコードを実行してみよう。次のコードはサイコロの目（1~6）を１つを返す。"
   ]
  },
  {
   "cell_type": "code",
   "execution_count": 8,
   "metadata": {
    "hidden": true
   },
   "outputs": [
    {
     "data": {
      "text/plain": [
       "1"
      ]
     },
     "execution_count": 8,
     "metadata": {},
     "output_type": "execute_result"
    }
   ],
   "source": [
    "random.randint(1,6)"
   ]
  },
  {
   "cell_type": "markdown",
   "metadata": {
    "hidden": true
   },
   "source": [
    "内包表記を使って10回サイコロを振った結果を表示してみよう。"
   ]
  },
  {
   "cell_type": "code",
   "execution_count": 9,
   "metadata": {
    "hidden": true
   },
   "outputs": [
    {
     "data": {
      "text/plain": [
       "[5, 6, 4, 1, 2, 3, 5, 3, 1, 3]"
      ]
     },
     "execution_count": 9,
     "metadata": {},
     "output_type": "execute_result"
    }
   ],
   "source": [
    "[random.randint(1,6) for _ in range(10)]"
   ]
  },
  {
   "cell_type": "markdown",
   "metadata": {
    "hidden": true
   },
   "source": [
    "````{note}\n",
    "内包表記に`_`（アンダースコア）を使っている。`i`や`j`を使っても良いが，回数を数える以外に役目はない。その様な場合に良く使われるのが`_`である。`for`ループでも同じことが言える。次のコードが例として挙げられる。\n",
    "```\n",
    "for _ in range(5):\n",
    "    print('hello')\n",
    "```\n",
    "２行目に`_`は入っていないので，ループの回数を数える以外の役割はない。\n",
    "````"
   ]
  },
  {
   "cell_type": "markdown",
   "metadata": {
    "hidden": true
   },
   "source": [
    "次に，`gauss()`を紹介する。この関数は，正規分布から生成されたランダム変数を１つ返す。引数は次の様になっている。\n",
    "* 第１引数：平均値\n",
    "* 第２引数：標準偏差\n",
    "\n",
    "従って，次のコードは標準正規分布からのランダム変数を生成する。\n",
    "\n",
    "```\n",
    "random.gauss(0, 1)\n",
    "```\n",
    "関数名が`gauss`なのは，正規分布はガウス分布とも呼ばれるためである。\n",
    "\n",
    "\n",
    "次のコードは，平均`10`，標準偏差`2`からランダム変数を生成している。"
   ]
  },
  {
   "cell_type": "code",
   "execution_count": 10,
   "metadata": {
    "hidden": true
   },
   "outputs": [
    {
     "data": {
      "text/plain": [
       "12.187640151210305"
      ]
     },
     "execution_count": 10,
     "metadata": {},
     "output_type": "execute_result"
    }
   ],
   "source": [
    "random.gauss(10,2)"
   ]
  },
  {
   "cell_type": "markdown",
   "metadata": {
    "hidden": true
   },
   "source": [
    "内包表記を使って，標準正規分布から生成された`10`のランダム変数からなるリストを作成しよう。"
   ]
  },
  {
   "cell_type": "code",
   "execution_count": 11,
   "metadata": {
    "hidden": true
   },
   "outputs": [
    {
     "data": {
      "text/plain": [
       "[0.12327993472239912,\n",
       " 0.8550948840212195,\n",
       " -0.1252029753960472,\n",
       " -0.6945759906347906,\n",
       " -0.013456524945046854,\n",
       " 0.815233702492543,\n",
       " -0.16532776665568671,\n",
       " -0.08563845574154223,\n",
       " 1.6881223307671729,\n",
       " -0.17161605714298334]"
      ]
     },
     "execution_count": 11,
     "metadata": {},
     "output_type": "execute_result"
    }
   ],
   "source": [
    "[random.gauss(0,1) for _ in range(10)]"
   ]
  },
  {
   "cell_type": "markdown",
   "metadata": {
    "heading_collapsed": true,
    "hidden": true
   },
   "source": [
    "### `see`モジュール"
   ]
  },
  {
   "cell_type": "markdown",
   "metadata": {
    "hidden": true
   },
   "source": [
    "[オブジェクトと属性](object)の節で属性を確認する`dir()`関数について説明した。`dir()`は組み込み関数であるため，パッケージやモジュールをインポートしなくても使えるので便利である。しかし通常使う必要がない`__`（`_`が２つ並んでいる）が付いている属性（例えば，`.__init__`）まで表示されてしまう。それらを省いて，属性のリストを見やすく表示するのが`see`モジュールである。\n",
    "\n",
    "```{hint}\n",
    "`_`はunderscoreと読む。`_`が2つ並んだ`__`はdouble underscoresだが，略してdunder（ダンダー）と呼ばれる。また，`.__init__`のような属性は特殊属性と呼ばれるが，ダンダー属性と呼ぶこともある。\n",
    "```\n",
    "\n",
    "`see`モジュールの使い方は簡単で，まず次のコードでインポートする。"
   ]
  },
  {
   "cell_type": "code",
   "execution_count": 12,
   "metadata": {
    "hidden": true
   },
   "outputs": [],
   "source": [
    "from see import see"
   ]
  },
  {
   "cell_type": "markdown",
   "metadata": {
    "hidden": true
   },
   "source": [
    "後はインポートした関数を`dir()`と同じように使うだけである。簡単な例を考えよう。"
   ]
  },
  {
   "cell_type": "code",
   "execution_count": 13,
   "metadata": {
    "hidden": true
   },
   "outputs": [],
   "source": [
    "x = 10.99"
   ]
  },
  {
   "cell_type": "markdown",
   "metadata": {
    "hidden": true
   },
   "source": [
    "`dir()`を使うと通常は必要ないものまで表示される。"
   ]
  },
  {
   "cell_type": "code",
   "execution_count": 14,
   "metadata": {
    "hidden": true,
    "tags": [
     "output_scroll"
    ]
   },
   "outputs": [
    {
     "data": {
      "text/plain": [
       "['__abs__',\n",
       " '__add__',\n",
       " '__bool__',\n",
       " '__ceil__',\n",
       " '__class__',\n",
       " '__delattr__',\n",
       " '__dir__',\n",
       " '__divmod__',\n",
       " '__doc__',\n",
       " '__eq__',\n",
       " '__float__',\n",
       " '__floor__',\n",
       " '__floordiv__',\n",
       " '__format__',\n",
       " '__ge__',\n",
       " '__getattribute__',\n",
       " '__getformat__',\n",
       " '__getnewargs__',\n",
       " '__gt__',\n",
       " '__hash__',\n",
       " '__init__',\n",
       " '__init_subclass__',\n",
       " '__int__',\n",
       " '__le__',\n",
       " '__lt__',\n",
       " '__mod__',\n",
       " '__mul__',\n",
       " '__ne__',\n",
       " '__neg__',\n",
       " '__new__',\n",
       " '__pos__',\n",
       " '__pow__',\n",
       " '__radd__',\n",
       " '__rdivmod__',\n",
       " '__reduce__',\n",
       " '__reduce_ex__',\n",
       " '__repr__',\n",
       " '__rfloordiv__',\n",
       " '__rmod__',\n",
       " '__rmul__',\n",
       " '__round__',\n",
       " '__rpow__',\n",
       " '__rsub__',\n",
       " '__rtruediv__',\n",
       " '__setattr__',\n",
       " '__setformat__',\n",
       " '__sizeof__',\n",
       " '__str__',\n",
       " '__sub__',\n",
       " '__subclasshook__',\n",
       " '__truediv__',\n",
       " '__trunc__',\n",
       " 'as_integer_ratio',\n",
       " 'conjugate',\n",
       " 'fromhex',\n",
       " 'hex',\n",
       " 'imag',\n",
       " 'is_integer',\n",
       " 'real']"
      ]
     },
     "execution_count": 14,
     "metadata": {},
     "output_type": "execute_result"
    }
   ],
   "source": [
    "dir(x)"
   ]
  },
  {
   "cell_type": "markdown",
   "metadata": {
    "hidden": true
   },
   "source": [
    "`see()`を使うとダンダー属性は表示されない。"
   ]
  },
  {
   "cell_type": "code",
   "execution_count": 15,
   "metadata": {
    "hidden": true
   },
   "outputs": [
    {
     "data": {
      "text/plain": [
       "    +             -             *             /             //            %\n",
       "    **            +obj          -obj          <             <=            ==\n",
       "    !=            >             >=            abs()         bool()\n",
       "    dir()         divmod()      float()       hash()        help()\n",
       "    int()         repr()        round()       str()\n",
       "    .as_integer_ratio()         .conjugate()                .fromhex()\n",
       "    .hex()        .imag         .is_integer()               .real"
      ]
     },
     "execution_count": 15,
     "metadata": {},
     "output_type": "execute_result"
    }
   ],
   "source": [
    "see(x)"
   ]
  },
  {
   "cell_type": "markdown",
   "metadata": {
    "hidden": true
   },
   "source": [
    "`see()`を使う利点がもう一つある。表示されたリストを見ると，メソッドには`()`が付けられているが，単なるデータ属性には付いていない。（表示さている属性・メソッドが全て使えるわけではないので注意しよう）。例えば，`is_integer()`は整数であれば`True`を返すメソッドであり，`.real`と`.imag`は複素数の実部と虚部を返す属性となる。"
   ]
  },
  {
   "cell_type": "code",
   "execution_count": 16,
   "metadata": {
    "hidden": true
   },
   "outputs": [
    {
     "data": {
      "text/plain": [
       "False"
      ]
     },
     "execution_count": 16,
     "metadata": {},
     "output_type": "execute_result"
    }
   ],
   "source": [
    "x.is_integer()"
   ]
  },
  {
   "cell_type": "code",
   "execution_count": 17,
   "metadata": {
    "hidden": true
   },
   "outputs": [
    {
     "data": {
      "text/plain": [
       "(10.99, 0.0)"
      ]
     },
     "execution_count": 17,
     "metadata": {},
     "output_type": "execute_result"
    }
   ],
   "source": [
    "x.real, x.imag"
   ]
  },
  {
   "cell_type": "markdown",
   "metadata": {
    "hidden": true
   },
   "source": [
    "````{note}\n",
    "ここでは`see`関数を直接インポートして使ったが，次のようにインポートすることも可能である。\n",
    "```\n",
    "import see\n",
    "```\n",
    "上の例を使うと，この場合は`see.see(x)`として`x`の属性を確認できる。\n",
    "````"
   ]
  },
  {
   "cell_type": "markdown",
   "metadata": {
    "heading_collapsed": true
   },
   "source": [
    "## アルゴリズム"
   ]
  },
  {
   "cell_type": "markdown",
   "metadata": {
    "hidden": true
   },
   "source": [
    "コンピューターは`0`と`1`で書かれている機械語しか理解できないが，プログラマーにとって機械語は非常に難解である。つまりプログラマーとコンピューターは直接「会話」ができない。この問題を解決するために，プログラミング言語が開発され「通訳・翻訳」の役割を担っている。`Python`を使う場合は，`Python`コードを書き，それを`Python`が機械語に「通訳」し，コンピューターが命令を実行することになる。結果が表示されると，プログラマーは内容を確認し，コードを追加・修正などをおこない開発が進んでいく。Jupyter Notebookでコードを書く場合でも同じである。\n",
    "<pre>\n",
    "+--------------+　　Pythonが「通訳」 　+-------+\n",
    "|　Pythonコード　| ▷ ▷ ▷ ▷ ▷ ▷ ▷ ▷ ▷　| 機械語　|\n",
    "+--------------+   　　　　　　　 　   +-------+\n",
    "       ▲                          　  　 ▽\n",
    "       ▲                          　　   ▽\n",
    "       ▲ アルゴリズム       　　　　　　   　▽ 実  \n",
    "       ▲ 疑似コード　　        　      　  ▽ 行  \n",
    "       ▲                          　  　 ▽\n",
    "       ▲                          　　   ▽\n",
    "+-------------+　　　　内容を確認　  　  +-----+\n",
    "|　プログラマー　| ◀︎ ◀︎ ◀︎ ◀︎ ◀︎ ◀︎ ◀︎ ◀︎ ◀︎ ◀︎　| 結果 |\n",
    "+-------------+     　　　　  　　 　 　+-----+\n",
    "\n",
    "▶︎：プログラマーがおこなう\n",
    "▷：コンピューターがおこなう\n",
    "</pre>"
   ]
  },
  {
   "cell_type": "markdown",
   "metadata": {
    "hidden": true
   },
   "source": [
    "このサイクルの中で**アルゴリズム**は，プログラマーが`Python`コードを書く際に重要な役割を果たす。日本産業規格（JIS X0001）は次のように定義している。\n",
    "\n",
    "> 問題を解くためのものであって，明確に定義され，順序付けられた有限個の規則からなる集合\n",
    "\n",
    "平たく言えば，コンピューターが実行すると正しい結果が保証された計算手続である。更に，その計算手続きはどのプログラミング言語でも使える問題解決の明確な考え方である。\n",
    "\n",
    "例えば，カレーを作るとしよう。アルゴリズムはその場合のレシピである。ある程度料理ができる人であれば，書かれている手順に沿って作れば美味しいカレーが出来上がるレシピがアルゴリズムである。様々な問題には異なるアルゴリズムがある。また１つの問題には複数のアルゴリズムが存在する。カレーでも色々なレシピがあるのと同じである。\n",
    "\n",
    "以下では，比較的に簡単であり，且つ代表的な４つのアルゴリズムについて解説する。また，アルゴリズムによって計算速度が異なり，その理由についても考えることにする。"
   ]
  },
  {
   "cell_type": "markdown",
   "metadata": {
    "heading_collapsed": true,
    "hidden": true
   },
   "source": [
    "### 例１：合計"
   ]
  },
  {
   "cell_type": "markdown",
   "metadata": {
    "hidden": true
   },
   "source": [
    "次のコードは標準正規分布から抽出した100万個のランダム変数から構成されるリストを作成する。"
   ]
  },
  {
   "cell_type": "code",
   "execution_count": 18,
   "metadata": {
    "hidden": true
   },
   "outputs": [],
   "source": [
    "lst1 = [random.gauss(0,1) for _ in range(10**6)]"
   ]
  },
  {
   "cell_type": "markdown",
   "metadata": {
    "hidden": true
   },
   "source": [
    "このリストの値を合計するためのアルゴリズムを考える。"
   ]
  },
  {
   "cell_type": "markdown",
   "metadata": {
    "heading_collapsed": true,
    "hidden": true
   },
   "source": [
    "#### `for`ループ"
   ]
  },
  {
   "cell_type": "markdown",
   "metadata": {
    "hidden": true
   },
   "source": [
    "まず`for`ループを使うアルゴリズムを考えてみよう。"
   ]
  },
  {
   "cell_type": "code",
   "execution_count": 19,
   "metadata": {
    "hidden": true
   },
   "outputs": [],
   "source": [
    "def sum_for_loop(lst):  #1\n",
    "    \n",
    "    x = 0               #2\n",
    "    \n",
    "    for i in lst:       #3\n",
    "        x += i          #4\n",
    "    \n",
    "    return x            #5"
   ]
  },
  {
   "cell_type": "markdown",
   "metadata": {
    "hidden": true
   },
   "source": [
    "＜コードの説明＞<br>\n",
    "* `#1`: 引数はイタラブルであるリストを想定している。\n",
    "* `#2`: `for`ループでは`lst`の要素を１つずつ`x`に加算することになるが，その初期値を`0`とする。\n",
    "* `#3`: `for`ループの開始\n",
    "* `#4`: 累積加算演算子`+=`を使い要素を`x`に加算する。\n",
    "* `#5`: `for`ループ終了後に`lst`の要素の合計である`x`を返す。\n",
    "\n",
    "実際に計算してみよう。"
   ]
  },
  {
   "cell_type": "code",
   "execution_count": 20,
   "metadata": {
    "hidden": true
   },
   "outputs": [
    {
     "data": {
      "text/plain": [
       "-371.8877155605873"
      ]
     },
     "execution_count": 20,
     "metadata": {},
     "output_type": "execute_result"
    }
   ],
   "source": [
    "sum_for_loop(lst1)"
   ]
  },
  {
   "cell_type": "markdown",
   "metadata": {
    "heading_collapsed": true,
    "hidden": true
   },
   "source": [
    "#### `while`ループ"
   ]
  },
  {
   "cell_type": "markdown",
   "metadata": {
    "hidden": true
   },
   "source": [
    "次に`while`ループを使う場合のコードを考えてみよう。"
   ]
  },
  {
   "cell_type": "code",
   "execution_count": 21,
   "metadata": {
    "hidden": true
   },
   "outputs": [],
   "source": [
    "def sum_while_loop(lst):     #1\n",
    "    \n",
    "    x = 0                    #2\n",
    "    idx = 0                  #2a\n",
    "    \n",
    "    while idx < len(lst):    #3\n",
    "        \n",
    "        x += lst[idx]        #4\n",
    "        idx += 1             #4a\n",
    "    \n",
    "    return x                 #5"
   ]
  },
  {
   "cell_type": "markdown",
   "metadata": {
    "hidden": true
   },
   "source": [
    "＜コードの説明＞<br>\n",
    "* `#1`: 引数はイタラブルであるリストを想定している。\n",
    "* `#2`: `for`ループの`x`と同じ役目をする。\n",
    "* `#2a`: `while`ループでは，`lst`の要素を抽出する際にインデックス番号を使うことになるが，`idx`（indexの略）はインデックス番号を捉えている。`lst`の最初の項から抽出するために初期値を`0`としている。\n",
    "* `#3`: `while`ループが開始され，`idx<len(lst)`が`False`となる時点でループは終了する。例として，`lst=[0,10,20]`としてみよう。`len(lst)`は`3`を返すことになり，`idx`が`3`になると`idx<len(lst)`が`False`となるため，その時点で（`#5`以下は実行されずに）`while`ループは終了する。\n",
    "* `#4`: `lst[idx]`では`lst`の`idx`番目の要素を抽出し，それを`+=`を使い`x`に加算する。\n",
    "* `#4a`: 次のループで`lst`の次の要素を抽出できるように`idx`を`1`増やし`while`ループを継続する。\n",
    "* `#5`: `for`ループ終了後に`lst`の要素の合計である`x`を返す。\n",
    "\n",
    "実際に計算してみよう。"
   ]
  },
  {
   "cell_type": "code",
   "execution_count": 22,
   "metadata": {
    "hidden": true
   },
   "outputs": [
    {
     "data": {
      "text/plain": [
       "-371.8877155605873"
      ]
     },
     "execution_count": 22,
     "metadata": {},
     "output_type": "execute_result"
    }
   ],
   "source": [
    "sum_while_loop(lst1)"
   ]
  },
  {
   "cell_type": "markdown",
   "metadata": {
    "hidden": true
   },
   "source": [
    "`for`ループと同じ値となっていることが確認できる。"
   ]
  },
  {
   "cell_type": "markdown",
   "metadata": {
    "heading_collapsed": true,
    "hidden": true
   },
   "source": [
    "#### 実行スピード比較"
   ]
  },
  {
   "cell_type": "markdown",
   "metadata": {
    "hidden": true
   },
   "source": [
    "次に２つのコードの終了までの時間を比較してみよう。ここでは[マジック・コマンド](https://ipython.readthedocs.io/en/stable/interactive/magics.html)と呼ばれる`%timeit`を使うが，使い方は簡単で行頭に`%timeit`と半角スペースを置いて実行コードを書くだけである。まず`sum_for_loop()`関数を実行してみよう。"
   ]
  },
  {
   "cell_type": "code",
   "execution_count": 23,
   "metadata": {
    "hidden": true
   },
   "outputs": [
    {
     "name": "stdout",
     "output_type": "stream",
     "text": [
      "26.5 ms ± 140 µs per loop (mean ± std. dev. of 7 runs, 10 loops each)\n"
     ]
    }
   ],
   "source": [
    "%timeit sum_for_loop(lst1)"
   ]
  },
  {
   "cell_type": "markdown",
   "metadata": {
    "hidden": true
   },
   "source": [
    "表示される結果は，使うPCのスペックなどによって若干異なることになる。\n",
    "結果の解釈方法を説明するため，次のような結果になったとしよう。\n",
    "\n",
    "```\n",
    "MMM ms ± NNN µs per loop (mean ± std. dev. of YYY runs, XXX loops each)\n",
    "```\n",
    "\n",
    "次のように解釈する。\n",
    "* コードを`XXX`回実行する試行を`YYY`回おこない（合計で`XXX`$\\times$`YYY`回），その結果の平均である`mean`は`MMM ms`であり，標準偏差である`std. dev.`は`NNN µs`である。ここで\n",
    "    * `ms`：ミリ秒（1/1000秒）\n",
    "    * `µs`：マイクロ秒（1/1,000,000秒）\n",
    "    * `ns`：ナノ秒（1/1,000,000,000秒; 10億分の１秒）\n",
    "    \n",
    "* 試行する度に結果が異り，その変動を標準偏差で捉えている。結果は正規分布に従うと仮定すると，約68％の結果が平均$\\pm$標準偏差の範囲内に収まることになる。\n",
    "\n",
    "次に`sum_while_loop()`の速度を計測してみよう。"
   ]
  },
  {
   "cell_type": "code",
   "execution_count": 24,
   "metadata": {
    "hidden": true
   },
   "outputs": [
    {
     "name": "stdout",
     "output_type": "stream",
     "text": [
      "112 ms ± 148 µs per loop (mean ± std. dev. of 7 runs, 10 loops each)\n"
     ]
    }
   ],
   "source": [
    "%timeit sum_while_loop(lst1)"
   ]
  },
  {
   "cell_type": "markdown",
   "metadata": {
    "hidden": true
   },
   "source": [
    "`while`ループに比べて`for`ループが約4倍速いことが確認できる。リストから要素を一つずつ抽出し合計するというアルゴリズムでも，コードにどのように表現するかによって速度に大きな違いが発生している。\n",
    "\n",
    "では，なぜそのような大きな違いがあるのだろうか。それは次の２つの違いに起因する。\n",
    "* `sum_for_loop()`と`sum_while_loop()`の`#3`を考えてみよう。前者の場合，ループ毎に`lst`の要素を`i`に割り当てることを行なっている。一方，後者では，ループ毎に`idx<len(lst)`の条件が満たされているかどうかを確認する必要がある。\n",
    "* `sum_while_loop()`では`#2a`と`#4a`が追加されており，「割り当て」と言う意味では`sum_for_loop()`の`#3`と同じである。\n",
    "\n",
    "従って，`while`ループには`idx<len(lst)`が`True`なのか`False`なのかの確認が追加作業となり，それが時間が掛かる要因となっている。\n",
    "\n",
    "最後に，組み込み関数である`sum()`の速度を計測してみよう。"
   ]
  },
  {
   "cell_type": "code",
   "execution_count": 25,
   "metadata": {
    "hidden": true
   },
   "outputs": [
    {
     "name": "stdout",
     "output_type": "stream",
     "text": [
      "3.55 ms ± 5.86 µs per loop (mean ± std. dev. of 7 runs, 100 loops each)\n"
     ]
    }
   ],
   "source": [
    "%timeit sum(lst1)"
   ]
  },
  {
   "cell_type": "markdown",
   "metadata": {
    "hidden": true
   },
   "source": [
    "`sum_while_loop()`関数よりも6倍以上も速いことが分かる。組み込み関数は様々なトリックを使い最適化されていることが伺える。"
   ]
  },
  {
   "cell_type": "markdown",
   "metadata": {
    "hidden": true
   },
   "source": [
    "````{hint}\n",
    "複数行にまたがるコードの実行スピードを計測する場合は，下の例のように`%%timeit`を１行目に置き，2行目以降にコードを書くと良いだろう。\n",
    "```\n",
    "%%timeit\n",
    "sum_while_loop(lst1)\n",
    "print('Pythonは楽しいね(^o^)/')\n",
    "```\n",
    "````"
   ]
  },
  {
   "cell_type": "markdown",
   "metadata": {
    "heading_collapsed": true,
    "hidden": true
   },
   "source": [
    "### 例２：値の探索"
   ]
  },
  {
   "cell_type": "markdown",
   "metadata": {
    "hidden": true
   },
   "source": [
    "次のコードは`0`から`999,999`までの整数が並ぶリストを作成する。"
   ]
  },
  {
   "cell_type": "code",
   "execution_count": 26,
   "metadata": {
    "hidden": true
   },
   "outputs": [],
   "source": [
    "lst2 = [i for i in range(1_000_000)]"
   ]
  },
  {
   "cell_type": "markdown",
   "metadata": {
    "hidden": true
   },
   "source": [
    "ここで考えるのは，`999,000`が`lst2`にあるかどうかを確かめることである。具体的には，`lst2`の最初の要素から一つずつ確認し\n",
    "* 見つかれば`1`を返す（探索は途中で終了）\n",
    "* 見つからなければ`-1`を返す（最後の要素まで確認する）\n",
    "\n",
    "関数を考える。"
   ]
  },
  {
   "cell_type": "markdown",
   "metadata": {
    "heading_collapsed": true,
    "hidden": true
   },
   "source": [
    "#### `for`ループ"
   ]
  },
  {
   "cell_type": "markdown",
   "metadata": {
    "hidden": true
   },
   "source": [
    "`for`ループを使うコードを考えよう。"
   ]
  },
  {
   "cell_type": "code",
   "execution_count": 27,
   "metadata": {
    "hidden": true
   },
   "outputs": [],
   "source": [
    "def search_for_loop(target, lst): #1\n",
    "\n",
    "    for i in lst:                 #2\n",
    "\n",
    "        if i == target:           #3\n",
    "            return 1              #4\n",
    "            break                 #5\n",
    "    \n",
    "    return -1                     #6"
   ]
  },
  {
   "cell_type": "markdown",
   "metadata": {
    "hidden": true
   },
   "source": [
    "＜コードの説明＞<br>\n",
    "* `#1`: 引数の`target`は探索する数字であり，`lst`はイタラブルであるリストを想定している。\n",
    "* `#2`: `for`ループの開始\n",
    "* `#3`〜`#5`: `i`が`target`と等しければ`1`を返し，`for`ループは終了する。これで関数の実行は終わり。\n",
    "* `#6`: `#2`の`for`ループが`break`されずに終了した場合にのみ実行され`-1`が返される。即ち，`lst`の最後まで探索し，`target`がない場合に実行される行である。\n",
    "\n",
    "実際に計算してみよう。"
   ]
  },
  {
   "cell_type": "code",
   "execution_count": 28,
   "metadata": {
    "hidden": true
   },
   "outputs": [
    {
     "data": {
      "text/plain": [
       "1"
      ]
     },
     "execution_count": 28,
     "metadata": {},
     "output_type": "execute_result"
    }
   ],
   "source": [
    "search_for_loop(999_000, lst2)"
   ]
  },
  {
   "cell_type": "markdown",
   "metadata": {
    "heading_collapsed": true,
    "hidden": true
   },
   "source": [
    "#### `while`ループ"
   ]
  },
  {
   "cell_type": "markdown",
   "metadata": {
    "hidden": true
   },
   "source": [
    "次に`while`ループを使う場合を考えてみよう。"
   ]
  },
  {
   "cell_type": "code",
   "execution_count": 29,
   "metadata": {
    "hidden": true
   },
   "outputs": [],
   "source": [
    "def search_while_loop(target, lst): #1\n",
    "    \n",
    "    idx = 0                         #2\n",
    "\n",
    "    while True:                     #3\n",
    "        \n",
    "        if idx == len(lst):         #4\n",
    "            return -1               #5\n",
    "        \n",
    "        if lst[idx] == target:      #6\n",
    "            return 1                #7\n",
    "        \n",
    "        idx += 1                    #8"
   ]
  },
  {
   "cell_type": "markdown",
   "metadata": {
    "hidden": true
   },
   "source": [
    "＜コードの説明＞<br>\n",
    "* `#1`: 引数の`target`は探索する数字であり，`lst`はイタラブルであるリストを想定している。\n",
    "* `#2`: `while`ループでは，`lst`の要素を抽出する際にインデックス番号を使うことになるが，`idx`（indexの略）はインデックス番号を捉えている。`#4`と`#6`で使う。`lst`の最初の項から抽出するために初期値を`0`としている。\n",
    "* `#3`: `while`ループの開始。`#5`もしくは`#7`が実行されるまで`while`ループは継続する。\n",
    "* `#4`〜`#5`: `#4`の条件は`lst`の最後の要素まで確認した場合にのみ満たされる。その場合，`-1`が返される。\n",
    "* `#6`〜`#7`: `lst`の`idx`番目の要素と`target`が等しい場合に`1`が返される。その時点で関数の実行（`while`ループも含めて）は終了する。\n",
    "* `#8`: `#4`と`#5`の条件が`False`であれば，`idx`を`1`増加させて`while`ループを継続する。\n",
    "\n",
    "実際に計算してみよう。"
   ]
  },
  {
   "cell_type": "code",
   "execution_count": 30,
   "metadata": {
    "hidden": true
   },
   "outputs": [
    {
     "data": {
      "text/plain": [
       "1"
      ]
     },
     "execution_count": 30,
     "metadata": {},
     "output_type": "execute_result"
    }
   ],
   "source": [
    "search_while_loop(999_000, lst2)"
   ]
  },
  {
   "cell_type": "markdown",
   "metadata": {
    "hidden": true
   },
   "source": [
    "`search_for_loop()`関数と`search_while_loop()`関数の実行スピードを比較してみよう。"
   ]
  },
  {
   "cell_type": "code",
   "execution_count": 31,
   "metadata": {
    "hidden": true
   },
   "outputs": [
    {
     "name": "stdout",
     "output_type": "stream",
     "text": [
      "26.2 ms ± 80.3 µs per loop (mean ± std. dev. of 7 runs, 10 loops each)\n"
     ]
    }
   ],
   "source": [
    "%timeit search_for_loop(999_000, lst2)"
   ]
  },
  {
   "cell_type": "code",
   "execution_count": 32,
   "metadata": {
    "hidden": true
   },
   "outputs": [
    {
     "name": "stdout",
     "output_type": "stream",
     "text": [
      "113 ms ± 94.7 µs per loop (mean ± std. dev. of 7 runs, 10 loops each)\n"
     ]
    }
   ],
   "source": [
    "%timeit search_while_loop(999_000, lst2)"
   ]
  },
  {
   "cell_type": "markdown",
   "metadata": {
    "hidden": true
   },
   "source": [
    "`for`ループより`while`ループは4倍以上遅いことがわかる。もう理由は明らかであろう。`search_linear_for()`関数ではループ一回毎に１つの`if`文の条件`#3`を確認する必要があるが，`search_linear_while()`では条件が`#4`と`#6`の２つがある。この確認作業の回数の差が数字として現れている。このことから分かることは，`while`ループであっても条件を１つにすれば速度が倍になると言うことである。それを実現するのが次に考える**番兵法**と呼ばれるアルゴリズムである。"
   ]
  },
  {
   "cell_type": "markdown",
   "metadata": {
    "heading_collapsed": true,
    "hidden": true
   },
   "source": [
    "#### 番兵法"
   ]
  },
  {
   "cell_type": "markdown",
   "metadata": {
    "hidden": true
   },
   "source": [
    "番兵法は`while`ループを使うが，次の手続きが必要となる。\n",
    "* リストの最後に探索する値を追加する\n",
    "\n",
    "`search_while_loop()`関数との違いはこの点だけである。これにより，実質的には`search_linear_while()`の条件`#4`が不要になり実行スピードの高速化される。コードを確認してみよう。"
   ]
  },
  {
   "cell_type": "code",
   "execution_count": 33,
   "metadata": {
    "hidden": true
   },
   "outputs": [],
   "source": [
    "def search_sentinel(target, lst): #1\n",
    "    \n",
    "    size = len(lst)               #2\n",
    "\n",
    "    lst.append(target)            #3\n",
    "    \n",
    "    idx = 0                       #4\n",
    "\n",
    "    while True:                   #5\n",
    "        \n",
    "        if lst[idx] == target:    #6\n",
    "            break                 #7\n",
    "            \n",
    "        idx += 1                  #8\n",
    "\n",
    "    if idx < size:                #9\n",
    "        return 1                  #10\n",
    "    \n",
    "    else:                         #11\n",
    "        return -1                 #12"
   ]
  },
  {
   "cell_type": "markdown",
   "metadata": {
    "hidden": true
   },
   "source": [
    "＜コードの説明＞<br>\n",
    "* `#1`: 引数の`target`は探索する数字であり，`lst`はイタラブルであるリストを想定している。\n",
    "* `#2`: `lst`の要素数を`size`に割り当てる。`size`は`#9`で使うことになる。\n",
    "* `#3`: `lst`の最後に`target`を追加する。これが「番兵」である。\n",
    "* `#4`: `lst`の要素を抽出する際にインデックス番号を使うことになるが，`idx`（indexの略）はインデックス番号を捉えている。`#6`，`#8`，`#9`で使う。`lst`の最初の項から抽出するために初期値を`0`としている。\n",
    "* `#5`: `while`ループの開始。\n",
    "* `#6`〜`#7`: `lst`の`idx`番目の要素と`target`が等しい場合は`break`を発動させ`while`を中断する。等しくない場合は`#7`を実行せずに`#8`で`idx`を`1`増加さる。`#3`で`target`（番兵）が`lst`に追加されたので，`lst`に`target`がなくても`#6`は必ず満たされて`break`が発動される。これが番兵の役割であり，高速化のための仕込みとなる。\n",
    "* `#9`〜`#12`: `while`ループが中断された後に実行される。`#9`の条件が`True`の場合は`lst`に`target`が含まれたと言う意味になるため`1`を返す。一方，`#9`の条件が`False`の場合（即ち，`idx`と`size`は等しい場合），`idx`は番兵のインデックスとなるため`-1`を返す。\n",
    "\n",
    "実際に計算してみよう。"
   ]
  },
  {
   "cell_type": "code",
   "execution_count": 34,
   "metadata": {
    "hidden": true
   },
   "outputs": [
    {
     "data": {
      "text/plain": [
       "1"
      ]
     },
     "execution_count": 34,
     "metadata": {},
     "output_type": "execute_result"
    }
   ],
   "source": [
    "search_sentinel(999_000, lst2)"
   ]
  },
  {
   "cell_type": "markdown",
   "metadata": {
    "hidden": true
   },
   "source": [
    "実行スピードを計測してみよう。"
   ]
  },
  {
   "cell_type": "code",
   "execution_count": 35,
   "metadata": {
    "hidden": true
   },
   "outputs": [
    {
     "name": "stdout",
     "output_type": "stream",
     "text": [
      "60.3 ms ± 113 µs per loop (mean ± std. dev. of 7 runs, 10 loops each)\n"
     ]
    }
   ],
   "source": [
    "%timeit search_sentinel(999_000, lst2)"
   ]
  },
  {
   "cell_type": "markdown",
   "metadata": {
    "hidden": true
   },
   "source": [
    "`search_while_loop()`関数と比べると約2倍高速化できた。"
   ]
  },
  {
   "cell_type": "markdown",
   "metadata": {
    "heading_collapsed": true,
    "hidden": true
   },
   "source": [
    "#### 組み込み関数"
   ]
  },
  {
   "cell_type": "markdown",
   "metadata": {
    "hidden": true
   },
   "source": [
    "組み込み関数に`1`もしくは`-1`を返す関数は見当たらないため，類似するメソッドを考えてみよう。リストには`.index()`というメソッドが用意されており，引数に要素を指定すると，その要素のインデックス番号を返す。試してみよう。"
   ]
  },
  {
   "cell_type": "code",
   "execution_count": 36,
   "metadata": {
    "hidden": true
   },
   "outputs": [
    {
     "data": {
      "text/plain": [
       "999000"
      ]
     },
     "execution_count": 36,
     "metadata": {},
     "output_type": "execute_result"
    }
   ],
   "source": [
    "lst2.index(999_000)"
   ]
  },
  {
   "cell_type": "markdown",
   "metadata": {
    "hidden": true
   },
   "source": [
    "`999_000`は`lst2`の`999000`番目の要素だという意味。実行速度を計測してみよう。"
   ]
  },
  {
   "cell_type": "code",
   "execution_count": 37,
   "metadata": {
    "hidden": true
   },
   "outputs": [
    {
     "name": "stdout",
     "output_type": "stream",
     "text": [
      "10.2 ms ± 26.7 µs per loop (mean ± std. dev. of 7 runs, 100 loops each)\n"
     ]
    }
   ],
   "source": [
    "%timeit lst2.index(999_000)"
   ]
  },
  {
   "cell_type": "markdown",
   "metadata": {
    "hidden": true
   },
   "source": [
    "`search_for_loop()`関数よりも約2倍速い。最適化されていることが伺える。"
   ]
  },
  {
   "cell_type": "markdown",
   "metadata": {
    "heading_collapsed": true,
    "hidden": true
   },
   "source": [
    "### 例３：最小値の探索"
   ]
  },
  {
   "cell_type": "markdown",
   "metadata": {
    "hidden": true
   },
   "source": [
    "次のコードは標準正規分布から抽出した100万個のランダム変数から構成されるリストを作成する。"
   ]
  },
  {
   "cell_type": "code",
   "execution_count": 38,
   "metadata": {
    "hidden": true
   },
   "outputs": [],
   "source": [
    "lst3 = [random.gauss(0,1) for _ in range(1_000_000)]"
   ]
  },
  {
   "cell_type": "markdown",
   "metadata": {
    "hidden": true
   },
   "source": [
    "この中から最小値を探索するアルゴリズムを考えてみよう。`lst3`の全ての要素を確認する必要があるので`for`ループを使おう。"
   ]
  },
  {
   "cell_type": "markdown",
   "metadata": {
    "heading_collapsed": true,
    "hidden": true
   },
   "source": [
    "#### 直接的な探索"
   ]
  },
  {
   "cell_type": "markdown",
   "metadata": {
    "hidden": true
   },
   "source": [
    "まず，リストの最小値を直接探索するコードを考えてみる。"
   ]
  },
  {
   "cell_type": "code",
   "execution_count": 39,
   "metadata": {
    "hidden": true
   },
   "outputs": [],
   "source": [
    "def search_min(lst):  #1\n",
    "    \n",
    "    min_ = lst[0]     #2\n",
    "    \n",
    "    for v in lst:     #3\n",
    "        \n",
    "        if v < min_:  #4            \n",
    "            min_ = v  #5\n",
    "    \n",
    "    return min_       #6"
   ]
  },
  {
   "cell_type": "markdown",
   "metadata": {
    "hidden": true
   },
   "source": [
    "＜コードの説明＞<br>\n",
    "* `#1`: 引数`lst`はイタラブルであるリストを想定している。\n",
    "* `#2`: `lst`の`0`番目の値を`min_`に割り当てる。`#3`の`for`ループで更に小さな値が発見されれば，`min_`の値と入れ替えることにする。\n",
    "* `#3`: `lst`に対する`for`ループの開始。\n",
    "* `#4`〜`#5`: `v`が`min_`より小さければ`min_`に割り当てる。そうでなければ，`min_`の値は変えない。\n",
    "* `#6`: `for`ループが終わった後（即ち，`lst`の値を全て確認した後），`min_`の値を返す。\n",
    "\n",
    "実際に計算してみよう。"
   ]
  },
  {
   "cell_type": "code",
   "execution_count": 40,
   "metadata": {
    "hidden": true
   },
   "outputs": [
    {
     "data": {
      "text/plain": [
       "-5.231095328236846"
      ]
     },
     "execution_count": 40,
     "metadata": {},
     "output_type": "execute_result"
    }
   ],
   "source": [
    "search_min(lst3)"
   ]
  },
  {
   "cell_type": "markdown",
   "metadata": {
    "heading_collapsed": true,
    "hidden": true
   },
   "source": [
    "#### 間接的な探索"
   ]
  },
  {
   "cell_type": "markdown",
   "metadata": {
    "hidden": true
   },
   "source": [
    "リストの要素はインデックス番号を使ってアクセスすることができる。それを利用して，上のコードをインデックス番号を使って間接的に要素にアクセスする場合を考える。即ち，最小値のインデックスを探し，最終的に最小値を返す関数となる。"
   ]
  },
  {
   "cell_type": "code",
   "execution_count": 41,
   "metadata": {
    "hidden": true
   },
   "outputs": [],
   "source": [
    "def search_min_idx(lst):            #1\n",
    "    \n",
    "    n_lst = len(lst)                #2\n",
    "    \n",
    "    idx_min = 0                     #3\n",
    "    \n",
    "    for idx in range(n_lst):        #4\n",
    "        \n",
    "        if lst[idx] < lst[idx_min]: #5\n",
    "            idx_min = idx           #6\n",
    "    \n",
    "    return lst[idx_min]             #7"
   ]
  },
  {
   "cell_type": "markdown",
   "metadata": {
    "hidden": true
   },
   "source": [
    "＜コードの説明＞<br>\n",
    "* `#1`: 引数`lst`はイタラブルであるリストを想定している。\n",
    "* `#2`: `lst`の要素数を`n_lst`に割り当てる。`n_lst`は`#4`で使うことになる。\n",
    "* `#3`: `idx_min`は最小値の要素のインデックス番号を割り当てる変数として使う。`0`番目の要素から考えるので，初期値として`0`を設定している。\n",
    "* `#4`: `range(n_lst)`に対する`for`ループの開始。\n",
    "* `#5`〜`#6`: `lst[idx_min]`は，その時点で最小値となる値である。その値より`lst[idx]`が小さい場合，`idx`を`idx_min`に割り当てることにより`idx_min`のインデックス番号を更新する。そうでない場合は`idx_min`の値は変更しない。\n",
    "が`min_`より小さければ`min_`に割り当てる。そうでなければ，`min_`の値は変えない。\n",
    "* `#7`: `for`ループが終わった後（即ち，`lst`の値を全て確認した後），`idx_min`に対応する要素を返す。\n",
    "\n",
    "実際に計算してみよう。"
   ]
  },
  {
   "cell_type": "code",
   "execution_count": 42,
   "metadata": {
    "hidden": true
   },
   "outputs": [
    {
     "data": {
      "text/plain": [
       "-5.231095328236846"
      ]
     },
     "execution_count": 42,
     "metadata": {},
     "output_type": "execute_result"
    }
   ],
   "source": [
    "search_min_idx(lst3)"
   ]
  },
  {
   "cell_type": "markdown",
   "metadata": {
    "heading_collapsed": true,
    "hidden": true
   },
   "source": [
    "#### 実行スピード比較"
   ]
  },
  {
   "cell_type": "markdown",
   "metadata": {
    "hidden": true
   },
   "source": [
    "それぞれのコードの実行速度を比べてみよう。"
   ]
  },
  {
   "cell_type": "code",
   "execution_count": 43,
   "metadata": {
    "hidden": true
   },
   "outputs": [
    {
     "name": "stdout",
     "output_type": "stream",
     "text": [
      "24.8 ms ± 105 µs per loop (mean ± std. dev. of 7 runs, 10 loops each)\n"
     ]
    }
   ],
   "source": [
    "%timeit search_min(lst3)"
   ]
  },
  {
   "cell_type": "code",
   "execution_count": 44,
   "metadata": {
    "hidden": true
   },
   "outputs": [
    {
     "name": "stdout",
     "output_type": "stream",
     "text": [
      "63.6 ms ± 87.8 µs per loop (mean ± std. dev. of 7 runs, 10 loops each)\n"
     ]
    }
   ],
   "source": [
    "%timeit search_min_idx(lst3)"
   ]
  },
  {
   "cell_type": "markdown",
   "metadata": {
    "hidden": true
   },
   "source": [
    "間接的にインデックス番号を使うと実行速度を減速させることになる。\n",
    "\n",
    "次に組み込み関数である`min()`と比べてみよう。"
   ]
  },
  {
   "cell_type": "code",
   "execution_count": 45,
   "metadata": {
    "hidden": true
   },
   "outputs": [
    {
     "data": {
      "text/plain": [
       "-5.231095328236846"
      ]
     },
     "execution_count": 45,
     "metadata": {},
     "output_type": "execute_result"
    }
   ],
   "source": [
    "min(lst3)"
   ]
  },
  {
   "cell_type": "code",
   "execution_count": 46,
   "metadata": {
    "hidden": true
   },
   "outputs": [
    {
     "name": "stdout",
     "output_type": "stream",
     "text": [
      "11.8 ms ± 10.7 µs per loop (mean ± std. dev. of 7 runs, 100 loops each)\n"
     ]
    }
   ],
   "source": [
    "%timeit min(lst3)"
   ]
  },
  {
   "cell_type": "markdown",
   "metadata": {
    "hidden": true
   },
   "source": [
    "直接的な方法より2倍以上高速実行されている。"
   ]
  },
  {
   "cell_type": "markdown",
   "metadata": {
    "heading_collapsed": true,
    "hidden": true
   },
   "source": [
    "### 例４：ソート"
   ]
  },
  {
   "cell_type": "markdown",
   "metadata": {
    "hidden": true
   },
   "source": [
    "次のコードは`0`から`999`までの整数をランダムに並べたリストを作成する。"
   ]
  },
  {
   "cell_type": "code",
   "execution_count": 47,
   "metadata": {
    "hidden": true
   },
   "outputs": [],
   "source": [
    "lst4 = [random.randint(0,1000) for _ in range(1_000)]"
   ]
  },
  {
   "cell_type": "markdown",
   "metadata": {
    "hidden": true
   },
   "source": [
    "このリストを昇順に並び替えるコードを考える。"
   ]
  },
  {
   "cell_type": "markdown",
   "metadata": {
    "hidden": true
   },
   "source": [
    "#### 単純選択ソート"
   ]
  },
  {
   "cell_type": "markdown",
   "metadata": {
    "hidden": true
   },
   "source": [
    "最初に考えるアルゴリズムである単純選択ソートは次のような考え方に基づいている。"
   ]
  },
  {
   "cell_type": "markdown",
   "metadata": {
    "hidden": true
   },
   "source": [
    "リストには`0`番目から`n-1`番目の要素があるとしよう。\n",
    "* 要素の数は`n`\n",
    "* `n>1`とする。\n",
    "\n",
    "アルゴリズム（説明をより明確になるようにループを`0`回目から数える。）\n",
    "* `0`回目のループ（外側ループ）\n",
    "    * `0`番目から最後までの要素の最小値を見つける（内側ループ）\n",
    "    * 最小値を`0`番目の要素と入れ替える（値の入れ替え）\n",
    "* `1`回目のループ（外側ループ）\n",
    "    * `1`番目から最後までの要素の最小値を見つける（内側ループ）\n",
    "    * 最小値を`1`番目の要素と入れ替える（値の入れ替え）\n",
    "* `2`回目のループ（外側ループ）\n",
    "    * `2`番目から最後までの要素の最小値を見つける（内側ループ）\n",
    "    * 最小値を`2`番目の要素と入れ替える（値の入れ替え）\n",
    "* ......\n",
    "* `n-2`回目のループ（外側ループ）\n",
    "    * `n-2`番目から最後までの要素の最小値を見つける（内側ループ）\n",
    "    * 最小値を`n-2`番目の要素と入れ替える（値の入れ替え）\n",
    "    \n",
    "（注意）`n-1`回目のループは必要ない。\n",
    "    \n",
    "この手順に基づくコードを確認しよう。"
   ]
  },
  {
   "cell_type": "code",
   "execution_count": 48,
   "metadata": {
    "hidden": true
   },
   "outputs": [],
   "source": [
    "def insertion_sort(lst):       #1\n",
    "    \n",
    "    n = len(lst)               #2\n",
    "    \n",
    "    for i in range(n-1):       #3\n",
    "        \n",
    "        i_min = i              #4\n",
    "        \n",
    "        for j in range(i+1,n): #5\n",
    "            \n",
    "            if lst[j] < lst[i_min]:  #6  \n",
    "                i_min = j            #7\n",
    "        \n",
    "        lst[i], lst[i_min] = lst[i_min], lst[i]  #8\n",
    "    \n",
    "    return lst                 #9"
   ]
  },
  {
   "cell_type": "markdown",
   "metadata": {
    "hidden": true
   },
   "source": [
    "＜コードの説明＞<br>\n",
    "* `#1`: 引数`lst`はイタラブルであるリストを想定している。\n",
    "* `#2`: `lst`の要素数を`n`に割り当てる。`n`は`#3`と`#5`で使うことになる。\n",
    "* `#3`: 上の説明にある「外側ループ」に対応している。合計で`n-2`回のループ計算をおこなう（最後のインデックス番号である`n-1`を使ったループを考える必要はないため）。\n",
    "* `#4`: `i_min`は`#5`の`for`ループ（上の説明にある「内側ループ」）で見つかる最小値を割り当てる変数のインデックス番号として使う。\n",
    "* `#5`: 上の説明にある「内側ループ」に対応している。`i`を所与として，`i+1`から`n-1`番目までのループとなる（最小値を探索するためには最後まで確認する必要があるため）。\n",
    "* `#6`〜`#7`: `lst[j]`が`lst[i_min]`より小さければ`j`を`i_min`に割り当てる。そうでなければ，`i_min`の値は変えない。\n",
    "* `#8`: 上の説明にある「値を入れ替え」に対応している。`#5`の内側ループが終わった後（即ち，`i+1`から`lst`の全ての値を確認した後），`lst[i]`と`lst[i_min]`入れ替えている。\n",
    "* `#9`: 外側ループが終わった後，`lst`を返す。\n",
    "\n",
    "コードを実行し，最初の`10`の要素を表示してみよう。"
   ]
  },
  {
   "cell_type": "code",
   "execution_count": 49,
   "metadata": {
    "hidden": true
   },
   "outputs": [
    {
     "data": {
      "text/plain": [
       "[0, 2, 3, 4, 4, 5, 5, 6, 7, 9]"
      ]
     },
     "execution_count": 49,
     "metadata": {},
     "output_type": "execute_result"
    }
   ],
   "source": [
    "res = insertion_sort(lst4)\n",
    "res[:10]"
   ]
  },
  {
   "cell_type": "markdown",
   "metadata": {
    "hidden": true
   },
   "source": [
    "最後の`10`の要素を表示してみよう。"
   ]
  },
  {
   "cell_type": "code",
   "execution_count": 50,
   "metadata": {
    "hidden": true
   },
   "outputs": [
    {
     "data": {
      "text/plain": [
       "[991, 992, 993, 993, 994, 995, 996, 997, 999, 999]"
      ]
     },
     "execution_count": 50,
     "metadata": {},
     "output_type": "execute_result"
    }
   ],
   "source": [
    "res[990:]"
   ]
  },
  {
   "cell_type": "markdown",
   "metadata": {
    "hidden": true
   },
   "source": [
    "昇順に並んでいることが確認できる。"
   ]
  },
  {
   "cell_type": "markdown",
   "metadata": {
    "hidden": true
   },
   "source": [
    "#### バブル・ソート"
   ]
  },
  {
   "cell_type": "markdown",
   "metadata": {
    "hidden": true
   },
   "source": [
    "次にバブル・ソートと呼ばれるアルゴリズムを考えてみよう。手順は次の内容となる。"
   ]
  },
  {
   "cell_type": "markdown",
   "metadata": {
    "hidden": true
   },
   "source": [
    "リストには`0`番目から`n-1`番目の要素があるとしよう。\n",
    "* 要素の数は`n`\n",
    "* `n>1`とする。\n",
    "\n",
    "アルゴリズム（ここではループを`1`回目から数える。）\n",
    "* `1`回目のループ（外側ループ）\n",
    "    * （以下の手順が内側ループ）\n",
    "    * `n-2`番目と`n-1`番目（最後）の要素を比べる\n",
    "        * 小さい方を左に，大きい方を右に入れ替える\n",
    "        * 同じであれば何もしない\n",
    "    * `n-3`番目と`n-2`番目の要素を比べる\n",
    "        * 小さい方を左に，大きい方を右に入れ替える\n",
    "        * 同じであれば何もしない\n",
    "    * ......\n",
    "    * `1`番目と`2`番目の要素を比べる\n",
    "        * 小さい方を左に，大きい方を右に入れ替える\n",
    "        * 同じであれば何もしない\n",
    "    * `0`番目と`1`番目の要素を比べる\n",
    "    * 小さい方を左に，大きい方を右に入れ替える\n",
    "    * 同じであれば何もしない\n",
    "    * これで`0`番目の要素は`0`番目から`n-1`番目の要素の最小値となる。\n",
    "* `2`回目のループ（外側ループ）\n",
    "    * 以下の手順が内側ループ\n",
    "    * `n-2`番目と`n-1`番目の要素を比べる\n",
    "        * 小さい方を左に，大きい方を右に入れ替える\n",
    "        * 同じであれば何もしない\n",
    "    * `n-3`番目と`n-2`番目の要素を比べる\n",
    "        * 小さい方を左に，大きい方を右に入れ替える\n",
    "        * 同じであれば何もしない\n",
    "    * ......\n",
    "    * `2`番目と`3`番目の要素を比べる\n",
    "        * 小さい方を左に，大きい方を右に入れ替える\n",
    "        * 同じであれば何もしない\n",
    "    * `1`番目と`2`番目の要素を比べる\n",
    "        * 小さい方を左に，大きい方を右に入れ替える\n",
    "        * 同じであれば何もしない\n",
    "    * これで`1`番目の要素は`1`番目から`n-1`番目の要素の最小値となる。\n",
    "* ......\n",
    "* `n-2`回目のループ（外側ループ）\n",
    "    * 以下の手順が内側ループ\n",
    "    * `n-2`番目と`n-1`番目の要素を比べる\n",
    "        * 小さい方を左に，大きい方を右に入れ替える\n",
    "        * 同じであれば何もしない\n",
    "    * `n-3`番目と`n-2`番目の要素を比べる\n",
    "        * 小さい方を左に，大きい方を右に入れ替える\n",
    "        * 同じであれば何もしない\n",
    "    * これで`n-3`番目の要素は`n-3`番目から`n-1`番目の要素の最小値となる。\n",
    "* `n-1`回目のループ（外側ループ）\n",
    "    * 以下の手順が内側ループ\n",
    "    * `n-2`番目と`n-1`番目の要素を比べる\n",
    "        * 小さい方を左に，大きい方を右に入れ替える\n",
    "        * 同じであれば何もしない\n",
    "    * これで`n-2`番目の要素は`n-2`番目から`n-1`番目の要素の最小値となる。\n",
    "* 完成！"
   ]
  },
  {
   "cell_type": "code",
   "execution_count": 51,
   "metadata": {
    "hidden": true
   },
   "outputs": [],
   "source": [
    "def bubble_sort(lst):    #1\n",
    "    \n",
    "    n = len(lst)         #2\n",
    "    \n",
    "    for i in range(n-1): #3\n",
    "        \n",
    "        for j in range(n-1, i, -1): #4\n",
    "            \n",
    "            if lst[j-1] > lst[j]:   #5                \n",
    "                lst[j-1], lst[j] = lst[j], lst[j-1] #6\n",
    "    \n",
    "    return lst           #7"
   ]
  },
  {
   "cell_type": "markdown",
   "metadata": {
    "hidden": true
   },
   "source": [
    "＜コードの説明＞<br>\n",
    "* `#1`: 引数`lst`はイタラブルであるリストを想定している。\n",
    "* `#2`: `lst`の要素数を`n`に割り当てる。`n`は`#3`と`#4`で使うことになる。\n",
    "* `#3`: 上の説明にある「外側ループ」に対応している。合計で`n-1`回のループ計算をおこない，`lst`の全ての要素インデックスに対応している。\n",
    "* `#4`: 上の説明にある「内側ループ」に対応している。`range(n-1, i, -1)`は`i+1`から`n-1`までの番号を逆順に並べている。例えば，`list(range(10, 5, -1))`は`[10,9,8,7,6]`を返す。これは`#5`と`#6`に置いて最後の要素から始まってから`i+1`番目の要素までを順に考える必要があるため。\n",
    "* `#5`〜`#6`: `lst[j-1]>lst[j]`とは左の要素が右の要素より大きい場合に`True`を返し，その場合，`#6`では左右の要素を入れ替えている。`#6`は上の説明の２つの要素の入れ替えに対応している。\n",
    "* `#7`: 外側ループが終わった後，`lst`を返す。\n",
    "\n",
    "コードを実行し，最初の`10`の要素を表示してみよう。"
   ]
  },
  {
   "cell_type": "code",
   "execution_count": 52,
   "metadata": {
    "hidden": true
   },
   "outputs": [
    {
     "data": {
      "text/plain": [
       "[0, 2, 3, 4, 4, 5, 5, 6, 7, 9]"
      ]
     },
     "execution_count": 52,
     "metadata": {},
     "output_type": "execute_result"
    }
   ],
   "source": [
    "res = bubble_sort(lst4)\n",
    "res[:10]"
   ]
  },
  {
   "cell_type": "markdown",
   "metadata": {
    "hidden": true
   },
   "source": [
    "最後の`10`の要素を表示してみよう。"
   ]
  },
  {
   "cell_type": "code",
   "execution_count": 53,
   "metadata": {
    "hidden": true
   },
   "outputs": [
    {
     "data": {
      "text/plain": [
       "[991, 992, 993, 993, 994, 995, 996, 997, 999, 999]"
      ]
     },
     "execution_count": 53,
     "metadata": {},
     "output_type": "execute_result"
    }
   ],
   "source": [
    "res[990:]"
   ]
  },
  {
   "cell_type": "markdown",
   "metadata": {
    "heading_collapsed": true,
    "hidden": true
   },
   "source": [
    "#### 実行スピード比較"
   ]
  },
  {
   "cell_type": "markdown",
   "metadata": {
    "hidden": true
   },
   "source": [
    "それぞれの実行スピードを比較してみよう。"
   ]
  },
  {
   "cell_type": "code",
   "execution_count": 54,
   "metadata": {
    "hidden": true
   },
   "outputs": [
    {
     "name": "stdout",
     "output_type": "stream",
     "text": [
      "32.6 ms ± 84 µs per loop (mean ± std. dev. of 7 runs, 10 loops each)\n"
     ]
    }
   ],
   "source": [
    "%timeit insertion_sort(lst4)"
   ]
  },
  {
   "cell_type": "code",
   "execution_count": 55,
   "metadata": {
    "hidden": true
   },
   "outputs": [
    {
     "name": "stdout",
     "output_type": "stream",
     "text": [
      "44.8 ms ± 196 µs per loop (mean ± std. dev. of 7 runs, 10 loops each)\n"
     ]
    }
   ],
   "source": [
    "%timeit bubble_sort(lst4)"
   ]
  },
  {
   "cell_type": "markdown",
   "metadata": {
    "hidden": true
   },
   "source": [
    "スピードの違いの一つの要因は「値の入れ替え」の回数の差である。\n",
    "`insertion_sort()`の場合，`#8`で値の入れ替えがおこなわれており，最大で$n-1$回となる。\n",
    "一方，`bubble_sort()`の値の入れ替えは`#6`でおこなわれており，最大で$n^2/2$回となる。\n",
    "$n>2$の場合，$n^2/2>n-1$となるため，実行時間の差に現れていると考えられる。\n",
    "\n",
    "最後に組み込み関数`sorted()`と比較してみよう。"
   ]
  },
  {
   "cell_type": "code",
   "execution_count": 56,
   "metadata": {
    "hidden": true
   },
   "outputs": [
    {
     "name": "stdout",
     "output_type": "stream",
     "text": [
      "5.17 µs ± 19.7 ns per loop (mean ± std. dev. of 7 runs, 100,000 loops each)\n"
     ]
    }
   ],
   "source": [
    "%timeit sorted(lst4)"
   ]
  },
  {
   "cell_type": "markdown",
   "metadata": {
    "hidden": true
   },
   "source": [
    "平均の単位は`ms`ではなく`µs`となっている。やはり組み込み関数は速い！"
   ]
  },
  {
   "cell_type": "markdown",
   "metadata": {
    "heading_collapsed": true
   },
   "source": [
    "## 疑似コード"
   ]
  },
  {
   "cell_type": "markdown",
   "metadata": {
    "hidden": true
   },
   "source": [
    "前節では簡単なアルゴリズムを`Python`コードとして表し実行したが，その裏にある考え方は他のコンピューター言語でも使うことができる。更に言うと，アルゴリズムを図や言葉で表すことも可能である。[フローチャート](https://www.google.co.jp/search?q=%E3%83%95%E3%83%AD%E3%83%BC%E3%83%81%E3%83%A3%E3%83%BC%E3%83%88%E3%80%80%E3%83%97%E3%83%AD%E3%82%B0%E3%83%A9%E3%83%9F%E3%83%B3%E3%82%B0)と呼ばれるのがその一つであり，図を使いアルゴリズムの考えを表現している。そしてもう１つが疑似コードと言われるものであり，自然言語（日本語や英語）で書かれたコードのことである。この２つの手法の利点は，コンピューター言語で発生するエラーを気にせずに，アルゴリズムの考えを理解・整理し，より良い（速い）ものを作り出すことができる土壌となり得ることだろう。以下では疑似コードに基づいてコードの書き方を検討する。\n",
    "\n",
    "上でも説明したが，疑似コードとは，自然言語（日本語や英語）で書かれたコードであるため，`Python`は実行できない箇条書きのような文章となっている。レポートを書く際に，まずアウトラインを考えて書き出す人もいると思うが，それをイメージすれば良いだろう。次の点が重要となる。\n",
    "* 明確さ\n",
    "* 簡潔さ\n",
    "* 細かい詳細は省く\n",
    "    * アルゴリズムの核となる部分を捉える\n",
    "* 高い可読性\n",
    "    * コードを理解できる人ならで誰が読んでも手順が分かるもの\n",
    "\n",
    "一方で，疑似コードの決まった書き方はない。通常は人それぞれ自分のスタイルや好みに合わせて書いているのが実状である（出版のための共通のスタイルがある場合もある）。ここでは次のスタイルとする。\n",
    "* `Python`コードと同じインデントを使う。\n",
    "* `Python`コード（例えば，`for`や`while`）を使えればそのまま使う。\n",
    "    * 疑似コードを英語で書く場合，英語での記述と区別するために大文字を多用するが，日本語とは区別し易いので小文字を使う。\n",
    "    \n",
    "これら以外は，箇条書きスタイルとしよう。"
   ]
  },
  {
   "cell_type": "markdown",
   "metadata": {
    "heading_collapsed": true,
    "hidden": true
   },
   "source": [
    "### `FizzBuzz`問題"
   ]
  },
  {
   "cell_type": "markdown",
   "metadata": {
    "hidden": true
   },
   "source": [
    "まず例として有名な`FizzBuzz`問題を考えよう。\n",
    "\n",
    "> 1から100までの数字を表示する。ただし，\n",
    "> * 3の倍数は数字の代わりに`Fizz`と表示し，\n",
    "> * 5の倍数は数字の代わりに`Buzz`と表示し，\n",
    "> * 3と5の倍数は数字の代わりに`FizzBuzz`と表示する。\n",
    "\n",
    "次のコードでは`fizzbuzz`関数として書いている。"
   ]
  },
  {
   "cell_type": "code",
   "execution_count": 57,
   "metadata": {
    "hidden": true
   },
   "outputs": [],
   "source": [
    "def fizzbuzz():\n",
    "    \n",
    "    for i in range(1,100+1):\n",
    "        \n",
    "        if i % 3 == 0 and i % 5 == 0:\n",
    "            print('FizzBuzz')\n",
    "            \n",
    "        elif i % 3 == 0:\n",
    "            print('Fizz')\n",
    "            \n",
    "        elif i % 5 == 0:\n",
    "            print('Buzz')\n",
    "            \n",
    "        else:\n",
    "            print(i)"
   ]
  },
  {
   "cell_type": "markdown",
   "metadata": {
    "hidden": true
   },
   "source": [
    "ここで`%`は除算の余りを返す演算子である。実行してみよう。"
   ]
  },
  {
   "cell_type": "code",
   "execution_count": 58,
   "metadata": {
    "hidden": true,
    "tags": [
     "output_scroll"
    ]
   },
   "outputs": [
    {
     "name": "stdout",
     "output_type": "stream",
     "text": [
      "1\n",
      "2\n",
      "Fizz\n",
      "4\n",
      "Buzz\n",
      "Fizz\n",
      "7\n",
      "8\n",
      "Fizz\n",
      "Buzz\n",
      "11\n",
      "Fizz\n",
      "13\n",
      "14\n",
      "FizzBuzz\n",
      "16\n",
      "17\n",
      "Fizz\n",
      "19\n",
      "Buzz\n",
      "Fizz\n",
      "22\n",
      "23\n",
      "Fizz\n",
      "Buzz\n",
      "26\n",
      "Fizz\n",
      "28\n",
      "29\n",
      "FizzBuzz\n",
      "31\n",
      "32\n",
      "Fizz\n",
      "34\n",
      "Buzz\n",
      "Fizz\n",
      "37\n",
      "38\n",
      "Fizz\n",
      "Buzz\n",
      "41\n",
      "Fizz\n",
      "43\n",
      "44\n",
      "FizzBuzz\n",
      "46\n",
      "47\n",
      "Fizz\n",
      "49\n",
      "Buzz\n",
      "Fizz\n",
      "52\n",
      "53\n",
      "Fizz\n",
      "Buzz\n",
      "56\n",
      "Fizz\n",
      "58\n",
      "59\n",
      "FizzBuzz\n",
      "61\n",
      "62\n",
      "Fizz\n",
      "64\n",
      "Buzz\n",
      "Fizz\n",
      "67\n",
      "68\n",
      "Fizz\n",
      "Buzz\n",
      "71\n",
      "Fizz\n",
      "73\n",
      "74\n",
      "FizzBuzz\n",
      "76\n",
      "77\n",
      "Fizz\n",
      "79\n",
      "Buzz\n",
      "Fizz\n",
      "82\n",
      "83\n",
      "Fizz\n",
      "Buzz\n",
      "86\n",
      "Fizz\n",
      "88\n",
      "89\n",
      "FizzBuzz\n",
      "91\n",
      "92\n",
      "Fizz\n",
      "94\n",
      "Buzz\n",
      "Fizz\n",
      "97\n",
      "98\n",
      "Fizz\n",
      "Buzz\n"
     ]
    }
   ],
   "source": [
    "fizzbuzz()"
   ]
  },
  {
   "cell_type": "markdown",
   "metadata": {
    "hidden": true
   },
   "source": [
    "これを疑似コードで表してみよう。"
   ]
  },
  {
   "cell_type": "markdown",
   "metadata": {
    "hidden": true
   },
   "source": [
    "```\n",
    "def フィズバズ（）\n",
    "\n",
    "    forループ i <-- 1から100まで\n",
    "    \n",
    "        if i を3で割ると余り0 and i を5で割ると余り0\n",
    "            \"FizzBuzz\"を表示\n",
    "            \n",
    "        elif i を3で割ると余り0\n",
    "            \"Fizz\"を表示\n",
    "            \n",
    "        elif i を5で割ると余り0\n",
    "            \"Buzz\"を表示           \n",
    "            \n",
    "        else\n",
    "            i を表示\n",
    "```"
   ]
  },
  {
   "cell_type": "markdown",
   "metadata": {
    "hidden": true
   },
   "source": [
    "`Python`コードと疑似コードを比べて，疑似コードがどのようなものかイメージできたのではないだろうか。上にも書いたが，疑似コードの目的はアルゴリズムを表現することであり，`FizzBuzz`の例はその目的を達成している。もちろん，これこそが「正しい」という疑似コードはないので，自分なりに書き替えてみてはどうだろうか。ただ，ここでの目的は質の高い疑似コードを書くことでは**ない**。\n",
    "\n",
    "疑似コードには次の利点がある。\n",
    "\n",
    "> プログラミング言語の構文について特に注意を払わずに（エラーを心配せずに），コードの内容を計画・検討することを可能にする。\n",
    "\n",
    "この特性を活かして，コードの書き方を検討しようというのがここでの目的である。言い換えると，漠然とした曖昧な疑似コードを**修正する過程**を通して，アルゴリズムを`Python`コードに落とし込むことを考える。５つの例を使うが，疑似コードの修正プロセスがコードを書く上でのヒントになるのではないかと期待している。"
   ]
  },
  {
   "cell_type": "markdown",
   "metadata": {
    "heading_collapsed": true,
    "hidden": true
   },
   "source": [
    "### リストの合計（`for`ループ）"
   ]
  },
  {
   "cell_type": "markdown",
   "metadata": {
    "hidden": true
   },
   "source": [
    "ここでの目的：\n",
    "> リスト（タプル）の要素の合計を返す関数を作成する。ただし`for`ループを使うこと。"
   ]
  },
  {
   "cell_type": "markdown",
   "metadata": {
    "hidden": true
   },
   "source": [
    "---\n",
    "＜Ver. 1＞\n",
    "```\n",
    "def 合計(リスト)\n",
    "\n",
    "    最初の要素から最後の要素を全て足し合わせる #1\n",
    "    \n",
    "    その合計を返す\n",
    "```\n",
    "* 全体像はイメージできるが，`#1`で要素をどう足し合わせるか不明。要素ごとに何をするかを書き表そう。"
   ]
  },
  {
   "cell_type": "markdown",
   "metadata": {
    "hidden": true
   },
   "source": [
    "---\n",
    "＜Ver. 2＞\n",
    "```\n",
    "def 合計(リスト)\n",
    "\n",
    "    # リストの要素数：N+1\n",
    "\n",
    "    0番目の要素に1番目の要素を加える\n",
    "    それに2番目の要素を加える。      #1\n",
    "    それに3番目の要素を加える。      #1\n",
    "    ・・・・・\n",
    "    それにN番目の要素を加える。      #1\n",
    "    \n",
    "    return その合計\n",
    "``` \n",
    "* 具体性が芽生えてきたが，まだコードに落とせない。特に，`#1`にある「それに」をどう扱うかを考えよう。"
   ]
  },
  {
   "cell_type": "markdown",
   "metadata": {
    "hidden": true
   },
   "source": [
    "---\n",
    "＜Ver. 3＞\n",
    "```\n",
    "def 合計(リスト)\n",
    "\n",
    "    # リストの要素数：N+1\n",
    "\n",
    "    0番目の要素に1番目の要素を加えて，合計をxとする。 #1\n",
    "    xに2番目の要素を加えて，それをxとする。      　 #1\n",
    "    xに3番目の要素を加えて，それをxとする。       　#1\n",
    "    ・・・・・\n",
    "    xにN番目の要素を加えて，それをxとする。      　　#1\n",
    "    \n",
    "    return x\n",
    "```\n",
    "* より具体的になってきたが，`#1`の`x`をどう扱うかを考える必要がある。"
   ]
  },
  {
   "cell_type": "markdown",
   "metadata": {
    "hidden": true
   },
   "source": [
    "---\n",
    "＜Ver. 4＞\n",
    "```\n",
    "def 合計(リスト)\n",
    "\n",
    "    # リストの要素数：N+1\n",
    "\n",
    "    x = 0\n",
    "    \n",
    "    xに0番目の要素の値を足す #1\n",
    "    xに1番目の要素の値を足す #1\n",
    "    xに2番目の要素の値を足す #1\n",
    "    ・・・・・\n",
    "    xにN番目の要素の値を足す #1\n",
    "    \n",
    "    return x\n",
    "```    \n",
    "* 骨格ができてきた。`#1`で似た作業がリピートされているのでループを使おう。"
   ]
  },
  {
   "cell_type": "markdown",
   "metadata": {
    "hidden": true
   },
   "source": [
    "---\n",
    "＜Ver. 5＞\n",
    "```\n",
    "def 合計(リスト)\n",
    "    x = 0\n",
    "    \n",
    "    forループ　i <-- 0からNまで  #1\n",
    "        i番目の要素の値をxに足す  #1\n",
    "        \n",
    "    return x\n",
    "```    \n",
    "* `#1`の`i`はリストのインデックス番号になっているが，要素自体で良いのでは？"
   ]
  },
  {
   "cell_type": "markdown",
   "metadata": {
    "hidden": true
   },
   "source": [
    "---\n",
    "＜Ver. 6＞\n",
    "```\n",
    "def 合計(リスト)\n",
    "    x = 0\n",
    "    \n",
    "    for v <-- リスト\n",
    "        要素vをxに足す\n",
    "        \n",
    "    return x\n",
    "```    \n",
    "* ここまで来るとゴールは目の前‼️\n",
    "\n",
    "---"
   ]
  },
  {
   "cell_type": "code",
   "execution_count": 59,
   "metadata": {
    "hidden": true
   },
   "outputs": [],
   "source": [
    "def sum_for_loop(lst):\n",
    "    x = 0\n",
    "    \n",
    "    for i in lst:\n",
    "        x += i\n",
    "    \n",
    "    return x"
   ]
  },
  {
   "cell_type": "markdown",
   "metadata": {
    "hidden": true
   },
   "source": [
    "実行してみよう。"
   ]
  },
  {
   "cell_type": "code",
   "execution_count": 60,
   "metadata": {
    "hidden": true
   },
   "outputs": [
    {
     "data": {
      "text/plain": [
       "(6, 4950)"
      ]
     },
     "execution_count": 60,
     "metadata": {},
     "output_type": "execute_result"
    }
   ],
   "source": [
    "sum_for_loop([1,2,3]), sum_for_loop(range(0,100))"
   ]
  },
  {
   "cell_type": "markdown",
   "metadata": {
    "heading_collapsed": true,
    "hidden": true
   },
   "source": [
    "### リストの合計（`while`ループ）"
   ]
  },
  {
   "cell_type": "markdown",
   "metadata": {
    "hidden": true
   },
   "source": [
    "ここでの目的：\n",
    "> リスト（タプル）の要素の合計を返す関数を作成する。ただし`while`ループを使うこと。\n",
    "\n",
    "リストの合計（`for`ループ）の＜Ver. 4＞まで同じ。"
   ]
  },
  {
   "cell_type": "markdown",
   "metadata": {
    "hidden": true
   },
   "source": [
    "---\n",
    "＜Ver. 4＞\n",
    "```\n",
    "def 合計(リスト)\n",
    "\n",
    "    # リストの要素数：N+1\n",
    "\n",
    "    x = 0\n",
    "    \n",
    "    xに0番目の要素の値を足す #1\n",
    "    xに1番目の要素の値を足す #1\n",
    "    xに2番目の要素の値を足す #1\n",
    "    ・・・・・\n",
    "    xにN番目の要素の値を足す #1\n",
    "    \n",
    "    return x\n",
    "```    \n",
    "* 骨格ができてきた。`#1`で似た作業がリピートされているのでループを使おう。"
   ]
  },
  {
   "cell_type": "markdown",
   "metadata": {
    "hidden": true
   },
   "source": [
    "---\n",
    "＜Ver. 5＞\n",
    "```\n",
    "def 合計(リスト)\n",
    "\n",
    "    x = 0                    #1\n",
    "    \n",
    "    while 条件                #2\n",
    "        i番目の要素の値をxに足す   #3\n",
    "\n",
    "    return x\n",
    "```\n",
    "* `#2`の条件は何にするのか。\n",
    "* 無限ループに入らないように`#1`と`#3`に付け加えることはないか。"
   ]
  },
  {
   "cell_type": "markdown",
   "metadata": {
    "hidden": true
   },
   "source": [
    "---\n",
    "＜Ver. 6＞\n",
    "```\n",
    "def 合計(リスト)\n",
    "\n",
    "    x = 0\n",
    "    count = 0                  #1\n",
    "    \n",
    "    while count < リストの要素数  #2\n",
    "        i番目の要素の値をxに足す    #3\n",
    "        countを1増やす           #4\n",
    "\n",
    "    return x\n",
    "```\n",
    "* `#3`の`i`と`#1`，`#2`，`#4`の`count`はどう関係しているのか？同じ？"
   ]
  },
  {
   "cell_type": "markdown",
   "metadata": {
    "hidden": true
   },
   "source": [
    "---\n",
    "＜Ver. 7＞\n",
    "```\n",
    "def 合計(リスト)\n",
    "\n",
    "    x = 0\n",
    "    count = 0\n",
    "    \n",
    "    while count < リストの要素数\n",
    "        count番目の要素の値をxに足す\n",
    "        countを1増やす\n",
    "\n",
    "    return x\n",
    "```\n",
    "* ここまで来るとゴールは目の前‼️\n",
    "\n",
    "---"
   ]
  },
  {
   "cell_type": "code",
   "execution_count": 61,
   "metadata": {
    "hidden": true
   },
   "outputs": [],
   "source": [
    "def sum_while_loop(lst):\n",
    "    \n",
    "    x = 0\n",
    "    count = 0\n",
    "    \n",
    "    while count < len(lst):\n",
    "        x += lst[count]\n",
    "        count += 1\n",
    "    \n",
    "    return x"
   ]
  },
  {
   "cell_type": "markdown",
   "metadata": {
    "hidden": true
   },
   "source": [
    "関数を実行しよう。"
   ]
  },
  {
   "cell_type": "code",
   "execution_count": 62,
   "metadata": {
    "hidden": true
   },
   "outputs": [
    {
     "data": {
      "text/plain": [
       "(6, 4950)"
      ]
     },
     "execution_count": 62,
     "metadata": {},
     "output_type": "execute_result"
    }
   ],
   "source": [
    "sum_while_loop([1,2,3]), sum_while_loop(range(0,100))"
   ]
  },
  {
   "cell_type": "markdown",
   "metadata": {
    "heading_collapsed": true,
    "hidden": true
   },
   "source": [
    "### コイントス（`for`ループ）"
   ]
  },
  {
   "cell_type": "markdown",
   "metadata": {
    "hidden": true
   },
   "source": [
    "ここでの目的：\n",
    "> `n`回コイントスし，表と裏の回数を表示する関数を作成する。ただし`random.randint()`と`for`ループを使うこと。"
   ]
  },
  {
   "cell_type": "markdown",
   "metadata": {
    "hidden": true
   },
   "source": [
    "---\n",
    "＜Ver. 1＞\n",
    "```\n",
    "def コイントス(n)\n",
    "   \n",
    "    0回目のコイントス　→　表・裏  #1\n",
    "    1回目のコイントス　→　表・裏  #1\n",
    "    2回目のコイントス　→　表・裏  #1\n",
    "    ・・・\n",
    "    n-1回目のコイントス　→　表・裏   #1\n",
    "   \n",
    "    表の合計を計算  #2\n",
    "    裏の合計を計算  #2\n",
    "    \n",
    "    表の合計と裏の合計を返す\n",
    "```\n",
    "* `#1`で表と裏をどう表す？\n",
    "* `#2`の合計の計算はどうする？"
   ]
  },
  {
   "cell_type": "markdown",
   "metadata": {
    "hidden": true
   },
   "source": [
    "---\n",
    "＜Ver. 2＞\n",
    "```\n",
    "def コイントス(n)\n",
    "    \n",
    "    # 表：1\n",
    "    # 裏：0\n",
    "   \n",
    "    0回目のコイントス　→　random.randint(0,1)   #1\n",
    "    1回目のコイントス　→　random.randint(0,1)   #1\n",
    "    2回目のコイントス　→　random.randint(0,1)   #1\n",
    "    ・・・\n",
    "    n-1回目のコイントス　→　random.randint(0,1) #1\n",
    "   \n",
    "    表の合計を計算  #2\n",
    "    裏の合計を計算  #2\n",
    "    \n",
    "    表の合計と裏の合計を返す\n",
    "```\n",
    "* `#1`は似たコードになるのでループを使おう。\n",
    "* `#2`の合計の計算はどうする？"
   ]
  },
  {
   "cell_type": "markdown",
   "metadata": {
    "hidden": true
   },
   "source": [
    "---\n",
    "＜Ver. 3＞\n",
    "```\n",
    "def コイントス(n)\n",
    "    \n",
    "    # 表：1\n",
    "    # 裏：0\n",
    "   \n",
    "    for ループ\n",
    "        random.randint(0,1)  #1\n",
    "   \n",
    "    表の合計を計算  #2\n",
    "    裏の合計を計算  #2\n",
    "    \n",
    "    表の合計と裏の合計を返す\n",
    "```\n",
    "* `#1`が実行されるたびに`0`又は`1`が出るが，記録されていない。記録する変数を導入する必要がある。\n",
    "* その記録を使って`#2`の合計の計算できる。"
   ]
  },
  {
   "cell_type": "markdown",
   "metadata": {
    "hidden": true
   },
   "source": [
    "---\n",
    "＜Ver. 4＞\n",
    "```\n",
    "def コイントス(n)\n",
    "    \n",
    "    # 表：1\n",
    "    # 裏：0\n",
    "   \n",
    "    heads = 0\n",
    "    tails = 0\n",
    "    \n",
    "    for ループ                 #1\n",
    "        random.randint(0,1)\n",
    "        結果が１であれば，headsを１増やす\n",
    "        結果が０であれば，tailsを１増やす\n",
    "       \n",
    "    return heads, tails\n",
    "```\n",
    "* `#1`で使うイタラブルは何か？\n",
    "* `#1`で使うイタラブル用の変数は何か？"
   ]
  },
  {
   "cell_type": "markdown",
   "metadata": {
    "hidden": true
   },
   "source": [
    "---\n",
    "＜Ver. 5＞\n",
    "```\n",
    "def コイントス(n)\n",
    "    \n",
    "    # 表：1\n",
    "    # 裏：0\n",
    "   \n",
    "    heads = 0\n",
    "    tails = 0\n",
    "    \n",
    "    for _ <-- 0からn-1まで            #1\n",
    "        random.randint(0,1)\n",
    "        結果が１であれば，headsを１増やす  #2\n",
    "        結果が０であれば，tailsを１増やす  #2\n",
    "       \n",
    "    return heads, tails\n",
    "```\n",
    "* `#1`で`_`を使っている理由：\n",
    "    * `i`や`j`などでも良いが，`for`ループの「本体」で使われていない変数には`_`が使われることがよくある。\n",
    "* `#2`を`if`文に書き換える必要がある。"
   ]
  },
  {
   "cell_type": "markdown",
   "metadata": {
    "hidden": true
   },
   "source": [
    "---\n",
    "＜Ver. 6＞\n",
    "```\n",
    "def コイントス(n)\n",
    "    \n",
    "    # 表：1\n",
    "    # 裏：0\n",
    "   \n",
    "    heads = 0\n",
    "    tails = 0\n",
    "    \n",
    "    for _ <-- 0からn-1まで\n",
    "    \n",
    "        random.randint(0,1)の結果をresultに割り当てる\n",
    "        \n",
    "        if resultが１\n",
    "            headsを１増やす\n",
    "        \n",
    "        else\n",
    "            tailsを１増やす\n",
    "       \n",
    "    return heads, tails\n",
    "```\n",
    "* ここまで来ればゴールは目の前‼️\n",
    "\n",
    "---"
   ]
  },
  {
   "cell_type": "code",
   "execution_count": 63,
   "metadata": {
    "hidden": true
   },
   "outputs": [],
   "source": [
    "def coin_toss_for_loop(n):\n",
    "    \n",
    "    heads = 0\n",
    "    tails = 0\n",
    "    \n",
    "    for _ in range(n):\n",
    "        \n",
    "        result = random.randint(0,1)\n",
    "        \n",
    "        if result == 1:\n",
    "            heads += 1\n",
    "            \n",
    "        else:\n",
    "            tails += 1\n",
    "    \n",
    "    return heads, tails"
   ]
  },
  {
   "cell_type": "markdown",
   "metadata": {
    "hidden": true
   },
   "source": [
    "実行しよう"
   ]
  },
  {
   "cell_type": "code",
   "execution_count": 64,
   "metadata": {
    "hidden": true
   },
   "outputs": [
    {
     "data": {
      "text/plain": [
       "(54, 46)"
      ]
     },
     "execution_count": 64,
     "metadata": {},
     "output_type": "execute_result"
    }
   ],
   "source": [
    "coin_toss_for_loop(100)"
   ]
  },
  {
   "cell_type": "markdown",
   "metadata": {
    "heading_collapsed": true,
    "hidden": true
   },
   "source": [
    "### コイントス（`while`ループ）"
   ]
  },
  {
   "cell_type": "markdown",
   "metadata": {
    "hidden": true
   },
   "source": [
    "ここでの目的：\n",
    "> `n`回コイントスし，表と裏の回数を表示する関数を作成する。ただし`random.randint()`と`while`ループを使うこと。\n",
    "\n",
    "コイントス（`for`ループ）の＜Ver. 2＞まで同じ。"
   ]
  },
  {
   "cell_type": "markdown",
   "metadata": {
    "hidden": true
   },
   "source": [
    "---\n",
    "＜Ver. 2＞\n",
    "```\n",
    "def コイントス(n)\n",
    "    \n",
    "    # 表：1\n",
    "    # 裏：0\n",
    "   \n",
    "    0回目のコイントス　→　random.randint(0,1)   #1\n",
    "    1回目のコイントス　→　random.randint(0,1)   #1\n",
    "    2回目のコイントス　→　random.randint(0,1)   #1\n",
    "    ・・・\n",
    "    n-1回目のコイントス　→　random.randint(0,1) #1\n",
    "   \n",
    "    表の合計を計算  #2\n",
    "    裏の合計を計算  #2\n",
    "    \n",
    "    表の合計と裏の合計を返す\n",
    "```\n",
    "* `#1`は似たコードになるのでループを使おう。\n",
    "* `#2`の合計の計算はどうする？"
   ]
  },
  {
   "cell_type": "markdown",
   "metadata": {
    "hidden": true
   },
   "source": [
    "---\n",
    "＜Ver. 3＞\n",
    "```\n",
    "def コイントス(n)\n",
    "    \n",
    "    # 表：1\n",
    "    # 裏：0\n",
    "   \n",
    "    while ループ\n",
    "        random.randint(0,1)  #1\n",
    "   \n",
    "    表の合計を計算  #2\n",
    "    裏の合計を計算  #2\n",
    "    \n",
    "    表の合計と裏の合計を返す\n",
    "```\n",
    "* `#1`で結果を記録する必要がある。\n",
    "* その記録を使って`#2`の合計の計算できる。"
   ]
  },
  {
   "cell_type": "markdown",
   "metadata": {
    "hidden": true
   },
   "source": [
    "---\n",
    "＜Ver. 4＞\n",
    "```\n",
    "def コイントス(n)\n",
    "    \n",
    "    # 表：1\n",
    "    # 裏：0\n",
    "    \n",
    "    heads = 0\n",
    "    tails = 0        #1\n",
    "   \n",
    "    while 条件　　     #2\n",
    "    \n",
    "        random.randint(0,1)\n",
    "        結果が１であれば，headsを１増やす\n",
    "        結果が０であれば，tailsを１増やす  #3\n",
    "       \n",
    "    return heads, tails\n",
    "```\n",
    "* `#2`の条件は何にするのか。\n",
    "* 無限ループに入らないように`#1`と`#3`に何を付け加える必要があるか。"
   ]
  },
  {
   "cell_type": "markdown",
   "metadata": {
    "hidden": true
   },
   "source": [
    "---\n",
    "＜Ver. 5＞\n",
    "```\n",
    "def コイントス(n)\n",
    "    \n",
    "    heads = 0\n",
    "    tails = 0\n",
    "    count = 0\n",
    "\n",
    "    while count < n\n",
    "    \n",
    "        random.randint(0,1)\n",
    "        結果が１であれば，headsを１増やす  #1\n",
    "        結果が０であれば，tailsを１増やす  #1\n",
    "        countを1増やす\n",
    "       \n",
    "    return heads, tails\n",
    "```\n",
    "* `#1`を`if`文として書く。"
   ]
  },
  {
   "cell_type": "markdown",
   "metadata": {
    "hidden": true
   },
   "source": [
    "---\n",
    "＜Ver. 6＞\n",
    "```\n",
    "def コイントス(n)\n",
    "    \n",
    "    heads = 0\n",
    "    tails = 0\n",
    "    count = 0\n",
    "\n",
    "    while count < n\n",
    "    \n",
    "        random.randint(0,1)の結果をresultに割り当てる\n",
    "        \n",
    "        if resultが１\n",
    "            headsを１増やす\n",
    "        \n",
    "        else\n",
    "            tailsを１増やす\n",
    "            \n",
    "        countを1増やす\n",
    "       \n",
    "    return heads, tails\n",
    "```\n",
    "* ここまで来ればゴールは目の前‼️\n",
    "\n",
    "---"
   ]
  },
  {
   "cell_type": "code",
   "execution_count": 65,
   "metadata": {
    "hidden": true
   },
   "outputs": [],
   "source": [
    "def coin_toss_while_loop(n):\n",
    "    \n",
    "    heads = 0\n",
    "    tails = 0\n",
    "    count = 0\n",
    "    \n",
    "    while count < n:\n",
    "        \n",
    "        result = random.randint(0,1)\n",
    "        \n",
    "        if result == 1:\n",
    "            heads += 1\n",
    "            \n",
    "        else:\n",
    "            tails += 1\n",
    "        \n",
    "        count += 1\n",
    "    \n",
    "    return heads, tails"
   ]
  },
  {
   "cell_type": "markdown",
   "metadata": {
    "hidden": true
   },
   "source": [
    "コードを実行しよう。"
   ]
  },
  {
   "cell_type": "code",
   "execution_count": 66,
   "metadata": {
    "hidden": true
   },
   "outputs": [
    {
     "data": {
      "text/plain": [
       "(48, 52)"
      ]
     },
     "execution_count": 66,
     "metadata": {},
     "output_type": "execute_result"
    }
   ],
   "source": [
    "coin_toss_while_loop(100)"
   ]
  },
  {
   "cell_type": "markdown",
   "metadata": {
    "hidden": true
   },
   "source": [
    "### リストの最大値"
   ]
  },
  {
   "cell_type": "markdown",
   "metadata": {
    "hidden": true
   },
   "source": [
    "ここでの目的：\n",
    "> リスト（又はタプル）を引数とし，含まれる要素の中から最大値を返す関数を作成する。"
   ]
  },
  {
   "cell_type": "markdown",
   "metadata": {
    "hidden": true
   },
   "source": [
    "---\n",
    "＜Ver. 1＞\n",
    "```\n",
    "def 最大値を求める（リスト）:\n",
    "\n",
    "    0番目からN番目の要素を比較して最大値を探す  #1\n",
    "    \n",
    "    最大値を返す\n",
    "```\n",
    "* ぼやっとした全体像となっているのは否めない。\n",
    "* `#1`の「比較」をどうするかが重要となる。。:"
   ]
  },
  {
   "cell_type": "markdown",
   "metadata": {
    "hidden": true
   },
   "source": [
    "---\n",
    "＜Ver. 2＞\n",
    "```\n",
    "def 最大値を求める（リスト=l）:\n",
    "    \n",
    "    # N = リストの要素数\n",
    "    \n",
    "    <0> l[0]をl[1]〜l[N]と比較し，\n",
    "        l[0]が全てに対して大きければ，l[0]が最大値。\n",
    "        そうでなければ<1>に進む。\n",
    "    <1> l[1]をl[2]〜l[N]と比較し，\n",
    "        l[2]が全てに対して大きければ，l[2]が最大値。\n",
    "        そうでなければ<2>に進む。\n",
    "    <2> l[2]をl[3]〜l[N]と比較し，\n",
    "        l[3]が全てに対して大きければ，l[3]が最大値。\n",
    "        そうでなければ<3>に進む。\n",
    "    ・・・・・\n",
    "    <N-1> l[N-1]をl[N]と比較し，\n",
    "          l[N-1]大きければ，l[N-1]が最大値。\n",
    "          そうでなければl[N]が最大値。\n",
    "  \n",
    "    最大値を返す\n",
    "```\n",
    "良さそうにも見えるが，問題がある。\n",
    "* `<0>`では`N`回の比較をおこなう。\n",
    "* `<1>`では`N-1`回の比較をおこなう。\n",
    "* `<2>`では`N-2`回の比較をおこなう。\n",
    "* ・・・・\n",
    "* `<N>`では`1`回の比較をおこなう。\n",
    "* 比較する回数の合計は`1+2+3+・・・+N=N(N+1)/2`。比較回数が非常に多い。もっと良い方法があるのでは？"
   ]
  },
  {
   "cell_type": "markdown",
   "metadata": {
    "hidden": true
   },
   "source": [
    "---\n",
    "＜Ver. 3＞\n",
    "```\n",
    "def 最大値を求める（リスト=l）:\n",
    "\n",
    "    # N = リストの要素数\n",
    "    \n",
    "    l[0]とl[1]を比較し，大きい方を残す    #1\n",
    "    l[1]とl[2]を比較し，大きい方を残す    #1\n",
    "    l[2]とl[3]を比較し，大きい方を残す    #1\n",
    "    ・・・\n",
    "    l[N-1]とl[N]を比較し，大きい方を残す  #1\n",
    "    \n",
    "    最大値を返す\n",
    "```\n",
    "* 比較する回数は`N`回で＜Ver. 2＞より少ない。\n",
    "* `#1`の「大きい方を残す」はどうする？"
   ]
  },
  {
   "cell_type": "markdown",
   "metadata": {
    "hidden": true
   },
   "source": [
    "---\n",
    "＜Ver. 4＞\n",
    "```\n",
    "def 最大値を求める（リスト=l）:\n",
    "\n",
    "    # N = リストの要素数\n",
    "\n",
    "    max_ = -1_000_000        #1\n",
    "    \n",
    "    l[0]とl[1]を比較し，大きい方をmax_に割り当てる。   #2\n",
    "    l[1]とl[2]を比較し，大きい方をmax_に割り当てる。   #2\n",
    "    l[2]とl[3]を比較し，大きい方をmax_に割り当てる。   #2\n",
    "    ・・・\n",
    "    l[N-1]とl[N]を比較し，大きい方をxに割り当てる。 #2\n",
    "    \n",
    "    return max_\n",
    "```\n",
    "* `#2`だけを見ると最大値は求められそう。\n",
    "* `#1`では最大値が`-1_000_000`未満の場合をカバーできない。"
   ]
  },
  {
   "cell_type": "markdown",
   "metadata": {
    "hidden": true
   },
   "source": [
    "---\n",
    "＜Ver. 5＞\n",
    "```\n",
    "def 最大値を求める（リスト=l）:\n",
    "\n",
    "    # N = リストの要素数\n",
    "    \n",
    "    max_ = l[0]\n",
    "    \n",
    "    max_とl[1]を比較し，大きい方をmax_に割り当てる。  #1\n",
    "    max_とl[2]を比較し，大きい方をmax_に割り当てる。  #1\n",
    "    max_とl[3]を比較し，大きい方をmax_に割り当てる。  #1\n",
    "    ・・・\n",
    "    max_とl[N]を比較し，大きい方をmax_に割り当てる。  #1\n",
    "    \n",
    "    return max_\n",
    "```\n",
    "* `#1`は似たようなコードになるのでループを使おう。"
   ]
  },
  {
   "cell_type": "markdown",
   "metadata": {
    "hidden": true
   },
   "source": [
    "---\n",
    "＜Ver. 5＞\n",
    "```\n",
    "def 最大値を求める（リスト=l）:\n",
    "\n",
    "    # N = リストの要素数\n",
    "    \n",
    "    max_ = l[0]\n",
    "    \n",
    "    for ループ\n",
    "        max_とl[i]を比較し，大きい方をmax_に割り当てる。 #1\n",
    "    \n",
    "    return max_\n",
    "```\n",
    "* `#1`は条件分岐させる必要がある。"
   ]
  },
  {
   "cell_type": "markdown",
   "metadata": {
    "hidden": true
   },
   "source": [
    "---\n",
    "＜Ver. 6＞\n",
    "```\n",
    "def 最大値を求める（リスト=l）:\n",
    "\n",
    "    # N = リストの要素数\n",
    "    \n",
    "    max_ = l[0]\n",
    "    \n",
    "    for ループ     #1\n",
    "        max_ < l[i]の場合は，l[i]をxに割り当てる。\n",
    "        max_ >= l[i]の場合は，pass\n",
    "    \n",
    "    return max_\n",
    "```\n",
    "* `#1`のイタラブルは何にする？\n",
    "* `#1`のイタラブル用の変数は何にする？"
   ]
  },
  {
   "cell_type": "markdown",
   "metadata": {
    "hidden": true
   },
   "source": [
    "---\n",
    "＜Ver. 7＞\n",
    "```\n",
    "def 最大値を求める（リスト=l）:\n",
    "\n",
    "    # N = リストの要素数\n",
    "    \n",
    "    max_ = l[0]\n",
    "    \n",
    "    for i <-- 0から(lの要素数-1)まで                #1\n",
    "        max_ < l[i]の場合は，l[i]をmax_に割り当てる。 #1\n",
    "        max_ >= l[i]の場合は，pass                #1\n",
    "    \n",
    "    return max_\n",
    "```\n",
    "* `#1`の`i`はリストのインデックス番号だが，直接要素自体を使う方が`Python`的である。"
   ]
  },
  {
   "cell_type": "markdown",
   "metadata": {
    "hidden": true
   },
   "source": [
    "---\n",
    "＜Ver. 8＞\n",
    "```\n",
    "def 最大値を求める（リスト=l）:\n",
    "\n",
    "    # N = リストの要素数\n",
    "    \n",
    "    max_ = l[0]\n",
    "    \n",
    "    for v <-- リスト\n",
    "        max_ < vの場合は，vをxに割り当てる。 #1\n",
    "        max_ >= vの場合は，pass          #1\n",
    "    \n",
    "    return max_\n",
    "```\n",
    "* `#1`は`if`文に書き換える。"
   ]
  },
  {
   "cell_type": "markdown",
   "metadata": {
    "hidden": true
   },
   "source": [
    "---\n",
    "＜Ver. 9＞\n",
    "```\n",
    "def 最大値を求める（リスト=l）:\n",
    "\n",
    "    max_ = l[0]\n",
    "    \n",
    "    for v <-- リスト\n",
    "    \n",
    "        if max_ < v\n",
    "            max_にvを割り当てる。\n",
    "        else\n",
    "            pass\n",
    "    \n",
    "    return max_\n",
    "```\n",
    "* 後は`Python`コードを書くだけ‼️\n",
    "\n",
    "---"
   ]
  },
  {
   "cell_type": "code",
   "execution_count": 67,
   "metadata": {
    "hidden": true
   },
   "outputs": [],
   "source": [
    "def search_max(l):\n",
    "    \n",
    "    max_ = l[0]\n",
    "    \n",
    "    for v in l:\n",
    "        if v > max_:\n",
    "            max_ = v\n",
    "        else:         # 省略可\n",
    "            pass      # 省略可\n",
    "    \n",
    "    return max_"
   ]
  },
  {
   "cell_type": "markdown",
   "metadata": {
    "hidden": true
   },
   "source": [
    "実行してみよう。"
   ]
  },
  {
   "cell_type": "code",
   "execution_count": 68,
   "metadata": {
    "hidden": true
   },
   "outputs": [
    {
     "data": {
      "text/plain": [
       "2.932262499170067"
      ]
     },
     "execution_count": 68,
     "metadata": {},
     "output_type": "execute_result"
    }
   ],
   "source": [
    "lst = [random.gauss(0,1) for _ in range(1000)]\n",
    "\n",
    "search_max(lst)"
   ]
  },
  {
   "cell_type": "markdown",
   "metadata": {
    "code_folding": [],
    "hidden": true
   },
   "source": [
    "````{note}\n",
    "＜Ver. 2＞をコードで書くと次の様になる。上のコードと比べると実行時間が1000倍近く長くなる。\n",
    "```\n",
    "def search_max(l):\n",
    "    \n",
    "    max_ = l[0]\n",
    "    \n",
    "    # 最後の要素はカバーしていない\n",
    "    for idx, val in enumerate(l[:-1]):\n",
    "        \n",
    "        temp = max_\n",
    "        \n",
    "\n",
    "        for k in l[idx+1:]:\n",
    "            if val <= k:\n",
    "                continue\n",
    "            else:\n",
    "                temp = val\n",
    "        \n",
    "        if temp > max_:\n",
    "            max_ = temp\n",
    "    \n",
    "    # 最後の要素について\n",
    "    if max_ < l[-1]:\n",
    "        max_ = l[-1]\n",
    "\n",
    "    return max_\n",
    "```\n",
    "````"
   ]
  },
  {
   "cell_type": "markdown",
   "metadata": {
    "heading_collapsed": true,
    "hidden": true
   },
   "source": [
    "### 最後に"
   ]
  },
  {
   "cell_type": "markdown",
   "metadata": {
    "hidden": true
   },
   "source": [
    "コードを書くことに慣れてくると，簡単なコードに疑似コードの修正プロセスは必要なくなるだろう。しかし，その段階になればより複雑なコードを書くことになるはずだ。その時には疑似コードが役に立つのではないかと思われる。少し頭をひねるような問題であれば，疑似コードを試してみるのも一案である。"
   ]
  }
 ],
 "metadata": {
  "celltoolbar": "Tags",
  "kernelspec": {
   "display_name": "Python 3 (ipykernel)",
   "language": "python",
   "name": "python3"
  },
  "language_info": {
   "codemirror_mode": {
    "name": "ipython",
    "version": 3
   },
   "file_extension": ".py",
   "mimetype": "text/x-python",
   "name": "python",
   "nbconvert_exporter": "python",
   "pygments_lexer": "ipython3",
   "version": "3.10.4"
  }
 },
 "nbformat": 4,
 "nbformat_minor": 4
}
