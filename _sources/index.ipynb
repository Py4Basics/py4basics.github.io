{
 "cells": [
  {
   "cell_type": "markdown",
   "id": "5f58bc87",
   "metadata": {},
   "source": [
    "# 経済学のためのPython入門\n",
    "\n",
    "```{epigraph}\n",
    "**Python Basics for Economics**\n",
    "\n",
    "[春山 鉄源](https://t-haruyama.github.io)\n",
    "\n",
    "神戸大学経済学研究科\n",
    "```\n",
    "\n",
    "<div name=\"html-admonition\" style=\"font-size: 0.8em\">\n",
    "<input type=\"button\" onclick=\"location.href='https://translate.google.com/translate?hl=&sl=ja&tl=en&u='+window.location;\" value=\"Google translation\" style=\"color:#ffffff;background-color:#008080; height:25px\" onmouseover=\"this.style.background='#99ccff'\" onmouseout=\"this.style.background='#008080'\"/> in English or the language of your choice.\n",
    "</div><br>"
   ]
  },
  {
   "cell_type": "code",
   "execution_count": 1,
   "id": "609fcf9d",
   "metadata": {},
   "outputs": [
    {
     "name": "stdout",
     "output_type": "stream",
     "text": [
      "Version: 2024年01月18日\n"
     ]
    }
   ],
   "source": [
    "import datetime\n",
    "dt = datetime.datetime.now()\n",
    "print('Version:',dt.strftime('%Y年%m月%d日'))"
   ]
  },
  {
   "cell_type": "markdown",
   "id": "bd88edc0",
   "metadata": {},
   "source": [
    "<!---\n",
    "%H:%M:%S\n",
    "dt = datetime.datetime.now()\n",
    "dt = datetime.datetime.today()\n",
    "-->\n",
    "\n",
    "\n",
    "<!--```{margin}-->\n",
    "<!--<div name=\"html-admonition\">-->\n",
    "<!--Do you want to read in a differnt language? Start-->\n",
    "<!--<input type=\"button\" onclick=\"location.href='https://translate.google.com/translate?hl=&sl=ja&tl=en&u='+window.location;\" value=\"Google\" style=\"color:#ffffff;background-color:#008080;\" onmouseover=\"this.style.background='#99ccff'\" onmouseout=\"this.style.background='#008080'\"/><input type=\"button\" onclick=\"location.href='https://translate.google.com/translate?hl=&sl=ja&tl=en&u='+window.location;\" value=\"translation\" style=\"color:#ffffff;background-color:#008080;\" onmouseover=\"this.style.background='#99ccff'\" onmouseout=\"this.style.background='#008080'\"/>-->\n",
    "<!--in English or the language of your choice.-->\n",
    "<!--</div>-->\n",
    "<!--```-->\n",
    "\n",
    "本サイトに関するコメント等はGitHubの[Discussions](https://github.com/Py4Basics/py4basics.github.io/discussions)もしくは<haruyama@econ.kobe-u.ac.jp>にご連絡ください。\n",
    "\n",
    "<br>\n",
    "\n",
    "## はじめに\n",
    "本サイトの目的は次の２つのサイトを学習するために必要な`Python`の基礎の解説である。\n",
    "* [Pythonで学ぶマクロ経済学（中級＋レベル）](https://py4macro.github.io)\n",
    "* [Pythonで学ぶ入門計量経済学](https://py4etrics.github.io)\n",
    "\n",
    "<!-- 新聞，雑誌やインターネット上で「AI」，「ビッグデータ」，「機械学習」どのプログラミングに関連するキーワードを頻繁に見聞きすると思うが，それらの分野で`Python`は広く使われている。一方で`Python` -->\n",
    "\n",
    "次の12章から構成されている。\n",
    "1. **`Python`入門I**<br>\n",
    "  プログラミング言語である`Python`は，日本語と同様に文法・表現・単語が決まっており，それらの使い方を説明する。外国語を学ぶことと似た様なものかと不安になる人もいるかも知れないが，そうではない。殆どの人は英語を学んだと思うが，実は`Python`は英語で書かれているため，英語感覚でコードを読み書きすることができるのが一つの大きな利点である。しかし，英作文をイメージすると間違いである。理由は，正確性が要求されるからである。話し言葉・書き言葉は曖昧な表現になり得る。例えば，I kind of like him.（もしくは，I kinda like him.）ここでの\"kind of\"は「種類」と言う意味ではなく「曖昧さ」を表している。訳すと「まぁ，好きかなぁ，，，」の様なイメージだろうか。しかし，話すタイミングや語調によっては「実はそうでもないかも」の含みがある様にも聞こえるかも知れない。このように正確さにかける英語ではコンピュータに命令を伝えることは難しい。一般的にプログラミング言語は正確性が重視されるため，味気ない「文章」になる。更には少しでも間違えると「何言ってるか分かんない」という意味でエラーが発生する。一つのスペルミスでもエラーが発生するのである。このパートでは，「`Python`語」を使いコンピュータに正確に命令を伝えて実行させる方法を学習する。（このパートは次の６章から構成されており，神戸大学経済学部の「プログラミング入門」の教科書として使用する予定である。）\n",
    "    * **データ型と変数**\n",
    "    * **データの操作**\n",
    "    * **関数とメソッド**\n",
    "    * **制御フロー**\n",
    "    * **モジュールと疑似コード**\n",
    "    * **図示とシミュレーション**\n",
    "\n",
    "1. **`Python`入門II**<br>\n",
    "    * **`NumPy`： 高速化**<br>\n",
    "      インストールした`Python`をそのままの「素」で使うことができる。しかし用途によっては物足りないと感じる場合がある。「素」の`Python`を４人乗りの家族用乗用車とイメージしてみよう。通常の生活では十分だが，自動車レースに参加するとなると明らかに不十分である。目的によって機能を補ってくれるのがパッケージと呼ばれるもので，この章を含めて残りの章を使って主な（外部）パッケージについて説明する。`NumPy`（Numerical Pythonの略でナンパイと読む）は，名前が示すように計算を高速化させるパッケージであり，乗用車をレース用にチューンアップしてくれる。シミュレーションを行う際には欠かせないパッケージである。\n",
    "    * **`Pandas`： データ分析**<br>\n",
    "      データを扱う際に欠かせないパッケージである。イメージ的には，`Python`版のExcelと思えば良いだろう。名前は計量経済学の授業で出てきたパネル・データ（Panel Data）から派生した可愛らしい名前になっている。データを扱うのであれば`NumPy`で良いのではと思うかも知れない。実際，`Pandas`のデータの部分は`NumPy`の`array`と呼ばれるデータ型に簡単に変換できるようになっている。どこに利点があるかと言うと，行・列にラベル名（例えば，「Real GDP」）が使えるためデータの直感的な操作が可能となる。またデータを整形するのに便利な関数が多く用意されている。このパッケージ無ければデータを扱いが非常に面倒に感じる事になるだろう。\n",
    "    * **`Matplotlib`： 図示**<br>\n",
    "      データをプロット（図示）するためのパッケージである。`NumPy`，`Pandas`，`SciPy`と並んで`Python`のエコシステムを構成している。プロットするためのパッケージには様々なものが開発されているが，`Matplotlib`が基本となっている。プロットのためのコードには幾つかのパターンがあり，オブジェクト指向と呼ばれる考えに基づく方法を紹介する。\n",
    "    * **`Pandas`： 図示**<br>\n",
    "      上で紹介した`Pandas`にもプロットする機能が備わっている。裏では`Matplotlib`が動いているが，手っ取り早くプロットしたい場合に重宝する。図の細かい所まで設定したい場合は`Matplotlib`を直接使った方が良いが，`Pandas`のプロット機能を知っていると非常に便利に感じるだろう。\n",
    "    * **`SciPy.optimize`： 解の求め方と最適化問題**<br>\n",
    "      経済学では最適化問題が至る所で出てくる。消費者の効用最大化問題，企業の利潤最大化もしくは費用最小化問題など。`scipy.optimize`はそのためのツールを提供してくれる。また単なる最大化・最小化問題を数値的に解くのではなく，制約式の下での最適化問題も解くことが可能である。また等式制約と不等式制約の両方に対応している。経済学を勉強する上で欠かせないツールである。\n",
    "    * **`NumPy`： ランダム変数**<br>\n",
    "      既出の`NumPy`の基本は`array`（配列）と呼ばれるリストに似たデータ型だが，その他にいくつかのサブパッケージが用意されている。その中の一つがランダム変数生成用のものである。ここでは，その使い方を説明する。統計学の理解やシミュレーションを行うには欠かせないものとなる。\n",
    "    * **`SciPy.stats`： 確率分布**<br>\n",
    "      上でも出てきた`SciPy`はScientific Pythonの略であり，科学技術計算用のパッケージである。非常に大きなパッケージであり，その中には様々な用途（積分，統計，最適化問題など）に合わせたサブパッケージが用意されている。その中に，最適化問題用の`SciPy.optimize`が含まれている。統計学用のサブパッケージが`scipy.stats`であり，この章ではその使い方について簡単に説明する。統計学の授業で学んだ概念などを実際にコードを書いて実行することができる。ちなみに，`SciPy`には`NumPy`と重複する機能も含んでおり，仕様が微妙に違ったりする。このサイトと上述の経済学のサイトでは，`NumPy`にあるものは`NumPy`のものを使うことにする。\n",
    "\n",
    "また次のトピックについても取り上げているので参考にして欲しい。\n",
    "* **ツールのインストールと説明**<br>\n",
    "  Pythonやと関連ツール（GitやGitHubなど）のインストールと使い方について説明する。\n",
    "* **Tipsと注意点**<br>\n",
    "  コードを書く上で役に立つ点をまとめる。是非読んでみよう！\n",
    "* **疑似コード**<br>\n",
    "  コードを自然言語（日本語や英語）で表したコードであり，コードの裏にある考え方を整理する。\n",
    "* **学業成績の分析**<br>\n",
    "  神戸大学のウリボーネット上にある成績を使い学業成績分析を行う。成績をコピーして使うので他大学でも使えるかもしれない？\n",
    "* **Gapminder**<br>\n",
    "  Gapminderは世界経済のGDPなどデータを駆使し興味深い分析をおこなっているサイトである。そのデータを使って，グループ別（例えば，アジア・欧州・アフリカなど）の計算を簡単に行うことができる`Pandas`の`groupby`の使い方と`Multi-index`を紹介する。\n",
    "* **移動平均**<br>\n",
    "  移動平均の計算方法の解説と[インフレ率とマネーストックの増加率](https://py4macro.github.io/11_Macro_Variables.html#id11)で使った`DataFrame`の作成方法について説明する。\n",
    "\n",
    "## 学生のコメント\n",
    "本サイトは神戸大学経済学部の「プログラミング入門」の教科書として使用した。その際の自由記述アンケートの内容を一部紹介する。（本サイトの一部は「プログラミングと経済分析」にも使用したがその授業の学生のコメントは[ここで紹介する](https://py4macro.github.io/#id2)。）\n",
    "```{dropdown} 2022度第3クォーター（履修登録者159名）\n",
    "> 授業ノートが分かりやすく助かりました。\n",
    "\n",
    "> プログラミングはまったく触れたことがない分野だったため，将来に役立ちそうという理由で受講したはいいものの，理解できるか不安だった。しかし説明も丁寧で授業ビデオも残して下さったので，おいていかれることがなく，授業を受けられたと感じた。\n",
    "\n",
    "> プログラミンの入門として，初歩的なところから教わることができて良かった。授業内の例題・宿題・練習問題と，実践の場が多くあったのも良かった。\n",
    "\n",
    "> Pythonをほとんど知らない状態でも，しっかりと学ぶことができ，別授業であるが『データサイエンスPBL演習A』という授業では，学んだことを活かしてコードを読み書きすることができた。\n",
    "\n",
    "> 講義のビデオを残してくださったり，練習問題と解答を用意してくださったり，復習の環境が整っているのは，学生によりそったありがたい姿勢を感じました。\n",
    "\n",
    "> この授業を受け，プログラミングへの興味が深まりました。\n",
    "\n",
    "> プログラミングというものを知るとても良い機会になった。\n",
    "\n",
    "> 入門としてとても良いと思った。\n",
    "\n",
    "> 非常にタメになる授業であり情報化社会の中で活きる知識だと感じた。\n",
    "\n",
    "> プログラミングに触れるのは初めてだったが，ていねいな説明で分かりやすかった。\n",
    "\n",
    "> 将来に必要なスキルだと思うので学べて良かった。\n",
    "\n",
    "> 練習問題がしっかりあったので，実践練習ができた。宿題も合わせてすることで，定着につながったと思う。\n",
    "```\n",
    "\n",
    "## 本サイトで使うPythonとパッケージのバージョン"
   ]
  },
  {
   "cell_type": "code",
   "execution_count": 2,
   "id": "4c3b996d",
   "metadata": {},
   "outputs": [
    {
     "name": "stdout",
     "output_type": "stream",
     "text": [
      "Python        3.10.13\n",
      "gapminder     0.1\n",
      "matplotlib    3.8.2\n",
      "numpy         1.26.3\n",
      "pandas        2.1.4\n",
      "scipy         1.11.4\n"
     ]
    }
   ],
   "source": [
    "import gapminder, matplotlib, numpy, pandas, scipy\n",
    "from platform import python_version\n",
    "\n",
    "packages = ['Python', 'gapminder', 'matplotlib', 'numpy','pandas', 'scipy']\n",
    "versions = [python_version(), gapminder.__version__, matplotlib.__version__, numpy.__version__, pandas.__version__, scipy.__version__]\n",
    "\n",
    "for pack, ver in zip(packages, versions):\n",
    "    print(f'{pack:14}{ver}')"
   ]
  },
  {
   "cell_type": "markdown",
   "id": "0564fbb8",
   "metadata": {},
   "source": [
    "---\n",
    "\n",
    "[Economists（経済学を勉強する人も含めて(?)）と付き合わない方が良い２１＋$\\alpha$の理由]( http://inesad.edu.bo/developmentroast/2012/10/21-reasons-why-you-should-never-date-an-economist/)\n",
    "\n",
    "---\n",
    "\n",
    "[![Binder](https://mybinder.org/badge_logo.svg)](https://mybinder.org/v2/gh/Haruyama-KobeU/for_binder/main?filepath=for_binder.ipynb) for an interactive Jupyter Notebook session with empty code cells."
   ]
  }
 ],
 "metadata": {
  "jupytext": {
   "text_representation": {
    "extension": ".md",
    "format_name": "myst",
    "format_version": 0.13,
    "jupytext_version": "1.11.5"
   }
  },
  "kernelspec": {
   "display_name": "Python 3 (ipykernel)",
   "language": "python",
   "name": "python3"
  },
  "language_info": {
   "codemirror_mode": {
    "name": "ipython",
    "version": 3
   },
   "file_extension": ".py",
   "mimetype": "text/x-python",
   "name": "python",
   "nbconvert_exporter": "python",
   "pygments_lexer": "ipython3",
   "version": "3.10.13"
  },
  "source_map": [
   12,
   28,
   32,
   130,
   139
  ]
 },
 "nbformat": 4,
 "nbformat_minor": 5
}