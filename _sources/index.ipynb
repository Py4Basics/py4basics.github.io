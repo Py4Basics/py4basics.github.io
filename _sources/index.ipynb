{
 "cells": [
  {
   "cell_type": "markdown",
   "id": "58a7b4e4",
   "metadata": {},
   "source": [
    "# 経済学のためのPythonの基礎\n",
    "\n",
    "```{epigraph}\n",
    "**Python Basics for Economics**\n",
    "\n",
    "[春山 鉄源](https://t-haruyama.github.io)\n",
    "\n",
    "神戸大学経済学研究科\n",
    "```"
   ]
  },
  {
   "cell_type": "code",
   "execution_count": 1,
   "id": "967e4452",
   "metadata": {},
   "outputs": [
    {
     "name": "stdout",
     "output_type": "stream",
     "text": [
      "Version: 2021年09月12日\n"
     ]
    }
   ],
   "source": [
    "import datetime\n",
    "dt = datetime.datetime.now()\n",
    "print('Version:',dt.strftime('%Y年%m月%d日'))"
   ]
  },
  {
   "cell_type": "markdown",
   "id": "ceeb6684",
   "metadata": {},
   "source": [
    "<!---\n",
    "%H:%M:%S\n",
    "dt = datetime.datetime.now()\n",
    "dt = datetime.datetime.today()\n",
    "-->\n",
    "\n",
    "```{margin}\n",
    "<div name=\"html-admonition\">\n",
    "Do you want to read in a differnt language? Open the \n",
    "<input type=\"button\" onclick=\"location.href='https://translate.google.com/translate?hl=&sl=ja&tl=en&u='+window.location;\" value=\"Google translated version\" style=\"color:#ffffff;background-color:#008080;\" onmouseover=\"this.style.background='#99ccff'\" onmouseout=\"this.style.background='#008080'\"/>\n",
    "in English or the language of your choice.\n",
    "</div>\n",
    "```\n",
    "\n",
    "本サイトに関するコメント等はGitHubの[Discussions](https://github.com/Py4Basics/py4basics.github.io/discussions)もしくは<haruyama@econ.kobe-u.ac.jp>にご連絡ください。\n",
    "\n",
    "<br>\n",
    "\n",
    "## はじめに\n",
    "本サイトの目的は次の２つのサイトを学習するために必要な`Python`の基礎の解説である。\n",
    "* [Pythonで学ぶマクロ経済学（中級＋レベル）](https://py4macro.github.io)\n",
    "* [Pythonで学ぶ入門計量経済学](https://py4etrics.github.io)\n",
    "\n",
    "<!-- 新聞，雑誌やインターネット上で「AI」，「ビッグデータ」，「機械学習」どのプログラミングに関連するキーワードを頻繁に見聞きすると思うが，それらの分野で`Python`は広く使われている。一方で`Python` -->\n",
    "\n",
    "次の7章から構成されている。\n",
    "1. **`Python`の基礎**<br>\n",
    "  プログラミング言語である`Python`は，日本語と同様に文法・表現・単語が決まっており，それらの使い方を説明する。外国語を学ぶことと似た様なものかと不安になる人もいるかも知れないが，そうではない。殆どの人は英語を学んだと思うが，実は`Python`は英語で書かれているので，英語感覚でコードを読み書きすることができるのが一つの大きな利点である。しかし，英作文をイメージすると間違いである。理由は，正確性が要求されるからである。話し言葉・書き言葉は曖昧な表現になり得る。例えば，I kind of like him.（もしくは，I kinda like him.）ここでの\"kind of\"は「種類」と言う意味ではなく「曖昧さ」を表している。訳すと「まぁ，好きかなぁ，，，」の様なイメージだろうか。しかし，話すタイミングや語調によっては「実はそうでもないかも」の含みがある様にも聞こえるかも知れない。このように正確さにかける英語ではコンピュータに命令を伝えることは難しい。正確性が重視されるため，少し味気ない「文章」になる。更には少しでも間違えると「何言ってるか分かんない」という意味でエラーが発生する。この章では，「`Python`語」を使いコンピュータに正確に命令を伝えて実行させる方法を学習する。\n",
    "1. **`NumPy`の使い方**<br>\n",
    "  インストールした`Python`をそのままの「素」で使うことができる。しかし用途によっては物足りないと感じる場合がある。「素」の`Python`を４人乗りの家族用乗用車とイメージしてみよう。通常の生活では十分だが，自動車レースに参加するとなると明らかに不十分である。目的によって機能を補ってくれるのがパッケージと呼ばれるもので，この章を含めて残りの章を使って主な（外部）パッケージについて説明する。`NumPy`（Numerical Pythonの略）は，名前が示すように計算を高速化させるパッケージであり，乗用車をレース用にチューンアップしてくれる。シミュレーションを行う際には欠かせないパッケージである。\n",
    "1. **`Pandas`の使い方**<br>\n",
    "  データを扱う際に欠かせないパッケージである。イメージ的には，`Python`版のExcelと思えば良いだろう。名前は計量経済学の授業で出てきたパネル・データ（Panel Data）から派生した可愛らしい名前になっている。データを扱うのであれば`NumPy`で良いのではと思うかも知れない。実際，`Pandas`のデータの部分は`NumPy`の`array`と呼ばれるデータ型に簡単に変換できるようになっている。どこに利点があるかと言うと，行・列にラベル名（例えば，「Real GDP」）が使えるためデータの直感的な操作が可能となる。またデータを整形するのに便利な関数が多く用意されているので，このパッケージ無ければデータを扱うのは非常に面倒に感じる事になるだろう。\n",
    "1. **`Matplotlib`の使い方**<br>\n",
    "  データをプロット（図示）するためのパッケージ。`NumPy`と`SciPy`と並んで科学技術計算には欠かせないものとなっている。プロットするためのパッケージには様々なものが開発されているが，`Matplotlib`が基本となっている。プロットのためのコードには幾つかのパターンがあり，オブジェクト指向に基づく方法を紹介する。\n",
    "1. **`Pandas`を使ったプロット**<br>\n",
    "  上で紹介した`Pandas`にもプロットする機能が備わっている。裏では`Matplotlib`が動いているが，手っ取り早くプロットしたい場合に重宝する。図の細かい所まで設定したい場合は`Matplotlib`を直接使った方が良いが，`Pandas`のプロット機能を知っていると非常に便利に感じるだろう。\n",
    "1. **`SciPy.stats`の使い方**<br>\n",
    "  `SciPy`はScientific Pythonの略であり，科学技術計算用のパッケージである。非常に大きなパッケージであり，その中には様々な用途（積分，統計，最適化問題など）に合わせてサブパッケージが用意されている。ここではその中の一つである統計学用の`scipy.stats`の使い方について簡単に説明する。統計学の授業で学んだ概念などを実際にコードを書いて実行することができる。ちなみに，`SciPy`には`NumPy`と重複する機能も含んでおり，仕様が微妙に違ったりする。このサイトと上述の経済学のサイトでは，`NumPy`にあるものは`NumPy`のものを使うことにする。\n",
    "1. **`SciPy.optimize`の使い方**<br>\n",
    "  経済学では最適化問題が至る所で出てくる。消費者の効用最大化問題，企業の利潤最大化もしくは費用最小化問題など。`scipy.optimize`はそのためのツールを提供してくれる。また単なる最大化・最小化問題を数値的に解くのではなく，制約式の下での最適化問題も解くことが可能である。また等式制約と不等式制約の両方に対応している。経済学を勉強する上で欠かせないツールである。\n",
    "\n",
    "## 本サイトで使うPythonとパッケージのバージョン"
   ]
  },
  {
   "cell_type": "code",
   "execution_count": 2,
   "id": "295f16b7",
   "metadata": {},
   "outputs": [
    {
     "name": "stdout",
     "output_type": "stream",
     "text": [
      "Python        3.8.11\n",
      "matplotlib    3.4.3\n",
      "numpy         1.21.2\n",
      "pandas        1.3.3\n",
      "scipy         1.7.1\n",
      "see           1.4.1\n"
     ]
    }
   ],
   "source": [
    "import matplotlib, numpy, pandas, scipy, see\n",
    "from platform import python_version\n",
    "\n",
    "packages = ['Python', 'matplotlib', 'numpy','pandas', 'scipy','see']\n",
    "versions = [python_version(), matplotlib.__version__, numpy.__version__, pandas.__version__, scipy.__version__, see.__version__]\n",
    "\n",
    "for pack, ver in zip(packages, versions):\n",
    "    print('{0:14}{1}'.format(pack,ver))"
   ]
  },
  {
   "cell_type": "markdown",
   "id": "4c74db18",
   "metadata": {},
   "source": [
    "---\n",
    "\n",
    "[Economists（経済学を勉強する人も含めて(?)）と付き合わない方が良い２１＋$\\alpha$の理由]( http://inesad.edu.bo/developmentroast/2012/10/21-reasons-why-you-should-never-date-an-economist/)\n",
    "\n",
    "---\n",
    "\n",
    "[![Binder](https://mybinder.org/badge_logo.svg)](https://mybinder.org/v2/gh/Haruyama-KobeU/for_binder/main?filepath=for_binder.ipynb) for an interactive Jupyter Notebook session with empty code cells."
   ]
  }
 ],
 "metadata": {
  "jupytext": {
   "text_representation": {
    "extension": ".md",
    "format_name": "myst"
   }
  },
  "kernelspec": {
   "display_name": "Python 3",
   "language": "python",
   "name": "python3"
  },
  "language_info": {
   "codemirror_mode": {
    "name": "ipython",
    "version": 3
   },
   "file_extension": ".py",
   "mimetype": "text/x-python",
   "name": "python",
   "nbconvert_exporter": "python",
   "pygments_lexer": "ipython3",
   "version": "3.8.11"
  },
  "source_map": [
   10,
   22,
   26,
   70,
   79
  ]
 },
 "nbformat": 4,
 "nbformat_minor": 5
}