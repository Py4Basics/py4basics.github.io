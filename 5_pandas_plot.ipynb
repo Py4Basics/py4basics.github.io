{
 "cells": [
  {
   "cell_type": "markdown",
   "metadata": {},
   "source": [
    "(chap:pandas_plot)=\n",
    "# `Pandas`：図示"
   ]
  },
  {
   "cell_type": "markdown",
   "metadata": {},
   "source": [
    "<div name=\"html-admonition\" style=\"font-size: 0.8em\">\n",
    "<input type=\"button\" onclick=\"location.href='https://translate.google.com/translate?hl=&sl=ja&tl=en&u='+window.location;\" value=\"Google translation\" style=\"color:#ffffff;background-color:#008080; height:25px\" onmouseover=\"this.style.background='#99ccff'\" onmouseout=\"this.style.background='#008080'\"/> in English or the language of your choice.\n",
    "</div><br>"
   ]
  },
  {
   "cell_type": "markdown",
   "metadata": {
    "heading_collapsed": true,
    "jp-MarkdownHeadingCollapsed": true
   },
   "source": [
    "## 説明"
   ]
  },
  {
   "cell_type": "code",
   "execution_count": null,
   "metadata": {
    "hidden": true
   },
   "outputs": [],
   "source": [
    "import numpy as np\n",
    "import pandas as pd\n",
    "import japanize_matplotlib\n",
    "\n",
    "# 警告メッセージを非表示\n",
    "import warnings\n",
    "warnings.filterwarnings(\"ignore\")"
   ]
  },
  {
   "cell_type": "markdown",
   "metadata": {
    "hidden": true
   },
   "source": [
    "プロット用のパッケージ`Matplotlib`を紹介したが，実は`Pandas`の`DataFrame`と`Series`にはメソッド`plot()`が備えられており，それを使えば基本的なプロットをより簡単なコードで実現できる。裏で動いているのは`Matplotlib`であり，より複雑な図を作成する場合は、`Matplotlib`のコードを直接書くことが必要になるだろうが，手っ取り早くプロットしたい場合には重宝する手法である。詳細は[参考サイト（英語）](https://pandas.pydata.org/pandas-docs/stable/user_guide/visualization.html)を参考にして欲しいが，ここでは基本的な使い方を紹介する。"
   ]
  },
  {
   "cell_type": "markdown",
   "metadata": {
    "hidden": true
   },
   "source": [
    "次の`df`を使って説明する。"
   ]
  },
  {
   "cell_type": "code",
   "execution_count": null,
   "metadata": {
    "hidden": true
   },
   "outputs": [],
   "source": [
    "dic = {'X':[10, 20, 30],\n",
    "       'Y':[5.0, 30.0, 15.0],\n",
    "       'Z':[3.0, 2.0, 5.0]}\n",
    "df = pd.DataFrame(dic)\n",
    "df"
   ]
  },
  {
   "cell_type": "markdown",
   "metadata": {
    "heading_collapsed": true,
    "jp-MarkdownHeadingCollapsed": true
   },
   "source": [
    "## プロット方法"
   ]
  },
  {
   "cell_type": "markdown",
   "metadata": {
    "jp-MarkdownHeadingCollapsed": true
   },
   "source": [
    "### `DataFrame`"
   ]
  },
  {
   "cell_type": "markdown",
   "metadata": {
    "hidden": true
   },
   "source": [
    "プロット方法は簡単で，次の基本構文となる。\n",
    "```\n",
    "df.plot(x=\"列ラベル\", y=\"列ラベル\")\n",
    "```\n",
    "* `x`：横軸に使う列ラベル（文字列）\n",
    "* `y`：縦軸に使う列ラベル（文字列、複数の場合はリスト）"
   ]
  },
  {
   "cell_type": "code",
   "execution_count": null,
   "metadata": {
    "hidden": true
   },
   "outputs": [],
   "source": [
    "df.plot(x='X', y='Y')"
   ]
  },
  {
   "cell_type": "markdown",
   "metadata": {
    "hidden": true
   },
   "source": [
    "* 凡例は自動的に表示され，列ラベルが使われる。次の引数を追加すると凡例は非表示になる。\n",
    "```\n",
    "legend=False\n",
    "```\n",
    "* 図の上に文字が表示されるが，表示したくない場合は最後に`;`を加えるか次の行に`pass`と書くと良いだろう。\n",
    "\n",
    "縦軸に複数の変数を表示したい場合は，次のようにリストとして指定する。\n",
    "```\n",
    "df.plot(x=\"列ラベル\", y=[\"列ラベル１\", \"列ラベル２\"])\n",
    "```"
   ]
  },
  {
   "cell_type": "code",
   "execution_count": null,
   "metadata": {},
   "outputs": [],
   "source": [
    "df.plot(x='X', y=['Y', 'Z'])"
   ]
  },
  {
   "cell_type": "markdown",
   "metadata": {},
   "source": [
    "上の例では引数`x`と`y`を指定したが，`x`を指定しない場合はどうなるか試してみよう。"
   ]
  },
  {
   "cell_type": "code",
   "execution_count": null,
   "metadata": {},
   "outputs": [],
   "source": [
    "df.plot(y='Y')\n",
    "pass"
   ]
  },
  {
   "cell_type": "markdown",
   "metadata": {},
   "source": [
    "縦軸は`Y`だが，横軸には行インデックスが使われることになる。この場合，行インデックスが`float`として表示されている。\n",
    "\n",
    "では、引数なしで実行するとどうなるだろう。"
   ]
  },
  {
   "cell_type": "code",
   "execution_count": null,
   "metadata": {},
   "outputs": [],
   "source": [
    "df.plot()\n",
    "pass"
   ]
  },
  {
   "cell_type": "markdown",
   "metadata": {},
   "source": [
    "縦軸には全ての列が使われ、横軸には行インデックスが使われている。"
   ]
  },
  {
   "cell_type": "markdown",
   "metadata": {
    "jp-MarkdownHeadingCollapsed": true
   },
   "source": [
    "### `Series`"
   ]
  },
  {
   "cell_type": "markdown",
   "metadata": {
    "hidden": true
   },
   "source": [
    "次に，`Series`を考えてみよう。まず，２つの`Series`を作成しよう。"
   ]
  },
  {
   "cell_type": "code",
   "execution_count": null,
   "metadata": {},
   "outputs": [],
   "source": [
    "sy = df['Y']\n",
    "sy"
   ]
  },
  {
   "cell_type": "code",
   "execution_count": null,
   "metadata": {},
   "outputs": [],
   "source": [
    "sz = df['Z']\n",
    "sz"
   ]
  },
  {
   "cell_type": "markdown",
   "metadata": {},
   "source": [
    "両方とも`df`の行インデックスが引き継がれている。\n",
    "\n",
    "`Series`にもメソッド`.plot()`が実装されているが次の点を覚えておこう。\n",
    "* 列が１つしかないため，引数`x`と`y`を指定する必要はない。\n",
    "\n",
    "`sy`をプロットしてみよう。"
   ]
  },
  {
   "cell_type": "code",
   "execution_count": null,
   "metadata": {},
   "outputs": [],
   "source": [
    "sy.plot()\n",
    "pass"
   ]
  },
  {
   "cell_type": "markdown",
   "metadata": {
    "hidden": true
   },
   "source": [
    "横軸には行インデックスが`float`として使われており，`Series`の場合，凡例は自動的には表示されない。\n",
    "次の引数を使うと凡例を表示することができる。\n",
    "```\n",
    "legend=True\n",
    "```\n",
    "\n",
    "更に，次の点で`DataFrame`を使う場合と異なる。`sy`と`sz`を続けて書いて実行してみよう。"
   ]
  },
  {
   "cell_type": "code",
   "execution_count": null,
   "metadata": {},
   "outputs": [],
   "source": [
    "sy.plot(legend=True)\n",
    "sz.plot(legend=True)\n",
    "pass"
   ]
  },
  {
   "cell_type": "markdown",
   "metadata": {
    "hidden": true
   },
   "source": [
    "`Series`の場合，連続してコードを書くと一つの図に表示することができる。この特徴は，次に説明する「飾り付け」を各データ毎別々に設定する際に便利な機能と感じる人もいるだろう。"
   ]
  },
  {
   "cell_type": "markdown",
   "metadata": {
    "heading_collapsed": true,
    "tags": [
     "remove-cell"
    ]
   },
   "source": [
    "## 引数とメソッド"
   ]
  },
  {
   "cell_type": "markdown",
   "metadata": {
    "hidden": true,
    "jp-MarkdownHeadingCollapsed": true
   },
   "source": [
    "(sec:5-options)=\n",
    "## 引数とメソッド"
   ]
  },
  {
   "cell_type": "markdown",
   "metadata": {
    "heading_collapsed": true,
    "hidden": true,
    "jp-MarkdownHeadingCollapsed": true
   },
   "source": [
    "### 基本的な引数"
   ]
  },
  {
   "cell_type": "markdown",
   "metadata": {
    "hidden": true
   },
   "source": [
    "`plot()`には様々な引数があり図に「飾り付け」をすることができる。詳しくは[このリンク](https://pandas.pydata.org/pandas-docs/stable/reference/api/pandas.DataFrame.plot.html)を参照することにして，ここでは基本的な引数だけを紹介する。\n",
    "<!-- * `title`：図のタイトル（文字列型で指定） -->\n",
    "* `style`：線のスタイル（複数ある場合はリストにして列の順番で指定する;`-`，`--`，`-.`，`:`）\n",
    "* `linewidth` or `lw`：線の幅\n",
    "* `color`：色（リストにして列の順番で指定する; [参照サイト](https://matplotlib.org/3.1.0/gallery/color/named_colors.html)）\n",
    "    * `r`は赤\n",
    "    * `k`は黒\n",
    "    * `g`はグリーン\n",
    "* `marker`：観測値のマーカー（`o`，`.`，`>`，`^`などがある; [参照サイト](https://matplotlib.org/3.2.2/api/markers_api.html)）\n",
    "* `markersize`：マーカーの大きさ\n",
    "* `fontsize`：横軸・縦軸の数字のフォントサイズの設定\n",
    "* `figsize`：図の大きさ\n",
    "    * `figsize=(キャンバスの横幅、キャンバスの縦の長さ)`\n",
    "* `legend`：凡例の表示を指定\n",
    "    * `DataFrame`の場合はデフォルトは`True`\n",
    "    * `Series`の場合はデフォルトは`False`\n",
    "    * 複数の図を表示する際は下で説明する「軸」のメソッドとして指定することもできる。\n",
    "* `label`：凡例の表現を指定\n",
    "* `grid`：グリッド表示（ブール型;デフォルトは`False`)\n",
    "    * 複数の図を表示する際は，この引数は使わずに下で説明する「軸」のメソッドとして指定する。\n",
    "* `ax`：プロットする「軸」を指定する。\n",
    "    * １つの「軸」に複数の図を表示する際に使う（後で使い方を説明する）。"
   ]
  },
  {
   "cell_type": "code",
   "execution_count": null,
   "metadata": {
    "hidden": true
   },
   "outputs": [],
   "source": [
    "df.plot( # 引数 x, y は省略\n",
    "        style=[':','--','-'],\n",
    "        linewidth=2,\n",
    "        color=['r','k','g'],\n",
    "        marker='o',\n",
    "        markersize=10,\n",
    "        fontsize=15,\n",
    "        figsize=(8, 4),   # 8は横軸、4は縦軸のサイズ\n",
    "        legend=False,\n",
    "        grid=True,\n",
    "        )\n",
    "pass"
   ]
  },
  {
   "cell_type": "markdown",
   "metadata": {
    "heading_collapsed": true,
    "hidden": true,
    "jp-MarkdownHeadingCollapsed": true,
    "tags": [
     "remove-cell"
    ]
   },
   "source": [
    "### タイトルとラベルのサイズの調整"
   ]
  },
  {
   "cell_type": "markdown",
   "metadata": {
    "hidden": true,
    "jp-MarkdownHeadingCollapsed": true
   },
   "source": [
    "(sec:5-titlelabels)=\n",
    "### タイトルとラベルのサイズの調整"
   ]
  },
  {
   "cell_type": "markdown",
   "metadata": {
    "hidden": true
   },
   "source": [
    "タイトルのフォント・サイズの指定，横軸と縦軸のラベルとフォント・サイズの指定をおこなう場合は、`plot()`の引数ではなく下で説明する方法でおこなう。この方法を理解するために、`Pandas`（実は`Matplotlib`）が表示する図は{numref}`fig:5-figure_axes`で示している階層的な構造となることをイメージして欲しい。ここで重要なのは「キャンバス」と「軸」の違いである。\n",
    "\n",
    "```{figure} /images/figure_axes_pandas.png\n",
    "---\n",
    "scale: 40%\n",
    "name: fig:5-figure_axes\n",
    "---\n",
    "「キャンバス」と「軸」の関係\n",
    "```\n",
    "\n",
    "1. 「キャンバス」とは実際に表示される**領域**であり，実際には表示されない「透明のキャンバス」である。\n",
    "    * `figure`や`fig`などの変数名や引数名があれば、「キャンバス」を指していると理解すれば良いだろう。\n",
    "1. 「軸」とは１つの図を表示する「キャンバス」上の**区域**である。\n",
    "    * `ax`や`axes`などの変数名があれば、「軸」を表していると理解すれば良いだろう。\n",
    "    * 「キャンバス」上に複数の図を表示する場合は複数の「軸」が必要となる。\n",
    "    * 「軸」に図のタイトルや縦軸・横軸のラベルなどを追加することになる。\n",
    "    \n",
    "「軸」の中にメソッド`.plot()`を使いグラフを表示することになる。"
   ]
  },
  {
   "cell_type": "markdown",
   "metadata": {
    "hidden": true
   },
   "source": [
    "従って，概ね次のように理解して良いだろう。\n",
    "* 上で説明した「基本的な引数」は上の図のピンクのエリア内での変更となる。\n",
    "    * `figsize`は「キャンバス」の大きさを指定する引数だが，メソッド`plot()`は自動で「キャンバス」を作成するため`plot()`内で変更できるようになっている。\n",
    "* タイトルや縦・横軸ラベルは「軸」のメソッドを使い変更する。\n",
    "\n",
    "では実際に手順を説明する。\n",
    "* `df.plot()`は自動で「キャンバス」と「軸」を作成すると同時に「軸」を返す。それを変数（例えば，`ax`）に割り当てる。\n",
    "* `ax`のメソッドを使って以下を設定する。\n",
    "    * タイトル：`.set_title()`\n",
    "    * 横軸ラベル：`.set_xlabel()`    \n",
    "    * 縦軸ラベル：`.set_ylabel()`\n",
    "\n",
    "実際にそれらの引数を使ってプロットしてみよう。"
   ]
  },
  {
   "cell_type": "code",
   "execution_count": null,
   "metadata": {
    "hidden": true
   },
   "outputs": [],
   "source": [
    "ax = df.plot( # 引数 x, y は省略\n",
    "             grid=True,\n",
    "             style=[':','--','-'],\n",
    "             marker='o',\n",
    "             fontsize=15,\n",
    "             )\n",
    "ax.set_title('A Large Title', size= 30)     # タイトルの設定\n",
    "ax.set_xlabel('Horizontal Axis', size=20)   # 横軸ラベルの設定\n",
    "ax.set_ylabel('Vertical Axis', size=20)     # 縦軸ラベルの設定\n",
    "pass"
   ]
  },
  {
   "cell_type": "markdown",
   "metadata": {
    "heading_collapsed": true,
    "hidden": true,
    "jp-MarkdownHeadingCollapsed": true
   },
   "source": [
    "### 「軸」を指定してプロットする場合"
   ]
  },
  {
   "cell_type": "markdown",
   "metadata": {
    "hidden": true
   },
   "source": [
    "上で「軸」のメソッドとしてタイトルなどを追加できることを説明したが，`plot()`の引数として「軸」を指定して図を追加することができる。次のコードを考えてみよう。"
   ]
  },
  {
   "cell_type": "code",
   "execution_count": null,
   "metadata": {
    "hidden": true
   },
   "outputs": [],
   "source": [
    "ax_ = df.plot(x='X', y='Y')     #1\n",
    "df.plot(x='X', y='Z', ax=ax_)   #2\n",
    "pass"
   ]
  },
  {
   "cell_type": "markdown",
   "metadata": {
    "hidden": true
   },
   "source": [
    "* `#1`の右辺では「キャンバス」と「軸」が自動生成され，その内「軸」のみが返され変数`ax_`に割り当てられている。\n",
    "* `#2`の`plot()`の引数`ax`は「軸」を指定する引数であり，それに`ax_`を設定している。即ち，`Z`を「軸」`ax_`にプロットすることを指定している。このコードには２つの利点がある。\n",
    "    1. `X`と`Y`と異なる「飾り付け」を`Z`に簡単に施すことができる。\n",
    "    1. ２行目に`df0`ではなく別の`DataFrame`を使うことも可能となる。\n",
    "\n",
    "もちろん，タイトルや軸ラベルのメソッドをつけ加えることも可能である。"
   ]
  },
  {
   "cell_type": "code",
   "execution_count": null,
   "metadata": {
    "hidden": true
   },
   "outputs": [],
   "source": [
    "ax_ = df.plot(x='X', y='Y',\n",
    "              marker='o', markersize=10, label='Yのデータ')\n",
    "df.plot(x='X', y='Z', ax=ax_,\n",
    "        marker='^', markersize=15, label='Zのデータ')\n",
    "ax_.set_title('This is a title', size=20)\n",
    "ax_.set_xlabel('Horizontal axis', size=15)\n",
    "ax_.set_ylabel('Vertical axis', size=15)\n",
    "ax_.grid()\n",
    "pass"
   ]
  },
  {
   "cell_type": "markdown",
   "metadata": {
    "hidden": true
   },
   "source": [
    "また上のコードの最後に次の行を付け加えている。\n",
    "* `ax_.grid()`：グリッド線を表示するメソッド。\n",
    "    * １つの「軸」に`plot`を複数回適用する場合，個々の`plot`の引数`grid=True`を使わずに`ax_.grid()`を指定すると分かりやすいですコードになる。"
   ]
  },
  {
   "cell_type": "markdown",
   "metadata": {
    "heading_collapsed": true,
    "hidden": true,
    "jp-MarkdownHeadingCollapsed": true
   },
   "source": [
    "### 図を並べる"
   ]
  },
  {
   "cell_type": "markdown",
   "metadata": {
    "hidden": true
   },
   "source": [
    "図を縦に並べるには`subplots=True`を指定する。"
   ]
  },
  {
   "cell_type": "code",
   "execution_count": null,
   "metadata": {
    "hidden": true
   },
   "outputs": [],
   "source": [
    "df.plot(x='X', subplots=True)\n",
    "pass"
   ]
  },
  {
   "cell_type": "markdown",
   "metadata": {
    "hidden": true
   },
   "source": [
    "図を横に並べるには`layout=(1,2)`を付け加える。`layout`は図の配置を行列のように考えて指定し、`1`は行の数であり、`2`は列の数。\n",
    "```\n",
    "layout(行の数、列の数)\n",
    "```"
   ]
  },
  {
   "cell_type": "code",
   "execution_count": null,
   "metadata": {
    "hidden": true
   },
   "outputs": [],
   "source": [
    "df.plot(x='X', subplots=True, layout=(1,2), figsize=(8,3))\n",
    "pass"
   ]
  },
  {
   "cell_type": "markdown",
   "metadata": {},
   "source": [
    "図を並べる際も引数`x`を省略すると，横軸には行インデックスが使われることになる。"
   ]
  },
  {
   "cell_type": "markdown",
   "metadata": {
    "heading_collapsed": true,
    "hidden": true,
    "jp-MarkdownHeadingCollapsed": true
   },
   "source": [
    "### ２軸グラフ"
   ]
  },
  {
   "cell_type": "markdown",
   "metadata": {
    "hidden": true
   },
   "source": [
    "左縦軸を`Y`に，右縦軸を`Z`に使うとしよう。その場合，引数`secondary_y`に`Z`を設定する。"
   ]
  },
  {
   "cell_type": "code",
   "execution_count": null,
   "metadata": {
    "hidden": true
   },
   "outputs": [],
   "source": [
    "df.plot(x='X', secondary_y='Z')\n",
    "pass"
   ]
  },
  {
   "cell_type": "markdown",
   "metadata": {
    "hidden": true
   },
   "source": [
    "別々の飾り付けをする場合は次のようにすると良いだろう。"
   ]
  },
  {
   "cell_type": "code",
   "execution_count": null,
   "metadata": {
    "hidden": true
   },
   "outputs": [],
   "source": [
    "ax_ = df.plot(x='X', y='Y')\n",
    "df.plot(x='X', y='Z',\n",
    "        ax=ax_,            #1\n",
    "        secondary_y=True,  #2\n",
    "        marker='^',        #3\n",
    "        markersize=10,     #4\n",
    "        linestyle=':',     #5\n",
    "        )\n",
    "pass"
   ]
  },
  {
   "cell_type": "markdown",
   "metadata": {
    "hidden": true
   },
   "source": [
    "上のコードとの主な違い：\n",
    "* `#1`：`ax=ax_`：「軸」`ax_`に`Z`をプロットする。\n",
    "* `#2`：`secondary_y=True`：`Z`を右軸に使うことを指定する。\n",
    "* `#3`〜`#5`：`Z`の飾り付け"
   ]
  },
  {
   "cell_type": "markdown",
   "metadata": {
    "heading_collapsed": true,
    "jp-MarkdownHeadingCollapsed": true
   },
   "source": [
    "## 日本語"
   ]
  },
  {
   "cell_type": "markdown",
   "metadata": {
    "hidden": true
   },
   "source": [
    "２つ方法を紹介するが、`japanize_matplotlib`を使う方法がより簡単であろう。"
   ]
  },
  {
   "cell_type": "markdown",
   "metadata": {
    "heading_collapsed": true,
    "hidden": true,
    "jp-MarkdownHeadingCollapsed": true
   },
   "source": [
    "### `japanize_matplotlib`"
   ]
  },
  {
   "cell_type": "markdown",
   "metadata": {
    "hidden": true
   },
   "source": [
    "使い方は到って簡単で、`Pandas`と同様にインポートするだけである。"
   ]
  },
  {
   "cell_type": "code",
   "execution_count": null,
   "metadata": {
    "hidden": true
   },
   "outputs": [],
   "source": [
    "import japanize_matplotlib"
   ]
  },
  {
   "cell_type": "code",
   "execution_count": null,
   "metadata": {
    "hidden": true
   },
   "outputs": [],
   "source": [
    "ax = df.plot( # 引数 x, y は省略\n",
    "            grid=True,\n",
    "            style=[':','--','-'],\n",
    "            marker='o',\n",
    "            fontsize=15,\n",
    "            )\n",
    "ax.set_title('縦横タイトル', size= 30)\n",
    "ax.set_xlabel('横軸', size=20)\n",
    "ax.set_ylabel('縦軸', size=20)\n",
    "pass"
   ]
  },
  {
   "cell_type": "markdown",
   "metadata": {
    "heading_collapsed": true,
    "hidden": true,
    "jp-MarkdownHeadingCollapsed": true
   },
   "source": [
    "### フォントを指定する"
   ]
  },
  {
   "cell_type": "markdown",
   "metadata": {
    "hidden": true
   },
   "source": [
    "2つの方法：\n",
    "1. フォントはインストールせず、PC内にあるフォントを指定する。\n",
    "1. フォントをインストールする方法"
   ]
  },
  {
   "cell_type": "markdown",
   "metadata": {
    "hidden": true
   },
   "source": [
    "方法１の場合、以下で説明に使う変数`jfont`にフォントを指定する。\n",
    "    * Macの場合、例えば`AppleGothic`\n",
    "    * Windowsの場合、例えば`Yu Gothic`\n",
    "    * この方法では一部の日本語が文字化けする場合がある。\n",
    "\n",
    "方法２の場合：\n",
    "* [このサイト](https://ipafont.ipa.go.jp/node193#jp)から次の内の１つをダウンロードする。\n",
    "    * 2書体パック(IPAex明朝(Ver.xxx)、IPAexゴシック(Ver.xxx))\n",
    "    * IPAex明朝 (Ver.xxx)\n",
    "    * IPAexゴシック(Ver.xxx)\n",
    "* [このサイト](https://ipafont.ipa.go.jp/node72#jp)に従ってインストールする。\n",
    "* 次の両方もしくは１つがPCにインストールされる\n",
    "    * IPAexMincho（IPAex明朝）\n",
    "    * IPAexGothic（IPAexゴシック）\n",
    "\n",
    "上の例を使い、設定方法の例を示す。"
   ]
  },
  {
   "cell_type": "code",
   "execution_count": null,
   "metadata": {
    "hidden": true
   },
   "outputs": [],
   "source": [
    "jfont = 'IPAexGothic'    #1\n",
    "\n",
    "ax = df.plot( # 引数 x, y は省略\n",
    "             grid=True,\n",
    "             style=[':','--','-'],\n",
    "             marker='o',\n",
    "             fontsize=15,\n",
    "             )\n",
    "ax.set_title('縦横タイトル', size= 30, fontname=jfont)   #2\n",
    "ax.set_xlabel('横軸', size=20, fontname=jfont)          #3\n",
    "ax.set_ylabel('縦軸', size=20, fontname=jfont)          #4\n",
    "ax.legend(prop={'family':jfont, 'size':17})            #5\n",
    "pass"
   ]
  },
  {
   "cell_type": "markdown",
   "metadata": {
    "hidden": true
   },
   "source": [
    "* `#1`： 使用するフォントを`jfont`に割り当てる。\n",
    "* `#2`： 引数`fontname`で`jfont`を指定する。タイトルのフォントが変更される。\n",
    "* `#3`： 引数`fontname`で`jfont`を指定する。横軸名のフォントが変更される。\n",
    "* `#4`： 引数`fontname`で`jfont`を指定する。縦軸名のフォントが変更される。\n",
    "* `#5`： `legend`は他と設定方法が異なる。\n",
    "    * `prop`はフォントのプロパティを設定する引数であり、辞書で指定する。\n",
    "    * キー`family`に値`jfont`を指定する。凡例のフォントが変更される。\n",
    "    * キー`size`に数値を設定してフォントの大きさが変更される。"
   ]
  },
  {
   "cell_type": "markdown",
   "metadata": {
    "hidden": true
   },
   "source": [
    "この例では個別にフォントを設定したが、一括で全てのフォントを変更する方法もあるが説明は割愛する。"
   ]
  },
  {
   "cell_type": "markdown",
   "metadata": {
    "heading_collapsed": true,
    "jp-MarkdownHeadingCollapsed": true
   },
   "source": [
    "## マクロ経済学の例"
   ]
  },
  {
   "cell_type": "markdown",
   "metadata": {
    "heading_collapsed": true,
    "hidden": true,
    "jp-MarkdownHeadingCollapsed": true
   },
   "source": [
    "### 投資関数"
   ]
  },
  {
   "cell_type": "markdown",
   "metadata": {
    "hidden": true
   },
   "source": [
    "実質利子率`r`によって投資がどのように変化するかを考えてみよう。まず投資関数を次のように仮定する。"
   ]
  },
  {
   "cell_type": "code",
   "execution_count": null,
   "metadata": {
    "hidden": true
   },
   "outputs": [],
   "source": [
    "def investment(r):\n",
    "    return 100/(1+r)**50"
   ]
  },
  {
   "cell_type": "markdown",
   "metadata": {
    "hidden": true
   },
   "source": [
    "* `100`：実質利子率が`0`の場合の投資\n",
    "\n",
    "実質利子率は次の`array`で与えられるとする。"
   ]
  },
  {
   "cell_type": "code",
   "execution_count": null,
   "metadata": {
    "hidden": true
   },
   "outputs": [],
   "source": [
    "r_arr = np.arange(0.01,0.11,0.01)\n",
    "r_arr"
   ]
  },
  {
   "cell_type": "markdown",
   "metadata": {
    "hidden": true
   },
   "source": [
    "次に関数`investment`と`r_arr`を使い投資の`array`を作成しよう。"
   ]
  },
  {
   "cell_type": "code",
   "execution_count": null,
   "metadata": {
    "hidden": true
   },
   "outputs": [],
   "source": [
    "inv_arr = investment(r_arr)\n",
    "inv_arr"
   ]
  },
  {
   "cell_type": "markdown",
   "metadata": {
    "hidden": true
   },
   "source": [
    "これらのデータを使い`DataFrame`を作成する。"
   ]
  },
  {
   "cell_type": "code",
   "execution_count": null,
   "metadata": {
    "hidden": true
   },
   "outputs": [],
   "source": [
    "df_inv = pd.DataFrame({'investment':inv_arr,\n",
    "                       'interest_rate':r_arr})"
   ]
  },
  {
   "cell_type": "markdown",
   "metadata": {
    "hidden": true
   },
   "source": [
    "最初の5行を表示する。"
   ]
  },
  {
   "cell_type": "code",
   "execution_count": null,
   "metadata": {
    "hidden": true
   },
   "outputs": [],
   "source": [
    "df_inv.head()"
   ]
  },
  {
   "cell_type": "markdown",
   "metadata": {
    "hidden": true
   },
   "source": [
    "ではプロットしてみよう。"
   ]
  },
  {
   "cell_type": "code",
   "execution_count": null,
   "metadata": {
    "hidden": true
   },
   "outputs": [],
   "source": [
    "df_inv.plot(x='interest_rate', y='investment')\n",
    "pass"
   ]
  },
  {
   "cell_type": "markdown",
   "metadata": {
    "heading_collapsed": true,
    "hidden": true,
    "jp-MarkdownHeadingCollapsed": true
   },
   "source": [
    "### 将来価値"
   ]
  },
  {
   "cell_type": "markdown",
   "metadata": {
    "hidden": true
   },
   "source": [
    "`x`万円を実質年率`r`%の利息を得る金融商品に投資し，`t`年間の将来価値（期首の値）をリストで示す関数は以下で与えられた。"
   ]
  },
  {
   "cell_type": "code",
   "execution_count": null,
   "metadata": {
    "hidden": true
   },
   "outputs": [],
   "source": [
    "def calculate_futre_value(x, r, t):\n",
    "    \n",
    "    value_list = [x]           # 初期値が入ったリスト\n",
    "    \n",
    "    for year in range(1,t+1):  # 1からtまでの期間\n",
    "        x = x*(1+r)            # 来期のxの値の計算\n",
    "        value_list.append(x)   # リストに追加\n",
    "    \n",
    "    return value_list          # リストを返す"
   ]
  },
  {
   "cell_type": "markdown",
   "metadata": {
    "hidden": true
   },
   "source": [
    "これを使い，\n",
    "* `x`=`100`\n",
    "* `t`=`30`\n",
    "\n",
    "の下で実質利子率が次のリストで与えられる値を取る場合の将来価値を図示する。"
   ]
  },
  {
   "cell_type": "code",
   "execution_count": null,
   "metadata": {
    "hidden": true
   },
   "outputs": [],
   "source": [
    "r_list = [0.01, 0.03, 0.06]   # 実質利子率のリスト\n",
    "dic = {}                      # 空の辞書\n",
    "\n",
    "for r in r_list:\n",
    "    dic['r='+str(r)] = calculate_futre_value(100, r, 30)  # 辞書に追加\n",
    "\n",
    "df_future = pd.DataFrame(dic) # DataFrameの作成"
   ]
  },
  {
   "cell_type": "markdown",
   "metadata": {
    "hidden": true
   },
   "source": [
    "`dic['r='+str(r)]`の説明：\n",
    "* `str(r)`：`r_list`の要素のダミーである`r`は浮動小数点型なので関数`str()`を使って文字列型に変換する。\n",
    "* `'r='+str(r)`：文字列型の`r=`と文字列型の`str(r)`を`+`で結合する。\n",
    "* `dic['r='+str(r)]`：辞書`dic`にキー・値のペアを作成する。\n",
    "    * キー：`'r='+str(r)`\n",
    "    * 値：`calculate_futre_value(100, r, 30)`の返り値"
   ]
  },
  {
   "cell_type": "markdown",
   "metadata": {
    "hidden": true
   },
   "source": [
    "最初の5行を表示する。"
   ]
  },
  {
   "cell_type": "code",
   "execution_count": null,
   "metadata": {
    "hidden": true
   },
   "outputs": [],
   "source": [
    "df_future.head()"
   ]
  },
  {
   "cell_type": "markdown",
   "metadata": {
    "hidden": true
   },
   "source": [
    "最後の5行を表示する。"
   ]
  },
  {
   "cell_type": "code",
   "execution_count": null,
   "metadata": {
    "hidden": true
   },
   "outputs": [],
   "source": [
    "df_future.tail()"
   ]
  },
  {
   "cell_type": "code",
   "execution_count": null,
   "metadata": {
    "hidden": true
   },
   "outputs": [],
   "source": [
    "df_future.plot()\n",
    "pass"
   ]
  },
  {
   "cell_type": "markdown",
   "metadata": {
    "heading_collapsed": true
   },
   "source": [
    "## その他のプロット"
   ]
  },
  {
   "cell_type": "markdown",
   "metadata": {
    "heading_collapsed": true,
    "hidden": true
   },
   "source": [
    "### 種類"
   ]
  },
  {
   "cell_type": "markdown",
   "metadata": {},
   "source": [
    "`2`つの書き方が準備されている。\n",
    "1. 書き方１：\n",
    "\n",
    "    ```\n",
    "    .plot.xxxx()\n",
    "    ```\n",
    "   ここで`xxxx`は、プロットの種類を表す。\n",
    "2. 書き方２：\n",
    "\n",
    "    ```\n",
    "    .plot.(kind='xxxx')\n",
    "    ```\n",
    "    ここで`kind`はプロットの種類を指定する引数であり，`'xxxx'`は文字列。\n",
    "\n",
    "この`2`つの方法は同じプロットを表示することなる。\n",
    "まず，各プロットについての箇条書きでまとめた後，実際にデータを使いプロットについて説明することにする。"
   ]
  },
  {
   "cell_type": "markdown",
   "metadata": {},
   "source": [
    "* ライン・プロット\n",
    "    * 上で説明した直線・曲線のプロット。\n",
    "    * 書き方１：`.plot.line()`\n",
    "    * 書き方２：`.plot()`であり，引数`kind='line'`ははデフォルトの値。\n",
    "    * [プロットの例](https://pandas.pydata.org/docs/reference/api/pandas.DataFrame.plot.line.html)\n",
    "* 散布図（`DataFrame`のみ）\n",
    "    * 書き方１：`.plot.scatter()`\n",
    "    * 書き方２：`.plot(kind='scatter')`\n",
    "    * [プロットの例](https://pandas.pydata.org/docs/reference/api/pandas.DataFrame.plot.scatter.html)\n",
    "* ヒストグラム（連続変数に使う）\n",
    "    * 書き方１：`.plot.hist()`\n",
    "    * 書き方２：`.plot(kind='hist')`\n",
    "    * `hist`はHISTogramのHIST\n",
    "    * [プロットの例](https://pandas.pydata.org/docs/reference/api/pandas.DataFrame.plot.hist.html)\n",
    "* カーネル密度推定プロット\n",
    "    * 書き方１：`.plot.kde()`もしくは`.plot.density()`\n",
    "    * 書き方２：`.plot(kind='kde')`もしくは`.plot(kind='density')`\n",
    "    * `kde`はKernel Density EstimateのKDE\n",
    "    * [プロットの例](https://pandas.pydata.org/docs/reference/api/pandas.DataFrame.plot.kde.html)\n",
    "* 縦向きの棒グラフ（カテゴリーなどの離散変数に使う）\n",
    "    * 書き方１：`.plot.bar()`\n",
    "    * 書き方２：`.plot(kind='bar')`\n",
    "    * [プロットの例](https://pandas.pydata.org/docs/reference/api/pandas.DataFrame.plot.bar.html)\n",
    "* 横向き棒グラフ（カテゴリーなどの離散変数に使う）\n",
    "    * 書き方１：`.plot.barh()`\n",
    "    * 書き方２：`.plot(kind='barh')`\n",
    "    * `barh`の`h`はHorizontalのH\n",
    "    * [プロットの例](https://pandas.pydata.org/docs/reference/api/pandas.DataFrame.plot.barh.html)\n",
    "* ボックスプロット\n",
    "    * 書き方１：`.plot.box()`\n",
    "    * 書き方２：`.plot(kind='box')`\n",
    "    * [プロットの例](https://pandas.pydata.org/docs/reference/api/pandas.DataFrame.plot.box.html)\n",
    "* エリア・プロット\n",
    "    * 書き方１：`.plot.area()`\n",
    "    * 書き方２：`.plot(kind='area')`\n",
    "    * [プロットの例](https://pandas.pydata.org/docs/reference/api/pandas.DataFrame.plot.area.html)\n",
    "* パイチャート\n",
    "    * 書き方１：`.plot.pie()`\n",
    "    * 書き方２：`.plot(kind='pie')`\n",
    "    * [プロットの例](https://pandas.pydata.org/docs/reference/api/pandas.DataFrame.plot.pie.html)\n",
    "* 六角形プロット（`DataFrame`のみ）\n",
    "    * 書き方１：`.plot.hexbin()`\n",
    "    * 書き方２：`.plot(kind='hexbin')`\n",
    "    * [プロットの例](https://pandas.pydata.org/docs/reference/api/pandas.DataFrame.plot.hexbin.html)"
   ]
  },
  {
   "cell_type": "markdown",
   "metadata": {
    "hidden": true
   },
   "source": [
    "上で説明した[ライン・プロットの引数](sec:5-options)は他のプロットと共通のものが多いが，それぞれ独自の引数もある。\n",
    "\n",
    "以下では散布図，ヒストグラム，カーネル密度推定プロット，棒グラフについて説明する。\n",
    "加えて，縦線と横線を表示する方法も紹介する。\n",
    "\n",
    "説明には次のコードで生成する`DataFrame`を使う。列`X`と`Y`には標準正規分布（平均`0`，標準偏差`1`）から生成した100個のランダム変数が含まれている。`Z`には正規分布（平均`2`，標準偏差`1`）から抽出した`100`個のランダム変数が格納されている。"
   ]
  },
  {
   "cell_type": "code",
   "execution_count": null,
   "metadata": {
    "hidden": true
   },
   "outputs": [],
   "source": [
    "rng = np.random.default_rng()\n",
    "df1 = pd.DataFrame({'X':rng.normal(size=100),\n",
    "                    'Y':rng.normal(size=100),\n",
    "                    'Z':rng.normal(loc=2, size=100)})"
   ]
  },
  {
   "cell_type": "markdown",
   "metadata": {
    "hidden": true
   },
   "source": [
    "`X`，`Y`は同じ標準正規分布から生成されているが，異なる値から構成されている。"
   ]
  },
  {
   "cell_type": "markdown",
   "metadata": {
    "heading_collapsed": true,
    "hidden": true,
    "jp-MarkdownHeadingCollapsed": true
   },
   "source": [
    "### 散布図"
   ]
  },
  {
   "cell_type": "markdown",
   "metadata": {
    "hidden": true
   },
   "source": [
    "散布図をプロットする場合は次の構文となる。\n",
    "```\n",
    "＜書き方１＞\n",
    "df1.plot.scatter(x='列ラベル', y='列ラベル')\n",
    "\n",
    "＜書き方２＞\n",
    "df1.plot(x='列ラベル', y='列ラベル', kind='scatter')\n",
    "```\n",
    "* `x`：横軸に使う列ラベル（文字列）\n",
    "* `y`：縦軸に使う列ラベル（文字列）\n",
    "\n",
    "列`X`と`Y`を使ってプロットしてみよう。"
   ]
  },
  {
   "cell_type": "code",
   "execution_count": null,
   "metadata": {
    "hidden": true
   },
   "outputs": [],
   "source": [
    "df1.plot.scatter(x='X', y='Y')\n",
    "pass"
   ]
  },
  {
   "cell_type": "markdown",
   "metadata": {
    "hidden": true
   },
   "source": [
    "**＜基本的な引数＞**\n",
    "\n",
    "様々な引数があり図に「飾り付け」をすることができる。詳しくは[このリンク](https://pandas.pydata.org/docs/reference/api/pandas.DataFrame.plot.scatter.html)を参照することにして，ここでは基本的な引数だけを紹介する。\n",
    "* `title`：図のタイトル（文字列型で指定）\n",
    "* `color`：色（リストにして列の順番で指定する; [参照サイト](https://matplotlib.org/3.1.0/gallery/color/named_colors.html)）\n",
    "    * `r`は赤\n",
    "    * `k`は黒\n",
    "    * `g`はグリーン\n",
    "* `marker`：観測値のマーカー（`o`，`.`，`>`，`^`などがある; [参照サイト](https://matplotlib.org/3.2.2/api/markers_api.html)）\n",
    "* `s`：マーカーの大きさ（`markersize`ではない！）\n",
    "* `fontsize`：横軸・縦軸の数字のフォントサイズの設定\n",
    "* `figsize`：図の大きさ\n",
    "    * `figsize=(キャンバスの横幅、キャンバスの縦の長さ)`\n",
    "* `legend`：凡例の表示を指定\n",
    "    * `DataFrame`の場合はデフォルトは`True`\n",
    "    * `Series`の場合はデフォルトは`False`\n",
    "* `label`：凡例の表現を指定（`Series`のみ有効）\n",
    "* `grid`：グリッド表示（ブール型;デフォルトは`False`)\n",
    "* `ax`：プロットする「軸」を指定する。"
   ]
  },
  {
   "cell_type": "code",
   "execution_count": null,
   "metadata": {
    "hidden": true
   },
   "outputs": [],
   "source": [
    "df1.plot.scatter(x='X', y='Y',\n",
    "                 title='タイトルです',\n",
    "                 color='red',\n",
    "                 marker='^',\n",
    "                 s=100,\n",
    "                 fontsize=20,\n",
    "                 figsize=(8,4),\n",
    "                 # legend=False,\n",
    "                 label='Yの判例',\n",
    "                 grid=True\n",
    "                )\n",
    "pass"
   ]
  },
  {
   "cell_type": "markdown",
   "metadata": {
    "hidden": true
   },
   "source": [
    "この図ではタイトルと横軸・縦軸ラベルの大きさが調整できていないが，上で説明した[タイトルとラベルのサイズの調整](sec:5-titlelabels)のコードと共通なので，そちらを参照しよう。"
   ]
  },
  {
   "cell_type": "markdown",
   "metadata": {
    "hidden": true
   },
   "source": [
    "またライン・プロットと同じように引数`ax`を使うことにより，複数の散布図を重ねてプロットできる。次のコードは`X`と`Y`，そして`X`と`Z`の散布図を同じ「軸」に表示している。"
   ]
  },
  {
   "cell_type": "code",
   "execution_count": null,
   "metadata": {
    "hidden": true
   },
   "outputs": [],
   "source": [
    "ax_ = df1.plot.scatter(x='X', y='Y', label='Yのデータ')\n",
    "df1.plot.scatter(x='X', y='Z',\n",
    "         color='red', marker='^', label='Zのデータ', ax=ax_)\n",
    "pass"
   ]
  },
  {
   "cell_type": "markdown",
   "metadata": {
    "heading_collapsed": true,
    "hidden": true,
    "jp-MarkdownHeadingCollapsed": true
   },
   "source": [
    "### ヒストグラム"
   ]
  },
  {
   "cell_type": "markdown",
   "metadata": {
    "hidden": true
   },
   "source": [
    "ヒストグラムは次の構文となる。\n",
    "```\n",
    "＜書き方１＞\n",
    "df1.plot.hist(y='列ラベル')\n",
    "\n",
    "＜書き方２＞\n",
    "df1.plot(y='列ラベル', kind='hist')\n",
    "```\n",
    "* `y`：縦軸に使う列ラベル（文字列、複数指定する場合はリスト）\n",
    "* 横軸は自動で設定されるため`x`は指定する必要はない"
   ]
  },
  {
   "cell_type": "code",
   "execution_count": null,
   "metadata": {
    "hidden": true
   },
   "outputs": [],
   "source": [
    "df1.plot.hist(y='Y')\n",
    "pass"
   ]
  },
  {
   "cell_type": "markdown",
   "metadata": {
    "hidden": true
   },
   "source": [
    "**＜基本的な引数＞**\n",
    "\n",
    "様々な引数があり図に「飾り付け」をすることができる。詳しくは[このリンク](https://pandas.pydata.org/docs/reference/api/pandas.DataFrame.plot.hist.html)を参照することにして，ここでは基本的な引数だけを紹介する。\n",
    "* `title`：図のタイトル（文字列型で指定）\n",
    "* `bins`：柱の数\n",
    "* `color`：色（リストにして列の順番で指定する; [参照サイト](https://matplotlib.org/3.1.0/gallery/color/named_colors.html)）\n",
    "    * `r`は赤\n",
    "    * `k`は黒\n",
    "    * `g`はグリーン\n",
    "* `edgecolor`又は`ec`：柱の境界線の色\n",
    "* `alpha`：透明度（`0`から`1.0`; デフォルトは`1`）\n",
    "* `density`：縦軸を相対度数にする（デフォルトは`False`）\n",
    "    * 全ての柱の**面積**の合計が`1`になるように縦軸が調整される。１つの柱の高さが`1`よりも大きくなる場合もある。\n",
    "* `fontsize`：横軸・縦軸の数字のフォントサイズの設定\n",
    "* `figsize`：図の大きさ\n",
    "    * `figsize=(キャンバスの横幅、キャンバスの縦の長さ)`\n",
    "* `legend`：凡例の表示を指定\n",
    "    * `DataFrame`の場合はデフォルトは`True`\n",
    "    * `Series`の場合はデフォルトは`False`\n",
    "* `label`：凡例の表現を指定（`Series`のみ有効）\n",
    "* `grid`：グリッド表示（ブール型;デフォルトは`False`)\n",
    "* `subplots`：複数の図をプロットする（詳細はライン・プロットを参照）\n",
    "* `ax`：プロットする「軸」を指定する。"
   ]
  },
  {
   "cell_type": "markdown",
   "metadata": {
    "hidden": true
   },
   "source": [
    "引数を指定して`X`のヒストグラムをプロットしてみよう。"
   ]
  },
  {
   "cell_type": "code",
   "execution_count": null,
   "metadata": {
    "hidden": true
   },
   "outputs": [],
   "source": [
    "df1.plot.hist(y='Y',\n",
    "              bins=20,\n",
    "              title='タイトルです',\n",
    "              color='red',\n",
    "              ec='white',\n",
    "              alpha=0.5,\n",
    "              density=True,\n",
    "              fontsize=20,\n",
    "              figsize=(8,4),\n",
    "              legend=True,\n",
    "              label='Xの凡例',\n",
    "              grid=True\n",
    "             )\n",
    "pass"
   ]
  },
  {
   "cell_type": "markdown",
   "metadata": {
    "hidden": true
   },
   "source": [
    "この図ではタイトルと横軸・縦軸ラベルの大きさが調整できていないが，上で説明した[タイトルとラベルのサイズの調整](sec:5-titlelabels)のコードと共通なのでそちらを参照しよう。"
   ]
  },
  {
   "cell_type": "markdown",
   "metadata": {
    "hidden": true
   },
   "source": [
    "次に複数のデータを重ねてプロットする場合を考えよう。ここで役に立つ引数が`alpha`である。"
   ]
  },
  {
   "cell_type": "code",
   "execution_count": null,
   "metadata": {
    "hidden": true
   },
   "outputs": [],
   "source": [
    "df1.plot.hist(y=['Y','Z'],\n",
    "              bins=30,\n",
    "              color=['r','k'],\n",
    "              edgecolor='k',\n",
    "              alpha=0.4)\n",
    "pass"
   ]
  },
  {
   "cell_type": "markdown",
   "metadata": {
    "hidden": true
   },
   "source": [
    "濃い部分が重なっている部分となる。また柱を積み上げて表示するには`stacked=True`（デフォルトは`False`）を使う。"
   ]
  },
  {
   "cell_type": "code",
   "execution_count": null,
   "metadata": {
    "hidden": true
   },
   "outputs": [],
   "source": [
    "df1.plot.hist(y=['Y','Z'],\n",
    "              bins=30,\n",
    "              color=['r','k'],\n",
    "              edgecolor='white',\n",
    "              stacked=True)\n",
    "pass"
   ]
  },
  {
   "cell_type": "markdown",
   "metadata": {
    "hidden": true
   },
   "source": [
    "赤の上に黒が積み上げられている。"
   ]
  },
  {
   "cell_type": "markdown",
   "metadata": {
    "heading_collapsed": true,
    "hidden": true,
    "jp-MarkdownHeadingCollapsed": true,
    "tags": [
     "remove-cell"
    ]
   },
   "source": [
    "### カーネル密度推定プロット"
   ]
  },
  {
   "cell_type": "markdown",
   "metadata": {
    "hidden": true,
    "jp-MarkdownHeadingCollapsed": true
   },
   "source": [
    "(sec:5-kernel)=\n",
    "### カーネル密度推定プロット"
   ]
  },
  {
   "cell_type": "markdown",
   "metadata": {
    "hidden": true
   },
   "source": [
    "ヒストグラムは縦軸に度数，横軸に階級を取ったグラフだが，関連する手法にカーネル密度推定と呼ばれるものがある。考え方は簡単で，上のようなヒストグラムのデータに基づき面積が１になるようにスムーズな分布を推定する手法である。ヒストグラムとカーネル密度関数を重ねてプロットすることもできる。\n",
    "\n",
    "次の構文となる。\n",
    "```\n",
    "＜書き方１＞\n",
    "df1.plot.kde(y='列ラベル')\n",
    "\n",
    "＜書き方２＞\n",
    "df1.plot(y='列ラベル', kind='kde')\n",
    "```\n",
    "* `y`：縦軸に使う列ラベル（文字列、複数指定する場合はリスト）\n",
    "* 横軸は自動で設定されるため`x`は指定する必要はない\n",
    "\n",
    "この場合，`df1`にある全ての列がヒストグラムとして重ねて表示される。特定の列だけを使う場合は列を選択して`plot()`を使う。"
   ]
  },
  {
   "cell_type": "code",
   "execution_count": null,
   "metadata": {
    "hidden": true
   },
   "outputs": [],
   "source": [
    "df1.plot.kde(y=['X','Z'])\n",
    "pass"
   ]
  },
  {
   "cell_type": "markdown",
   "metadata": {
    "hidden": true
   },
   "source": [
    "**＜基本的な引数＞**\n",
    "\n",
    "様々な引数があり図に「飾り付け」をすることができる。詳しくは[このリンク](https://pandas.pydata.org/docs/reference/api/pandas.DataFrame.plot.kde.html)を参照することにして，ここでは基本的な引数だけを紹介する。\n",
    "* `title`：図のタイトル（文字列型で指定）\n",
    "* `linestyle`又は`style`：線のスタイル（リストにして列の順番で指定する;`-`，`--`，`-.`，`:`）\n",
    "* `linewidth` or `lw`：線の幅\n",
    "* `color`：色（リストにして列の順番で指定する; [参照サイト](https://matplotlib.org/3.1.0/gallery/color/named_colors.html)）\n",
    "    * `r`は赤\n",
    "    * `k`は黒\n",
    "    * `g`はグリーン\n",
    "* `alpha`：透明度（`0`から`1.0`; デフォルトは`1`）\n",
    "* `fontsize`：横軸・縦軸の数字のフォントサイズの設定\n",
    "* `figsize`：図の大きさ\n",
    "    * `figsize=(キャンバスの横幅、キャンバスの縦の長さ)`\n",
    "* `legend`：凡例の表示を指定\n",
    "    * `DataFrame`の場合はデフォルトは`True`\n",
    "    * `Series`の場合はデフォルトは`False`\n",
    "* `label`：凡例の表現を指定（`Series`のみ有効）\n",
    "* `grid`：グリッド表示（ブール型;デフォルトは`False`)\n",
    "* `ax`：プロットする「軸」を指定する。"
   ]
  },
  {
   "cell_type": "markdown",
   "metadata": {
    "hidden": true
   },
   "source": [
    "引数を指定して`X`をプロットしてみる。"
   ]
  },
  {
   "cell_type": "code",
   "execution_count": null,
   "metadata": {
    "hidden": true
   },
   "outputs": [],
   "source": [
    "df1.plot.kde(y='X',\n",
    "             title='タイトルです',\n",
    "             linewidth=5,\n",
    "             linestyle='-.',\n",
    "             color='red',\n",
    "             alpha=0.5,\n",
    "             fontsize=20,\n",
    "             figsize=(8,4),\n",
    "             legend=True,\n",
    "             label='Xの凡例',\n",
    "             grid=True\n",
    "            )\n",
    "pass"
   ]
  },
  {
   "cell_type": "markdown",
   "metadata": {
    "hidden": true
   },
   "source": [
    "この図ではタイトルと横軸・縦軸ラベルの大きさが調整できていないが，上で説明した[タイトルとラベルのサイズの調整](sec:5-titlelabels)のコードと共通なのでそちらを参照しよう。"
   ]
  },
  {
   "cell_type": "markdown",
   "metadata": {
    "hidden": true
   },
   "source": [
    "次にヒストグラムとカーネル密度推定プロットを重ねて図示してみる。ここで重要な点がヒストグラムに引数`density=True`を設定することである。これがないと縦軸の単位が異なり上手く表示できない。"
   ]
  },
  {
   "cell_type": "code",
   "execution_count": null,
   "metadata": {
    "hidden": true
   },
   "outputs": [],
   "source": [
    "ax_ = df1.plot.hist(y='X',\n",
    "                    label='Xのヒストグラム',\n",
    "                    density=True)\n",
    "df1.plot.kde(y='X',\n",
    "             label='XのKDE',\n",
    "             ax=ax_)\n",
    "ax_.legend()\n",
    "pass"
   ]
  },
  {
   "cell_type": "markdown",
   "metadata": {
    "heading_collapsed": true,
    "hidden": true,
    "jp-MarkdownHeadingCollapsed": true
   },
   "source": [
    "### 縦線・横線"
   ]
  },
  {
   "cell_type": "markdown",
   "metadata": {
    "hidden": true
   },
   "source": [
    "図に縦線や横線を追加したい場合がある。その場合は，[タイトルとラベルのサイズの調整](sec:5-titlelabels)にあるように「軸」に追加していく事になる。次のような書き方となる。\n",
    "\n",
    "* 縦線の場合\n",
    "\n",
    "    ```\n",
    "    ax_.axvline(＜横軸の値＞)\n",
    "    ```\n",
    "    <br>\n",
    "    ここで`axvline`の`ax`はAXis，`v`はVertical，`line`はLINEのことを表している。\n",
    "* 横線の場合\n",
    "  \n",
    "    ```\n",
    "    ax_.axhline(＜縦軸の値＞)\n",
    "    ```\n",
    "    <br>\n",
    "    ここで`axhline`の`ax`はAXis，`h`はHorizontal，`line`はLINEのことを表している。\n",
    "\n",
    "ここで`ax_`は`.plot()`で返された「軸」のことである。\n",
    "\n",
    "`Y`のヒストグラムを使ってプロットしてみよう。"
   ]
  },
  {
   "cell_type": "code",
   "execution_count": null,
   "metadata": {
    "hidden": true
   },
   "outputs": [],
   "source": [
    "ax_ = df1.plot.hist(y='Y', alpha=0.1)\n",
    "ax_.axvline(0)\n",
    "ax_.axhline(10)\n",
    "pass"
   ]
  },
  {
   "cell_type": "markdown",
   "metadata": {
    "hidden": true
   },
   "source": [
    "**＜基本的な引数＞**\n",
    "\n",
    "様々な引数があり図に「飾り付け」をすることができる。詳しくは[このリンク](https://matplotlib.org/stable/api/_as_gen/matplotlib.pyplot.axvline.html)と[このリンク](https://matplotlib.org/stable/api/_as_gen/matplotlib.pyplot.axhline.html)を参照することにして，ここでは基本的な引数だけを紹介する。\n",
    "* `ymin`：`axvline`の縦軸における最小値（`0`~`1`の値; デフォルト`0`）\n",
    "* `ymax`：`axvline`の縦軸における最大値（`0`~`1`の値; デフォルト`1`）\n",
    "* `xmin`：`axhline`の横軸における最小値（`0`~`1`の値; デフォルト`0`）\n",
    "* `xmax`：`axhline`の横軸における最大値（`0`~`1`の値; デフォルト`1`）\n",
    "* `linestyle`：線のスタイル（リストにして列の順番で指定する;`-` `--` `-.` `:`）\n",
    "* `linewidth` or `lw`：線の幅\n",
    "* `color`：色（リストにして列の順番で指定する; [参照サイト](https://matplotlib.org/3.1.0/gallery/color/named_colors.html)）\n",
    "    * `r`は赤\n",
    "    * `k`は黒\n",
    "    * `g`はグリーン\n",
    "* `alpha`：透明度（`0`から`1.0`; デフォルトは`1`）"
   ]
  },
  {
   "cell_type": "markdown",
   "metadata": {
    "hidden": true
   },
   "source": [
    "引数を指定してプロットしてみる。"
   ]
  },
  {
   "cell_type": "code",
   "execution_count": null,
   "metadata": {
    "hidden": true
   },
   "outputs": [],
   "source": [
    "ax_ = df1.plot.hist(y='Y', alpha=0.1)\n",
    "ax_.axvline(0,\n",
    "            ymin=0.3,\n",
    "            ymax=0.95,\n",
    "            linestyle=':',\n",
    "            linewidth=5,\n",
    "            color='g',\n",
    "            alpha=0.8)\n",
    "ax_.axhline(10,\n",
    "            xmin=0.05,\n",
    "            xmax=0.7,\n",
    "            linestyle='-.',\n",
    "            linewidth=3,\n",
    "            color='k',\n",
    "            alpha=0.5)\n",
    "pass"
   ]
  },
  {
   "cell_type": "markdown",
   "metadata": {
    "hidden": true
   },
   "source": [
    "最後に上のヒストグラムとカーネル密度推定プロットに縦線を加えてみよう。"
   ]
  },
  {
   "cell_type": "code",
   "execution_count": null,
   "metadata": {
    "hidden": true
   },
   "outputs": [],
   "source": [
    "ax_ = df1.plot.hist(y='X',\n",
    "                    label='Xのヒストグラム',\n",
    "                    density=True)\n",
    "df1.plot.kde(y='X',\n",
    "             label='XのKDE',\n",
    "             ax=ax_)\n",
    "ax_.legend()\n",
    "ax_.axvline(0, color='red')\n",
    "pass"
   ]
  },
  {
   "cell_type": "markdown",
   "metadata": {
    "heading_collapsed": true,
    "hidden": true,
    "jp-MarkdownHeadingCollapsed": true,
    "tags": [
     "remove-cell"
    ]
   },
   "source": [
    "### 棒グラフ"
   ]
  },
  {
   "cell_type": "markdown",
   "metadata": {
    "hidden": true,
    "jp-MarkdownHeadingCollapsed": true
   },
   "source": [
    "(sec:5-bar)=\n",
    "### 棒グラフ"
   ]
  },
  {
   "cell_type": "markdown",
   "metadata": {
    "hidden": true
   },
   "source": [
    "まず次のコードでデータを準備しよう。"
   ]
  },
  {
   "cell_type": "code",
   "execution_count": null,
   "metadata": {
    "hidden": true
   },
   "outputs": [],
   "source": [
    "df2 = pd.DataFrame({'country':['A','B','C'],\n",
    "                    'gdp':[100,90,110],\n",
    "                    'con':[50,60,55],\n",
    "                    'inv':[15,10,20],\n",
    "                    'gov':[10,5,30],\n",
    "                    'netex':[25,15,5]})"
   ]
  },
  {
   "cell_type": "markdown",
   "metadata": {
    "hidden": true
   },
   "source": [
    "３国のGDPとその構成要素からなる`DataFrame`である。\n",
    "* `country`：国\n",
    "* `gdp`：GDP\n",
    "* `con`：消費\n",
    "* `inv`：投資\n",
    "* `gov`：政府支出\n",
    "* `netex`：純輸出\n",
    "\n",
    "この`DataFrame`を使って棒グラフの作成方法を説明するが，次の構文となる。\n",
    "```\n",
    "＜書き方１＞\n",
    "df2.plot.bar(x='列ラベル', y='列ラベル')\n",
    "\n",
    "＜書き方２＞\n",
    "df2.plot(x='列ラベル', y='列ラベル', kind='bar')\n",
    "```\n",
    "* `x`：横軸に使う列ラベル（文字列）\n",
    "* `y`：縦軸に使う列ラベル（文字列、複数の場合はリスト）\n",
    "\n",
    "まずA国の`gdp`の棒グラフを表示してみよう。"
   ]
  },
  {
   "cell_type": "code",
   "execution_count": null,
   "metadata": {
    "hidden": true
   },
   "outputs": [],
   "source": [
    "df2.plot.bar(x='country', y='gdp')\n",
    "pass"
   ]
  },
  {
   "cell_type": "markdown",
   "metadata": {
    "hidden": true
   },
   "source": [
    "複数の棒（データ）を並べたい場合もあるだろう。その場合は引数`y`にリストを指定すれば表示できる。"
   ]
  },
  {
   "cell_type": "code",
   "execution_count": null,
   "metadata": {
    "hidden": true
   },
   "outputs": [],
   "source": [
    "df2.plot.bar(x='country', y=['gdp','con'])\n",
    "pass"
   ]
  },
  {
   "cell_type": "markdown",
   "metadata": {
    "hidden": true
   },
   "source": [
    "**＜基本的な引数＞**\n",
    "\n",
    "詳しい引数についての説明は[このリンク](https://pandas.pydata.org/docs/reference/api/pandas.DataFrame.plot.bar.html)を参照することにして，ここでは基本的な引数だけを紹介する。\n",
    "* `color`：色（リストにして列の順番で指定する; [参照サイト](https://matplotlib.org/3.1.0/gallery/color/named_colors.html)）\n",
    "    * `r`又は`red`：赤\n",
    "    * `k`又は`black`：黒\n",
    "    * `g`又は`green`：グリーン\n",
    "* `stacked`：（ブール型;デフォルトは`False`)\n",
    "    * 複数データを使う場合に棒を積み上げるかどうかを指定\n",
    "* `fontsize`：横軸・縦軸の数字のフォントサイズの設定\n",
    "* `figsize`：図の大きさ\n",
    "    * `figsize=(キャンバスの横幅、キャンバスの縦の長さ)`\n",
    "* `legend`：凡例の表示を指定\n",
    "    * `DataFrame`の場合はデフォルトは`True`\n",
    "* `label`：凡例の表現を指定\n",
    "* `grid`：グリッド表示（ブール型;デフォルトは`False`)\n",
    "* `rot`(rotationの略)：横軸の変数の表示の角度（デフォルトは`90`）\n",
    "* `subplots`：複数の図をプロットする（詳細はライン・プロットを参照）\n",
    "* `ax`：プロットする「軸」を指定する。\n",
    "\n",
    "これらの引数を使いプロットしてみよう。"
   ]
  },
  {
   "cell_type": "code",
   "execution_count": null,
   "metadata": {
    "hidden": true
   },
   "outputs": [],
   "source": [
    "df2.plot.bar(x='country', y=['con','inv','gov','netex'],\n",
    "             color=['red','black','green','orange'],\n",
    "             stacked=True,\n",
    "             fontsize=20,\n",
    "             figsize=(8,4),\n",
    "             # legend=False,       \n",
    "             label=['消費','投資','政府支出','純輸出'],\n",
    "             grid=True,\n",
    "             rot=0\n",
    "            )\n",
    "pass"
   ]
  },
  {
   "cell_type": "markdown",
   "metadata": {
    "hidden": true
   },
   "source": [
    "次に，ライン・プロットを追加する例を考えてみよう。`df2`には列`gdp`があり，それを表すライン・プロットを重ねることにしよう。"
   ]
  },
  {
   "cell_type": "code",
   "execution_count": null,
   "metadata": {
    "hidden": true
   },
   "outputs": [],
   "source": [
    "ax_ = df2.plot.bar(x='country', y=['con','inv','gov','netex'],\n",
    "                   stacked=True,\n",
    "                   fontsize=15,\n",
    "                   label=['消費','投資','政府支出','純輸出'],\n",
    "                   rot=0)\n",
    "\n",
    "df2.plot(x='country', y='gdp',\n",
    "         color='black',\n",
    "         marker='o',\n",
    "         legend=True,\n",
    "         label='国内総生産',\n",
    "         ax=ax_)\n",
    "\n",
    "ax_.set_title('３カ国のGDPと構成要素', size=20)\n",
    "ax_.set_xlabel('国', size=15)\n",
    "ax_.set_ylabel('単位：億米ドル', size=15)\n",
    "pass"
   ]
  },
  {
   "cell_type": "markdown",
   "metadata": {
    "hidden": true
   },
   "source": [
    "棒の高さとGDPのマーカーの高さは同じであることがわかる。"
   ]
  }
 ],
 "metadata": {
  "celltoolbar": "Tags",
  "kernelspec": {
   "display_name": "Python 3 (ipykernel)",
   "language": "python",
   "name": "python3"
  },
  "language_info": {
   "codemirror_mode": {
    "name": "ipython",
    "version": 3
   },
   "file_extension": ".py",
   "mimetype": "text/x-python",
   "name": "python",
   "nbconvert_exporter": "python",
   "pygments_lexer": "ipython3",
   "version": "3.11.9"
  }
 },
 "nbformat": 4,
 "nbformat_minor": 4
}
