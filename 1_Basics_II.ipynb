{
 "cells": [
  {
   "cell_type": "markdown",
   "metadata": {},
   "source": [
    "# データの操作"
   ]
  },
  {
   "cell_type": "markdown",
   "metadata": {},
   "source": [
    "<div name=\"html-admonition\" style=\"font-size: 0.8em\">\n",
    "<input type=\"button\" onclick=\"location.href='https://translate.google.com/translate?hl=&sl=ja&tl=en&u='+window.location;\" value=\"Google translation\" style=\"color:#ffffff;background-color:#008080; height:25px\" onmouseover=\"this.style.background='#99ccff'\" onmouseout=\"this.style.background='#008080'\"/> in English or the language of your choice.\n",
    "</div><br>"
   ]
  },
  {
   "cell_type": "code",
   "execution_count": null,
   "metadata": {},
   "outputs": [],
   "source": [
    "# 警告メッセージを非表示\n",
    "import warnings\n",
    "warnings.filterwarnings(\"ignore\")"
   ]
  },
  {
   "cell_type": "markdown",
   "metadata": {},
   "source": [
    "## 基本データ型の変換"
   ]
  },
  {
   "cell_type": "markdown",
   "metadata": {},
   "source": [
    "次の４つの基本データ型を考えよう。\n",
    "* 整数型\n",
    "* 浮動小数点型\n",
    "* 文字列型\n",
    "* ブール型"
   ]
  },
  {
   "cell_type": "markdown",
   "metadata": {},
   "source": [
    "ここでは，それぞれのデータ型を他のデータ系に変換する次の関数を紹介する。\n",
    "* `int()`：整数型への変換\n",
    "* `float()`：浮動小数点型への変換\n",
    "* `str()`：文字列型への変換\n",
    "* `bool()`：ブール型への変換（真偽値の確認）"
   ]
  },
  {
   "cell_type": "markdown",
   "metadata": {
    "heading_collapsed": true
   },
   "source": [
    "### 整数型・浮動小数点型　→　浮動小数点型・整数型"
   ]
  },
  {
   "cell_type": "code",
   "execution_count": null,
   "metadata": {
    "hidden": true
   },
   "outputs": [],
   "source": [
    "f0 = 10.0\n",
    "i0 = 10"
   ]
  },
  {
   "cell_type": "markdown",
   "metadata": {
    "hidden": true
   },
   "source": [
    "`f0`を整数型へ，`i1`を浮動小数点型に変換してみよう。"
   ]
  },
  {
   "cell_type": "code",
   "execution_count": null,
   "metadata": {
    "hidden": true
   },
   "outputs": [],
   "source": [
    "int(f0), type( int(f0) )"
   ]
  },
  {
   "cell_type": "code",
   "execution_count": null,
   "metadata": {
    "hidden": true
   },
   "outputs": [],
   "source": [
    "float(i0), type( float(i0) )"
   ]
  },
  {
   "cell_type": "markdown",
   "metadata": {
    "heading_collapsed": true,
    "jp-MarkdownHeadingCollapsed": true
   },
   "source": [
    "### 文字列型　→　整数型・浮動小数点型"
   ]
  },
  {
   "cell_type": "markdown",
   "metadata": {
    "hidden": true
   },
   "source": [
    "次に文字列を考えよう。"
   ]
  },
  {
   "cell_type": "code",
   "execution_count": null,
   "metadata": {
    "hidden": true
   },
   "outputs": [],
   "source": [
    "s0 = '10'"
   ]
  },
  {
   "cell_type": "markdown",
   "metadata": {
    "hidden": true
   },
   "source": [
    "`int()`を使うと整数に変換できる。また`float()`関数を適用すると浮動小数点型に変換できる。"
   ]
  },
  {
   "cell_type": "code",
   "execution_count": null,
   "metadata": {
    "hidden": true
   },
   "outputs": [],
   "source": [
    "int(s0), type( int(s0) )"
   ]
  },
  {
   "cell_type": "code",
   "execution_count": null,
   "metadata": {
    "hidden": true
   },
   "outputs": [],
   "source": [
    "float(s0), type( type(s0) )"
   ]
  },
  {
   "cell_type": "markdown",
   "metadata": {
    "hidden": true
   },
   "source": [
    "これを利用して次の演算が可能となる。"
   ]
  },
  {
   "cell_type": "code",
   "execution_count": null,
   "metadata": {
    "hidden": true
   },
   "outputs": [],
   "source": [
    "2 + int(s0), 2 + float(s0)"
   ]
  },
  {
   "cell_type": "markdown",
   "metadata": {
    "hidden": true
   },
   "source": [
    "次に以下の文字列を考えよう。"
   ]
  },
  {
   "cell_type": "code",
   "execution_count": null,
   "metadata": {
    "hidden": true
   },
   "outputs": [],
   "source": [
    "s1 = '10.0'"
   ]
  },
  {
   "cell_type": "markdown",
   "metadata": {
    "hidden": true
   },
   "source": [
    "まず`float()`を使って浮動小数点型に変換してみよう。"
   ]
  },
  {
   "cell_type": "code",
   "execution_count": null,
   "metadata": {
    "hidden": true
   },
   "outputs": [],
   "source": [
    "float(s1), type( float(s1) )"
   ]
  },
  {
   "cell_type": "markdown",
   "metadata": {
    "hidden": true
   },
   "source": [
    "これにより算術演算が可能となる。"
   ]
  },
  {
   "cell_type": "code",
   "execution_count": null,
   "metadata": {
    "hidden": true
   },
   "outputs": [],
   "source": [
    "float(s1) // 3"
   ]
  },
  {
   "cell_type": "markdown",
   "metadata": {
    "hidden": true
   },
   "source": [
    "一方で`int()`を使うとエラーが発生する。"
   ]
  },
  {
   "cell_type": "code",
   "execution_count": null,
   "metadata": {
    "hidden": true,
    "tags": [
     "raises-exception"
    ]
   },
   "outputs": [],
   "source": [
    "int(s1)"
   ]
  },
  {
   "cell_type": "markdown",
   "metadata": {
    "hidden": true
   },
   "source": [
    "直感的には，`s1`の小数点以下の`0`があるからである。この場合，整数型に変換するには次の２ステップ必要となる。\n",
    "```\n",
    "s1　→　浮動小数点型　→　整数型\n",
    "```"
   ]
  },
  {
   "cell_type": "code",
   "execution_count": null,
   "metadata": {
    "hidden": true
   },
   "outputs": [],
   "source": [
    "int( float(s1) )"
   ]
  },
  {
   "cell_type": "code",
   "execution_count": null,
   "metadata": {
    "hidden": true
   },
   "outputs": [],
   "source": [
    "int( float(s1) ) ** 5"
   ]
  },
  {
   "cell_type": "markdown",
   "metadata": {
    "heading_collapsed": true,
    "jp-MarkdownHeadingCollapsed": true
   },
   "source": [
    "### 整数型・浮動小数点型　→　文字列型"
   ]
  },
  {
   "cell_type": "markdown",
   "metadata": {
    "hidden": true
   },
   "source": [
    "文字列型への変換は簡単で，元の値をそのままクォテーション`''`に入れて返すことになる。"
   ]
  },
  {
   "cell_type": "code",
   "execution_count": null,
   "metadata": {
    "hidden": true
   },
   "outputs": [],
   "source": [
    "str(f0), str(i0)"
   ]
  },
  {
   "cell_type": "markdown",
   "metadata": {
    "heading_collapsed": true,
    "jp-MarkdownHeadingCollapsed": true
   },
   "source": [
    "### 整数型・浮動小数点型・文字列型　→　ブール型"
   ]
  },
  {
   "cell_type": "markdown",
   "metadata": {
    "hidden": true
   },
   "source": [
    "この変換は既出の`bool()`を使い，対象となるデータのブール値（真偽値）の確認となる。即ち，対象となるオブジェクトが「空・無」かどうかを確かめるの使われる。"
   ]
  },
  {
   "cell_type": "code",
   "execution_count": null,
   "metadata": {
    "hidden": true
   },
   "outputs": [],
   "source": [
    "bool(100)"
   ]
  },
  {
   "cell_type": "code",
   "execution_count": null,
   "metadata": {
    "hidden": true
   },
   "outputs": [],
   "source": [
    "bool(0)"
   ]
  },
  {
   "cell_type": "code",
   "execution_count": null,
   "metadata": {
    "hidden": true
   },
   "outputs": [],
   "source": [
    "bool('神戸大学'), bool('')"
   ]
  },
  {
   "cell_type": "markdown",
   "metadata": {
    "jp-MarkdownHeadingCollapsed": true
   },
   "source": [
    "## コンテナデータ型の操作"
   ]
  },
  {
   "cell_type": "markdown",
   "metadata": {},
   "source": [
    "ここではコンテナデータ型の次の操作について説明する。\n",
    "* 要素の抽出（アクセス）\n",
    "* 要素の入れ替え\n",
    "* 要素の削除\n",
    "* 他のデータ型からリストへの変換\n",
    "* 基本的なメソッド"
   ]
  },
  {
   "cell_type": "markdown",
   "metadata": {
    "jp-MarkdownHeadingCollapsed": true
   },
   "source": [
    "### リスト"
   ]
  },
  {
   "cell_type": "markdown",
   "metadata": {
    "heading_collapsed": true
   },
   "source": [
    "#### １つの要素の抽出"
   ]
  },
  {
   "cell_type": "markdown",
   "metadata": {
    "hidden": true
   },
   "source": [
    "リスト、タプル及び文字列におけるインデックスとは、要素の位置を示す番号を意味し、`0`から始まる。\n",
    "次の図は、リストの要素`A`，`B`，`C`...`F`を並べ、各要素に対応するインデックを示している。\n",
    "左から数えると`0`，`1`，`2`...となり，右からは`-1`，`-2`，`-3`と数える。\n",
    "```\n",
    "   0   1   2   3   4   5  （左から数える） \n",
    " +---+---+---+---+---+---+\n",
    " | A | B | C | D | E | F |\n",
    " +---+---+---+---+---+---+\n",
    "  -6  -5  -4  -3  -2  -1　（右から数える）\n",
    "```\n",
    "上の図にあるリストを考えよう。"
   ]
  },
  {
   "cell_type": "code",
   "execution_count": null,
   "metadata": {
    "hidden": true
   },
   "outputs": [],
   "source": [
    "my_list = ['A', 'B', 'C', 'D', 'E', 'F']"
   ]
  },
  {
   "cell_type": "markdown",
   "metadata": {
    "hidden": true
   },
   "source": [
    "`'A'`は`0`番目，`'B'`は`1`番目，`'C'`は`2`番目と数える。`A`を抽出したい場合は`[]`を使い`A`のインデックス`0`を指定する。"
   ]
  },
  {
   "cell_type": "code",
   "execution_count": null,
   "metadata": {
    "hidden": true
   },
   "outputs": [],
   "source": [
    "my_list[0]"
   ]
  },
  {
   "cell_type": "markdown",
   "metadata": {
    "hidden": true
   },
   "source": [
    "`E`にアクセスしたい場合は，インデックス番号は`4`なので次のようになる。"
   ]
  },
  {
   "cell_type": "code",
   "execution_count": null,
   "metadata": {
    "hidden": true
   },
   "outputs": [],
   "source": [
    "my_list[4]"
   ]
  },
  {
   "cell_type": "markdown",
   "metadata": {
    "hidden": true
   },
   "source": [
    "または右から数えたインデックス番号`-2`を使っても同じ結果となる。"
   ]
  },
  {
   "cell_type": "code",
   "execution_count": null,
   "metadata": {
    "hidden": true
   },
   "outputs": [],
   "source": [
    "my_list[-2]"
   ]
  },
  {
   "cell_type": "markdown",
   "metadata": {
    "heading_collapsed": true,
    "jp-MarkdownHeadingCollapsed": true
   },
   "source": [
    "#### 複数要素の抽出（その１）"
   ]
  },
  {
   "cell_type": "markdown",
   "metadata": {
    "hidden": true
   },
   "source": [
    "次に複数の連続する要素を抽出したいとしよう。この場合は**スライシング**（slicing）と呼ばれ，`:`（コロン）を使う。`:`の左右にインデックス番号を置き要素を選択するが，次のルールに従う。\n",
    "```\n",
    "[＜start＞:＜end＞]\n",
    "```\n",
    "* `start`：最初のインデックス\n",
    "* `end`：最後の**次の**インデックス\n",
    "\n",
    "即ち，`:`の右側にあるインデックスの要素は抽出されない。例えば，`my_list`の１番目から３番目の要素を抽出したい場合は`1:4`となる。"
   ]
  },
  {
   "cell_type": "code",
   "execution_count": null,
   "metadata": {
    "hidden": true
   },
   "outputs": [],
   "source": [
    "my_list[1:4]"
   ]
  },
  {
   "cell_type": "markdown",
   "metadata": {
    "hidden": true
   },
   "source": [
    "次のように書くとより直感的になるのではないだろうか。"
   ]
  },
  {
   "cell_type": "code",
   "execution_count": null,
   "metadata": {
    "hidden": true
   },
   "outputs": [],
   "source": [
    "my_list[1:3+1]"
   ]
  },
  {
   "cell_type": "markdown",
   "metadata": {
    "hidden": true
   },
   "source": [
    "次のルールも覚えておこう。\n",
    "* `:`の左側の番号を省略すると「`0`番目から」と解釈される。\n",
    "* `:`右側を省略すると「最後まで」と解釈される。\n",
    "\n",
    "次のコードは最初からスライスしている。"
   ]
  },
  {
   "cell_type": "code",
   "execution_count": null,
   "metadata": {
    "hidden": true
   },
   "outputs": [],
   "source": [
    "my_list[:3+1]"
   ]
  },
  {
   "cell_type": "markdown",
   "metadata": {
    "hidden": true
   },
   "source": [
    "最後までスライスする場合は次のコードとなる。"
   ]
  },
  {
   "cell_type": "code",
   "execution_count": null,
   "metadata": {
    "hidden": true
   },
   "outputs": [],
   "source": [
    "my_list[3:]"
   ]
  },
  {
   "cell_type": "markdown",
   "metadata": {
    "hidden": true
   },
   "source": [
    "では`:`の左右の番号を省略するとどうなるのだろう。「最初から最後まで」，即ち，全てとなり，リストのコピーを作成することと同じである。"
   ]
  },
  {
   "cell_type": "code",
   "execution_count": null,
   "metadata": {
    "hidden": true
   },
   "outputs": [],
   "source": [
    "your_list = my_list[:]\n",
    "your_list"
   ]
  },
  {
   "cell_type": "markdown",
   "metadata": {
    "hidden": true
   },
   "source": [
    "````{note}\n",
    "`my_list`の`A`，`C`，`E`のように連続していない要素を同時に抽出したい場合はどうすれば良いだろうか。残念ながら，簡単な方法は用意されていない。しかし１つの方法として次のコードで要素のインデックス番号を指定してアクセスすることが可能である。\n",
    "```\n",
    "my_idx = [0,2,4]\n",
    "[my_list[i] for i in my_idx]\n",
    "```\n",
    "１行目は`A`，`C`，`E`のインデックス番号のリストであり，２行目は後に説明する内包表記を使っている。\n",
    "````"
   ]
  },
  {
   "cell_type": "markdown",
   "metadata": {
    "heading_collapsed": true
   },
   "source": [
    "#### 複数要素の抽出（その２）"
   ]
  },
  {
   "cell_type": "markdown",
   "metadata": {
    "hidden": true
   },
   "source": [
    "上の説明でのスライシングのインデックス番号は，`1,2,3,4`の様に**増分**は`1`となっている。実は，この増分も次のように設定することができる。\n",
    "```\n",
    "[＜start＞:＜end＞|＜step＞]\n",
    "```\n",
    "* `start`：最初のインデックス\n",
    "* `end`：最後の**次の**インデックス\n",
    "* `step`：増分（デフォルトは`1`）\n",
    "\n",
    "`step`のデフォルトは`1`なので，設定しなければ増分は`1`となり，上で説明したスライシングとなる。ここでは`step`を指定した場合について触れる。次の例を考えよう。"
   ]
  },
  {
   "cell_type": "code",
   "execution_count": null,
   "metadata": {
    "hidden": true
   },
   "outputs": [],
   "source": [
    "lst = [0, 1, 2, 3, 4, 5, 6, 7, 8, 9]"
   ]
  },
  {
   "cell_type": "markdown",
   "metadata": {
    "hidden": true
   },
   "source": [
    "`step`を`2`にすると，インデックス番号が一つおきとなり偶数だけが抽出される。"
   ]
  },
  {
   "cell_type": "code",
   "execution_count": null,
   "metadata": {
    "hidden": true
   },
   "outputs": [],
   "source": [
    "lst[::2]"
   ]
  },
  {
   "cell_type": "markdown",
   "metadata": {
    "hidden": true
   },
   "source": [
    "ここでは`start`と`end`は指定されていないので，全てのインデックス番号が抽出の対象となっている。もちろん`step`を`3`にすると２つおきのインデックス番号の要素が抽出される。"
   ]
  },
  {
   "cell_type": "code",
   "execution_count": null,
   "metadata": {
    "hidden": true
   },
   "outputs": [],
   "source": [
    "lst[::3]"
   ]
  },
  {
   "cell_type": "markdown",
   "metadata": {
    "hidden": true
   },
   "source": [
    "また`step`に負の整数を使うと，要素を逆に並べて結果を返すことになる。次の例は，全ての要素を逆に並べている。"
   ]
  },
  {
   "cell_type": "code",
   "execution_count": null,
   "metadata": {
    "hidden": true
   },
   "outputs": [],
   "source": [
    "lst[::-1]"
   ]
  },
  {
   "cell_type": "markdown",
   "metadata": {
    "hidden": true
   },
   "source": [
    "もちろん`-2`にすると，逆順で一つおきの要素が抽出される。"
   ]
  },
  {
   "cell_type": "code",
   "execution_count": null,
   "metadata": {
    "hidden": true
   },
   "outputs": [],
   "source": [
    "lst[::-2]"
   ]
  },
  {
   "cell_type": "markdown",
   "metadata": {
    "heading_collapsed": true
   },
   "source": [
    "#### ２次元リストの要素抽出"
   ]
  },
  {
   "cell_type": "markdown",
   "metadata": {
    "hidden": true
   },
   "source": [
    "次の例は入れ子のケースである。"
   ]
  },
  {
   "cell_type": "code",
   "execution_count": null,
   "metadata": {
    "hidden": true
   },
   "outputs": [],
   "source": [
    "my_list2 = ['A', ['B', 'C'], ['D', 'E', 'F', 'G', 'H']]"
   ]
  },
  {
   "cell_type": "markdown",
   "metadata": {
    "hidden": true
   },
   "source": [
    "この場合でも考え方は変わらない。例えば，`['B','C']`を抽出したいとしよう。`['B','C']`は`1`番目の要素として入っているので次のコードでアクセスできる。"
   ]
  },
  {
   "cell_type": "code",
   "execution_count": null,
   "metadata": {
    "hidden": true
   },
   "outputs": [],
   "source": [
    "element1 = my_list2[1]\n",
    "element1"
   ]
  },
  {
   "cell_type": "markdown",
   "metadata": {
    "hidden": true
   },
   "source": [
    "更に，`element1`の`B`を抽出したいとしよう。その場合も同じ考えで次のコードとなる。"
   ]
  },
  {
   "cell_type": "code",
   "execution_count": null,
   "metadata": {
    "hidden": true
   },
   "outputs": [],
   "source": [
    "element1[0]"
   ]
  },
  {
   "cell_type": "markdown",
   "metadata": {
    "hidden": true
   },
   "source": [
    "また別々に書いたコードを続けて書いても同じ結果となる。"
   ]
  },
  {
   "cell_type": "code",
   "execution_count": null,
   "metadata": {
    "hidden": true
   },
   "outputs": [],
   "source": [
    "my_list[1][0]"
   ]
  },
  {
   "cell_type": "markdown",
   "metadata": {
    "hidden": true
   },
   "source": [
    "もちろんスライシングも使える。`D`，`E`，`F`を抽出したい場合は次のコードとなる。"
   ]
  },
  {
   "cell_type": "code",
   "execution_count": null,
   "metadata": {
    "hidden": true
   },
   "outputs": [],
   "source": [
    "my_list2[-1][:2+1]"
   ]
  },
  {
   "cell_type": "markdown",
   "metadata": {
    "heading_collapsed": true
   },
   "source": [
    "#### 要素の入れ替え"
   ]
  },
  {
   "cell_type": "markdown",
   "metadata": {
    "hidden": true
   },
   "source": [
    "要素の入れ替え方法を説明するために，次のリスト`lst0`を作成しよう。"
   ]
  },
  {
   "cell_type": "code",
   "execution_count": null,
   "metadata": {
    "hidden": true
   },
   "outputs": [],
   "source": [
    "lst0 = [0, 1, 2 ,3, 4, 5]\n",
    "lst0"
   ]
  },
  {
   "cell_type": "markdown",
   "metadata": {
    "hidden": true
   },
   "source": [
    "`0`番目の要素は`0`だが，これを文字列`'Kobe'`に入れ替えてみよう。方法は簡単で，入れ替えたい要素を選び`=`の左辺に置き，右辺には新しい要素を配置し実行するだけである。次のコードとなる。"
   ]
  },
  {
   "cell_type": "code",
   "execution_count": null,
   "metadata": {
    "hidden": true
   },
   "outputs": [],
   "source": [
    "lst0[0] = 'Kobe'\n",
    "lst0"
   ]
  },
  {
   "cell_type": "markdown",
   "metadata": {
    "hidden": true
   },
   "source": [
    "右辺から読めば理解できる。「`Kobe`を`lst0[1]`に割り当てる」となり，これで「入れ替え」となる。この例の右辺は文字列だが，他のデータ型でも可能である。例えば，"
   ]
  },
  {
   "cell_type": "code",
   "execution_count": null,
   "metadata": {
    "hidden": true
   },
   "outputs": [],
   "source": [
    "lst0[1] = {'a':100}\n",
    "lst0"
   ]
  },
  {
   "cell_type": "markdown",
   "metadata": {
    "hidden": true
   },
   "source": [
    "スライシングを使い要素入れ替えも可能である。"
   ]
  },
  {
   "cell_type": "code",
   "execution_count": null,
   "metadata": {
    "hidden": true
   },
   "outputs": [],
   "source": [
    "lst0[-2:] = (40, 60)\n",
    "lst0"
   ]
  },
  {
   "cell_type": "markdown",
   "metadata": {
    "hidden": true
   },
   "source": [
    "この場合，左辺の要素数と右辺の要素数が同じになる必要がある。また右辺に辞書を置くとキーの値が割り当てられることになる。試してみよう。"
   ]
  },
  {
   "cell_type": "code",
   "execution_count": null,
   "metadata": {
    "hidden": true
   },
   "outputs": [],
   "source": [
    "lst0[-2:] = {'A':40, 'B':60}\n",
    "lst0"
   ]
  },
  {
   "cell_type": "markdown",
   "metadata": {
    "heading_collapsed": true
   },
   "source": [
    "#### 要素の削除"
   ]
  },
  {
   "cell_type": "markdown",
   "metadata": {
    "hidden": true
   },
   "source": [
    "要素を削除するには色々な方法が用意されているが，最も簡単なのは`del`（deleteの略）を使うことだろう。`del`の後に削除したい要素を書き実行するだけである。例えば，"
   ]
  },
  {
   "cell_type": "code",
   "execution_count": null,
   "metadata": {
    "hidden": true
   },
   "outputs": [],
   "source": [
    "del lst0[0]\n",
    "lst0"
   ]
  },
  {
   "cell_type": "markdown",
   "metadata": {
    "hidden": true
   },
   "source": [
    "`Kobe`が削除されている。次の例はスライシングを使い`A`と`B`を削除している。"
   ]
  },
  {
   "cell_type": "code",
   "execution_count": null,
   "metadata": {
    "hidden": true
   },
   "outputs": [],
   "source": [
    "del lst0[-2:]\n",
    "lst0"
   ]
  },
  {
   "cell_type": "markdown",
   "metadata": {},
   "source": [
    "#### 他のコンテナデータ型からリストへの変換"
   ]
  },
  {
   "cell_type": "markdown",
   "metadata": {},
   "source": [
    "* 関数`list()`を使う。\n",
    "\n",
    "次のタプルを考えよう。"
   ]
  },
  {
   "cell_type": "code",
   "execution_count": null,
   "metadata": {},
   "outputs": [],
   "source": [
    "tpl = (1, 3.14, 'A')\n",
    "tpl"
   ]
  },
  {
   "cell_type": "markdown",
   "metadata": {},
   "source": [
    "`list()`を使うとリストに変換される。"
   ]
  },
  {
   "cell_type": "code",
   "execution_count": null,
   "metadata": {},
   "outputs": [],
   "source": [
    "list(tpl)"
   ]
  },
  {
   "cell_type": "markdown",
   "metadata": {},
   "source": [
    "次に辞書を考えてみよう。"
   ]
  },
  {
   "cell_type": "code",
   "execution_count": null,
   "metadata": {},
   "outputs": [],
   "source": [
    "dic = {'a':1,'b':2,'c':3}\n",
    "dic"
   ]
  },
  {
   "cell_type": "markdown",
   "metadata": {},
   "source": [
    "この場合は，キーだけが抽出されリストが作成される。"
   ]
  },
  {
   "cell_type": "code",
   "execution_count": null,
   "metadata": {},
   "outputs": [],
   "source": [
    "list(dic)"
   ]
  },
  {
   "cell_type": "markdown",
   "metadata": {},
   "source": [
    "````{note}\n",
    "次のコードでも辞書のキーからリストを作成することができる。\n",
    "```\n",
    "list(dic.keys())\n",
    "```\n",
    "また辞書の値からリストを作成するには次のコードを使うことができる。\n",
    "```\n",
    "list(dic.values())\n",
    "```\n",
    "ここで`.keys()`と`.values()`は`dic`のメソッドと呼ばれるものであり，下でより詳しく説明する。\n",
    "````"
   ]
  },
  {
   "cell_type": "markdown",
   "metadata": {
    "heading_collapsed": true
   },
   "source": [
    "#### メソッド"
   ]
  },
  {
   "cell_type": "markdown",
   "metadata": {
    "hidden": true
   },
   "source": [
    "全てのリストにはリスト自体に働きかける関数が備わっており，それをメソッドと呼ぶ。より詳細な説明は後に回すとして，ここではリストの最後に要素を追加する`append()`というメソッドを紹介する。空のリストを考えよう。"
   ]
  },
  {
   "cell_type": "code",
   "execution_count": null,
   "metadata": {
    "hidden": true
   },
   "outputs": [],
   "source": [
    "lst = []"
   ]
  },
  {
   "cell_type": "markdown",
   "metadata": {
    "hidden": true
   },
   "source": [
    "次の構文となる。\n",
    "```\n",
    "lst.append(＜追加する要素＞)\n",
    "```\n",
    "ここで`.`はメソッドにアクセスするための記号であり，その後にメソッド`append()`を置く。では`100`を`lst`に追加してみよう。"
   ]
  },
  {
   "cell_type": "code",
   "execution_count": null,
   "metadata": {
    "hidden": true
   },
   "outputs": [],
   "source": [
    "lst.append(100)"
   ]
  },
  {
   "cell_type": "markdown",
   "metadata": {
    "hidden": true
   },
   "source": [
    "何も表示されないが，`lst`は変更されている。`lst`を実行すると`100`が追加されていることが確認できる。"
   ]
  },
  {
   "cell_type": "code",
   "execution_count": null,
   "metadata": {
    "hidden": true
   },
   "outputs": [],
   "source": [
    "lst"
   ]
  },
  {
   "cell_type": "markdown",
   "metadata": {
    "hidden": true
   },
   "source": [
    "次は`50`を追加しよう。"
   ]
  },
  {
   "cell_type": "code",
   "execution_count": null,
   "metadata": {
    "hidden": true
   },
   "outputs": [],
   "source": [
    "lst.append(50)\n",
    "\n",
    "lst"
   ]
  },
  {
   "cell_type": "markdown",
   "metadata": {
    "hidden": true
   },
   "source": [
    "`append()`以外にも色々なメソッドが備わっている。"
   ]
  },
  {
   "cell_type": "markdown",
   "metadata": {
    "heading_collapsed": true
   },
   "source": [
    "### タプル"
   ]
  },
  {
   "cell_type": "markdown",
   "metadata": {
    "heading_collapsed": true,
    "hidden": true
   },
   "source": [
    "#### 説明"
   ]
  },
  {
   "cell_type": "markdown",
   "metadata": {
    "hidden": true
   },
   "source": [
    "まず次の様に`tpl1`と`tpl2`を定義しよう。"
   ]
  },
  {
   "cell_type": "code",
   "execution_count": null,
   "metadata": {
    "hidden": true
   },
   "outputs": [],
   "source": [
    "tpl1 = (10, 20, 30, 40, ('a', 'b'))"
   ]
  },
  {
   "cell_type": "code",
   "execution_count": null,
   "metadata": {
    "hidden": true
   },
   "outputs": [],
   "source": [
    "tpl2 = ((1,2,3),\n",
    "        (4,5,6),\n",
    "        (7,8,9))"
   ]
  },
  {
   "cell_type": "markdown",
   "metadata": {
    "hidden": true
   },
   "source": [
    "タプルのリストとの違いは，要素を変更できないということである。その他は殆ど同じなので，次のことが言える。\n",
    "* １つの要素の抽出：リストと同じ\n",
    "    * 例えば，`tpl1[0]`は`10`を返す。\n",
    "* 複数要素の抽出（スライシング）：リストと同じ\n",
    "    * 例えば，`tpl1[1:3+1]`は`(20, 30, 40)`を返す。\n",
    "* ２次元タプルの要素抽出：リストと同じ\n",
    "    * 例えば，`tpl[1][0]`は`4`を返す。\n",
    "* 要素の入れ替え：不可\n",
    "    * 例えば，`tpl[1] = 0`を実行するとエラーが発生する。\n",
    "* 要素の削除：不可\n",
    "    * 例えば，`del tpl[1]`を実行するとエラーが発生する。"
   ]
  },
  {
   "cell_type": "markdown",
   "metadata": {
    "heading_collapsed": true,
    "hidden": true
   },
   "source": [
    "#### 他のコンテナデータ型からリストへの変換"
   ]
  },
  {
   "cell_type": "markdown",
   "metadata": {
    "hidden": true
   },
   "source": [
    "* 関数`tuple()`を使う。\n",
    "\n",
    "この関数も`list()`と非常に似ている。次のリストを考えよう。"
   ]
  },
  {
   "cell_type": "code",
   "execution_count": null,
   "metadata": {
    "hidden": true
   },
   "outputs": [],
   "source": [
    "lst = [1, 3.14, 'A']\n",
    "lst"
   ]
  },
  {
   "cell_type": "code",
   "execution_count": null,
   "metadata": {
    "hidden": true
   },
   "outputs": [],
   "source": [
    "tuple(lst)"
   ]
  },
  {
   "cell_type": "markdown",
   "metadata": {
    "hidden": true
   },
   "source": [
    "辞書の場合はキーのタプルとなる。"
   ]
  },
  {
   "cell_type": "code",
   "execution_count": null,
   "metadata": {
    "hidden": true
   },
   "outputs": [],
   "source": [
    "dic = {'a':1,'b':2,'c':3}\n",
    "tuple(dic)"
   ]
  },
  {
   "cell_type": "markdown",
   "metadata": {
    "hidden": true
   },
   "source": [
    "````{note}\n",
    "次のコードでも辞書のキーからタプルを作成することができる。\n",
    "```\n",
    "tuple(dic.keys())\n",
    "```\n",
    "また辞書の値からタプルを作成するには次のコードを使うことができる。\n",
    "```\n",
    "tuple(dic.values())\n",
    "```\n",
    "ここで`.keys()`と`.values()`は`dic`のメソッドと呼ばれるものであり，下でより詳しく説明する。\n",
    "````"
   ]
  },
  {
   "cell_type": "markdown",
   "metadata": {
    "heading_collapsed": true
   },
   "source": [
    "### 辞書"
   ]
  },
  {
   "cell_type": "markdown",
   "metadata": {
    "heading_collapsed": true,
    "hidden": true
   },
   "source": [
    "#### 要素の抽出"
   ]
  },
  {
   "cell_type": "markdown",
   "metadata": {
    "hidden": true
   },
   "source": [
    "次の例を考えよう。"
   ]
  },
  {
   "cell_type": "code",
   "execution_count": null,
   "metadata": {
    "hidden": true
   },
   "outputs": [],
   "source": [
    "macro = {'inflation':2, 'unemployment':5, 'interest_rate': 3}"
   ]
  },
  {
   "cell_type": "markdown",
   "metadata": {
    "hidden": true
   },
   "source": [
    "`0`番目の要素は`inflation`（インフレ）と`2`（％）には２つのペアであり，`1`番目の要素は`unemployment`（失業）と`5`（％）のペアとなっている。辞書の場合，要素にアクセスするには`0`や`1`のインデックス番号を使わずに，キーを指定しペアとなる値を抽出する。その際，リストとタプルと同じように`[]`を使う。`inflation`の`2`にアクセスしてみよう。"
   ]
  },
  {
   "cell_type": "code",
   "execution_count": null,
   "metadata": {
    "hidden": true
   },
   "outputs": [],
   "source": [
    "macro['inflation']"
   ]
  },
  {
   "cell_type": "markdown",
   "metadata": {
    "hidden": true
   },
   "source": [
    "同様に`unemployment`の値にアクセスするには次の様にする。"
   ]
  },
  {
   "cell_type": "code",
   "execution_count": null,
   "metadata": {
    "hidden": true
   },
   "outputs": [],
   "source": [
    "macro['unemployment']"
   ]
  },
  {
   "cell_type": "markdown",
   "metadata": {
    "hidden": true
   },
   "source": [
    "辞書にスライシングはない。"
   ]
  },
  {
   "cell_type": "markdown",
   "metadata": {
    "heading_collapsed": true,
    "hidden": true
   },
   "source": [
    "#### 入れ子の場合の抽出"
   ]
  },
  {
   "cell_type": "markdown",
   "metadata": {
    "hidden": true
   },
   "source": [
    "次の例を考えよう。"
   ]
  },
  {
   "cell_type": "code",
   "execution_count": null,
   "metadata": {
    "hidden": true
   },
   "outputs": [],
   "source": [
    "dic2 = {'AB':{'a':1, 'b':2,}, 'C':[10, 20]}"
   ]
  },
  {
   "cell_type": "markdown",
   "metadata": {
    "hidden": true
   },
   "source": [
    "次のコードで`AB`の値を抽出できることは理解できるだろう。"
   ]
  },
  {
   "cell_type": "code",
   "execution_count": null,
   "metadata": {
    "hidden": true
   },
   "outputs": [],
   "source": [
    "dic3 = dic2['AB']\n",
    "dic3"
   ]
  },
  {
   "cell_type": "markdown",
   "metadata": {
    "hidden": true
   },
   "source": [
    "更に，`b`の値`2`にアクセスしたいとしよう。その場合は，"
   ]
  },
  {
   "cell_type": "code",
   "execution_count": null,
   "metadata": {
    "hidden": true
   },
   "outputs": [],
   "source": [
    "dic3['b']"
   ]
  },
  {
   "cell_type": "markdown",
   "metadata": {
    "hidden": true
   },
   "source": [
    "とすれば良い。２つのコードを一緒に書くと次の様になる。"
   ]
  },
  {
   "cell_type": "code",
   "execution_count": null,
   "metadata": {
    "hidden": true
   },
   "outputs": [],
   "source": [
    "dic2['AB']['b']"
   ]
  },
  {
   "cell_type": "markdown",
   "metadata": {
    "hidden": true
   },
   "source": [
    "同じ要領で，`20`にアクセスしてみよう。"
   ]
  },
  {
   "cell_type": "code",
   "execution_count": null,
   "metadata": {
    "hidden": true
   },
   "outputs": [],
   "source": [
    "dic2['C'][1]"
   ]
  },
  {
   "cell_type": "markdown",
   "metadata": {
    "hidden": true
   },
   "source": [
    "どれだけ入れ子になっていても`[]`を連続させることによって目的の要素にアクセスできることが分かると思う。"
   ]
  },
  {
   "cell_type": "markdown",
   "metadata": {
    "heading_collapsed": true,
    "hidden": true
   },
   "source": [
    "#### 値の入れ替え"
   ]
  },
  {
   "cell_type": "markdown",
   "metadata": {
    "hidden": true
   },
   "source": [
    "辞書はキーと値のペアとなっているが，変更できるのは値だけである。方法はリストと同じで，`=`の左辺に変更したいキーを選び，右辺に変更後の値を配置し実行するだけである。例えば，`macro`にある`unemployment`の値を`10.5`に入れ替えてみよう。"
   ]
  },
  {
   "cell_type": "code",
   "execution_count": null,
   "metadata": {
    "hidden": true
   },
   "outputs": [],
   "source": [
    "macro['unemployment'] = 10.5\n",
    "macro"
   ]
  },
  {
   "cell_type": "markdown",
   "metadata": {
    "heading_collapsed": true,
    "hidden": true
   },
   "source": [
    "#### 要素の削除"
   ]
  },
  {
   "cell_type": "markdown",
   "metadata": {
    "hidden": true
   },
   "source": [
    "どうしてもキーを変更したい場合は，キー・値のペアを削除し，新たに追加することになる。例えば，`'unemployment':10.5`を`'失業率':10.5`に「変更」するには次のコードとなる。"
   ]
  },
  {
   "cell_type": "code",
   "execution_count": null,
   "metadata": {
    "hidden": true
   },
   "outputs": [],
   "source": [
    "del macro['unemployment']  # 1\n",
    "\n",
    "macro['失業率'] = 10.5      # 2\n",
    "\n",
    "macro                      # 3"
   ]
  },
  {
   "cell_type": "markdown",
   "metadata": {
    "hidden": true
   },
   "source": [
    "* １行目で`'unemployment':10.5`を削除している，ここでの`del`はリストの要素を削除した際に使った同じ`del`である。\n",
    "* ２行目で`'失業率':10.5`を追加している。\n",
    "* ３行目は`macro`を実行して内容を表示している。"
   ]
  },
  {
   "cell_type": "markdown",
   "metadata": {
    "heading_collapsed": true,
    "hidden": true
   },
   "source": [
    "#### メソッド"
   ]
  },
  {
   "cell_type": "markdown",
   "metadata": {
    "hidden": true
   },
   "source": [
    "リスト同様，全ての辞書には様々なメソッドが備わっている。ここでは２つを紹介する。\n",
    "* `keys()`：キーを抽出するメソッド\n",
    "* `values()`：値を抽出するメソッド\n",
    "\n",
    "まず`macro`を使って`keys()`から考えよう。"
   ]
  },
  {
   "cell_type": "code",
   "execution_count": null,
   "metadata": {
    "hidden": true
   },
   "outputs": [],
   "source": [
    "mkey = macro.keys()\n",
    "mkey"
   ]
  },
  {
   "cell_type": "markdown",
   "metadata": {
    "hidden": true
   },
   "source": [
    "３つのキーが並んでいるのが確認できる。一方で表示の最初に`dict_keys`と書かれており，リストやタプルと異なる様である。データ型を確認してみよう。"
   ]
  },
  {
   "cell_type": "code",
   "execution_count": null,
   "metadata": {
    "hidden": true
   },
   "outputs": [],
   "source": [
    "type(mkey)"
   ]
  },
  {
   "cell_type": "markdown",
   "metadata": {
    "hidden": true
   },
   "source": [
    "`dict_keys`というデータ型であり，やはりリストやタプルとは異なる。リストに変換するには関数`list()`を使えば良い。"
   ]
  },
  {
   "cell_type": "code",
   "execution_count": null,
   "metadata": {
    "hidden": true
   },
   "outputs": [],
   "source": [
    "list(mkey)"
   ]
  },
  {
   "cell_type": "markdown",
   "metadata": {
    "hidden": true
   },
   "source": [
    "同様にタプルに変換するには`tuple()`を使う。\n",
    "\n",
    "次にメソッド`values()`を考えよう。"
   ]
  },
  {
   "cell_type": "code",
   "execution_count": null,
   "metadata": {
    "hidden": true
   },
   "outputs": [],
   "source": [
    "mval = macro.values()\n",
    "\n",
    "mval, type(mval)"
   ]
  },
  {
   "cell_type": "markdown",
   "metadata": {
    "hidden": true
   },
   "source": [
    "`dict_values`というデータ型となっている。リストに変換するには次のコードとなる。"
   ]
  },
  {
   "cell_type": "code",
   "execution_count": null,
   "metadata": {
    "hidden": true
   },
   "outputs": [],
   "source": [
    "list(mval)"
   ]
  },
  {
   "cell_type": "markdown",
   "metadata": {
    "heading_collapsed": true,
    "jp-MarkdownHeadingCollapsed": true
   },
   "source": [
    "## 文字列の操作"
   ]
  },
  {
   "cell_type": "markdown",
   "metadata": {
    "heading_collapsed": true,
    "hidden": true
   },
   "source": [
    "### 文字の抽出"
   ]
  },
  {
   "cell_type": "markdown",
   "metadata": {
    "hidden": true
   },
   "source": [
    "ここでは文字列型の次の操作について説明する。\n",
    "* 要素の抽出（アクセス）\n",
    "* 基本的なメソッド\n",
    "\n",
    "`Python`の文字列には6つのアルファベット文字が，それぞれを\n",
    "\n",
    "次の文字列を考えよう。"
   ]
  },
  {
   "cell_type": "code",
   "execution_count": null,
   "metadata": {
    "hidden": true
   },
   "outputs": [],
   "source": [
    "s = 'It is fun to learn Python!'"
   ]
  },
  {
   "cell_type": "markdown",
   "metadata": {
    "hidden": true
   },
   "source": [
    "`s`にはアルファベットと半角スペースが使われているが，それぞれが要素となる文字列である。従って，リスト同様`[]`を使って文字を抽出することができる。`0`番目と最後の文字は次のコードでアクセスできる。"
   ]
  },
  {
   "cell_type": "code",
   "execution_count": null,
   "metadata": {
    "hidden": true
   },
   "outputs": [],
   "source": [
    "s[0], s[-1]"
   ]
  },
  {
   "cell_type": "markdown",
   "metadata": {
    "hidden": true
   },
   "source": [
    "スライシングも使える。"
   ]
  },
  {
   "cell_type": "code",
   "execution_count": null,
   "metadata": {
    "hidden": true
   },
   "outputs": [],
   "source": [
    "s[3:10+1]"
   ]
  },
  {
   "cell_type": "markdown",
   "metadata": {
    "heading_collapsed": true,
    "hidden": true
   },
   "source": [
    "### 文字列は変更不可"
   ]
  },
  {
   "cell_type": "markdown",
   "metadata": {
    "hidden": true
   },
   "source": [
    "タプル同様，文字列は変更不可となるため次の操作はできない。\n",
    "* 要素の入れ替え\n",
    "* 要素の削除\n",
    "\n",
    "`s`の`Python`を`economics`に変更するには，新しい文字列を`s`に再割り当てすることになる。"
   ]
  },
  {
   "cell_type": "code",
   "execution_count": null,
   "metadata": {
    "hidden": true
   },
   "outputs": [],
   "source": [
    "s = 'It is fun to learn economics!'"
   ]
  },
  {
   "cell_type": "markdown",
   "metadata": {
    "heading_collapsed": true,
    "hidden": true
   },
   "source": [
    "### `list()`と`tuple()`を使う"
   ]
  },
  {
   "cell_type": "markdown",
   "metadata": {
    "hidden": true
   },
   "source": [
    "文字列に`list()`や`tuple()`を使うと，１つの文字が要素となるリストもしくはタプルを返すことになる。"
   ]
  },
  {
   "cell_type": "code",
   "execution_count": null,
   "metadata": {
    "hidden": true
   },
   "outputs": [],
   "source": [
    "list('Python')"
   ]
  },
  {
   "cell_type": "code",
   "execution_count": null,
   "metadata": {
    "hidden": true
   },
   "outputs": [],
   "source": [
    "tuple('Python')"
   ]
  },
  {
   "cell_type": "markdown",
   "metadata": {
    "heading_collapsed": true,
    "hidden": true
   },
   "source": [
    "### メソッド"
   ]
  },
  {
   "cell_type": "markdown",
   "metadata": {
    "hidden": true
   },
   "source": [
    "全ての文字列には色々なメソッドが準備されている。ここでは３つ紹介する。\n",
    "* `split()`：デフォルトでは半角スペースで分割しリストを返す。\n",
    "* `join()`：文字列を結合する。\n",
    "* `replace()`：文字列を入れ替える。\n",
    "\n",
    "`s`に`split()`を使ってみよう。"
   ]
  },
  {
   "cell_type": "code",
   "execution_count": null,
   "metadata": {
    "hidden": true
   },
   "outputs": [],
   "source": [
    "s.split()"
   ]
  },
  {
   "cell_type": "markdown",
   "metadata": {
    "hidden": true
   },
   "source": [
    "デフォルトでは区切りに半角スペースが使われ，単語がリストの構成要素となっている。`()`に分割に使う文字列を指定することもできる。例えば，`is`で分割してみよう。"
   ]
  },
  {
   "cell_type": "code",
   "execution_count": null,
   "metadata": {
    "hidden": true
   },
   "outputs": [],
   "source": [
    "s.split('is')"
   ]
  },
  {
   "cell_type": "markdown",
   "metadata": {
    "hidden": true
   },
   "source": [
    "この場合`is`が区切りとなり，`s`は２つに分かれている。\n",
    "\n",
    "次に`join()`を説明しよう。次の構文となる。\n",
    "```\n",
    "'＜結合に使う文字列＞'.join(＜文字列が含まれるリスト・タプル＞)\n",
    "```\n",
    "まずリストを作成して説明しよう。"
   ]
  },
  {
   "cell_type": "code",
   "execution_count": null,
   "metadata": {
    "hidden": true
   },
   "outputs": [],
   "source": [
    "s_new = ['P','y','t','h','o','n']"
   ]
  },
  {
   "cell_type": "code",
   "execution_count": null,
   "metadata": {
    "hidden": true
   },
   "outputs": [],
   "source": [
    "'-'.join(s_new)"
   ]
  },
  {
   "cell_type": "markdown",
   "metadata": {
    "hidden": true
   },
   "source": [
    "それぞれの文字が`-`で結合されているのがわかる。次も同じ結果を返す。"
   ]
  },
  {
   "cell_type": "code",
   "execution_count": null,
   "metadata": {
    "hidden": true
   },
   "outputs": [],
   "source": [
    "'-'.join('Python')"
   ]
  },
  {
   "cell_type": "markdown",
   "metadata": {
    "hidden": true
   },
   "source": [
    "これは\n",
    "```\n",
    "'-'.join( list('Python') )\n",
    "```\n",
    "と同じことであり，`list()`が自動的に適応されていることが分かる。\n",
    "\n",
    "`'-'.join(s_new)`の`s_new`の代わりに`s`を使ってみよう。"
   ]
  },
  {
   "cell_type": "code",
   "execution_count": null,
   "metadata": {
    "hidden": true
   },
   "outputs": [],
   "source": [
    "'-'.join(s)"
   ]
  },
  {
   "cell_type": "markdown",
   "metadata": {
    "hidden": true
   },
   "source": [
    "半角スペースを含めて全ての文字の間に`-`が入っている。単語の間にだけ`-`が入るようにするには次のコードで可能である。"
   ]
  },
  {
   "cell_type": "code",
   "execution_count": null,
   "metadata": {
    "hidden": true
   },
   "outputs": [],
   "source": [
    "'-'.join( s.split() )"
   ]
  },
  {
   "cell_type": "markdown",
   "metadata": {
    "hidden": true
   },
   "source": [
    "`s.split()`で単語からなるリストを作成した後に`join()`で結合している。\n",
    "\n",
    "メソッド`replace()`を使っても同じ結果を得ることができる。"
   ]
  },
  {
   "cell_type": "code",
   "execution_count": null,
   "metadata": {
    "hidden": true
   },
   "outputs": [],
   "source": [
    "s.replace(' ', '-')"
   ]
  },
  {
   "cell_type": "markdown",
   "metadata": {
    "hidden": true
   },
   "source": [
    "* 第１引数`' '`：入れ替える対象の文字列\n",
    "* 第２引数`'-'`：入れ替える文字列"
   ]
  },
  {
   "cell_type": "code",
   "execution_count": null,
   "metadata": {
    "hidden": true
   },
   "outputs": [],
   "source": [
    "s.replace(' ', '😁').replace('!', '‼️')"
   ]
  },
  {
   "cell_type": "markdown",
   "metadata": {
    "heading_collapsed": true,
    "jp-MarkdownHeadingCollapsed": true
   },
   "source": [
    "## まとめ"
   ]
  },
  {
   "cell_type": "markdown",
   "metadata": {
    "hidden": true
   },
   "source": [
    "**＜基本データ型の変換＞**\n",
    "\n",
    "|   関数 | 動作  |\n",
    "| ----------- | ------- |\n",
    "| `list()` | リストへ変換 |\n",
    "| `tuple()` | タプルへ変換 |\n",
    "| `str()` | 文字列へ変換 |\n",
    "| `bool()` | 真偽値の確認 |"
   ]
  },
  {
   "cell_type": "markdown",
   "metadata": {
    "hidden": true
   },
   "source": [
    "**＜要素アクセス＞**\n",
    "\n",
    "|     データ型 | 例       | 抽出方法 |\n",
    "| ----------- | ------- |---|\n",
    "| リスト | `x = [0,10,30]`    |  `x[1]`　→　`10` |\n",
    "| タプル | `y = (0,10,30)`    |  `y[1]`　→　`10` |\n",
    "| 辞書 | `z = {'a':0, 'b':10}` |  `z['b']`　→　`10` |"
   ]
  },
  {
   "cell_type": "markdown",
   "metadata": {
    "hidden": true
   },
   "source": [
    "**＜スライシング＞**\n",
    "\n",
    "|     データ型 | 例       | 抽出方法 |\n",
    "| ----------- | ------- |---|\n",
    "| リスト | `x = [0,10,20,30]`    |  `x[:2+1]`　→　`[0,10,20]` |\n",
    "| リスト | `x = [0,10,20,30]`    |  `x[1:]`　→　`[10,20,30]` |\n",
    "| リスト | `x = [0,10,20,30]`    |  `x[:]`　→　`[0,10,20,30]` |\n",
    "| リスト | `x = [0,10,20,30]`    |  `x[::-1]`　→　`[30,20,10,0]` |\n",
    "\n",
    "* 基本的にタプルも同じ"
   ]
  },
  {
   "cell_type": "markdown",
   "metadata": {
    "hidden": true
   },
   "source": [
    "**＜値の入れ替え＞**\n",
    "\n",
    "|     データ型 | 例       | 方法 |\n",
    "| ----------- | ------- |---|\n",
    "| リスト | `x = [0,10,30]`    |  `x[1]=100` |\n",
    "| タプル | `y = (0,10,30)`    |  不可 |\n",
    "| 辞書 | `z = {'a':0, 'b':10}` |  `z['b']=100` |\n",
    "\n"
   ]
  },
  {
   "cell_type": "markdown",
   "metadata": {
    "hidden": true
   },
   "source": [
    "**＜要素の削除＞**\n",
    "\n",
    "|     データ型 | 例       | 削除方法 |\n",
    "| ----------- | ------- |---|\n",
    "| リスト | `x = [0,10,30]` |  `del x[1]`　→　`[0,30]` |\n",
    "| タプル | `y = (0,10,30)` |  不可 |\n",
    "| 辞書 | `z = {'a':0,'b':10}` |  `del z['a']`　→　`{'b':10}` |"
   ]
  },
  {
   "cell_type": "markdown",
   "metadata": {
    "hidden": true
   },
   "source": [
    "**＜メソッド＞**\n",
    "\n",
    "|     データ型 |　例      | メソッド |\n",
    "| ----------- | ------- |---|\n",
    "| リスト | `x = [10]` |  `x.append(20)`　→　`[10,20]` |\n",
    "| 辞書 | `x = {'a':0,'b':10}` |  `list( x.keys() )`　→　`['a','b']` |\n",
    "| 辞書 | `x = {'a':0,'b':10}` |  `list( x.values() )`　→　`[0,10]` |\n",
    "| 文字列 | `x = 'It is me!'` |  `x.split() )`　→　`['It','is','me!']` |\n",
    "| 文字列 | `x = ['It','is','me!']` |  `'-'.join(x) )`　→　`'It-is-me.'` |\n",
    "| 文字列 | `x = 'It is me!'` |  `x.replace(' ','-') )`　→　`'It-is-me.'` |"
   ]
  }
 ],
 "metadata": {
  "celltoolbar": "Tags",
  "kernelspec": {
   "display_name": "Python 3 (ipykernel)",
   "language": "python",
   "name": "python3"
  },
  "language_info": {
   "codemirror_mode": {
    "name": "ipython",
    "version": 3
   },
   "file_extension": ".py",
   "mimetype": "text/x-python",
   "name": "python",
   "nbconvert_exporter": "python",
   "pygments_lexer": "ipython3",
   "version": "3.13.7"
  }
 },
 "nbformat": 4,
 "nbformat_minor": 4
}
