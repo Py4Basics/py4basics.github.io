{
 "cells": [
  {
   "cell_type": "markdown",
   "id": "8ab91953-8b5b-4821-98c3-625e0291d43e",
   "metadata": {},
   "source": [
    "# Create `.csv` Files"
   ]
  },
  {
   "cell_type": "code",
   "execution_count": null,
   "id": "b1436b2b-e05c-4504-9177-e9cdd28a7894",
   "metadata": {},
   "outputs": [],
   "source": [
    "import pandas as pd\n",
    "import py4macro"
   ]
  },
  {
   "cell_type": "code",
   "execution_count": null,
   "id": "c3ad032c-c374-4112-a485-94548fdc14dc",
   "metadata": {},
   "outputs": [],
   "source": [
    "df = py4macro.data('pwt')\n",
    "df.columns"
   ]
  },
  {
   "cell_type": "code",
   "execution_count": null,
   "id": "953e0edb-c969-40b5-911d-c0357ea4d942",
   "metadata": {},
   "outputs": [],
   "source": [
    "df['year'].unique()"
   ]
  },
  {
   "cell_type": "markdown",
   "id": "61711bee-f8b7-4b2e-8760-788b1e6a385d",
   "metadata": {
    "jp-MarkdownHeadingCollapsed": true
   },
   "source": [
    "## `data1.csv`"
   ]
  },
  {
   "cell_type": "code",
   "execution_count": null,
   "id": "de14f457-45bc-4b02-9e06-db8f4bba2809",
   "metadata": {},
   "outputs": [],
   "source": [
    "cols = ['country', 'cgdpo', 'csh_c', 'csh_i', 'csh_g', 'csh_x', 'csh_m', 'pop', 'continent']\n",
    "cond = df['year']==2019\n",
    "df = df.loc[cond,cols]\n",
    "# df.head()"
   ]
  },
  {
   "cell_type": "code",
   "execution_count": null,
   "id": "9270a720-eaab-4670-84f4-8fff6df9b8f3",
   "metadata": {},
   "outputs": [],
   "source": [
    "df['continent'].unique()"
   ]
  },
  {
   "cell_type": "code",
   "execution_count": null,
   "id": "0e4b6964-e3c1-47d9-ae84-b0726493c3ee",
   "metadata": {},
   "outputs": [],
   "source": [
    "for continent in df['continent'].unique():\n",
    "    cond = ( df['continent']==continent )\n",
    "    print('='*5, continent, '='*20)\n",
    "    print(df.loc[cond,'country'].unique())"
   ]
  },
  {
   "cell_type": "code",
   "execution_count": null,
   "id": "9207663b-3297-4dbe-82d5-9668b8574a7a",
   "metadata": {},
   "outputs": [],
   "source": [
    "countries = ['China', 'France', 'India', 'Italy', 'Japan', 'Germany',\n",
    "             'Republic of Korea', 'Singapore', 'Taiwan', 'United Kingdom',\n",
    "             'United States']\n",
    "cond = df['country'].isin(countries)\n",
    "df = df.loc[cond,:].reset_index(drop=True)\n",
    "df"
   ]
  },
  {
   "cell_type": "code",
   "execution_count": null,
   "id": "024e825c-a1a0-4128-8c82-fb56d4877be7",
   "metadata": {},
   "outputs": [],
   "source": [
    "df.loc[3,'country'] = 'UK'\n",
    "df.loc[7,'country'] = 'Korea'\n",
    "df.loc[10,'country'] = 'US'\n",
    "# df"
   ]
  },
  {
   "cell_type": "code",
   "execution_count": null,
   "id": "6885246f-fae5-446d-9420-968a1d138a8d",
   "metadata": {},
   "outputs": [],
   "source": [
    "df['con'] = df['cgdpo']*df['csh_c']\n",
    "df['inv'] = df['cgdpo']*df['csh_i']\n",
    "df['gov'] = df['cgdpo']*df['csh_g']\n",
    "df['netx'] = df['cgdpo']*df['csh_x']-df['cgdpo']*df['csh_m']"
   ]
  },
  {
   "cell_type": "code",
   "execution_count": null,
   "id": "ff5f1c7b-a48b-450e-921f-b04d0190ff7e",
   "metadata": {},
   "outputs": [],
   "source": [
    "df = df.rename({'cgdpo':'gdp'}, axis='columns')"
   ]
  },
  {
   "cell_type": "code",
   "execution_count": null,
   "id": "7b6d466b-09d6-448e-b0cf-f0c2d9ecccd3",
   "metadata": {},
   "outputs": [],
   "source": [
    "cols = ['country','gdp', 'con', 'inv', 'pop', 'continent']\n",
    "df = df.loc[:,cols]\n",
    "# df.head()"
   ]
  },
  {
   "cell_type": "code",
   "execution_count": null,
   "id": "ca21db24-0c51-479c-9ef3-c73683170534",
   "metadata": {},
   "outputs": [],
   "source": [
    "for col in ['gdp', 'con', 'inv']:\n",
    "    df[col] = df[col]/1000\n",
    "\n",
    "# df.head()"
   ]
  },
  {
   "cell_type": "code",
   "execution_count": null,
   "id": "fa5c597f-e786-4963-b999-be1e943695c9",
   "metadata": {},
   "outputs": [],
   "source": [
    "for col in df.columns[1:-1]:\n",
    "    df[col] = round(df[col]).astype(int)\n",
    "\n",
    "# df.head()"
   ]
  },
  {
   "cell_type": "code",
   "execution_count": null,
   "id": "d4d580a7-6664-409b-96e5-f98033a27dab",
   "metadata": {},
   "outputs": [],
   "source": [
    "df = df.sort_values('country').reset_index(drop=True)\n",
    "# df"
   ]
  },
  {
   "cell_type": "code",
   "execution_count": null,
   "id": "50b0ea4e-c7d4-4f4c-a7af-17121e31ed56",
   "metadata": {},
   "outputs": [],
   "source": [
    "df.loc[8,'inv'] = None\n",
    "df.loc[9,'con'] = None\n",
    "df.loc[9,'inv'] = None\n",
    "df"
   ]
  },
  {
   "cell_type": "code",
   "execution_count": null,
   "id": "38a42478-f4fb-4191-b5eb-51feb58a5ab2",
   "metadata": {},
   "outputs": [],
   "source": [
    "cond = (df['country']!='US')\n",
    "df.loc[cond,:].to_csv('data1.csv', index=False)"
   ]
  },
  {
   "cell_type": "code",
   "execution_count": null,
   "id": "62843818-da6c-4630-8adc-1980bcab7eb4",
   "metadata": {},
   "outputs": [],
   "source": [
    "pd.read_csv('data1.csv')"
   ]
  },
  {
   "cell_type": "markdown",
   "id": "84b9a5f4-86cf-4e5a-9c15-9ea78663dfce",
   "metadata": {},
   "source": [
    "## `data2.csv`"
   ]
  },
  {
   "cell_type": "code",
   "execution_count": null,
   "id": "db2000e1-6f6f-4286-a5a8-14de6b49124c",
   "metadata": {},
   "outputs": [],
   "source": [
    "jp = py4macro.data('jpn-q')\n",
    "jp.head()"
   ]
  },
  {
   "cell_type": "code",
   "execution_count": null,
   "id": "290c31e3-8cea-4697-84bd-55685ebd8c1e",
   "metadata": {},
   "outputs": [],
   "source": [
    "cols = ['gdp','consumption','investment','government','exports','imports']\n",
    "jp = jp.loc[:,cols]"
   ]
  },
  {
   "cell_type": "code",
   "execution_count": null,
   "id": "f1f5e1da-ef5f-4516-8a32-52a635b830b2",
   "metadata": {},
   "outputs": [],
   "source": [
    "jp = jp.resample('YS').mean()"
   ]
  },
  {
   "cell_type": "code",
   "execution_count": null,
   "id": "44606e29-608b-4e59-8e1e-e14b17ec0828",
   "metadata": {},
   "outputs": [],
   "source": [
    "jp.index = jp.index.year"
   ]
  },
  {
   "cell_type": "code",
   "execution_count": null,
   "id": "e9b67050-21e3-4b48-b544-0ee93eecf502",
   "metadata": {},
   "outputs": [],
   "source": [
    "jp.head()"
   ]
  },
  {
   "cell_type": "code",
   "execution_count": null,
   "id": "c1bec0ce-319b-4404-966a-bc6dc8d6cb84",
   "metadata": {},
   "outputs": [],
   "source": [
    "jp.index"
   ]
  },
  {
   "cell_type": "code",
   "execution_count": null,
   "id": "4e6cc2e8-583a-4896-a7f6-451cf25bf2ce",
   "metadata": {},
   "outputs": [],
   "source": [
    "jp = jp.loc[2012:,:]"
   ]
  },
  {
   "cell_type": "code",
   "execution_count": null,
   "id": "88154579-4556-4b36-826d-f9c71864d0cd",
   "metadata": {},
   "outputs": [],
   "source": [
    "jp.columns = ['gdp', 'con', 'inv', 'gov', 'exports', 'imports']\n",
    "jp"
   ]
  },
  {
   "cell_type": "code",
   "execution_count": null,
   "id": "1f7b2b4e-5b05-437f-846b-85562eb7375f",
   "metadata": {},
   "outputs": [],
   "source": [
    "jp['net_ex'] = jp['exports']-jp['imports']"
   ]
  },
  {
   "cell_type": "code",
   "execution_count": null,
   "id": "80265532-ba19-4869-b766-1a988c3b44a1",
   "metadata": {},
   "outputs": [],
   "source": [
    "cols = ['gdp', 'con', 'inv', 'gov', 'net_ex']\n",
    "jp = jp.loc[:,cols]\n",
    "jp = jp.reset_index()\n",
    "jp"
   ]
  },
  {
   "cell_type": "code",
   "execution_count": null,
   "id": "421838b6-c3fa-4acf-af48-7e668397450e",
   "metadata": {},
   "outputs": [],
   "source": [
    "jp = jp.rename({'':'year'}, axis='columns')\n",
    "jp"
   ]
  },
  {
   "cell_type": "code",
   "execution_count": null,
   "id": "70c4d9ae-3337-4416-9498-b4a724c9dce8",
   "metadata": {},
   "outputs": [],
   "source": [
    "jp.to_csv('data2.csv', index=False)"
   ]
  },
  {
   "cell_type": "code",
   "execution_count": null,
   "id": "ee6beeba-78de-46e7-be04-6b0744c09aa3",
   "metadata": {},
   "outputs": [],
   "source": [
    "pd.read_csv('data2.csv')"
   ]
  },
  {
   "cell_type": "code",
   "execution_count": null,
   "id": "f00263dc-a4dd-47a8-b39c-30c8ee955e85",
   "metadata": {},
   "outputs": [],
   "source": []
  }
 ],
 "metadata": {
  "kernelspec": {
   "display_name": "Python 3 (ipykernel)",
   "language": "python",
   "name": "python3"
  },
  "language_info": {
   "codemirror_mode": {
    "name": "ipython",
    "version": 3
   },
   "file_extension": ".py",
   "mimetype": "text/x-python",
   "name": "python",
   "nbconvert_exporter": "python",
   "pygments_lexer": "ipython3",
   "version": "3.12.2"
  }
 },
 "nbformat": 4,
 "nbformat_minor": 5
}
