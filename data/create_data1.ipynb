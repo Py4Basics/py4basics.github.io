{
 "cells": [
  {
   "cell_type": "code",
   "execution_count": null,
   "id": "b1436b2b-e05c-4504-9177-e9cdd28a7894",
   "metadata": {},
   "outputs": [],
   "source": [
    "import pandas as pd\n",
    "import py4macro"
   ]
  },
  {
   "cell_type": "code",
   "execution_count": null,
   "id": "c3ad032c-c374-4112-a485-94548fdc14dc",
   "metadata": {},
   "outputs": [],
   "source": [
    "df = py4macro.data('pwt')\n",
    "df.columns"
   ]
  },
  {
   "cell_type": "code",
   "execution_count": null,
   "id": "953e0edb-c969-40b5-911d-c0357ea4d942",
   "metadata": {},
   "outputs": [],
   "source": [
    "df['year'].unique()"
   ]
  },
  {
   "cell_type": "code",
   "execution_count": null,
   "id": "de14f457-45bc-4b02-9e06-db8f4bba2809",
   "metadata": {},
   "outputs": [],
   "source": [
    "cols = ['country', 'cgdpo', 'csh_c', 'csh_i', 'csh_g', 'csh_x', 'csh_m', 'pop', 'continent']\n",
    "cond = df['year']==2019\n",
    "df = df.loc[cond,cols]\n",
    "# df.head()"
   ]
  },
  {
   "cell_type": "code",
   "execution_count": null,
   "id": "9270a720-eaab-4670-84f4-8fff6df9b8f3",
   "metadata": {},
   "outputs": [],
   "source": [
    "df['continent'].unique()"
   ]
  },
  {
   "cell_type": "code",
   "execution_count": null,
   "id": "0e4b6964-e3c1-47d9-ae84-b0726493c3ee",
   "metadata": {},
   "outputs": [],
   "source": [
    "for continent in df['continent'].unique():\n",
    "    cond = ( df['continent']==continent )\n",
    "    print('='*5, continent, '='*20)\n",
    "    print(df.loc[cond,'country'].unique())"
   ]
  },
  {
   "cell_type": "code",
   "execution_count": null,
   "id": "9207663b-3297-4dbe-82d5-9668b8574a7a",
   "metadata": {},
   "outputs": [],
   "source": [
    "countries = ['China', 'France', 'India', 'Italy', 'Japan', 'Germany',\n",
    "             'Republic of Korea', 'Singapore', 'Taiwan', 'United Kingdom']\n",
    "cond = df['country'].isin(countries)\n",
    "df = df.loc[cond,:].reset_index(drop=True)\n",
    "# df"
   ]
  },
  {
   "cell_type": "code",
   "execution_count": null,
   "id": "024e825c-a1a0-4128-8c82-fb56d4877be7",
   "metadata": {},
   "outputs": [],
   "source": [
    "df.loc[3,'country'] = 'UK'\n",
    "df.loc[7,'country'] = 'Korea'\n",
    "# df"
   ]
  },
  {
   "cell_type": "code",
   "execution_count": null,
   "id": "6885246f-fae5-446d-9420-968a1d138a8d",
   "metadata": {},
   "outputs": [],
   "source": [
    "df['con'] = df['cgdpo']*df['csh_c']\n",
    "df['inv'] = df['cgdpo']*df['csh_i']\n",
    "df['gov'] = df['cgdpo']*df['csh_g']\n",
    "df['netx'] = df['cgdpo']*df['csh_x']-df['cgdpo']*df['csh_m']"
   ]
  },
  {
   "cell_type": "code",
   "execution_count": null,
   "id": "ff5f1c7b-a48b-450e-921f-b04d0190ff7e",
   "metadata": {},
   "outputs": [],
   "source": [
    "df = df.rename({'cgdpo':'gdp'}, axis='columns')"
   ]
  },
  {
   "cell_type": "code",
   "execution_count": null,
   "id": "7b6d466b-09d6-448e-b0cf-f0c2d9ecccd3",
   "metadata": {},
   "outputs": [],
   "source": [
    "cols = ['country','gdp', 'con', 'inv', 'pop', 'continent']\n",
    "df = df.loc[:,cols]\n",
    "# df.head()"
   ]
  },
  {
   "cell_type": "code",
   "execution_count": null,
   "id": "ca21db24-0c51-479c-9ef3-c73683170534",
   "metadata": {},
   "outputs": [],
   "source": [
    "for col in ['gdp', 'con', 'inv']:\n",
    "    df[col] = df[col]/1000\n",
    "\n",
    "# df.head()"
   ]
  },
  {
   "cell_type": "code",
   "execution_count": null,
   "id": "fa5c597f-e786-4963-b999-be1e943695c9",
   "metadata": {},
   "outputs": [],
   "source": [
    "for col in df.columns[1:-1]:\n",
    "    df[col] = round(df[col]).astype(int)\n",
    "\n",
    "# df.head()"
   ]
  },
  {
   "cell_type": "code",
   "execution_count": null,
   "id": "d4d580a7-6664-409b-96e5-f98033a27dab",
   "metadata": {},
   "outputs": [],
   "source": [
    "df = df.sort_values('country').reset_index(drop=True)\n",
    "# df"
   ]
  },
  {
   "cell_type": "code",
   "execution_count": null,
   "id": "50b0ea4e-c7d4-4f4c-a7af-17121e31ed56",
   "metadata": {},
   "outputs": [],
   "source": [
    "df.loc[8,'inv'] = None\n",
    "df.loc[9,'con'] = None\n",
    "df.loc[9,'inv'] = None\n",
    "# df"
   ]
  },
  {
   "cell_type": "code",
   "execution_count": null,
   "id": "38a42478-f4fb-4191-b5eb-51feb58a5ab2",
   "metadata": {},
   "outputs": [],
   "source": [
    "df.to_csv('data1.csv', index=False)"
   ]
  },
  {
   "cell_type": "code",
   "execution_count": null,
   "id": "62843818-da6c-4630-8adc-1980bcab7eb4",
   "metadata": {},
   "outputs": [],
   "source": [
    "pd.read_csv('data1.csv')"
   ]
  },
  {
   "cell_type": "code",
   "execution_count": null,
   "id": "fba75bbe-c9c4-475e-b280-d15c9bd50e39",
   "metadata": {},
   "outputs": [],
   "source": []
  }
 ],
 "metadata": {
  "kernelspec": {
   "display_name": "Python 3 (ipykernel)",
   "language": "python",
   "name": "python3"
  },
  "language_info": {
   "codemirror_mode": {
    "name": "ipython",
    "version": 3
   },
   "file_extension": ".py",
   "mimetype": "text/x-python",
   "name": "python",
   "nbconvert_exporter": "python",
   "pygments_lexer": "ipython3",
   "version": "3.12.2"
  }
 },
 "nbformat": 4,
 "nbformat_minor": 5
}
