{
 "cells": [
  {
   "cell_type": "markdown",
   "metadata": {},
   "source": [
    "# モジュールと疑似コード"
   ]
  },
  {
   "cell_type": "markdown",
   "metadata": {},
   "source": [
    "<div name=\"html-admonition\" style=\"font-size: 0.8em\">\n",
    "<input type=\"button\" onclick=\"location.href='https://translate.google.com/translate?hl=&sl=ja&tl=en&u='+window.location;\" value=\"Google translation\" style=\"color:#ffffff;background-color:#008080; height:25px\" onmouseover=\"this.style.background='#99ccff'\" onmouseout=\"this.style.background='#008080'\"/> in English or the language of your choice.\n",
    "</div><br>"
   ]
  },
  {
   "cell_type": "markdown",
   "metadata": {
    "heading_collapsed": true
   },
   "source": [
    "## モジュールとパッケージ"
   ]
  },
  {
   "cell_type": "markdown",
   "metadata": {
    "heading_collapsed": true,
    "hidden": true
   },
   "source": [
    "### 説明"
   ]
  },
  {
   "cell_type": "markdown",
   "metadata": {
    "hidden": true
   },
   "source": [
    "Pythonには組み込み関数が多く用意されているが，Jupyter Notebookで`Python`のセッションを開始しても全ての関数が使える状態になっていない。使えるようにするためには，モジュール（modules）やパッケージ（package）と呼ばれるものを読み込む必要がある。２つの違いを簡単にいうと次のようになる。\n",
    "* モジュール（module）は**１つ**のファイル（拡張子が`.py`）にまとめられた関数群であり，\n",
    "* パッケージは（package）**複数**つのファイル（拡張子が`.py`）で構成されている（フォルダーにまとめられている）"
   ]
  },
  {
   "cell_type": "markdown",
   "metadata": {
    "hidden": true
   },
   "source": [
    "従って，モジュール全体を読み込んだり，あるパッケージの１つのモジュールだけを読み込むということも可能である。授業では，`NumPy`，`SciPy`，`Pandas`を使うが，ここでは例として数学用の`math`モジュール，ランダム変数用の`random`モジュール，オブジェクトの属性を表示する`see`モジュールを取り上げる。\n",
    "\n",
    "含まれる関数を使うためには`import`を使って読み込む必要がある。モジュールの全てを読み込むとモジュール内の全ての関数が使用可能となる。"
   ]
  },
  {
   "cell_type": "markdown",
   "metadata": {
    "hidden": true
   },
   "source": [
    "````{note}\n",
    "更に付け加えると，サブパッケージ（subpackage）とサブモジュール（submodule）がある大きなパッケージもある。次の章で説明する[Numpy](chap:numpy)パッケージを例として挙げることができる。フォルダーのの構成で考えると次のようになる。\n",
    "```\n",
    "package（フォルダー）\n",
    "|-- __init__.py（ファイル）\n",
    "|-- module.py（ファイル; 関数が配置）\n",
    "|-- subpackage（フォルダー）\n",
    "        |-- __init__.py（ファイル）\n",
    "        |-- submodule.py（ファイル; 関数が配置）\n",
    "```\n",
    "ここで`__init__.py`はパッケージとサブパッケージのフォルダーに必ず必要なファイルであり，空の場合もあれば関数が含まれる場合もある。\n",
    "````"
   ]
  },
  {
   "cell_type": "markdown",
   "metadata": {
    "heading_collapsed": true,
    "hidden": true,
    "tags": [
     "remove-cell"
    ]
   },
   "source": [
    "### `math`モジュール"
   ]
  },
  {
   "cell_type": "markdown",
   "metadata": {
    "hidden": true
   },
   "source": [
    "(sec:V-solow)=\n",
    "### `math`モジュール"
   ]
  },
  {
   "cell_type": "markdown",
   "metadata": {
    "hidden": true
   },
   "source": [
    "名前が示すように数学に関する関数がまとめられているモジュールとなる（[詳細はこのリンクを参照](https://docs.python.org/ja/3/library/math.html)）。`math`を次のコードで読み込むことができる。"
   ]
  },
  {
   "cell_type": "code",
   "execution_count": 1,
   "metadata": {
    "hidden": true
   },
   "outputs": [],
   "source": [
    "import math"
   ]
  },
  {
   "cell_type": "markdown",
   "metadata": {
    "hidden": true
   },
   "source": [
    "最初の例として平方根を計算してみよう。使う関数名は，square rootの略となる`sqrt()`。"
   ]
  },
  {
   "cell_type": "code",
   "execution_count": 2,
   "metadata": {
    "hidden": true
   },
   "outputs": [
    {
     "data": {
      "text/plain": [
       "2.0"
      ]
     },
     "execution_count": 2,
     "metadata": {},
     "output_type": "execute_result"
    }
   ],
   "source": [
    "math.sqrt(4)"
   ]
  },
  {
   "cell_type": "markdown",
   "metadata": {
    "hidden": true
   },
   "source": [
    "`math.sqrt`とは「`math`モジュールの`sqrt`」という意味であり，`math`をつけるのは他のモジュールの関数`sqrt`とバッティングしないようにするためである。\n",
    "\n",
    "モジュール名が長い場合は，短い名前で読み込むことも可能である。"
   ]
  },
  {
   "cell_type": "code",
   "execution_count": 3,
   "metadata": {
    "hidden": true
   },
   "outputs": [],
   "source": [
    "import math as m"
   ]
  },
  {
   "cell_type": "code",
   "execution_count": 4,
   "metadata": {
    "hidden": true
   },
   "outputs": [
    {
     "data": {
      "text/plain": [
       "3.0"
      ]
     },
     "execution_count": 4,
     "metadata": {},
     "output_type": "execute_result"
    }
   ],
   "source": [
    "m.sqrt(9)"
   ]
  },
  {
   "cell_type": "markdown",
   "metadata": {
    "hidden": true
   },
   "source": [
    "モジュール内の特定の関数だけを読み込むことも可能である。"
   ]
  },
  {
   "cell_type": "code",
   "execution_count": 5,
   "metadata": {
    "hidden": true
   },
   "outputs": [],
   "source": [
    "from math import sqrt, log   # logは自然対数で, sqrtの両方を読み込む"
   ]
  },
  {
   "cell_type": "markdown",
   "metadata": {
    "hidden": true
   },
   "source": [
    "このコードは「`math`モジュールから`sqrt`と`log`を読み込む」と読むことができる。"
   ]
  },
  {
   "cell_type": "code",
   "execution_count": 6,
   "metadata": {
    "hidden": true
   },
   "outputs": [
    {
     "data": {
      "text/plain": [
       "(3.1622776601683795, 2.302585092994046)"
      ]
     },
     "execution_count": 6,
     "metadata": {},
     "output_type": "execute_result"
    }
   ],
   "source": [
    "sqrt(10), log(10)"
   ]
  },
  {
   "cell_type": "markdown",
   "metadata": {
    "hidden": true
   },
   "source": [
    "ただ、この場合は他のモジュールやパッケージ、もしくは自分が定義した関数をバッティングしないように注意する必要がある。"
   ]
  },
  {
   "cell_type": "markdown",
   "metadata": {
    "heading_collapsed": true,
    "hidden": true
   },
   "source": [
    "### `random`モジュール"
   ]
  },
  {
   "cell_type": "markdown",
   "metadata": {
    "hidden": true
   },
   "source": [
    "`random`モジュールを使うことにより乱数を発生させることができる（[詳細はこのリンクを参照](https://docs.python.org/ja/3/library/random.html)）。まず`random`をインポートしよう。"
   ]
  },
  {
   "cell_type": "code",
   "execution_count": 7,
   "metadata": {
    "hidden": true
   },
   "outputs": [],
   "source": [
    "import random"
   ]
  },
  {
   "cell_type": "markdown",
   "metadata": {
    "hidden": true
   },
   "source": [
    "様々な関数が用意されているが，その中の`randint()`関数は，引数で指定するランダムな整数を返す。\n",
    "* 第１引数：最小値（整数型）\n",
    "* 第２引数：最大値（整数型）\n",
    "\n",
    "次のコードは$[1,10]$の間の整数を返す。`1`と`10`は戻り値に含まれることに注意しよう。\n",
    "```\n",
    "random.randint(1, 10)\n",
    "```\n",
    "\n",
    "では実際にコードを実行してみよう。次のコードはサイコロの目（1~6）を１つを返す。"
   ]
  },
  {
   "cell_type": "code",
   "execution_count": 8,
   "metadata": {
    "hidden": true
   },
   "outputs": [
    {
     "data": {
      "text/plain": [
       "2"
      ]
     },
     "execution_count": 8,
     "metadata": {},
     "output_type": "execute_result"
    }
   ],
   "source": [
    "random.randint(1,6)"
   ]
  },
  {
   "cell_type": "markdown",
   "metadata": {
    "hidden": true
   },
   "source": [
    "内包表記を使って10回サイコロを振った結果を表示してみよう。"
   ]
  },
  {
   "cell_type": "code",
   "execution_count": 9,
   "metadata": {
    "hidden": true
   },
   "outputs": [
    {
     "data": {
      "text/plain": [
       "[3, 1, 6, 3, 4, 1, 3, 2, 4, 5]"
      ]
     },
     "execution_count": 9,
     "metadata": {},
     "output_type": "execute_result"
    }
   ],
   "source": [
    "[random.randint(1,6) for _ in range(10)]"
   ]
  },
  {
   "cell_type": "markdown",
   "metadata": {
    "hidden": true
   },
   "source": [
    "````{note}\n",
    "内包表記に`_`（アンダースコア）を使っている。`i`や`j`を使っても良いが，回数を数える以外に役目はない。その様な場合に良く使われるのが`_`である。`for`ループでも同じことが言える。次のコードが例として挙げられる。\n",
    "```\n",
    "for _ in range(5):\n",
    "    print('hello')\n",
    "```\n",
    "２行目に`_`は入っていないので，ループの回数を数える以外の役割はない。\n",
    "````"
   ]
  },
  {
   "cell_type": "markdown",
   "metadata": {
    "hidden": true
   },
   "source": [
    "次に，`gauss()`を紹介する。この関数は，正規分布から生成されたランダム変数を１つ返す。引数は次の様になっている。\n",
    "* 第１引数：平均値\n",
    "* 第２引数：標準偏差\n",
    "\n",
    "従って，次のコードは標準正規分布からのランダム変数を生成する。\n",
    "\n",
    "```\n",
    "random.gauss(0, 1)\n",
    "```\n",
    "関数名が`gauss`なのは，正規分布はガウス分布とも呼ばれるためである。\n",
    "\n",
    "\n",
    "次のコードは，平均`10`，標準偏差`2`からランダム変数を生成している。"
   ]
  },
  {
   "cell_type": "code",
   "execution_count": 10,
   "metadata": {
    "hidden": true
   },
   "outputs": [
    {
     "data": {
      "text/plain": [
       "8.301385857186684"
      ]
     },
     "execution_count": 10,
     "metadata": {},
     "output_type": "execute_result"
    }
   ],
   "source": [
    "random.gauss(10,2)"
   ]
  },
  {
   "cell_type": "markdown",
   "metadata": {
    "hidden": true
   },
   "source": [
    "内包表記を使って，標準正規分布から生成された`10`のランダム変数からなるリストを作成しよう。"
   ]
  },
  {
   "cell_type": "code",
   "execution_count": 11,
   "metadata": {
    "hidden": true
   },
   "outputs": [
    {
     "data": {
      "text/plain": [
       "[1.2998836845549993,\n",
       " 1.0197746538986994,\n",
       " 0.5224863945476396,\n",
       " 0.14541699129475283,\n",
       " 0.029445098433902788,\n",
       " -0.14711771468654342,\n",
       " -0.31990421549093495,\n",
       " -2.1299873631952284,\n",
       " 0.9948534074485129,\n",
       " 1.6321468091038032]"
      ]
     },
     "execution_count": 11,
     "metadata": {},
     "output_type": "execute_result"
    }
   ],
   "source": [
    "[random.gauss(0,1) for _ in range(10)]"
   ]
  },
  {
   "cell_type": "markdown",
   "metadata": {
    "heading_collapsed": true,
    "hidden": true
   },
   "source": [
    "### `see`モジュール"
   ]
  },
  {
   "cell_type": "markdown",
   "metadata": {
    "hidden": true
   },
   "source": [
    "[オブジェクトと属性](object)の節で属性を確認する`dir()`関数について説明した。`dir()`は組み込み関数であるため，パッケージやモジュールをインポートしなくても使えるので便利である。しかし通常使う必要がない`__`（`_`が２つ並んでいる）が付いている属性（例えば，`.__init__`）まで表示されてしまう。それらを省いて，属性のリストを見やすく表示するのが`see`モジュールである。\n",
    "\n",
    "```{hint}\n",
    "`_`はunderscoreと読む。`_`が2つ並んだ`__`はdouble underscoresだが，略してdunder（ダンダー）と呼ばれる。また，`.__init__`のような属性は特殊属性と呼ばれるが，ダンダー属性と呼ぶこともある。\n",
    "```\n",
    "\n",
    "`see`モジュールの使い方は簡単で，まず次のコードでインポートする。"
   ]
  },
  {
   "cell_type": "code",
   "execution_count": 12,
   "metadata": {
    "hidden": true
   },
   "outputs": [],
   "source": [
    "from see import see"
   ]
  },
  {
   "cell_type": "markdown",
   "metadata": {
    "hidden": true
   },
   "source": [
    "後はインポートした関数を`dir()`と同じように使うだけである。簡単な例を考えよう。"
   ]
  },
  {
   "cell_type": "code",
   "execution_count": 13,
   "metadata": {
    "hidden": true
   },
   "outputs": [],
   "source": [
    "x = 10.99"
   ]
  },
  {
   "cell_type": "markdown",
   "metadata": {
    "hidden": true
   },
   "source": [
    "`dir()`を使うと通常は必要ないものまで表示される。"
   ]
  },
  {
   "cell_type": "code",
   "execution_count": 14,
   "metadata": {
    "hidden": true,
    "tags": [
     "output_scroll"
    ]
   },
   "outputs": [
    {
     "data": {
      "text/plain": [
       "['__abs__',\n",
       " '__add__',\n",
       " '__bool__',\n",
       " '__ceil__',\n",
       " '__class__',\n",
       " '__delattr__',\n",
       " '__dir__',\n",
       " '__divmod__',\n",
       " '__doc__',\n",
       " '__eq__',\n",
       " '__float__',\n",
       " '__floor__',\n",
       " '__floordiv__',\n",
       " '__format__',\n",
       " '__ge__',\n",
       " '__getattribute__',\n",
       " '__getformat__',\n",
       " '__getnewargs__',\n",
       " '__gt__',\n",
       " '__hash__',\n",
       " '__init__',\n",
       " '__init_subclass__',\n",
       " '__int__',\n",
       " '__le__',\n",
       " '__lt__',\n",
       " '__mod__',\n",
       " '__mul__',\n",
       " '__ne__',\n",
       " '__neg__',\n",
       " '__new__',\n",
       " '__pos__',\n",
       " '__pow__',\n",
       " '__radd__',\n",
       " '__rdivmod__',\n",
       " '__reduce__',\n",
       " '__reduce_ex__',\n",
       " '__repr__',\n",
       " '__rfloordiv__',\n",
       " '__rmod__',\n",
       " '__rmul__',\n",
       " '__round__',\n",
       " '__rpow__',\n",
       " '__rsub__',\n",
       " '__rtruediv__',\n",
       " '__set_format__',\n",
       " '__setattr__',\n",
       " '__sizeof__',\n",
       " '__str__',\n",
       " '__sub__',\n",
       " '__subclasshook__',\n",
       " '__truediv__',\n",
       " '__trunc__',\n",
       " 'as_integer_ratio',\n",
       " 'conjugate',\n",
       " 'fromhex',\n",
       " 'hex',\n",
       " 'imag',\n",
       " 'is_integer',\n",
       " 'real']"
      ]
     },
     "execution_count": 14,
     "metadata": {},
     "output_type": "execute_result"
    }
   ],
   "source": [
    "dir(x)"
   ]
  },
  {
   "cell_type": "markdown",
   "metadata": {
    "hidden": true
   },
   "source": [
    "`see()`を使うとダンダー属性は表示されない。"
   ]
  },
  {
   "cell_type": "code",
   "execution_count": 15,
   "metadata": {
    "hidden": true
   },
   "outputs": [
    {
     "data": {
      "text/plain": [
       "    +             -             *             /             //            %\n",
       "    **            +obj          -obj          <             <=            ==\n",
       "    !=            >             >=            abs()         bool()\n",
       "    dir()         divmod()      float()       hash()        help()\n",
       "    int()         repr()        round()       str()\n",
       "    .as_integer_ratio()         .conjugate()                .fromhex()\n",
       "    .hex()        .imag         .is_integer()               .real"
      ]
     },
     "execution_count": 15,
     "metadata": {},
     "output_type": "execute_result"
    }
   ],
   "source": [
    "see(x)"
   ]
  },
  {
   "cell_type": "markdown",
   "metadata": {
    "hidden": true
   },
   "source": [
    "`see()`を使う利点がもう一つある。表示されたリストを見ると，メソッドには`()`が付けられているが，単なるデータ属性には付いていない。（表示さている属性・メソッドが全て使えるわけではないので注意しよう）。例えば，`is_integer()`は整数であれば`True`を返すメソッドであり，`.real`と`.imag`は複素数の実部と虚部を返す属性となる。"
   ]
  },
  {
   "cell_type": "code",
   "execution_count": 16,
   "metadata": {
    "hidden": true
   },
   "outputs": [
    {
     "data": {
      "text/plain": [
       "False"
      ]
     },
     "execution_count": 16,
     "metadata": {},
     "output_type": "execute_result"
    }
   ],
   "source": [
    "x.is_integer()"
   ]
  },
  {
   "cell_type": "code",
   "execution_count": 17,
   "metadata": {
    "hidden": true
   },
   "outputs": [
    {
     "data": {
      "text/plain": [
       "(10.99, 0.0)"
      ]
     },
     "execution_count": 17,
     "metadata": {},
     "output_type": "execute_result"
    }
   ],
   "source": [
    "x.real, x.imag"
   ]
  },
  {
   "cell_type": "markdown",
   "metadata": {
    "hidden": true
   },
   "source": [
    "````{note}\n",
    "ここでは`see`関数を直接インポートして使ったが，次のようにインポートすることも可能である。\n",
    "```\n",
    "import see\n",
    "```\n",
    "上の例を使うと，この場合は`see.see(x)`として`x`の属性を確認できる。\n",
    "````"
   ]
  },
  {
   "cell_type": "markdown",
   "metadata": {
    "heading_collapsed": true
   },
   "source": [
    "## アルゴリズム"
   ]
  },
  {
   "cell_type": "markdown",
   "metadata": {
    "hidden": true
   },
   "source": [
    "コンピューターは`0`と`1`で書かれている機械語しか理解できないが，プログラマーにとって機械語は非常に難解である。つまりプログラマーとコンピューターは直接「会話」ができない。この問題を解決するために，プログラミング言語が開発され「通訳・翻訳」の役割を担っている。`Python`を使う場合は，`Python`コードを書き，それを`Python`が機械語に「通訳」し，コンピューターが命令を実行することになる。結果が表示されると，プログラマーは内容を確認し，コードを追加・修正などをおこない開発が進んでいく。Jupyter Notebookでコードを書く場合でも同じである。\n",
    "<pre>\n",
    "+--------------+　　Pythonが「通訳」 　+-------+\n",
    "|　Pythonコード　| ▷ ▷ ▷ ▷ ▷ ▷ ▷ ▷ ▷　| 機械語　|\n",
    "+--------------+   　　　　　　　 　   +-------+\n",
    "       ▲                          　  　 ▽\n",
    "       ▲                          　　   ▽\n",
    "       ▲ アルゴリズム       　　　　　　   　▽ 実  \n",
    "       ▲ 疑似コード　　        　      　  ▽ 行  \n",
    "       ▲                          　  　 ▽\n",
    "       ▲                          　　   ▽\n",
    "+-------------+　　　　内容を確認　  　  +-----+\n",
    "|　プログラマー　| ◀︎ ◀︎ ◀︎ ◀︎ ◀︎ ◀︎ ◀︎ ◀︎ ◀︎ ◀︎　| 結果 |\n",
    "+-------------+     　　　　  　　 　 　+-----+\n",
    "\n",
    "▶︎：プログラマーがおこなう\n",
    "▷：コンピューターがおこなう\n",
    "</pre>"
   ]
  },
  {
   "cell_type": "markdown",
   "metadata": {
    "hidden": true
   },
   "source": [
    "このサイクルの中で**アルゴリズム**は，プログラマーが`Python`コードを書く際に重要な役割を果たす。日本産業規格（JIS X0001）は次のように定義している。\n",
    "\n",
    "> 問題を解くためのものであって，明確に定義され，順序付けられた有限個の規則からなる集合\n",
    "\n",
    "平たく言えば，コンピューターが実行すると正しい結果が保証された計算手続である。更に，その計算手続きはどのプログラミング言語でも使える問題解決の明確な考え方である。\n",
    "\n",
    "例えば，カレーを作るとしよう。アルゴリズムはその場合のレシピである。ある程度料理ができる人であれば，書かれている手順に沿って作れば美味しいカレーが出来上がるレシピがアルゴリズムである。様々な問題には異なるアルゴリズムがある。また１つの問題には複数のアルゴリズムが存在する。カレーでも色々なレシピがあるのと同じである。\n",
    "\n",
    "ではどのプログラミング言語にも使えるアルゴリズムをどのように表現するのだろう。１つの方法が[フローチャート](https://www.google.co.jp/search?q=%E3%83%95%E3%83%AD%E3%83%BC%E3%83%81%E3%83%A3%E3%83%BC%E3%83%88%E3%80%80%E3%83%97%E3%83%AD%E3%82%B0%E3%83%A9%E3%83%9F%E3%83%B3%E3%82%B0)である。そしてもう１つが疑似コードである。以下では疑似コードに基づいてコードの書き方を検討する。"
   ]
  },
  {
   "cell_type": "markdown",
   "metadata": {
    "heading_collapsed": true
   },
   "source": [
    "## 疑似コード"
   ]
  },
  {
   "cell_type": "markdown",
   "metadata": {
    "hidden": true
   },
   "source": [
    "疑似コードとは，自然言語（日本語や英語）で書かれたコードである。`Python`は実行できない箇条書きのような文章となっている。レポートを書く際に，まずアウトラインを考えて書き出す人もいると思うが，それをイメージすれば良いだろう。次の点が重要となる。\n",
    "* 明確さ\n",
    "* 簡潔さ\n",
    "* 細かい詳細は省く\n",
    "    * アルゴリズムの核となる部分を捉える\n",
    "* 高い可読性\n",
    "    * コードを理解できる人ならで誰が読んでも手順が分かるもの\n",
    "\n",
    "一方で，疑似コードの決まった書き方はない。通常は人それぞれ自分のスタイルや好みに合わせて書いているのが実状である（出版のための共通のスタイルがある場合もある）。ここでは次のスタイルとする。\n",
    "* `Python`コードと同じインデントを使う。\n",
    "* `Python`コード（例えば，`for`や`while`）を使えればそのまま使う。\n",
    "    * 疑似コードを英語で書く場合，英語での記述と区別するために大文字を多用するが，日本語とは区別し易いので小文字を使う。\n",
    "    \n",
    "これら以外は，箇条書きスタイルとしよう。"
   ]
  },
  {
   "cell_type": "markdown",
   "metadata": {
    "heading_collapsed": true,
    "hidden": true
   },
   "source": [
    "### `FizzBuzz`問題"
   ]
  },
  {
   "cell_type": "markdown",
   "metadata": {
    "hidden": true
   },
   "source": [
    "まず例として有名な`FizzBuzz`問題を考えよう。\n",
    "\n",
    "> 1から100までの数字を表示する。ただし，\n",
    "> * 3の倍数は数字の代わりに`Fizz`と表示し，\n",
    "> * 5の倍数は数字の代わりに`Buzz`と表示し，\n",
    "> * 3と5の倍数は数字の代わりに`FizzBuzz`と表示する。\n",
    "\n",
    "次のコードでは`fizzbuzz`関数として書いている。"
   ]
  },
  {
   "cell_type": "code",
   "execution_count": 18,
   "metadata": {
    "hidden": true
   },
   "outputs": [],
   "source": [
    "def fizzbuzz():\n",
    "    \n",
    "    for i in range(1,100+1):\n",
    "        \n",
    "        if i % 3 == 0 and i % 5 == 0:\n",
    "            print('FizzBuzz')\n",
    "            \n",
    "        elif i % 3 == 0:\n",
    "            print('Fizz')\n",
    "            \n",
    "        elif i % 5 == 0:\n",
    "            print('Buzz')\n",
    "            \n",
    "        else:\n",
    "            print(i)"
   ]
  },
  {
   "cell_type": "markdown",
   "metadata": {
    "hidden": true
   },
   "source": [
    "ここで`%`は除算の余りを返す演算子である。実行してみよう。"
   ]
  },
  {
   "cell_type": "code",
   "execution_count": 19,
   "metadata": {
    "collapsed": true,
    "hidden": true,
    "tags": [
     "output_scroll"
    ]
   },
   "outputs": [
    {
     "name": "stdout",
     "output_type": "stream",
     "text": [
      "1\n",
      "2\n",
      "Fizz\n",
      "4\n",
      "Buzz\n",
      "Fizz\n",
      "7\n",
      "8\n",
      "Fizz\n",
      "Buzz\n",
      "11\n",
      "Fizz\n",
      "13\n",
      "14\n",
      "FizzBuzz\n",
      "16\n",
      "17\n",
      "Fizz\n",
      "19\n",
      "Buzz\n",
      "Fizz\n",
      "22\n",
      "23\n",
      "Fizz\n",
      "Buzz\n",
      "26\n",
      "Fizz\n",
      "28\n",
      "29\n",
      "FizzBuzz\n",
      "31\n",
      "32\n",
      "Fizz\n",
      "34\n",
      "Buzz\n",
      "Fizz\n",
      "37\n",
      "38\n",
      "Fizz\n",
      "Buzz\n",
      "41\n",
      "Fizz\n",
      "43\n",
      "44\n",
      "FizzBuzz\n",
      "46\n",
      "47\n",
      "Fizz\n",
      "49\n",
      "Buzz\n",
      "Fizz\n",
      "52\n",
      "53\n",
      "Fizz\n",
      "Buzz\n",
      "56\n",
      "Fizz\n",
      "58\n",
      "59\n",
      "FizzBuzz\n",
      "61\n",
      "62\n",
      "Fizz\n",
      "64\n",
      "Buzz\n",
      "Fizz\n",
      "67\n",
      "68\n",
      "Fizz\n",
      "Buzz\n",
      "71\n",
      "Fizz\n",
      "73\n",
      "74\n",
      "FizzBuzz\n",
      "76\n",
      "77\n",
      "Fizz\n",
      "79\n",
      "Buzz\n",
      "Fizz\n",
      "82\n",
      "83\n",
      "Fizz\n",
      "Buzz\n",
      "86\n",
      "Fizz\n",
      "88\n",
      "89\n",
      "FizzBuzz\n",
      "91\n",
      "92\n",
      "Fizz\n",
      "94\n",
      "Buzz\n",
      "Fizz\n",
      "97\n",
      "98\n",
      "Fizz\n",
      "Buzz\n"
     ]
    }
   ],
   "source": [
    "fizzbuzz()"
   ]
  },
  {
   "cell_type": "markdown",
   "metadata": {
    "hidden": true
   },
   "source": [
    "これを疑似コードで表してみよう。"
   ]
  },
  {
   "cell_type": "markdown",
   "metadata": {
    "hidden": true
   },
   "source": [
    "```\n",
    "def フィズバズ（）\n",
    "\n",
    "    forループ i <-- 1から100まで\n",
    "    \n",
    "        if i を3で割ると余り0 and i を5で割ると余り0\n",
    "            \"FizzBuzz\"を表示\n",
    "            \n",
    "        elif i を3で割ると余り0\n",
    "            \"Fizz\"を表示\n",
    "            \n",
    "        elif i を5で割ると余り0\n",
    "            \"Buzz\"を表示           \n",
    "            \n",
    "        else\n",
    "            i を表示\n",
    "```"
   ]
  },
  {
   "cell_type": "markdown",
   "metadata": {
    "hidden": true
   },
   "source": [
    "`Python`コードと疑似コードを比べて，疑似コードがどのようなものかイメージできたのではないだろうか。上にも書いたが，疑似コードの目的はアルゴリズムを表現することであり，`FizzBuzz`の例はその目的を達成している。もちろん，これこそが「正しい」という疑似コードはないので，自分なりに書き替えてみてはどうだろうか。ただ，ここでの目的は質の高い疑似コードを書くことでは**ない**。\n",
    "\n",
    "疑似コードには次の利点がある。\n",
    "\n",
    "> プログラミング言語の構文について特に注意を払わずに（エラーを心配せずに），コードの内容を計画・検討することを可能にする。\n",
    "\n",
    "この特性を活かして，コードの書き方を検討しようというのがここでの目的である。言い換えると，漠然とした曖昧な疑似コードを**修正する過程**を通して，アルゴリズムを`Python`コードに落とし込むことを考える。５つの例を使うが，疑似コードの修正プロセスがコードを書く上でのヒントになるのではないかと期待している。"
   ]
  },
  {
   "cell_type": "markdown",
   "metadata": {
    "heading_collapsed": true,
    "hidden": true
   },
   "source": [
    "### リストの合計（`for`ループ）"
   ]
  },
  {
   "cell_type": "markdown",
   "metadata": {
    "hidden": true
   },
   "source": [
    "ここでの目的：\n",
    "> リスト（タプル）の要素の合計を返す関数を作成する。ただし`for`ループを使うこと。"
   ]
  },
  {
   "cell_type": "markdown",
   "metadata": {
    "hidden": true
   },
   "source": [
    "---\n",
    "＜Ver. 1＞\n",
    "```\n",
    "def 合計(リスト)\n",
    "\n",
    "    最初の要素から最後の要素を全て足し合わせる #1\n",
    "    \n",
    "    その合計を返す\n",
    "```\n",
    "* 全体像はイメージできるが，`#1`で要素をどう足し合わせるか不明。要素ごとに何をするかを書き表そう。"
   ]
  },
  {
   "cell_type": "markdown",
   "metadata": {
    "hidden": true
   },
   "source": [
    "---\n",
    "＜Ver. 2＞\n",
    "```\n",
    "def 合計(リスト)\n",
    "\n",
    "    # リストの要素数：N+1\n",
    "\n",
    "    0番目の要素に1番目の要素を加える\n",
    "    それに2番目の要素を加える。      #1\n",
    "    それに3番目の要素を加える。      #1\n",
    "    ・・・・・\n",
    "    それにN番目の要素を加える。      #1\n",
    "    \n",
    "    return その合計\n",
    "``` \n",
    "* 具体性が芽生えてきたが，まだコードに落とせない。特に，`#1`にある「それに」をどう扱うかを考えよう。"
   ]
  },
  {
   "cell_type": "markdown",
   "metadata": {
    "hidden": true
   },
   "source": [
    "---\n",
    "＜Ver. 3＞\n",
    "```\n",
    "def 合計(リスト)\n",
    "\n",
    "    # リストの要素数：N+1\n",
    "\n",
    "    0番目の要素に1番目の要素を加えて，合計をxとする。 #1\n",
    "    xに2番目の要素を加えて，それをxとする。      　 #1\n",
    "    xに3番目の要素を加えて，それをxとする。       　#1\n",
    "    ・・・・・\n",
    "    xにN番目の要素を加えて，それをxとする。      　　#1\n",
    "    \n",
    "    return x\n",
    "```\n",
    "* より具体的になってきたが，`#1`の`x`をどう扱うかを考える必要がある。"
   ]
  },
  {
   "cell_type": "markdown",
   "metadata": {
    "hidden": true
   },
   "source": [
    "---\n",
    "＜Ver. 4＞\n",
    "```\n",
    "def 合計(リスト)\n",
    "\n",
    "    # リストの要素数：N+1\n",
    "\n",
    "    x = 0\n",
    "    \n",
    "    xに0番目の要素の値を足す #1\n",
    "    xに1番目の要素の値を足す #1\n",
    "    xに2番目の要素の値を足す #1\n",
    "    ・・・・・\n",
    "    xにN番目の要素の値を足す #1\n",
    "    \n",
    "    return x\n",
    "```    \n",
    "* 骨格ができてきた。`#1`で似た作業がリピートされているのでループを使おう。"
   ]
  },
  {
   "cell_type": "markdown",
   "metadata": {
    "hidden": true
   },
   "source": [
    "---\n",
    "＜Ver. 5＞\n",
    "```\n",
    "def 合計(リスト)\n",
    "    x = 0\n",
    "    \n",
    "    forループ　i <-- 0からNまで  #1\n",
    "        i番目の要素の値をxに足す  #1\n",
    "        \n",
    "    return x\n",
    "```    \n",
    "* `#1`の`i`はリストのインデックス番号になっているが，要素自体で良いのでは？"
   ]
  },
  {
   "cell_type": "markdown",
   "metadata": {
    "hidden": true
   },
   "source": [
    "---\n",
    "＜Ver. 6＞\n",
    "```\n",
    "def 合計(リスト)\n",
    "    x = 0\n",
    "    \n",
    "    for v <-- リスト\n",
    "        要素vをxに足す\n",
    "        \n",
    "    return x\n",
    "```    \n",
    "* ここまで来るとゴールは目の前‼️\n",
    "\n",
    "---"
   ]
  },
  {
   "cell_type": "code",
   "execution_count": 20,
   "metadata": {
    "hidden": true
   },
   "outputs": [],
   "source": [
    "def sum_for_loop(lst):\n",
    "    x = 0\n",
    "    \n",
    "    for i in lst:\n",
    "        x += i\n",
    "    \n",
    "    return x"
   ]
  },
  {
   "cell_type": "markdown",
   "metadata": {
    "hidden": true
   },
   "source": [
    "実行してみよう。"
   ]
  },
  {
   "cell_type": "code",
   "execution_count": 21,
   "metadata": {
    "hidden": true
   },
   "outputs": [
    {
     "data": {
      "text/plain": [
       "(6, 4950)"
      ]
     },
     "execution_count": 21,
     "metadata": {},
     "output_type": "execute_result"
    }
   ],
   "source": [
    "sum_for_loop([1,2,3]), sum_for_loop(range(0,100))"
   ]
  },
  {
   "cell_type": "markdown",
   "metadata": {
    "heading_collapsed": true,
    "hidden": true
   },
   "source": [
    "### リストの合計（`while`ループ）"
   ]
  },
  {
   "cell_type": "markdown",
   "metadata": {
    "hidden": true
   },
   "source": [
    "ここでの目的：\n",
    "> リスト（タプル）の要素の合計を返す関数を作成する。ただし`while`ループを使うこと。\n",
    "\n",
    "リストの合計（`for`ループ）の＜Ver. 4＞まで同じ。"
   ]
  },
  {
   "cell_type": "markdown",
   "metadata": {
    "hidden": true
   },
   "source": [
    "---\n",
    "＜Ver. 4＞\n",
    "```\n",
    "def 合計(リスト)\n",
    "\n",
    "    # リストの要素数：N+1\n",
    "\n",
    "    x = 0\n",
    "    \n",
    "    xに0番目の要素の値を足す #1\n",
    "    xに1番目の要素の値を足す #1\n",
    "    xに2番目の要素の値を足す #1\n",
    "    ・・・・・\n",
    "    xにN番目の要素の値を足す #1\n",
    "    \n",
    "    return x\n",
    "```    \n",
    "* 骨格ができてきた。`#1`で似た作業がリピートされているのでループを使おう。"
   ]
  },
  {
   "cell_type": "markdown",
   "metadata": {
    "hidden": true
   },
   "source": [
    "---\n",
    "＜Ver. 5＞\n",
    "```\n",
    "def 合計(リスト)\n",
    "\n",
    "    x = 0                    #1\n",
    "    \n",
    "    while 条件                #2\n",
    "        i番目の要素の値をxに足す   #3\n",
    "\n",
    "    return x\n",
    "```\n",
    "* `#2`の条件は何にするのか。\n",
    "* 無限ループに入らないように`#1`と`#3`に付け加えることはないか。"
   ]
  },
  {
   "cell_type": "markdown",
   "metadata": {
    "hidden": true
   },
   "source": [
    "---\n",
    "＜Ver. 6＞\n",
    "```\n",
    "def 合計(リスト)\n",
    "\n",
    "    x = 0\n",
    "    count = 0                  #1\n",
    "    \n",
    "    while count < リストの要素数  #2\n",
    "        i番目の要素の値をxに足す    #3\n",
    "        countを1増やす           #4\n",
    "\n",
    "    return x\n",
    "```\n",
    "* `#3`の`i`と`#1`，`#2`，`#4`の`count`はどう関係しているのか？同じ？"
   ]
  },
  {
   "cell_type": "markdown",
   "metadata": {
    "hidden": true
   },
   "source": [
    "---\n",
    "＜Ver. 7＞\n",
    "```\n",
    "def 合計(リスト)\n",
    "\n",
    "    x = 0\n",
    "    count = 0\n",
    "    \n",
    "    while count < リストの要素数\n",
    "        count番目の要素の値をxに足す\n",
    "        countを1増やす\n",
    "\n",
    "    return x\n",
    "```\n",
    "* ここまで来るとゴールは目の前‼️\n",
    "\n",
    "---"
   ]
  },
  {
   "cell_type": "code",
   "execution_count": 22,
   "metadata": {
    "hidden": true
   },
   "outputs": [],
   "source": [
    "def sum_while_loop(lst):\n",
    "    \n",
    "    x = 0\n",
    "    count = 0\n",
    "    \n",
    "    while count < len(lst):\n",
    "        x += lst[count]\n",
    "        count += 1\n",
    "    \n",
    "    return x"
   ]
  },
  {
   "cell_type": "markdown",
   "metadata": {
    "hidden": true
   },
   "source": [
    "関数を実行しよう。"
   ]
  },
  {
   "cell_type": "code",
   "execution_count": 23,
   "metadata": {
    "hidden": true
   },
   "outputs": [
    {
     "data": {
      "text/plain": [
       "(6, 4950)"
      ]
     },
     "execution_count": 23,
     "metadata": {},
     "output_type": "execute_result"
    }
   ],
   "source": [
    "sum_while_loop([1,2,3]), sum_while_loop(range(0,100))"
   ]
  },
  {
   "cell_type": "markdown",
   "metadata": {
    "heading_collapsed": true,
    "hidden": true
   },
   "source": [
    "### コイントス（`for`ループ）"
   ]
  },
  {
   "cell_type": "markdown",
   "metadata": {
    "hidden": true
   },
   "source": [
    "ここでの目的：\n",
    "> `n`回コイントスし，表と裏の回数を表示する関数を作成する。ただし`random.randint()`と`for`ループを使うこと。"
   ]
  },
  {
   "cell_type": "markdown",
   "metadata": {
    "hidden": true
   },
   "source": [
    "---\n",
    "＜Ver. 1＞\n",
    "```\n",
    "def コイントス(n)\n",
    "   \n",
    "    0回目のコイントス　→　表・裏  #1\n",
    "    1回目のコイントス　→　表・裏  #1\n",
    "    2回目のコイントス　→　表・裏  #1\n",
    "    ・・・\n",
    "    n-1回目のコイントス　→　表・裏   #1\n",
    "   \n",
    "    表の合計を計算  #2\n",
    "    裏の合計を計算  #2\n",
    "    \n",
    "    表の合計と裏の合計を返す\n",
    "```\n",
    "* `#1`で表と裏をどう表す？\n",
    "* `#2`の合計の計算はどうする？"
   ]
  },
  {
   "cell_type": "markdown",
   "metadata": {
    "hidden": true
   },
   "source": [
    "---\n",
    "＜Ver. 2＞\n",
    "```\n",
    "def コイントス(n)\n",
    "    \n",
    "    # 表：1\n",
    "    # 裏：0\n",
    "   \n",
    "    0回目のコイントス　→　random.randint(0,1)   #1\n",
    "    1回目のコイントス　→　random.randint(0,1)   #1\n",
    "    2回目のコイントス　→　random.randint(0,1)   #1\n",
    "    ・・・\n",
    "    n-1回目のコイントス　→　random.randint(0,1) #1\n",
    "   \n",
    "    表の合計を計算  #2\n",
    "    裏の合計を計算  #2\n",
    "    \n",
    "    表の合計と裏の合計を返す\n",
    "```\n",
    "* `#1`は似たコードになるのでループを使おう。\n",
    "* `#2`の合計の計算はどうする？"
   ]
  },
  {
   "cell_type": "markdown",
   "metadata": {
    "hidden": true
   },
   "source": [
    "---\n",
    "＜Ver. 3＞\n",
    "```\n",
    "def コイントス(n)\n",
    "    \n",
    "    # 表：1\n",
    "    # 裏：0\n",
    "   \n",
    "    for ループ\n",
    "        random.randint(0,1)  #1\n",
    "   \n",
    "    表の合計を計算  #2\n",
    "    裏の合計を計算  #2\n",
    "    \n",
    "    表の合計と裏の合計を返す\n",
    "```\n",
    "* `#1`が実行されるたびに`0`又は`1`が出るが，記録されていない。記録する変数を導入する必要がある。\n",
    "* その記録を使って`#2`の合計の計算できる。"
   ]
  },
  {
   "cell_type": "markdown",
   "metadata": {
    "hidden": true
   },
   "source": [
    "---\n",
    "＜Ver. 4＞\n",
    "```\n",
    "def コイントス(n)\n",
    "    \n",
    "    # 表：1\n",
    "    # 裏：0\n",
    "   \n",
    "    heads = 0\n",
    "    tails = 0\n",
    "    \n",
    "    for ループ                 #1\n",
    "        random.randint(0,1)\n",
    "        結果が１であれば，headsを１増やす\n",
    "        結果が０であれば，tailsを１増やす\n",
    "       \n",
    "    return heads, tails\n",
    "```\n",
    "* `#1`で使うイタラブルは何か？\n",
    "* `#1`で使うイタラブル用の変数は何か？"
   ]
  },
  {
   "cell_type": "markdown",
   "metadata": {
    "hidden": true
   },
   "source": [
    "---\n",
    "＜Ver. 5＞\n",
    "```\n",
    "def コイントス(n)\n",
    "    \n",
    "    # 表：1\n",
    "    # 裏：0\n",
    "   \n",
    "    heads = 0\n",
    "    tails = 0\n",
    "    \n",
    "    for _ <-- 0からn-1まで            #1\n",
    "        random.randint(0,1)\n",
    "        結果が１であれば，headsを１増やす  #2\n",
    "        結果が０であれば，tailsを１増やす  #2\n",
    "       \n",
    "    return heads, tails\n",
    "```\n",
    "* `#1`で`_`を使っている理由：\n",
    "    * `i`や`j`などでも良いが，`for`ループの「本体」で使われていない変数には`_`が使われることがよくある。\n",
    "* `#2`を`if`文に書き換える必要がある。"
   ]
  },
  {
   "cell_type": "markdown",
   "metadata": {
    "hidden": true
   },
   "source": [
    "---\n",
    "＜Ver. 6＞\n",
    "```\n",
    "def コイントス(n)\n",
    "    \n",
    "    # 表：1\n",
    "    # 裏：0\n",
    "   \n",
    "    heads = 0\n",
    "    tails = 0\n",
    "    \n",
    "    for _ <-- 0からn-1まで\n",
    "    \n",
    "        random.randint(0,1)の結果をresultに割り当てる\n",
    "        \n",
    "        if resultが１\n",
    "            headsを１増やす\n",
    "        \n",
    "        else\n",
    "            tailsを１増やす\n",
    "       \n",
    "    return heads, tails\n",
    "```\n",
    "* ここまで来ればゴールは目の前‼️\n",
    "\n",
    "---"
   ]
  },
  {
   "cell_type": "code",
   "execution_count": 24,
   "metadata": {
    "hidden": true
   },
   "outputs": [],
   "source": [
    "def coin_toss_for_loop(n):\n",
    "    \n",
    "    heads = 0\n",
    "    tails = 0\n",
    "    \n",
    "    for _ in range(n):\n",
    "        \n",
    "        result = random.randint(0,1)\n",
    "        \n",
    "        if result == 1:\n",
    "            heads += 1\n",
    "            \n",
    "        else:\n",
    "            tails += 1\n",
    "    \n",
    "    return heads, tails"
   ]
  },
  {
   "cell_type": "markdown",
   "metadata": {
    "hidden": true
   },
   "source": [
    "実行しよう"
   ]
  },
  {
   "cell_type": "code",
   "execution_count": 25,
   "metadata": {
    "hidden": true
   },
   "outputs": [
    {
     "data": {
      "text/plain": [
       "(46, 54)"
      ]
     },
     "execution_count": 25,
     "metadata": {},
     "output_type": "execute_result"
    }
   ],
   "source": [
    "coin_toss_for_loop(100)"
   ]
  },
  {
   "cell_type": "markdown",
   "metadata": {
    "heading_collapsed": true,
    "hidden": true
   },
   "source": [
    "### コイントス（`while`ループ）"
   ]
  },
  {
   "cell_type": "markdown",
   "metadata": {
    "hidden": true
   },
   "source": [
    "ここでの目的：\n",
    "> `n`回コイントスし，表と裏の回数を表示する関数を作成する。ただし`random.randint()`と`while`ループを使うこと。\n",
    "\n",
    "コイントス（`for`ループ）の＜Ver. 2＞まで同じ。"
   ]
  },
  {
   "cell_type": "markdown",
   "metadata": {
    "hidden": true
   },
   "source": [
    "---\n",
    "＜Ver. 2＞\n",
    "```\n",
    "def コイントス(n)\n",
    "    \n",
    "    # 表：1\n",
    "    # 裏：0\n",
    "   \n",
    "    0回目のコイントス　→　random.randint(0,1)   #1\n",
    "    1回目のコイントス　→　random.randint(0,1)   #1\n",
    "    2回目のコイントス　→　random.randint(0,1)   #1\n",
    "    ・・・\n",
    "    n-1回目のコイントス　→　random.randint(0,1) #1\n",
    "   \n",
    "    表の合計を計算  #2\n",
    "    裏の合計を計算  #2\n",
    "    \n",
    "    表の合計と裏の合計を返す\n",
    "```\n",
    "* `#1`は似たコードになるのでループを使おう。\n",
    "* `#2`の合計の計算はどうする？"
   ]
  },
  {
   "cell_type": "markdown",
   "metadata": {
    "hidden": true
   },
   "source": [
    "---\n",
    "＜Ver. 3＞\n",
    "```\n",
    "def コイントス(n)\n",
    "    \n",
    "    # 表：1\n",
    "    # 裏：0\n",
    "   \n",
    "    while ループ\n",
    "        random.randint(0,1)  #1\n",
    "   \n",
    "    表の合計を計算  #2\n",
    "    裏の合計を計算  #2\n",
    "    \n",
    "    表の合計と裏の合計を返す\n",
    "```\n",
    "* `#1`で結果を記録する必要がある。\n",
    "* その記録を使って`#2`の合計の計算できる。"
   ]
  },
  {
   "cell_type": "markdown",
   "metadata": {
    "hidden": true
   },
   "source": [
    "---\n",
    "＜Ver. 4＞\n",
    "```\n",
    "def コイントス(n)\n",
    "    \n",
    "    # 表：1\n",
    "    # 裏：0\n",
    "    \n",
    "    heads = 0\n",
    "    tails = 0        #1\n",
    "   \n",
    "    while 条件　　     #2\n",
    "    \n",
    "        random.randint(0,1)\n",
    "        結果が１であれば，headsを１増やす\n",
    "        結果が０であれば，tailsを１増やす  #3\n",
    "       \n",
    "    return heads, tails\n",
    "```\n",
    "* `#2`の条件は何にするのか。\n",
    "* 無限ループに入らないように`#1`と`#3`に何を付け加える必要があるか。"
   ]
  },
  {
   "cell_type": "markdown",
   "metadata": {
    "hidden": true
   },
   "source": [
    "---\n",
    "＜Ver. 5＞\n",
    "```\n",
    "def コイントス(n)\n",
    "    \n",
    "    heads = 0\n",
    "    tails = 0\n",
    "    count = 0\n",
    "\n",
    "    while count < n\n",
    "    \n",
    "        random.randint(0,1)\n",
    "        結果が１であれば，headsを１増やす  #1\n",
    "        結果が０であれば，tailsを１増やす  #1\n",
    "        countを1増やす\n",
    "       \n",
    "    return heads, tails\n",
    "```\n",
    "* `#1`を`if`文として書く。"
   ]
  },
  {
   "cell_type": "markdown",
   "metadata": {
    "hidden": true
   },
   "source": [
    "---\n",
    "＜Ver. 6＞\n",
    "```\n",
    "def コイントス(n)\n",
    "    \n",
    "    heads = 0\n",
    "    tails = 0\n",
    "    count = 0\n",
    "\n",
    "    while count < n\n",
    "    \n",
    "        random.randint(0,1)の結果をresultに割り当てる\n",
    "        \n",
    "        if resultが１\n",
    "            headsを１増やす\n",
    "        \n",
    "        else\n",
    "            tailsを１増やす\n",
    "            \n",
    "        countを1増やす\n",
    "       \n",
    "    return heads, tails\n",
    "```\n",
    "* ここまで来ればゴールは目の前‼️\n",
    "\n",
    "---"
   ]
  },
  {
   "cell_type": "code",
   "execution_count": 26,
   "metadata": {
    "hidden": true
   },
   "outputs": [],
   "source": [
    "def coin_toss_while_loop(n):\n",
    "    \n",
    "    heads = 0\n",
    "    tails = 0\n",
    "    count = 0\n",
    "    \n",
    "    while count < n:\n",
    "        \n",
    "        result = random.randint(0,1)\n",
    "        \n",
    "        if result == 1:\n",
    "            heads += 1\n",
    "            \n",
    "        else:\n",
    "            tails += 1\n",
    "        \n",
    "        count += 1\n",
    "    \n",
    "    return heads, tails"
   ]
  },
  {
   "cell_type": "markdown",
   "metadata": {
    "hidden": true
   },
   "source": [
    "コードを実行しよう。"
   ]
  },
  {
   "cell_type": "code",
   "execution_count": 27,
   "metadata": {
    "hidden": true
   },
   "outputs": [
    {
     "data": {
      "text/plain": [
       "(46, 54)"
      ]
     },
     "execution_count": 27,
     "metadata": {},
     "output_type": "execute_result"
    }
   ],
   "source": [
    "coin_toss_while_loop(100)"
   ]
  },
  {
   "cell_type": "markdown",
   "metadata": {
    "heading_collapsed": true,
    "hidden": true
   },
   "source": [
    "### リストの最大値"
   ]
  },
  {
   "cell_type": "markdown",
   "metadata": {
    "hidden": true
   },
   "source": [
    "ここでの目的：\n",
    "> リスト（又はタプル）を引数とし，含まれる要素の中から最大値を返す関数を作成する。"
   ]
  },
  {
   "cell_type": "markdown",
   "metadata": {
    "hidden": true
   },
   "source": [
    "---\n",
    "＜Ver. 1＞\n",
    "```\n",
    "def 最大値を求める（リスト）:\n",
    "\n",
    "    0番目からN番目の要素を比較して最大値を探す  #1\n",
    "    \n",
    "    最大値を返す\n",
    "```\n",
    "* ぼやっとした全体像となっているのは否めない。\n",
    "* `#1`の「比較」をどうするかが重要となる。。:"
   ]
  },
  {
   "cell_type": "markdown",
   "metadata": {
    "hidden": true
   },
   "source": [
    "---\n",
    "＜Ver. 2＞\n",
    "```\n",
    "def 最大値を求める（リスト=l）:\n",
    "    \n",
    "    # N = リストの要素数\n",
    "    \n",
    "    <0> l[0]をl[1]〜l[N]と比較し，\n",
    "        l[0]が全てに対して大きければ，l[0]が最大値。\n",
    "        そうでなければ<1>に進む。\n",
    "    <1> l[1]をl[2]〜l[N]と比較し，\n",
    "        l[2]が全てに対して大きければ，l[2]が最大値。\n",
    "        そうでなければ<2>に進む。\n",
    "    <2> l[2]をl[3]〜l[N]と比較し，\n",
    "        l[3]が全てに対して大きければ，l[3]が最大値。\n",
    "        そうでなければ<3>に進む。\n",
    "    ・・・・・\n",
    "    <N-1> l[N-1]をl[N]と比較し，\n",
    "          l[N-1]大きければ，l[N-1]が最大値。\n",
    "          そうでなければl[N]が最大値。\n",
    "  \n",
    "    最大値を返す\n",
    "```\n",
    "良さそうにも見えるが，問題がある。\n",
    "* `<0>`では`N`回の比較をおこなう。\n",
    "* `<1>`では`N-1`回の比較をおこなう。\n",
    "* `<2>`では`N-2`回の比較をおこなう。\n",
    "* ・・・・\n",
    "* `<N>`では`1`回の比較をおこなう。\n",
    "* 比較する回数の合計は`1+2+3+・・・+N=N(N+1)/2`。比較回数が非常に多い。もっと良い方法があるのでは？"
   ]
  },
  {
   "cell_type": "markdown",
   "metadata": {
    "hidden": true
   },
   "source": [
    "---\n",
    "＜Ver. 3＞\n",
    "```\n",
    "def 最大値を求める（リスト=l）:\n",
    "\n",
    "    # N = リストの要素数\n",
    "    \n",
    "    l[0]とl[1]を比較し，大きい方を残す    #1\n",
    "    l[1]とl[2]を比較し，大きい方を残す    #1\n",
    "    l[2]とl[3]を比較し，大きい方を残す    #1\n",
    "    ・・・\n",
    "    l[N-1]とl[N]を比較し，大きい方を残す  #1\n",
    "    \n",
    "    最大値を返す\n",
    "```\n",
    "* 比較する回数は`N`回で＜Ver. 2＞より少ない。\n",
    "* `#1`の「大きい方を残す」はどうする？"
   ]
  },
  {
   "cell_type": "markdown",
   "metadata": {
    "hidden": true
   },
   "source": [
    "---\n",
    "＜Ver. 4＞\n",
    "```\n",
    "def 最大値を求める（リスト=l）:\n",
    "\n",
    "    # N = リストの要素数\n",
    "\n",
    "    max_ = -1_000_000        #1\n",
    "    \n",
    "    l[0]とl[1]を比較し，大きい方をmax_に割り当てる。   #2\n",
    "    l[1]とl[2]を比較し，大きい方をmax_に割り当てる。   #2\n",
    "    l[2]とl[3]を比較し，大きい方をmax_に割り当てる。   #2\n",
    "    ・・・\n",
    "    l[N-1]とl[N]を比較し，大きい方をxに割り当てる。 #2\n",
    "    \n",
    "    return max_\n",
    "```\n",
    "* `#2`だけを見ると最大値は求められそう。\n",
    "* `#1`では最大値が`-1_000_000`未満の場合をカバーできない。"
   ]
  },
  {
   "cell_type": "markdown",
   "metadata": {
    "hidden": true
   },
   "source": [
    "---\n",
    "＜Ver. 5＞\n",
    "```\n",
    "def 最大値を求める（リスト=l）:\n",
    "\n",
    "    # N = リストの要素数\n",
    "    \n",
    "    max_ = l[0]\n",
    "    \n",
    "    max_とl[1]を比較し，大きい方をmax_に割り当てる。  #1\n",
    "    max_とl[2]を比較し，大きい方をmax_に割り当てる。  #1\n",
    "    max_とl[3]を比較し，大きい方をmax_に割り当てる。  #1\n",
    "    ・・・\n",
    "    max_とl[N]を比較し，大きい方をmax_に割り当てる。  #1\n",
    "    \n",
    "    return max_\n",
    "```\n",
    "* `#1`は似たようなコードになるのでループを使おう。"
   ]
  },
  {
   "cell_type": "markdown",
   "metadata": {
    "hidden": true
   },
   "source": [
    "---\n",
    "＜Ver. 5＞\n",
    "```\n",
    "def 最大値を求める（リスト=l）:\n",
    "\n",
    "    # N = リストの要素数\n",
    "    \n",
    "    max_ = l[0]\n",
    "    \n",
    "    for ループ\n",
    "        max_とl[i]を比較し，大きい方をmax_に割り当てる。 #1\n",
    "    \n",
    "    return max_\n",
    "```\n",
    "* `#1`は条件分岐させる必要がある。"
   ]
  },
  {
   "cell_type": "markdown",
   "metadata": {
    "hidden": true
   },
   "source": [
    "---\n",
    "＜Ver. 6＞\n",
    "```\n",
    "def 最大値を求める（リスト=l）:\n",
    "\n",
    "    # N = リストの要素数\n",
    "    \n",
    "    max_ = l[0]\n",
    "    \n",
    "    for ループ     #1\n",
    "        max_ < l[i]の場合は，l[i]をxに割り当てる。\n",
    "        max_ >= l[i]の場合は，pass\n",
    "    \n",
    "    return max_\n",
    "```\n",
    "* `#1`のイタラブルは何にする？\n",
    "* `#1`のイタラブル用の変数は何にする？"
   ]
  },
  {
   "cell_type": "markdown",
   "metadata": {
    "hidden": true
   },
   "source": [
    "---\n",
    "＜Ver. 7＞\n",
    "```\n",
    "def 最大値を求める（リスト=l）:\n",
    "\n",
    "    # N = リストの要素数\n",
    "    \n",
    "    max_ = l[0]\n",
    "    \n",
    "    for i <-- 0から(lの要素数-1)まで                #1\n",
    "        max_ < l[i]の場合は，l[i]をmax_に割り当てる。 #1\n",
    "        max_ >= l[i]の場合は，pass                #1\n",
    "    \n",
    "    return max_\n",
    "```\n",
    "* `#1`の`i`はリストのインデックス番号だが，直接要素自体を使う方が`Python`的である。"
   ]
  },
  {
   "cell_type": "markdown",
   "metadata": {
    "hidden": true
   },
   "source": [
    "---\n",
    "＜Ver. 8＞\n",
    "```\n",
    "def 最大値を求める（リスト=l）:\n",
    "\n",
    "    # N = リストの要素数\n",
    "    \n",
    "    max_ = l[0]\n",
    "    \n",
    "    for v <-- リスト\n",
    "        max_ < vの場合は，vをxに割り当てる。 #1\n",
    "        max_ >= vの場合は，pass          #1\n",
    "    \n",
    "    return max_\n",
    "```\n",
    "* `#1`は`if`文に書き換える。"
   ]
  },
  {
   "cell_type": "markdown",
   "metadata": {
    "hidden": true
   },
   "source": [
    "---\n",
    "＜Ver. 9＞\n",
    "```\n",
    "def 最大値を求める（リスト=l）:\n",
    "\n",
    "    max_ = l[0]\n",
    "    \n",
    "    for v <-- リスト\n",
    "    \n",
    "        if max_ < v\n",
    "            max_にvを割り当てる。\n",
    "        else\n",
    "            pass\n",
    "    \n",
    "    return max_\n",
    "```\n",
    "* 後は`Python`コードを書くだけ‼️\n",
    "\n",
    "---"
   ]
  },
  {
   "cell_type": "code",
   "execution_count": 28,
   "metadata": {
    "hidden": true
   },
   "outputs": [],
   "source": [
    "def search_max(l):\n",
    "    \n",
    "    max_ = l[0]\n",
    "    \n",
    "    for v in l:\n",
    "        if v > max_:\n",
    "            max_ = v\n",
    "        else:         # 省略可\n",
    "            pass      # 省略可\n",
    "    \n",
    "    return max_"
   ]
  },
  {
   "cell_type": "markdown",
   "metadata": {
    "hidden": true
   },
   "source": [
    "実行してみよう。"
   ]
  },
  {
   "cell_type": "code",
   "execution_count": 29,
   "metadata": {
    "hidden": true
   },
   "outputs": [
    {
     "data": {
      "text/plain": [
       "3.7431975438341807"
      ]
     },
     "execution_count": 29,
     "metadata": {},
     "output_type": "execute_result"
    }
   ],
   "source": [
    "lst = [random.gauss(0,1) for _ in range(1000)]\n",
    "\n",
    "search_max(lst)"
   ]
  },
  {
   "cell_type": "markdown",
   "metadata": {
    "code_folding": [],
    "hidden": true
   },
   "source": [
    "````{note}\n",
    "＜Ver. 2＞をコードで書くと次の様になる。上のコードと比べると実行時間が1000倍近く長くなる。\n",
    "```\n",
    "def search_max(l):\n",
    "    \n",
    "    max_ = l[0]\n",
    "    \n",
    "    # 最後の要素はカバーしていない\n",
    "    for idx, val in enumerate(l[:-1]):\n",
    "        \n",
    "        temp = max_\n",
    "        \n",
    "\n",
    "        for k in l[idx+1:]:\n",
    "            if val <= k:\n",
    "                continue\n",
    "            else:\n",
    "                temp = val\n",
    "        \n",
    "        if temp > max_:\n",
    "            max_ = temp\n",
    "    \n",
    "    # 最後の要素について\n",
    "    if max_ < l[-1]:\n",
    "        max_ = l[-1]\n",
    "\n",
    "    return max_\n",
    "```\n",
    "````"
   ]
  },
  {
   "cell_type": "markdown",
   "metadata": {
    "hidden": true
   },
   "source": [
    "### 最後に"
   ]
  },
  {
   "cell_type": "markdown",
   "metadata": {
    "hidden": true
   },
   "source": [
    "コードを書くことに慣れてくると，簡単なコードに疑似コードの修正プロセスは必要なくなるだろう。しかし，その段階になればより複雑なコードを書くことになるはずだ。その時には疑似コードが役に立つのではないかと思われる。少し頭をひねるような問題であれば，疑似コードを試してみるのも一案である。"
   ]
  }
 ],
 "metadata": {
  "celltoolbar": "Tags",
  "kernelspec": {
   "display_name": "Python 3 (ipykernel)",
   "language": "python",
   "name": "python3"
  },
  "language_info": {
   "codemirror_mode": {
    "name": "ipython",
    "version": 3
   },
   "file_extension": ".py",
   "mimetype": "text/x-python",
   "name": "python",
   "nbconvert_exporter": "python",
   "pygments_lexer": "ipython3",
   "version": "3.9.0"
  }
 },
 "nbformat": 4,
 "nbformat_minor": 4
}