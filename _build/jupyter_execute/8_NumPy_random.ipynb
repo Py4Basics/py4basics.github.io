{
 "cells": [
  {
   "cell_type": "markdown",
   "metadata": {},
   "source": [
    "# `Numpy`: ランダム変数"
   ]
  },
  {
   "cell_type": "markdown",
   "metadata": {},
   "source": [
    "<div name=\"html-admonition\" style=\"font-size: 0.8em\">\n",
    "<input type=\"button\" onclick=\"location.href='https://translate.google.com/translate?hl=&sl=ja&tl=en&u='+window.location;\" value=\"Google translation\" style=\"color:#ffffff;background-color:#008080; height:25px\" onmouseover=\"this.style.background='#99ccff'\" onmouseout=\"this.style.background='#008080'\"/> in English or the language of your choice.\n",
    "</div><br>"
   ]
  },
  {
   "cell_type": "code",
   "execution_count": 1,
   "metadata": {},
   "outputs": [],
   "source": [
    "import japanize_matplotlib\n",
    "import numpy as np\n",
    "import pandas as pd"
   ]
  },
  {
   "cell_type": "markdown",
   "metadata": {
    "heading_collapsed": true
   },
   "source": [
    "## はじめに"
   ]
  },
  {
   "cell_type": "markdown",
   "metadata": {
    "hidden": true
   },
   "source": [
    "1日の生活はランダムな事象の連続と考えることができる。今朝，目覚ましがなったかもしれないが，事後的に考えると，壊れて音が鳴らずに授業に遅刻する確率は全くの`0`では無かったはずだ。家を出て駅に向かって歩いていると急に雨が降って来るかもしれない。これも大気の状態によって確率的に起こっていると考えることができる。生活する上で，このようなランダムな事象について特に意識しないかもしれないが，毎日がその連続と考えることができる。同様に，個々の企業もランダムな事象に直面している（例えば，ライバル企業の新たな商品・サービスの発表）。また，株式市場を見れば分かるように，需要者と供給者からなる市場の均衡もそうである。更には，日本経済全体では大小様々なランダムな事象が発生していると考えることができる。大きなランダムな事象の例としては，極端な緩和政策を取り続ける日本銀行が急に金融引き締めに動くことが挙げられる。もしくは，急に（可能性は囁かれていた）ロシアがウクライナを侵略することによりインフレが発生し，景気後退の引き金になったのも確率的な事象と捉えることができる。即ち，経済を考える上で，ランダムな事象は無視できない要素だということであ。\n",
    "\n",
    "このような問題意識に基づき，本章の目的は`NumPy`を使ったランダム変数の生成方法について簡単に解説することである。"
   ]
  },
  {
   "cell_type": "markdown",
   "metadata": {
    "heading_collapsed": true
   },
   "source": [
    "## ランダム変数生成コード"
   ]
  },
  {
   "cell_type": "markdown",
   "metadata": {
    "hidden": true
   },
   "source": [
    "`NumPy`の`random`モジュールを使いランダム変数を生成するが，`random`モジュールの中でまず最初に使う必要があるのが`default_rng()`関数である。以下では続くコードを分かりやすくするために`default_rng()`を変数`rng`に割り当てる。"
   ]
  },
  {
   "cell_type": "code",
   "execution_count": 2,
   "metadata": {
    "hidden": true
   },
   "outputs": [],
   "source": [
    "rng = np.random.default_rng()"
   ]
  },
  {
   "cell_type": "markdown",
   "metadata": {
    "hidden": true
   },
   "source": [
    "`rng`はrandom number generatorの略であり，様々なランダム変数のための下準備となる。言い換えると，`rng`はランダム変数を生成するための「種」であり，この「種」に分布関数を指定することによりランダム変数が生成される。以下では正規分布と一様分布の使い方を例に説明する。"
   ]
  },
  {
   "cell_type": "markdown",
   "metadata": {
    "hidden": true
   },
   "source": [
    "```{tip}\n",
    "ランダム変数の生成にはパッケージ`SciPy`の`stats`モジュールを使うこともできる。興味がある人は[このリンク](https://py4etrics.github.io/5_SciPy_stats.html)を参照しよう。\n",
    "```"
   ]
  },
  {
   "cell_type": "markdown",
   "metadata": {
    "heading_collapsed": true,
    "hidden": true
   },
   "source": [
    "### 正規分布"
   ]
  },
  {
   "cell_type": "markdown",
   "metadata": {
    "hidden": true
   },
   "source": [
    "正規分布に従うランダム変数の生成方法につて説明する。\n",
    "\n",
    "**コード**\n",
    "\n",
    "`rng.normal(loc=0, scale=1, size=1)`\n",
    "\n",
    "* `loc`：平均（デフォルトは`0`）\n",
    "* `scale`：標準偏差（デフォルトは`1`）\n",
    "* `size`：ランダム変数の数（デフォルトは`1`）"
   ]
  },
  {
   "cell_type": "markdown",
   "metadata": {
    "hidden": true
   },
   "source": [
    "ここで、`.normal()`は`rng`のメソッドである。例として、平均`5`，標準偏差`2`の標準正規分布から`10`のランダム変数を生成しよう。"
   ]
  },
  {
   "cell_type": "code",
   "execution_count": 3,
   "metadata": {
    "hidden": true,
    "scrolled": true
   },
   "outputs": [
    {
     "data": {
      "text/plain": [
       "array([6.54866827, 9.20567664, 7.73896439, 4.15701265, 4.83692574,\n",
       "       4.72075418, 5.81699474, 5.43059287, 5.67507802, 2.43613821])"
      ]
     },
     "execution_count": 3,
     "metadata": {},
     "output_type": "execute_result"
    }
   ],
   "source": [
    "rng.normal(5, 2, 10)"
   ]
  },
  {
   "cell_type": "markdown",
   "metadata": {
    "hidden": true
   },
   "source": [
    "上のコードを実行する度に値が変化することが確認できるはずだ。\n",
    "\n",
    "標準正規分布から`5`のランダム変数を生成する場合は`loc`と`scale`を省略する。ただし２つ以上のランダム変数を生成する場合はキーワード引数`size=`が必ず必要となる。"
   ]
  },
  {
   "cell_type": "code",
   "execution_count": 4,
   "metadata": {
    "hidden": true
   },
   "outputs": [
    {
     "data": {
      "text/plain": [
       "array([-0.70391539, -0.13307688,  0.14530599,  0.40817161, -0.09408311])"
      ]
     },
     "execution_count": 4,
     "metadata": {},
     "output_type": "execute_result"
    }
   ],
   "source": [
    "rng.normal(size=5)"
   ]
  },
  {
   "cell_type": "markdown",
   "metadata": {
    "hidden": true
   },
   "source": [
    "標準正規分布に従う100,000個のランダムを生成しヒストグラムをカーネル密度制定をプロットしてみよう。"
   ]
  },
  {
   "cell_type": "code",
   "execution_count": 5,
   "metadata": {
    "hidden": true
   },
   "outputs": [
    {
     "name": "stderr",
     "output_type": "stream",
     "text": [
      "<frozen importlib._bootstrap>:228: RuntimeWarning: scipy._lib.messagestream.MessageStream size changed, may indicate binary incompatibility. Expected 56 from C header, got 64 from PyObject\n"
     ]
    },
    {
     "data": {
      "image/png": "[encoded data removed]",
      "text/plain": [
       "<Figure size 432x288 with 1 Axes>"
      ]
     },
     "metadata": {
      "needs_background": "light"
     },
     "output_type": "display_data"
    }
   ],
   "source": [
    "# ランダム変数のDatFrame\n",
    "df_norm = pd.DataFrame({'標準正規分布':rng.normal(size=100_000)})\n",
    "\n",
    "# ヒストグラム\n",
    "ax_ = df_norm.plot(kind='hist', bins=50, density=True)\n",
    "\n",
    "# カーネル密度関数\n",
    "df_norm.plot(kind='density',ax=ax_)\n",
    "\n",
    "# 横軸の表示幅の設定\n",
    "ax_.set_xlim(-4,4)\n",
    "pass"
   ]
  },
  {
   "cell_type": "markdown",
   "metadata": {
    "heading_collapsed": true,
    "hidden": true
   },
   "source": [
    "### 一様分布"
   ]
  },
  {
   "cell_type": "markdown",
   "metadata": {
    "hidden": true
   },
   "source": [
    "一様分布に従うランダム変数の生成方法につて考える。\n",
    "\n",
    "**コード**\n",
    "\n",
    "`rng.uniform(low=0, high=1, size=1)`\n",
    "\n",
    "* `low`：最小値（デフォルト`0`）\n",
    "* `high`：最大値（デフォルト`1`）\n",
    "* `size`：ランダム変数の数（デフォルト`1`）\n",
    "\n",
    "`.uniform()`も`rng`のメソッドである。最小値`5`，最大値`30`の一様分布から`10`のランダム変数を生成してみよう。"
   ]
  },
  {
   "cell_type": "code",
   "execution_count": 6,
   "metadata": {
    "hidden": true
   },
   "outputs": [
    {
     "data": {
      "text/plain": [
       "array([28.82585199, 14.4036026 , 20.27116627,  5.34171322,  8.11205506,\n",
       "       22.58804792, 25.86138678,  6.66405306, 16.16546901, 29.59007463])"
      ]
     },
     "execution_count": 6,
     "metadata": {},
     "output_type": "execute_result"
    }
   ],
   "source": [
    "rng.uniform(5, 30, 10)"
   ]
  },
  {
   "cell_type": "markdown",
   "metadata": {
    "hidden": true
   },
   "source": [
    "最小値`0`，最大値`1`の一様分布から`5`のランダム変数を生成する。"
   ]
  },
  {
   "cell_type": "code",
   "execution_count": 7,
   "metadata": {
    "hidden": true
   },
   "outputs": [
    {
     "data": {
      "text/plain": [
       "array([0.66274697, 0.10989815, 0.08563656, 0.0993625 , 0.73005015])"
      ]
     },
     "execution_count": 7,
     "metadata": {},
     "output_type": "execute_result"
    }
   ],
   "source": [
    "rng.uniform(size=5)"
   ]
  },
  {
   "cell_type": "markdown",
   "metadata": {
    "hidden": true
   },
   "source": [
    "$[0,1]$の一様分布に従う100,000個のランダムを生成しヒストグラムをカーネル密度制定をプロットしてみよう。"
   ]
  },
  {
   "cell_type": "code",
   "execution_count": 8,
   "metadata": {
    "hidden": true
   },
   "outputs": [
    {
     "data": {
      "image/png": "[encoded data removed]",
      "text/plain": [
       "<Figure size 432x288 with 1 Axes>"
      ]
     },
     "metadata": {
      "needs_background": "light"
     },
     "output_type": "display_data"
    }
   ],
   "source": [
    "# ランダム変数のDatFrame\n",
    "df_uni = pd.DataFrame({'一様分布':rng.uniform(size=100_000)})\n",
    "\n",
    "# ヒストグラム\n",
    "ax_ = df_uni.plot(kind='hist', bins=50, density=True)\n",
    "\n",
    "# カーネル密度関数\n",
    "df_uni.plot(kind='density',ax=ax_)\n",
    "\n",
    "# 横軸の表示幅の設定\n",
    "ax_.set_xlim(-0.2,1.2)\n",
    "pass"
   ]
  },
  {
   "cell_type": "markdown",
   "metadata": {
    "heading_collapsed": true,
    "hidden": true
   },
   "source": [
    "### 多変量正規分布"
   ]
  },
  {
   "cell_type": "markdown",
   "metadata": {
    "hidden": true
   },
   "source": [
    "多変量正規分布に従うランダム変数の生成方法につて説明するが，例として２つの変数の場合を考える。\n",
    "変数の数が$N>2$の場合は，引数の`mean`と`cov`を適宜変更すれば良い。\n",
    "\n",
    "**コード**\n",
    "\n",
    "`rng.multivariate_normal(mean, cov, size=1)`\n",
    "\n",
    "* `mean`：平均\n",
    "    * 2変数の平均ののリストもしくは`array`\n",
    "    * 例１：`[0,5]`\n",
    "    * 例２：`np.array([0,5])`\n",
    "* `cov`：分散共分散行列\n",
    "    * 2次元のリストもしくは`array`\n",
    "    * 例１：`[[1,0.5],[0.5,1]]`\n",
    "    * 例１：`np.array([[1,0.5],[0.5,1]])`\n",
    "* `size`：ランダム変数の組数（デフォルトは`1`）"
   ]
  },
  {
   "cell_type": "markdown",
   "metadata": {
    "hidden": true
   },
   "source": [
    "ここで、`.multivariate_normal()`は`rng`のメソッドである。例として、平均は"
   ]
  },
  {
   "cell_type": "code",
   "execution_count": 9,
   "metadata": {
    "hidden": true
   },
   "outputs": [],
   "source": [
    "mean = [0, 5]"
   ]
  },
  {
   "cell_type": "markdown",
   "metadata": {
    "hidden": true
   },
   "source": [
    "共分散`m`は"
   ]
  },
  {
   "cell_type": "code",
   "execution_count": 10,
   "metadata": {
    "hidden": true
   },
   "outputs": [],
   "source": [
    "m = 3"
   ]
  },
  {
   "cell_type": "markdown",
   "metadata": {
    "hidden": true
   },
   "source": [
    "分散共分散は"
   ]
  },
  {
   "cell_type": "code",
   "execution_count": 11,
   "metadata": {
    "hidden": true
   },
   "outputs": [],
   "source": [
    "cov = [[5, m],\n",
    "       [m, 10]]"
   ]
  },
  {
   "cell_type": "markdown",
   "metadata": {
    "hidden": true
   },
   "source": [
    "のランダム変数を`n`組"
   ]
  },
  {
   "cell_type": "code",
   "execution_count": 12,
   "metadata": {
    "hidden": true
   },
   "outputs": [],
   "source": [
    "n = 5"
   ]
  },
  {
   "cell_type": "markdown",
   "metadata": {
    "hidden": true
   },
   "source": [
    "生成しよう。"
   ]
  },
  {
   "cell_type": "code",
   "execution_count": 13,
   "metadata": {
    "hidden": true,
    "scrolled": true
   },
   "outputs": [
    {
     "data": {
      "text/plain": [
       "array([[-2.50833868,  2.96485754],\n",
       "       [ 3.57225963,  4.98494995],\n",
       "       [-2.49369365,  2.28915262],\n",
       "       [-1.78100843,  5.31663514],\n",
       "       [ 1.13566728,  0.17743596]])"
      ]
     },
     "execution_count": 13,
     "metadata": {},
     "output_type": "execute_result"
    }
   ],
   "source": [
    "rng.multivariate_normal(mean, cov, size=n)"
   ]
  },
  {
   "cell_type": "markdown",
   "metadata": {
    "hidden": true
   },
   "source": [
    "各列がランダム変数の値を示しており，行が２つのランダム変数の１組ということになる。\n",
    "\n",
    "２つのランダム変数を標準正規分布とするが，共分散は`m`のランダム変数を生成する場合も`mean`と`cov`は省略できない。"
   ]
  },
  {
   "cell_type": "code",
   "execution_count": 14,
   "metadata": {
    "hidden": true
   },
   "outputs": [
    {
     "data": {
      "text/plain": [
       "array([[-0.0729892 , -0.23200714],\n",
       "       [ 0.92704938,  1.43113342],\n",
       "       [ 0.06630689, -0.47716305],\n",
       "       [-0.45021825,  0.28566343],\n",
       "       [-2.34512743, -2.02145222]])"
      ]
     },
     "execution_count": 14,
     "metadata": {},
     "output_type": "execute_result"
    }
   ],
   "source": [
    "mean = [0, 0]\n",
    "m = 0.8\n",
    "cov = [[1, m],\n",
    "       [m, 1]]\n",
    "\n",
    "rng.multivariate_normal(mean, cov, size=5)"
   ]
  },
  {
   "cell_type": "markdown",
   "metadata": {
    "hidden": true
   },
   "source": [
    "上の平均と分散共分散の２変量正規分布に従う1000個のランダムを生成し散布図をプロットしてみよう。"
   ]
  },
  {
   "cell_type": "code",
   "execution_count": 15,
   "metadata": {
    "hidden": true
   },
   "outputs": [
    {
     "data": {
      "image/png": "[encoded data removed]",
      "text/plain": [
       "<Figure size 432x288 with 1 Axes>"
      ]
     },
     "metadata": {
      "needs_background": "light"
     },
     "output_type": "display_data"
    }
   ],
   "source": [
    "# ランダム変数の生成\n",
    "vals = rng.multivariate_normal(mean, cov, size=1_000)\n",
    "\n",
    "# DatFrameの作成，列ラベルをXとY\n",
    "df_2norm = pd.DataFrame(vals, columns=['X','Y'])\n",
    "\n",
    "# 散布図\n",
    "df_2norm.plot('X', 'Y', kind='scatter', alpha=0.5)\n",
    "pass"
   ]
  },
  {
   "cell_type": "markdown",
   "metadata": {
    "hidden": true
   },
   "source": [
    "`X`と`Y`の共分散は`m=0.8`となっているため，正の相関が観測される。\n",
    "相関係数を計算してみよう。"
   ]
  },
  {
   "cell_type": "code",
   "execution_count": 16,
   "metadata": {
    "hidden": true
   },
   "outputs": [
    {
     "data": {
      "text/plain": [
       "0.8109761287358304"
      ]
     },
     "execution_count": 16,
     "metadata": {},
     "output_type": "execute_result"
    }
   ],
   "source": [
    "df_2norm.corr().iloc[0,1]"
   ]
  },
  {
   "cell_type": "markdown",
   "metadata": {},
   "source": [
    "## 古い書き方"
   ]
  },
  {
   "cell_type": "markdown",
   "metadata": {},
   "source": [
    "上で説明した`np.random.default_rng()`を使うコードが現在推奨されている書き方となるが，この書き方が導入される前の書き方を紹介する。現時点でも古い書き方を使うことができるが，ランダム変数の統計学的特徴という観点からは推奨されるコードの書き方の方が良いとされる。\n",
    "\n",
    "コードの違いを説明するために，標準正規分布のランダム変数を１つ生成するコードを考えてみよう。\n",
    "`NumPy`をインポートするコードも含めると，上では次のように書いた。\n",
    "```\n",
    "import numpy as np\n",
    "rng = np.random.default_rng()\n",
    "rng.normal()\n",
    "```\n",
    "最後の２行を１行にまとめて書くこともできる。\n",
    "```\n",
    "import numpy as np\n",
    "np.random.default_rng().normal()\n",
    "```\n",
    "実際に実行してみよう。"
   ]
  },
  {
   "cell_type": "code",
   "execution_count": 17,
   "metadata": {},
   "outputs": [
    {
     "data": {
      "text/plain": [
       "-0.16088200064823913"
      ]
     },
     "execution_count": 17,
     "metadata": {},
     "output_type": "execute_result"
    }
   ],
   "source": [
    "np.random.default_rng().normal()"
   ]
  },
  {
   "cell_type": "markdown",
   "metadata": {},
   "source": [
    "古い書き方では書き方では次のようになる。\n",
    "```\n",
    "import numpy as np\n",
    "np.random.normal()\n",
    "```\n",
    "実際に実行してみよう。"
   ]
  },
  {
   "cell_type": "code",
   "execution_count": 18,
   "metadata": {},
   "outputs": [
    {
     "data": {
      "text/plain": [
       "-0.6744681470168514"
      ]
     },
     "execution_count": 18,
     "metadata": {},
     "output_type": "execute_result"
    }
   ],
   "source": [
    "np.random.normal()"
   ]
  },
  {
   "cell_type": "markdown",
   "metadata": {},
   "source": [
    "２つを比べると，推奨される書き方には`.default_rng()`が追加されていることが分かる。\n",
    "その部分が「より良い統計学的特徴」を発生させるコードとなる。\n",
    "\n",
    "次の表にまとめることができる（インポートの行は省く）。"
   ]
  },
  {
   "cell_type": "markdown",
   "metadata": {},
   "source": [
    "```{div} full-width\n",
    "\n",
    "||推奨コード   | 古い書き方 |\n",
    "|:----|:----------|:-------------------------------------|\n",
    "|平均1<br>標準偏差5の<br>正規分布| np.random.default_rng().normal(1,5,size=10) | np.random.normal(1,5,size=10) |\n",
    "|最小値1<br>最大値5の<br>一様分布| np.random.default_rng().uniform(1,5,size=10) | np.random.uniform(1,5,size=10) |\n",
    "|平均`mean`<br>分散共分散`cov`の<br>多変量正規分布| np.random.default_rng().multivariate_normal(mean,cov,size=n) | np.random.multivariate_normal(mean,cov,size=n) |\n",
    "\n",
    "```"
   ]
  }
 ],
 "metadata": {
  "kernelspec": {
   "display_name": "Python 3 (ipykernel)",
   "language": "python",
   "name": "python3"
  },
  "language_info": {
   "codemirror_mode": {
    "name": "ipython",
    "version": 3
   },
   "file_extension": ".py",
   "mimetype": "text/x-python",
   "name": "python",
   "nbconvert_exporter": "python",
   "pygments_lexer": "ipython3",
   "version": "3.9.0"
  }
 },
 "nbformat": 4,
 "nbformat_minor": 4
}