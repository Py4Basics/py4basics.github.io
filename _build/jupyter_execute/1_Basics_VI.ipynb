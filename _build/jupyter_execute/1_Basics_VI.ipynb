{
 "cells": [
  {
   "cell_type": "markdown",
   "id": "3f135818",
   "metadata": {},
   "source": [
    "# 図示とシミュレーション"
   ]
  },
  {
   "cell_type": "code",
   "execution_count": 1,
   "id": "1615ee71",
   "metadata": {},
   "outputs": [],
   "source": [
    "import random\n",
    "import math\n",
    "import matplotlib.pyplot as plt"
   ]
  },
  {
   "cell_type": "markdown",
   "id": "725116df",
   "metadata": {},
   "source": [
    "ここでの目的は２つある。第１に，`Matplotlib`（「マットプロットリブ」と読む）はプロットのための代表的なパッケージであり，外部パッケージとしては`Matplotlib`のみを使い（`Pandas`や`Numpy`は使わない）データを図示（プロット）する方法を解説する。第２に，統計学の重要な概念をシミュレーションをおこない，データを可視化し理解を深めることである。"
   ]
  },
  {
   "cell_type": "markdown",
   "id": "681b06e6",
   "metadata": {},
   "source": [
    "```{margin}\n",
    "<div name=\"html-admonition\">\n",
    "Do you want to read in a differnt language? Start\n",
    "<input type=\"button\" onclick=\"location.href='https://translate.google.com/translate?hl=&sl=ja&tl=en&u='+window.location;\" value=\"Google\" style=\"color:#ffffff;background-color:#008080;\" onmouseover=\"this.style.background='#99ccff'\" onmouseout=\"this.style.background='#008080'\"/><input type=\"button\" onclick=\"location.href='https://translate.google.com/translate?hl=&sl=ja&tl=en&u='+window.location;\" value=\"translation\" style=\"color:#ffffff;background-color:#008080;\" onmouseover=\"this.style.background='#99ccff'\" onmouseout=\"this.style.background='#008080'\"/>\n",
    "in English or the language of your choice.\n",
    "</div>\n",
    "```"
   ]
  },
  {
   "cell_type": "markdown",
   "id": "fc2e8506",
   "metadata": {},
   "source": [
    "`Matplotlib`は大きなパッケージであり，その中にある`pyplot`モジュールを使うことになる。慣例に沿って`plt`としてインポートしている。"
   ]
  },
  {
   "cell_type": "markdown",
   "id": "102e424b",
   "metadata": {
    "heading_collapsed": true
   },
   "source": [
    "## ライン・プロット"
   ]
  },
  {
   "cell_type": "markdown",
   "id": "3ccaf163",
   "metadata": {
    "hidden": true
   },
   "source": [
    "### 説明"
   ]
  },
  {
   "cell_type": "markdown",
   "id": "405e5677",
   "metadata": {
    "hidden": true
   },
   "source": [
    "次がプロットする際の構文である。\n",
    "```\n",
    "plt.plot(＜x軸の値＞,＜y軸の値＞)\n",
    "```"
   ]
  },
  {
   "cell_type": "markdown",
   "id": "181361bf",
   "metadata": {
    "hidden": true
   },
   "source": [
    "実際にプロットするために次の値を設定しよう。"
   ]
  },
  {
   "cell_type": "code",
   "execution_count": 2,
   "id": "7daa6bb8",
   "metadata": {
    "hidden": true
   },
   "outputs": [],
   "source": [
    "x = [1,2,3]\n",
    "y = [10,30,20]"
   ]
  },
  {
   "cell_type": "markdown",
   "id": "096bc971",
   "metadata": {
    "hidden": true
   },
   "source": [
    "引数に`x`と`y`を指定するとプロットできる。"
   ]
  },
  {
   "cell_type": "code",
   "execution_count": 3,
   "id": "7e43e27e",
   "metadata": {
    "hidden": true
   },
   "outputs": [
    {
     "data": {
      "text/plain": [
       "[<matplotlib.lines.Line2D at 0x7f8fca537070>]"
      ]
     },
     "execution_count": 3,
     "metadata": {},
     "output_type": "execute_result"
    },
    {
     "data": {
      "image/png": "[encoded data removed]",
      "text/plain": [
       "<Figure size 432x288 with 1 Axes>"
      ]
     },
     "metadata": {
      "filenames": {
       "image/png": "/Users/tetsu/Documents/My_Simulation/Python/JupyterBooks/py4basics.github.io/_build/jupyter_execute/1_Basics_VI_11_1.png"
      },
      "needs_background": "light"
     },
     "output_type": "display_data"
    }
   ],
   "source": [
    "plt.plot(x, y, marker='o')"
   ]
  },
  {
   "cell_type": "markdown",
   "id": "7f8841c7",
   "metadata": {
    "hidden": true
   },
   "source": [
    "コードに`marker='o'`が追加されているが，「●」を表示するために使っている。このような引数の使い方は後で詳しく説明するので，ここでは気にしないで読み進めて欲しい。\n",
    "\n",
    "「●」のマーカーがある点が`x`と`y`の値の組み合わせとして表示されている。\n",
    "* 左下の「●」の座標は`x`と`y`の`0`番目の値である`x=1`と`y=10`となる。\n",
    "* 中央上の「●」の座標が`x`と`y`の`1`番目の値である`x=2`と`y=30`となる。\n",
    "* 右端の「●」はの座標が`x`と`y`の`2`番目の値である`x=3`と`y=20`となる。\n",
    "\n",
    "`plot()`はデフォルトでそれらの点を直線で結んでおり，ライン・プロットと呼ばれる。曲線を描くには，単に座標の点を増やすことによりスムーズな曲線を表示することが可能となる。言い換えると，短い直線を使うことにより曲線を描画することになる。"
   ]
  },
  {
   "cell_type": "markdown",
   "id": "459895dc",
   "metadata": {
    "heading_collapsed": true,
    "hidden": true
   },
   "source": [
    "### 値の生成"
   ]
  },
  {
   "cell_type": "markdown",
   "id": "3d15d613",
   "metadata": {
    "hidden": true
   },
   "source": [
    "曲線を描画するためには座標の数を増やす必要がある。ここでは，そのためのコードを考える。"
   ]
  },
  {
   "cell_type": "markdown",
   "id": "45335649",
   "metadata": {
    "heading_collapsed": true,
    "hidden": true
   },
   "source": [
    "#### `x`軸の値"
   ]
  },
  {
   "cell_type": "markdown",
   "id": "d392e7ca",
   "metadata": {
    "hidden": true
   },
   "source": [
    "まず`x`軸の複数の値が要素となるリストを作成するが，次の変数を定義しよう。\n",
    "* `l`：最小値（lowest value）\n",
    "    * リストの要素の最小値\n",
    "* `h`：最大値（highest value）\n",
    "    * リストの要素の最大値\n",
    "* `n`：生成する値の数（整数型，number of values）\n",
    "    * リストに含まれる要素の総数\n",
    "\n",
    "例えば，次の値を設定しよう。"
   ]
  },
  {
   "cell_type": "code",
   "execution_count": 4,
   "id": "5f7d444e",
   "metadata": {
    "hidden": true
   },
   "outputs": [],
   "source": [
    "l = 1\n",
    "h = 2\n",
    "n = 5"
   ]
  },
  {
   "cell_type": "markdown",
   "id": "4ccc364b",
   "metadata": {
    "hidden": true
   },
   "source": [
    "この値のもとで次の内包表記を使い`1.0`から始まる数字から構成されるリストが作成しよう。"
   ]
  },
  {
   "cell_type": "code",
   "execution_count": 5,
   "id": "9b363935",
   "metadata": {
    "hidden": true
   },
   "outputs": [
    {
     "data": {
      "text/plain": [
       "[1.0, 1.25, 1.5, 1.75, 2.0]"
      ]
     },
     "execution_count": 5,
     "metadata": {},
     "output_type": "execute_result"
    }
   ],
   "source": [
    "lst = [l + x*(h-l)/(n-1) for x in range(n)]\n",
    "lst"
   ]
  },
  {
   "cell_type": "markdown",
   "id": "89e9b151",
   "metadata": {
    "hidden": true
   },
   "source": [
    "この例では，`1`から`2`の間の値を`5`個をリストの要素として生成している。\n",
    "\n",
    "この手法を使い`x`軸の値を生成するが，関数にまとめた方が使い易いので次の`xvalues`関数を作成する。"
   ]
  },
  {
   "cell_type": "code",
   "execution_count": 6,
   "id": "ab8344d2",
   "metadata": {
    "hidden": true
   },
   "outputs": [],
   "source": [
    "def xvalues(l, h, n):\n",
    "    \"\"\"引数\n",
    "        l：最小値（lowest value）\n",
    "        h：最大値（highest value）\n",
    "        n：作成する数値の数を指定する（正の整数型，number of values）\n",
    "    戻り値\n",
    "        n個の要素から構成されるリスト\"\"\"\n",
    "    \n",
    "    #1\n",
    "    if ( n<=1 ) or ( not isinstance(n, int) ):\n",
    "        raise Exception(f\"引数 n には2以上の整数型を使う必要があります。n={n}となっています。\")\n",
    "    #2\n",
    "    elif l>=h:\n",
    "        raise Exception(f\"引数 l と h の値では l>h もしくは l=h となります。l<h となるように値を設定し直してください。\")\n",
    "    #3    \n",
    "    else:\n",
    "        return [l + x*(h-l)/(n-1) for x in range(n)]"
   ]
  },
  {
   "cell_type": "markdown",
   "id": "f2b70669",
   "metadata": {
    "hidden": true
   },
   "source": [
    "```{admonition} コードの説明\n",
    ":class: dropdown\n",
    "\n",
    "* `#1`の`if`ブロックは，次の２つの条件が満たされた場合に，その下の行のエラーメッセージを表示する。\n",
    "    * `n<=1`は`n`が`1`以下の場合に`True`を返す。\n",
    "    * `isinstance()`関数は，第１引数である`n`が，第２引数である`int`（即ち，整数型）である場合に`True`を返し，他のデータ型であれば`False`を返す。しかし，`isinstance()`関数の前に`not`があり，返り値は反転されるため，`n`が整数型以外であれば`True`を返す。\n",
    "* `#2`の`elif`ブロックは，次の条件が満たされた場合に，その下の行のエラーメッセージを表示する。\n",
    "    * `l>h`もしくは`l=h`の場合に`True`を返す。\n",
    "* `#3`の`else`ブロックは，`#1`の条件が満たされない場合にのみ，上で使った内包表記の結果が返される。\n",
    "```\n",
    "\n",
    "以前も説明したが，引数などを確認したい場合は次のコードで調べることができるので覚えておこう。"
   ]
  },
  {
   "cell_type": "code",
   "execution_count": 7,
   "id": "b58aeb35",
   "metadata": {
    "hidden": true
   },
   "outputs": [
    {
     "name": "stdout",
     "output_type": "stream",
     "text": [
      "Help on function xvalues in module __main__:\n",
      "\n",
      "xvalues(l, h, n)\n",
      "    引数\n",
      "        l：最小値（lowest value）\n",
      "        h：最大値（highest value）\n",
      "        n：作成する数値の数を指定する（正の整数型，number of values）\n",
      "    戻り値\n",
      "        n個の要素から構成されるリスト\n",
      "\n"
     ]
    }
   ],
   "source": [
    "help(xvalues)"
   ]
  },
  {
   "cell_type": "markdown",
   "id": "191c822c",
   "metadata": {
    "hidden": true
   },
   "source": [
    "この`xvalues`関数を使い，`x`の値を生成しよう。"
   ]
  },
  {
   "cell_type": "code",
   "execution_count": 8,
   "id": "7b994583",
   "metadata": {
    "hidden": true
   },
   "outputs": [
    {
     "data": {
      "text/plain": [
       "[-1.0, -0.5, 0.0, 0.5, 1.0]"
      ]
     },
     "execution_count": 8,
     "metadata": {},
     "output_type": "execute_result"
    }
   ],
   "source": [
    "x = xvalues(-1, 1, 5)\n",
    "x"
   ]
  },
  {
   "cell_type": "markdown",
   "id": "54deca2d",
   "metadata": {
    "heading_collapsed": true,
    "hidden": true
   },
   "source": [
    "#### `y`軸の値\n"
   ]
  },
  {
   "cell_type": "markdown",
   "id": "6017a7f4",
   "metadata": {
    "hidden": true
   },
   "source": [
    "`y`軸の値は，描きたい関数に依存している。例えば，次の２次関数をプロットしたいとしよう。\n",
    "\n",
    "$$y=x^2$$\n",
    "\n",
    "まず最初にこの関数を捉える`Python`の関数を作成する。"
   ]
  },
  {
   "cell_type": "code",
   "execution_count": 9,
   "id": "d9ef4d83",
   "metadata": {
    "hidden": true
   },
   "outputs": [],
   "source": [
    "def quadratic(x):\n",
    "    return x**2"
   ]
  },
  {
   "cell_type": "markdown",
   "id": "22279890",
   "metadata": {
    "hidden": true
   },
   "source": [
    "次に，`x`の値を使い内包表記で`y`の値から構成されるリストを作成する。"
   ]
  },
  {
   "cell_type": "code",
   "execution_count": 10,
   "id": "194cc76c",
   "metadata": {
    "hidden": true
   },
   "outputs": [
    {
     "data": {
      "text/plain": [
       "[1.0, 0.25, 0.0, 0.25, 1.0]"
      ]
     },
     "execution_count": 10,
     "metadata": {},
     "output_type": "execute_result"
    }
   ],
   "source": [
    "y = [quadratic(i) for i in x]\n",
    "y"
   ]
  },
  {
   "cell_type": "markdown",
   "id": "c2dbec6e",
   "metadata": {
    "heading_collapsed": true,
    "hidden": true
   },
   "source": [
    "### 曲線のプロット"
   ]
  },
  {
   "cell_type": "markdown",
   "id": "fb7e95d9",
   "metadata": {
    "hidden": true
   },
   "source": [
    "上で作成した`x`と`y`を使いプロットしよう。"
   ]
  },
  {
   "cell_type": "code",
   "execution_count": 11,
   "id": "edf680c8",
   "metadata": {
    "hidden": true
   },
   "outputs": [
    {
     "data": {
      "text/plain": [
       "[<matplotlib.lines.Line2D at 0x7f8fca608c40>]"
      ]
     },
     "execution_count": 11,
     "metadata": {},
     "output_type": "execute_result"
    },
    {
     "data": {
      "image/png": "[encoded data removed]",
      "text/plain": [
       "<Figure size 432x288 with 1 Axes>"
      ]
     },
     "metadata": {
      "filenames": {
       "image/png": "/Users/tetsu/Documents/My_Simulation/Python/JupyterBooks/py4basics.github.io/_build/jupyter_execute/1_Basics_VI_33_1.png"
      },
      "needs_background": "light"
     },
     "output_type": "display_data"
    }
   ],
   "source": [
    "plt.plot(x, y, marker='o')"
   ]
  },
  {
   "cell_type": "markdown",
   "id": "0e02ca0f",
   "metadata": {
    "hidden": true
   },
   "source": [
    "座標の数が少ないのでスムーズな曲線には見えない。もっと座標を増やしてみよう。"
   ]
  },
  {
   "cell_type": "code",
   "execution_count": 12,
   "id": "76d727dc",
   "metadata": {
    "hidden": true
   },
   "outputs": [
    {
     "data": {
      "text/plain": [
       "[<matplotlib.lines.Line2D at 0x7f8fca67f820>]"
      ]
     },
     "execution_count": 12,
     "metadata": {},
     "output_type": "execute_result"
    },
    {
     "data": {
      "image/png": "[encoded data removed]",
      "text/plain": [
       "<Figure size 432x288 with 1 Axes>"
      ]
     },
     "metadata": {
      "filenames": {
       "image/png": "/Users/tetsu/Documents/My_Simulation/Python/JupyterBooks/py4basics.github.io/_build/jupyter_execute/1_Basics_VI_35_1.png"
      },
      "needs_background": "light"
     },
     "output_type": "display_data"
    }
   ],
   "source": [
    "x = xvalues(-1, 1, 200)\n",
    "y = [quadratic(i) for i in x]\n",
    "\n",
    "plt.plot(x, y)"
   ]
  },
  {
   "cell_type": "markdown",
   "id": "5b81fd1f",
   "metadata": {
    "hidden": true
   },
   "source": [
    "$y=x^2$の図らしく見える。\n",
    "\n",
    "````{hint}\n",
    "上の２つの図の上に文字が表示されている。`plt.plot(x,y)`はあるオブジェクトを返しており，それが文字として表示されている。表示を消すには，次の方法のどれかを使えば良いだろう。\n",
    "* `plt.plot(x,y)`の次の行に`pass`もしくは`plt.show()`と書く。\n",
    "* 最後の行に`;`を付け加える。例えば，`plt.plot(x,y);`。\n",
    "* 最後の行を`_ = plt.plot(x,y)`とする。これは，返されるオブジェクトを変数`_`に割り当てることにより表示を消している。もちろん`_`でなくても良いが，重要でないオブジェクトには`_`がよく使われる。\n",
    "````"
   ]
  },
  {
   "cell_type": "markdown",
   "id": "c1f98579",
   "metadata": {
    "heading_collapsed": true,
    "hidden": true
   },
   "source": [
    "### 重ねてプロット"
   ]
  },
  {
   "cell_type": "markdown",
   "id": "150b2efe",
   "metadata": {
    "hidden": true
   },
   "source": [
    "２つの`y`の値を生成しよう。"
   ]
  },
  {
   "cell_type": "code",
   "execution_count": 13,
   "id": "8a2f47a9",
   "metadata": {
    "hidden": true
   },
   "outputs": [],
   "source": [
    "y0 = [quadratic(i) for i in x]\n",
    "y1 = [-quadratic(i) for i in x]"
   ]
  },
  {
   "cell_type": "markdown",
   "id": "894bb866",
   "metadata": {
    "hidden": true
   },
   "source": [
    "`y0`は`y`と同じであり，`y1`は単にマイナスの符号ついた関数の値である。この２つの関数を重ねてプロットしたいとしよう。コードは簡単で同じ`plt.plot()`をリピートするだけである。"
   ]
  },
  {
   "cell_type": "code",
   "execution_count": 14,
   "id": "c17b69eb",
   "metadata": {
    "hidden": true
   },
   "outputs": [
    {
     "data": {
      "image/png": "[encoded data removed]",
      "text/plain": [
       "<Figure size 432x288 with 1 Axes>"
      ]
     },
     "metadata": {
      "filenames": {
       "image/png": "/Users/tetsu/Documents/My_Simulation/Python/JupyterBooks/py4basics.github.io/_build/jupyter_execute/1_Basics_VI_41_0.png"
      },
      "needs_background": "light"
     },
     "output_type": "display_data"
    }
   ],
   "source": [
    "plt.plot(x, y0)\n",
    "plt.plot(x, y1)\n",
    "pass"
   ]
  },
  {
   "cell_type": "markdown",
   "id": "3c1feafb",
   "metadata": {
    "heading_collapsed": true,
    "hidden": true
   },
   "source": [
    "### `plot()`の基本的な引数"
   ]
  },
  {
   "cell_type": "markdown",
   "id": "0feebfb3",
   "metadata": {
    "hidden": true
   },
   "source": [
    "`plot()`に引数を使うことによりデータの表示方法を指定できる。詳しくは[このリンク](https://matplotlib.org/stable/api/_as_gen/matplotlib.pyplot.plot.html)を参照することにして，ここでは基本的な引数だけを紹介する。\n",
    "=* `linestyle`：線のスタイル（リストにして列の順番で指定する;`-`，`--`，`-.`，`:`などがある）\n",
    "* `linewidth` or `lw`：線の幅\n",
    "* `color` or `c`：色（[参照サイト](https://matplotlib.org/stable/gallery/color/named_colors.html)）\n",
    "    * `r`又は`red`は赤\n",
    "    * `k`又は`black`は黒\n",
    "    * `g`又は`green`はグリーン\n",
    "* `marker`：観測値のマーカー（`o`，`.`，`>`，`^`などがある; [参照サイト](https://matplotlib.org/stable/api/markers_api.html)）\n",
    "* `markersize`：マーカーの大きさ\n",
    "* `label`：以下で説明する`ax.legend()`がある場合に有効となる"
   ]
  },
  {
   "cell_type": "code",
   "execution_count": 15,
   "id": "b2fd4546",
   "metadata": {
    "hidden": true
   },
   "outputs": [
    {
     "data": {
      "image/png": "[encoded data removed]",
      "text/plain": [
       "<Figure size 432x288 with 1 Axes>"
      ]
     },
     "metadata": {
      "filenames": {
       "image/png": "/Users/tetsu/Documents/My_Simulation/Python/JupyterBooks/py4basics.github.io/_build/jupyter_execute/1_Basics_VI_44_0.png"
      },
      "needs_background": "light"
     },
     "output_type": "display_data"
    }
   ],
   "source": [
    "plt.plot([1,2,3], [10,30,25],\n",
    "         linestyle=':',\n",
    "         linewidth=2,\n",
    "         color='r',\n",
    "         marker='o',\n",
    "         markersize=10)\n",
    "plt.plot([1,2,3], [30,10,15],\n",
    "         linestyle='-',\n",
    "         linewidth=2,\n",
    "         color='k',\n",
    "         marker='^',\n",
    "         markersize=10)\n",
    "pass"
   ]
  },
  {
   "cell_type": "markdown",
   "id": "ccc218e3",
   "metadata": {
    "hidden": true
   },
   "source": [
    "引数をいちいち書くのが面倒な場合、次の３つを簡略して一緒に指定できる。\n",
    "* `linestyle`\n",
    "* `color`\n",
    "* `marker`\n",
    "\n",
    "例えば、\n",
    "* `linestyle=':'`\n",
    "* `color='red'`\n",
    "* `marker='o'`\n",
    "\n",
    "の場合、`:ro`と書くことができる。"
   ]
  },
  {
   "cell_type": "code",
   "execution_count": 16,
   "id": "1ff8fecd",
   "metadata": {
    "hidden": true
   },
   "outputs": [
    {
     "data": {
      "image/png": "[encoded data removed]",
      "text/plain": [
       "<Figure size 432x288 with 1 Axes>"
      ]
     },
     "metadata": {
      "filenames": {
       "image/png": "/Users/tetsu/Documents/My_Simulation/Python/JupyterBooks/py4basics.github.io/_build/jupyter_execute/1_Basics_VI_46_0.png"
      },
      "needs_background": "light"
     },
     "output_type": "display_data"
    }
   ],
   "source": [
    "plt.plot([1,2,3], [10,30,25], ':ro')\n",
    "pass"
   ]
  },
  {
   "cell_type": "markdown",
   "id": "2c054544",
   "metadata": {
    "hidden": true
   },
   "source": [
    "（注意点）\n",
    "* `:ro`は文字列\n",
    "* `:`，`r`，`o`の順番を変えても良い。\n",
    "* `:`や`:o`のように１つもしくは２つだけを指定しても良い。\n",
    "* `:ro`は`=`を使う引数の前に置く。\n",
    "\n",
    "詳細は[参考サイト（英語）](https://matplotlib.org/stable/api/_as_gen/matplotlib.axes.Axes.plot.html)を参照。"
   ]
  },
  {
   "cell_type": "markdown",
   "id": "1336316d",
   "metadata": {
    "heading_collapsed": true,
    "hidden": true
   },
   "source": [
    "### その他の「飾り付け」"
   ]
  },
  {
   "cell_type": "markdown",
   "id": "b9d47d5f",
   "metadata": {
    "hidden": true
   },
   "source": [
    "次の５つは`plt.plot()`の下に付け加えることによって表示できる。\n",
    "* `plt.title()`：タイトルを設定する。\n",
    "    * 文字列で指定し、大きさは引数`size`で指定する。\n",
    "* `plt.xlabel()`：横軸ラベル\n",
    "    * 文字列で指定し、大きさは引数`size`で指定する。\n",
    "* `plt.ylabel()`：縦軸ラベル\n",
    "    * 文字列で指定し、大きさは引数`size`で指定する。\n",
    "* `plt.legend()`：凡例を表示する。\n",
    "    * `plot()`の引数`label`を使って表示する文字列を指定する。\n",
    "    * `fontsize`：フォントの大きさを指定する。\n",
    "* `plt.grid()`：グリッド線が表示される。"
   ]
  },
  {
   "cell_type": "code",
   "execution_count": 17,
   "id": "c488f344",
   "metadata": {
    "hidden": true
   },
   "outputs": [
    {
     "data": {
      "image/png": "[encoded data removed]",
      "text/plain": [
       "<Figure size 432x288 with 1 Axes>"
      ]
     },
     "metadata": {
      "filenames": {
       "image/png": "/Users/tetsu/Documents/My_Simulation/Python/JupyterBooks/py4basics.github.io/_build/jupyter_execute/1_Basics_VI_50_0.png"
      },
      "needs_background": "light"
     },
     "output_type": "display_data"
    }
   ],
   "source": [
    "plt.plot([1,2,3], [10,30,25], ':ro', label='This is a legend')\n",
    "plt.title('This is a Title', size=30)\n",
    "plt.xlabel('Label for x', size=20)\n",
    "plt.ylabel('Label for y', size=20)\n",
    "plt.legend(fontsize=20)\n",
    "plt.grid()\n",
    "pass"
   ]
  },
  {
   "cell_type": "markdown",
   "id": "a4fb9efa",
   "metadata": {
    "hidden": true
   },
   "source": [
    "````{note}\n",
    "このままで日本語を表示できない。一番簡単な方法は外部パッケージの`japanize_matplotlib`を使うことだろう。まずコンピューターにインストールする必要がある。Google Colaboratoryであれば，**毎回**次のコードを最初に実行してインストールする必要がある。\n",
    "```\n",
    "!pip install japanize-matplotlib\n",
    "```\n",
    "その後，次を実行すれば他の設定なしに日本語が使える。\n",
    "```\n",
    "import japaneze_matplotlib\n",
    "```\n",
    "````"
   ]
  },
  {
   "cell_type": "markdown",
   "id": "df34f396",
   "metadata": {
    "heading_collapsed": true
   },
   "source": [
    "## ヒストグラム"
   ]
  },
  {
   "cell_type": "markdown",
   "id": "563262ee",
   "metadata": {
    "hidden": true
   },
   "source": [
    "基本的には次の構文となる。\n",
    "```\n",
    "plt.hist(＜データ＞)\n",
    "```\n",
    "\n",
    "まず標準正規分布からランダム変数を10,000個抽出して変数`z0`に割り当てよう。"
   ]
  },
  {
   "cell_type": "code",
   "execution_count": 18,
   "id": "80bdfda4",
   "metadata": {
    "hidden": true
   },
   "outputs": [],
   "source": [
    "z0 = [random.gauss(0,1) for _ in range(10_000)]"
   ]
  },
  {
   "cell_type": "markdown",
   "id": "57ae8013",
   "metadata": {
    "hidden": true
   },
   "source": [
    "このデータのヒストグラムを表示してみよう。"
   ]
  },
  {
   "cell_type": "code",
   "execution_count": 19,
   "id": "b54e5bef",
   "metadata": {
    "hidden": true
   },
   "outputs": [
    {
     "data": {
      "image/png": "[encoded data removed]",
      "text/plain": [
       "<Figure size 432x288 with 1 Axes>"
      ]
     },
     "metadata": {
      "filenames": {
       "image/png": "/Users/tetsu/Documents/My_Simulation/Python/JupyterBooks/py4basics.github.io/_build/jupyter_execute/1_Basics_VI_56_0.png"
      },
      "needs_background": "light"
     },
     "output_type": "display_data"
    }
   ],
   "source": [
    "plt.hist(z0)\n",
    "pass"
   ]
  },
  {
   "cell_type": "markdown",
   "id": "06a72d36",
   "metadata": {
    "hidden": true
   },
   "source": [
    "**＜基本的な引数＞**\n",
    "\n",
    "様々な引数があり図に「飾り付け」をすることができる。詳しくは[このリンク](https://matplotlib.org/stable/api/_as_gen/matplotlib.pyplot.hist.html)を参照することにして，ここでは基本的な引数だけを紹介する。\n",
    "* `bins`：柱の数\n",
    "    * 整数型を使えば文字通りの柱の数となる。\n",
    "    * 区間の値をリストとして設定することができる。例えば，`0`と`1`を等区間に柱を２つ設定する場合は`[0, 0.5, 1]`となる。\n",
    "* `linewidth`又は`lw`：柱の間隔（デフォルトは`1`）\n",
    "* `color`：色（リストにして列の順番で指定する; [参照サイト](https://matplotlib.org/3.1.0/gallery/color/named_colors.html)）\n",
    "    * `r`又は`red`：赤\n",
    "    * `k`又は`black`：黒\n",
    "    * `g`又は`green`：グリーン\n",
    "* `edgecolor`又は`ec`：柱の境界線の色\n",
    "* `alpha`：透明度（`0`から`1.0`; デフォルトは`1`）\n",
    "* `density`：縦軸を相対度数にする（デフォルトは`False`）\n",
    "    * 全ての柱の**面積**の合計が`1`になるように縦軸が調整される。１つの柱の高さが`1`よりも大きくなる場合もある。\n",
    "* `label`：凡例の表現を指定\n",
    "    * `ax.legend()`が設定されている場合のみ有効\n",
    "    \n",
    "上のヒストグラムに引数をしてしてみよう。"
   ]
  },
  {
   "cell_type": "code",
   "execution_count": 20,
   "id": "7121291b",
   "metadata": {
    "hidden": true
   },
   "outputs": [
    {
     "data": {
      "image/png": "[encoded data removed]",
      "text/plain": [
       "<Figure size 432x288 with 1 Axes>"
      ]
     },
     "metadata": {
      "filenames": {
       "image/png": "/Users/tetsu/Documents/My_Simulation/Python/JupyterBooks/py4basics.github.io/_build/jupyter_execute/1_Basics_VI_58_0.png"
      },
      "needs_background": "light"
     },
     "output_type": "display_data"
    }
   ],
   "source": [
    "plt.hist(z0,\n",
    "         bins = 30,\n",
    "         lw=2,\n",
    "         color='green',\n",
    "         ec='white',\n",
    "#          alpha=0.5,\n",
    "#          label='values of z'\n",
    "         density=True)\n",
    "\n",
    "pass"
   ]
  },
  {
   "cell_type": "markdown",
   "id": "74937d34",
   "metadata": {
    "hidden": true
   },
   "source": [
    "次に複数のデータを重ねてプロットする場合を考えよう。方法は簡単で，ライン・プロットと同じように`plt.hist()`を続けてコードを書くだけである。まず平均`4`標準偏差`2`の正規分布からのランダム変数を用意しよう。"
   ]
  },
  {
   "cell_type": "code",
   "execution_count": 21,
   "id": "f83f35c8",
   "metadata": {
    "hidden": true
   },
   "outputs": [],
   "source": [
    "z1 = [random.gauss(5,2) for _ in range(10_000)]"
   ]
  },
  {
   "cell_type": "markdown",
   "id": "b8320947",
   "metadata": {
    "hidden": true
   },
   "source": [
    "`z0`と`z1`のヒストグラムを重ねて表示しよう。"
   ]
  },
  {
   "cell_type": "code",
   "execution_count": 22,
   "id": "0e1f032c",
   "metadata": {
    "hidden": true
   },
   "outputs": [
    {
     "data": {
      "image/png": "[encoded data removed]",
      "text/plain": [
       "<Figure size 432x288 with 1 Axes>"
      ]
     },
     "metadata": {
      "filenames": {
       "image/png": "/Users/tetsu/Documents/My_Simulation/Python/JupyterBooks/py4basics.github.io/_build/jupyter_execute/1_Basics_VI_62_0.png"
      },
      "needs_background": "light"
     },
     "output_type": "display_data"
    }
   ],
   "source": [
    "plt.hist(z0,\n",
    "         bins = 30,\n",
    "         color='red',\n",
    "         ec='white',\n",
    "         alpha=0.5)\n",
    "plt.hist(z1,\n",
    "         bins = 30,\n",
    "         color='black',\n",
    "         ec='white',\n",
    "         alpha=0.5)\n",
    "pass"
   ]
  },
  {
   "cell_type": "markdown",
   "id": "f03631d0",
   "metadata": {
    "hidden": true
   },
   "source": [
    "濃い赤の部分が重なっている部分となる。\n",
    "\n",
    "その他の「飾り付け」（タイトルなど）はライン・プロットと同じとなる。"
   ]
  },
  {
   "cell_type": "code",
   "execution_count": 23,
   "id": "97690746",
   "metadata": {
    "hidden": true
   },
   "outputs": [
    {
     "data": {
      "image/png": "[encoded data removed]",
      "text/plain": [
       "<Figure size 432x288 with 1 Axes>"
      ]
     },
     "metadata": {
      "filenames": {
       "image/png": "/Users/tetsu/Documents/My_Simulation/Python/JupyterBooks/py4basics.github.io/_build/jupyter_execute/1_Basics_VI_64_0.png"
      },
      "needs_background": "light"
     },
     "output_type": "display_data"
    }
   ],
   "source": [
    "plt.hist(z0,\n",
    "         bins = 30,\n",
    "         color='red',\n",
    "         ec='white',\n",
    "         alpha=0.5,\n",
    "         label='z0')\n",
    "plt.hist(z1,\n",
    "         bins = 30,\n",
    "         color='black',\n",
    "         ec='white',\n",
    "         alpha=0.5,\n",
    "         label='z1')\n",
    "plt.title('This is a Title', size=30)\n",
    "plt.xlabel('Label for x', size=20)\n",
    "plt.ylabel('Label for y', size=20)\n",
    "plt.legend(fontsize=20)\n",
    "plt.grid()\n",
    "\n",
    "pass"
   ]
  },
  {
   "cell_type": "markdown",
   "id": "509611c1",
   "metadata": {
    "heading_collapsed": true
   },
   "source": [
    "## 大数の法則"
   ]
  },
  {
   "cell_type": "markdown",
   "id": "23a7561d",
   "metadata": {
    "heading_collapsed": true,
    "hidden": true
   },
   "source": [
    "### 大数の法則とは"
   ]
  },
  {
   "cell_type": "markdown",
   "id": "ac9be975",
   "metadata": {
    "hidden": true
   },
   "source": [
    "母集団のパラメータを次の様に表記しよう。\n",
    "* $\\mu$：平均\n",
    "\n",
    "この母集団から標本$X_1,X_2\\cdots X_n$を抽出し（$n$は標本の大きさ），その平均を$\\overline{X}_n$とする。\n",
    "\n",
    "$$\n",
    "\\overline{X}_n=\\frac{X_1+X_2+\\cdots+X_n}{n}=\\frac{\\sum_{i=1}^nX_i}{n}\n",
    "$$ (eq:1-average)\n",
    "\n",
    "標本を取るごとに$X_i$，$i=1,2...n$の値は異なるため，$\\overline{X}_n$自体もランダム変数となる。ここでは$n$回の試行を考えているが，大数の法則は同じ試行を数多く繰り返した場合の結果に関する法則である。\n",
    "\n",
    "**＜大数の法則（Law of Large Numbers）＞**<br>\n",
    "> 母集団の分布がどのようなものであれ（連続型，離散型），$\\mu$が有限である限り，$n$が大きくなると$\\overline{X}_n$は$\\mu$に近づいていく。\n",
    ">\n",
    "> $$\\lim_{n\\rightarrow\\infty}\\overline{X}_n\\;\\rightarrow\\;\\mu$$ (eq:1-LLN)"
   ]
  },
  {
   "cell_type": "markdown",
   "id": "240d6656",
   "metadata": {
    "hidden": true
   },
   "source": [
    "実社会とどの様な関係があるのだろうか。ビジネスの中で直接関係するのは保険業だ。自動車事故を考えてみよう。個々人にしてみれば，交通事故に遭うと大変だが，滅多に起こらない。一方，保険会社からすると，多くの個人・企業と契約しているため，交通事故は日常茶飯事となる。この例を考えるために，自動車免許を持つ人を母集団とし，その人数を$N$としよう。ここで$N$は非常に大きな数となる（日本の場合は約8,200万人）。また，１年間でドライバーが交通事故に遭遇する確率を$\\mu$とし，全てのトライバーにとって$\\mu$は同じと想定する。更に，トライバー$j$に事故が発生すると$X_j=1$，発生しない場合は$X_j=0$とし，$\\sum_{j=1}^NX_j$は事故の発生回数となる。母集団での事故の平均発生回数を$\\dfrac{\\sum_{j=1}^NX_j}{N}=\\mu$とすると，$\\mu$は母集団の中で事故に遭遇するトライバーの**割合**と等しいことになる。ここまでは母集団の話であり，次はある保険会社を考えよう。母集団の内，ドライバー$i=1,2,3,...n$が保険会社Aと自動車保険を契約したとする。$n$は母集団から「抽出」された顧客の総数となり，$n<N$である。ここで，事故の平均発生回数は式[](eq:1-average)と同じ$\\overline{X}_n$となり，$\\overline{X}_n$は事故に遭遇する顧客の**割合**と等しい。ここで重要な点は，$\\overline{X}_n$はランダム変数であり，必ずしも$\\overline{X}_n=\\mu$とはならない，ということである。例えば，$n=10$の場合を想像すると，直感的にも理解できるだろう。従って，母集団の$\\mu$が既知だとしても，保険会社Aにとって事故に遭う顧客数は毎年変化する。その変化が大きいと，保険金支払いの変動幅が大きくなり，ビジネスに支障をきたすことになるかも知れない。しかし，顧客数$n$が十分に大きいと，式[](eq:1-LLN)が成立する。即ち，事故に遭う顧客の割合$\\overline{X}_n$は，事故の確率$\\mu$に近づくことになり，毎年の$\\overline{X}_n$の変化が小さくなる。将来の$\\overline{X}_n$を予測しやすくなり，それに従って保険料を決めればビジネスが成り立つことになる。もちろん，現実はこれより複雑だが，保険業の基本的なアイデアは大数の法則に基づいている。"
   ]
  },
  {
   "cell_type": "markdown",
   "id": "959525d9",
   "metadata": {
    "heading_collapsed": true,
    "hidden": true
   },
   "source": [
    "### コイントス"
   ]
  },
  {
   "cell_type": "markdown",
   "id": "18229fe7",
   "metadata": {
    "hidden": true
   },
   "source": [
    "この節と次の節の目的は，コイントスのシミュレーションを使い大数の法則を理解することである。コインの表を`1`，裏を`0`とするコイントスを考えよう。`1`と`0`はそれぞれ確率$0.5$で発生するベルヌーイ分布に従うと仮定する。従って，以下が成り立つ。\n",
    "* 平均：$\\mu=0.5\\times 1 +0.5\\times 0 = 0.5$\n",
    "\n",
    "この様なランダム変数は既出の次の関数で表すことができる。"
   ]
  },
  {
   "cell_type": "code",
   "execution_count": 24,
   "id": "a856d0c7",
   "metadata": {
    "hidden": true
   },
   "outputs": [
    {
     "data": {
      "text/plain": [
       "1"
      ]
     },
     "execution_count": 24,
     "metadata": {},
     "output_type": "execute_result"
    }
   ],
   "source": [
    "random.randint(0,1)"
   ]
  },
  {
   "cell_type": "markdown",
   "id": "3aba8cda",
   "metadata": {
    "hidden": true
   },
   "source": [
    "この関数を実行する度に異なる値（`0`又は`1`）が発生することになる。\n",
    "\n",
    "次に，`20`個のコインを同時に投げる場合を考えよう（`1`個のコインを`20`回投げても同じ）。この場合の`20`が標本の大きさであり，変数`n`（number of coins）に割り当てよう。"
   ]
  },
  {
   "cell_type": "code",
   "execution_count": 25,
   "id": "34f034db",
   "metadata": {
    "hidden": true
   },
   "outputs": [],
   "source": [
    "n = 20"
   ]
  },
  {
   "cell_type": "markdown",
   "id": "a5873457",
   "metadata": {
    "hidden": true
   },
   "source": [
    "標本の大きさが`n`の場合の結果は，次の内包表記を使うと簡単に生成することができる。"
   ]
  },
  {
   "cell_type": "code",
   "execution_count": 26,
   "id": "a1245f8a",
   "metadata": {
    "hidden": true
   },
   "outputs": [
    {
     "data": {
      "text/plain": [
       "[1, 0, 0, 0, 1, 1, 0, 1, 0, 1, 1, 1, 0, 1, 0, 1, 0, 0, 1, 0]"
      ]
     },
     "execution_count": 26,
     "metadata": {},
     "output_type": "execute_result"
    }
   ],
   "source": [
    "tosses = [random.randint(0,1) for _ in range(n)]\n",
    "tosses"
   ]
  },
  {
   "cell_type": "markdown",
   "id": "b7dd8b1e",
   "metadata": {
    "hidden": true
   },
   "source": [
    "`1`（表）が何回発生したかを数えてみよう。この場合，`sum()`関数を使うことができる。"
   ]
  },
  {
   "cell_type": "code",
   "execution_count": 27,
   "id": "941dac58",
   "metadata": {
    "hidden": true
   },
   "outputs": [
    {
     "data": {
      "text/plain": [
       "10"
      ]
     },
     "execution_count": 27,
     "metadata": {},
     "output_type": "execute_result"
    }
   ],
   "source": [
    "sum(tosses)"
   ]
  },
  {
   "cell_type": "markdown",
   "id": "a4f88bfc",
   "metadata": {
    "hidden": true
   },
   "source": [
    "もしくは，メソッドである`count()`を使うこともできる。引数の値に`1`を指定すると`1`の数を返すことになる。"
   ]
  },
  {
   "cell_type": "code",
   "execution_count": 28,
   "id": "f7ad2119",
   "metadata": {
    "hidden": true
   },
   "outputs": [
    {
     "data": {
      "text/plain": [
       "10"
      ]
     },
     "execution_count": 28,
     "metadata": {},
     "output_type": "execute_result"
    }
   ],
   "source": [
    "heads = tosses.count(1)\n",
    "heads"
   ]
  },
  {
   "cell_type": "markdown",
   "id": "c81ce58a",
   "metadata": {
    "hidden": true
   },
   "source": [
    "この結果を利用すると平均は次のように計算できる。"
   ]
  },
  {
   "cell_type": "code",
   "execution_count": 29,
   "id": "b7cb3e19",
   "metadata": {
    "hidden": true
   },
   "outputs": [
    {
     "data": {
      "text/plain": [
       "0.5"
      ]
     },
     "execution_count": 29,
     "metadata": {},
     "output_type": "execute_result"
    }
   ],
   "source": [
    "heads / n"
   ]
  },
  {
   "cell_type": "markdown",
   "id": "4e8adc13",
   "metadata": {
    "hidden": true
   },
   "source": [
    "この値は上のコードを実行する度に異なる値になる。理論的な平均`0.5`と同じ場合もあれば，そうでない場合もある。"
   ]
  },
  {
   "cell_type": "markdown",
   "id": "63f1af6f",
   "metadata": {
    "heading_collapsed": true,
    "hidden": true
   },
   "source": [
    "### シミュレーション"
   ]
  },
  {
   "cell_type": "markdown",
   "id": "f4128793",
   "metadata": {
    "hidden": true
   },
   "source": [
    "上の説明では同時にトスするコインの数を`n=20`として計算したが，ここでは`n=1`から`n=200`までの値を使って平均を計算する。基本的には，上のコードを再利用して，`for`ループとしてまとめることにする。"
   ]
  },
  {
   "cell_type": "code",
   "execution_count": 30,
   "id": "fdb0631e",
   "metadata": {
    "hidden": true
   },
   "outputs": [],
   "source": [
    "mean_list = []             #1\n",
    "\n",
    "for n in range(1,200+1):   #2\n",
    "    \n",
    "    tosses = [random.randint(0,1) for _ in range(n)] #3\n",
    "    \n",
    "    mean = sum(tosses) / n      #4\n",
    "    \n",
    "    mean_list.append(mean) #5"
   ]
  },
  {
   "cell_type": "markdown",
   "id": "75e68f55",
   "metadata": {
    "hidden": true
   },
   "source": [
    "＜コードの説明＞\n",
    "* `#1`：`for`ループで計算する平均を格納するリスト。\n",
    "* `#2`：`range(1,200+1)`となっている。`1`枚のコインから`200`枚のコインまでのループ計算となっている。\n",
    "* `#3`：`n`枚のコインを投げた場合の結果を変数`tosses`に割り当てる。\n",
    "* `#4`：平均を計算し変数`mean`に割り当てる。\n",
    "* `#5`：`mean`を`mean_list`に追加する。\n",
    "\n",
    "`mean_list`をプロットしてみよう。"
   ]
  },
  {
   "cell_type": "code",
   "execution_count": 31,
   "id": "34c0a6db",
   "metadata": {
    "hidden": true
   },
   "outputs": [
    {
     "data": {
      "image/png": "[encoded data removed]",
      "text/plain": [
       "<Figure size 432x288 with 1 Axes>"
      ]
     },
     "metadata": {
      "filenames": {
       "image/png": "/Users/tetsu/Documents/My_Simulation/Python/JupyterBooks/py4basics.github.io/_build/jupyter_execute/1_Basics_VI_87_0.png"
      },
      "needs_background": "light"
     },
     "output_type": "display_data"
    }
   ],
   "source": [
    "plt.plot(range(1,200+1), mean_list)     #1\n",
    "plt.title('Average No. of Heads', size=25)  #2\n",
    "plt.xlabel('Number of Coins', size=15)  #3\n",
    "plt.axhline(0.5, color='red')           #4\n",
    "pass"
   ]
  },
  {
   "cell_type": "markdown",
   "id": "e6c3446b",
   "metadata": {
    "hidden": true
   },
   "source": [
    "＜コードの説明＞\n",
    "* `#1`：ライン・プロットで描画する。`x`軸に`range(1,200+1)`を使っており，自動的に`list(range(1,200+1))`として扱っている。また`range(1,200+1)`を省いて`plt.plot(mean_list)`としても図は表示される。その場合，`x`軸には`mean_list`のインデックス番号が使われることになり，`x`の値は`0`から`199`となる（図では分かりづらいが）。\n",
    "* `#2`：タイトルの設定。フォントサイズは`25`。\n",
    "* `#3`：`x`軸のラベルの設定。フォントサイズは`15`。\n",
    "* `#4`：`plt.axhline()`は横線を引く関数。引数は`y`軸の値（`0.5`），色は赤を指定。"
   ]
  },
  {
   "cell_type": "markdown",
   "id": "036d9a01",
   "metadata": {
    "hidden": true
   },
   "source": [
    "この図から標本の大きさ（同時に投げるコインの数）である`n`が増えると，平均は理論値`0.5`に収束していることが確認できる。"
   ]
  },
  {
   "cell_type": "markdown",
   "id": "0dcc805a",
   "metadata": {
    "heading_collapsed": true
   },
   "source": [
    "##  中心極限定理"
   ]
  },
  {
   "cell_type": "markdown",
   "id": "b44bf58d",
   "metadata": {
    "heading_collapsed": true,
    "hidden": true
   },
   "source": [
    "### 中心極限定理とは"
   ]
  },
  {
   "cell_type": "markdown",
   "id": "fe438106",
   "metadata": {
    "hidden": true
   },
   "source": [
    "母集団（大きさが無限）のパラメータを次の様に表記しよう。\n",
    "* $\\mu$：平均\n",
    "* $\\sigma$：標準偏差\n",
    "\n",
    "この母集団から標本$X_1,X_2\\cdots X_n$を抽出し（$n$は標本の大きさ），その平均を$\\overline{X}$とする。\n",
    "\n",
    "$$\n",
    "\\overline{X}_n=\\frac{X_1+X_2+\\cdots+X_n}{n}\n",
    "$$\n",
    "\n",
    "標本を取るごとに$X_i$，$i=1,2...n$の値は異なるため，$\\overline{X}$自体もランダム変数となる。更に，標準化した平均を次の様に定義しよう。\n",
    "\n",
    "$$\n",
    "Z_n = \\frac{\\overline{X}_n-\\mu}{\\sigma/\\sqrt{n}}\n",
    "$$ (eq:1-6-Zn)\n",
    "\n",
    "ここで$Z_n$は平均`0`，分散`1`となるランダム変数である。これにより，$Z_n$の**分布型は不明**だが，少なくとも平均と分散の２つのパラメータに関する限り標準正規分布と共通点がある。\n",
    "\n",
    "**＜中心極限定理（Central Limit Theorem)＞**<br>\n",
    "> 母集団の分布がどのようなものであれ（連続型，離散型），$\\mu$と$\\sigma$が有限である限り，$n$が大きくなると$Z_n$の分布は標準正規分布$N(0,1)$に近づいていく。\n",
    "\n",
    "下の図は標準正規分布をプロットしている。左右対称のベル型の分布であり，横軸の値は$-\\infty$から$\\infty$まで全ての実数をカバーしている。"
   ]
  },
  {
   "cell_type": "code",
   "execution_count": 32,
   "id": "6aca4c89",
   "metadata": {
    "hidden": true,
    "tags": [
     "hide-input"
    ]
   },
   "outputs": [
    {
     "data": {
      "image/png": "[encoded data removed]",
      "text/plain": [
       "<Figure size 432x288 with 1 Axes>"
      ]
     },
     "metadata": {
      "filenames": {
       "image/png": "/Users/tetsu/Documents/My_Simulation/Python/JupyterBooks/py4basics.github.io/_build/jupyter_execute/1_Basics_VI_93_0.png"
      },
      "needs_background": "light"
     },
     "output_type": "display_data"
    }
   ],
   "source": [
    "def draw_normal():\n",
    "    \n",
    "    from scipy.stats import norm\n",
    "    \n",
    "    x = xvalues(-4,4,100)\n",
    "    plt.plot(x, norm.pdf(x,0,1))\n",
    "    plt.title('Standard Normal Distribution', size=20)\n",
    "    \n",
    "    return plt.show()\n",
    "\n",
    "draw_normal()"
   ]
  },
  {
   "cell_type": "markdown",
   "id": "c63e9f11",
   "metadata": {
    "hidden": true
   },
   "source": [
    "この驚くべき結果は統計学の金字塔である。ではどこが金字塔なのだろうか。データ分析のためには標本を集める必要がある。例えば，大学生の１日の授業以外の勉強時間（単位は分）を考えてみよう。マイナス時間や24時間以上はあり得ないため，母集団の分布は正規分布ではないことは明らかである。標本の中には驚くほど勉強している人もいれば，アルバイトなどに追われ`0`分の学生も含まれるかも知れない。もしかすると，分布には複数のピークがあるかもしれない（例えば，`0`と`60`分）。いずれにしろ，母集団の分布は未知であるため，仮説検定は不可能のように感じられる。しかし中心極限定理は，超えることはできないように見える壁をいとも簡単に飛び越えさせてくれる。ランダム標本を集め，標本の大きさが十分に大きければ，標本平均は正規分布に従う（近似される）ため仮説検定が可能になるのだ。\n",
    "\n",
    "ここでの目的は，シミュレーションを使って中心極限定理を視覚的に理解・確認することである。コイントスの例を使い，次のステップで進める。\n",
    "1. `n`個のコインを同時に投げることを考え，その標準化平均を計算する。\n",
    "1. 標準化平均を計算するための関数を作成する。\n",
    "1. コイントスのシミュレーションをおこない，そのヒストグラムをプロットする。\n",
    "1. コイントスのヒストグラムと標準正規分布を重ねて表示し，中心極限定理の成立を視覚的に確認する。"
   ]
  },
  {
   "cell_type": "markdown",
   "id": "765a8b86",
   "metadata": {
    "heading_collapsed": true,
    "hidden": true
   },
   "source": [
    "### コイントス（再考）"
   ]
  },
  {
   "cell_type": "markdown",
   "id": "66d3d51e",
   "metadata": {
    "hidden": true
   },
   "source": [
    "大数の法則を説明する際に説明したコイントスを再考しよう。表を`1`，裏を`0`とし，それぞれの確率は$p=0.5$とする。以下が成り立つ。\n",
    "* 平均：$p=0.5$\n",
    "* 分散：$p(1-p)=0.5^2$\n",
    "* 標準偏差：$\\sqrt{p(1-p)}=0.5$"
   ]
  },
  {
   "cell_type": "markdown",
   "id": "17c7c239",
   "metadata": {
    "hidden": true
   },
   "source": [
    "`n=20`個のコインを同時に投げる場合，`1`（表）が発生した回数の平均は次のように計算できることを説明した。"
   ]
  },
  {
   "cell_type": "code",
   "execution_count": 33,
   "id": "68a4ec9c",
   "metadata": {
    "hidden": true
   },
   "outputs": [
    {
     "data": {
      "text/plain": [
       "0.4"
      ]
     },
     "execution_count": 33,
     "metadata": {},
     "output_type": "execute_result"
    }
   ],
   "source": [
    "n = 20\n",
    "tosses = [random.randint(0,1) for _ in range(n)]\n",
    "heads = sum(tosses)\n",
    "heads / n"
   ]
  },
  {
   "cell_type": "markdown",
   "id": "f661452e",
   "metadata": {
    "hidden": true
   },
   "source": [
    "ここまでのコードを利用して，上の式[](eq:1-6-Zn)に従って，この平均を標準化した値を計算してみよう"
   ]
  },
  {
   "cell_type": "code",
   "execution_count": 34,
   "id": "db1ab59a",
   "metadata": {
    "hidden": true
   },
   "outputs": [
    {
     "data": {
      "text/plain": [
       "-0.8944271909999157"
      ]
     },
     "execution_count": 34,
     "metadata": {},
     "output_type": "execute_result"
    }
   ],
   "source": [
    "(heads/n - 0.5) / ( math.sqrt(0.5*0.5)/math.sqrt(n) )"
   ]
  },
  {
   "cell_type": "markdown",
   "id": "70fa6e58",
   "metadata": {
    "hidden": true
   },
   "source": [
    "このような値を数多く計算して中心極限定理を考えていくことになる。"
   ]
  },
  {
   "cell_type": "markdown",
   "id": "2d99da78",
   "metadata": {
    "heading_collapsed": true,
    "hidden": true
   },
   "source": [
    "### 関数化"
   ]
  },
  {
   "cell_type": "markdown",
   "id": "95a420a8",
   "metadata": {
    "hidden": true
   },
   "source": [
    "上では一回だけのシミュレーションをおこなった。以下では任意の回数のシミュレーションをおこなうために，上のコードを関数にまとめることにする。２つの関数に分けてコードを書くことにしよう。\n",
    "\n",
    "まず同時に投げるコインの数とその結果のコインの表の数を所与として，平均が標準化された値を計算する関数を作成する。"
   ]
  },
  {
   "cell_type": "code",
   "execution_count": 35,
   "id": "a7e30a70",
   "metadata": {
    "hidden": true
   },
   "outputs": [],
   "source": [
    "def standardize(n, h):\n",
    "    \"\"\"\n",
    "    引数：\n",
    "        n：同時にトスしするコインの数\n",
    "        h：コインの表（heads）の数\n",
    "    戻り値：\n",
    "        コインの表の平均を標準化した値\"\"\"\n",
    "    \n",
    "    return (h/n - 0.5) / ( math.sqrt(0.5*0.5)/math.sqrt(n) )"
   ]
  },
  {
   "cell_type": "markdown",
   "id": "45cf3c11",
   "metadata": {
    "hidden": true
   },
   "source": [
    "この関数は`n`と`h`が与えられれば，標準化された平均を返す。上の数値を使って，この関数を実行してみよう。"
   ]
  },
  {
   "cell_type": "code",
   "execution_count": 36,
   "id": "773923fe",
   "metadata": {
    "hidden": true
   },
   "outputs": [
    {
     "data": {
      "text/plain": [
       "-0.8944271909999157"
      ]
     },
     "execution_count": 36,
     "metadata": {},
     "output_type": "execute_result"
    }
   ],
   "source": [
    "standardize(n, heads)"
   ]
  },
  {
   "cell_type": "markdown",
   "id": "9f13a4e7",
   "metadata": {
    "hidden": true
   },
   "source": [
    "同じ値を返していることが確認できる。\n",
    "\n",
    "次に，同時にトスするコインの数`n`は所与とするが，関数の中でランダム変数として`1`の数が決まり，その標準化平均を返す関数を作成しよう。"
   ]
  },
  {
   "cell_type": "code",
   "execution_count": 37,
   "id": "8ac6c565",
   "metadata": {
    "hidden": true
   },
   "outputs": [],
   "source": [
    "def mean_standardized(n):\n",
    "    \"\"\"\n",
    "    引数：\n",
    "        n：同時にトスするコインの数\n",
    "    戻り値：\n",
    "        コインの表の平均を標準化した値\"\"\"\n",
    "    \n",
    "    tosses = [random.randint(0,1) for _ in range(n)]\n",
    "    heads = sum(tosses)\n",
    "    \n",
    "    return standardize(n, heads)"
   ]
  },
  {
   "cell_type": "markdown",
   "id": "284ed663",
   "metadata": {
    "hidden": true
   },
   "source": [
    "`n=20`で実行しよう。"
   ]
  },
  {
   "cell_type": "code",
   "execution_count": 38,
   "id": "f822f15b",
   "metadata": {
    "hidden": true
   },
   "outputs": [
    {
     "data": {
      "text/plain": [
       "0.0"
      ]
     },
     "execution_count": 38,
     "metadata": {},
     "output_type": "execute_result"
    }
   ],
   "source": [
    "mean_standardized(20)"
   ]
  },
  {
   "cell_type": "markdown",
   "id": "6deefdf9",
   "metadata": {
    "hidden": true
   },
   "source": [
    "この値は`20`個のコインを同時に投げた結果の平均を標準化した値である。`mean_standardized()`関数を実行するたびに，コインが投げられ標本が集められるので，標準化平均の値は上の結果とは異なる。実行するたびに異なる値を取るランダム変数を返すことになる。\n",
    "\n",
    "次に，`20`個の同時コイントスを`30`回おこない，毎回標準化平均を計算するとしよう。このシミュレーションの結果は次の内包表記で生成することができる。"
   ]
  },
  {
   "cell_type": "code",
   "execution_count": 39,
   "id": "b7d93bca",
   "metadata": {
    "hidden": true,
    "tags": [
     "output_scroll"
    ]
   },
   "outputs": [
    {
     "data": {
      "text/plain": [
       "[-0.44721359549995787,\n",
       " -0.44721359549995787,\n",
       " 2.23606797749979,\n",
       " -1.341640786499874,\n",
       " -1.788854381999832,\n",
       " 0.0,\n",
       " 0.8944271909999157,\n",
       " 0.8944271909999157,\n",
       " 2.23606797749979,\n",
       " -0.44721359549995787,\n",
       " -0.8944271909999157,\n",
       " -1.341640786499874,\n",
       " 1.7888543819998315,\n",
       " 0.44721359549995837,\n",
       " -1.788854381999832,\n",
       " 0.0,\n",
       " -0.44721359549995787,\n",
       " -0.8944271909999157,\n",
       " -2.23606797749979,\n",
       " 0.44721359549995837,\n",
       " -0.44721359549995787,\n",
       " 0.0,\n",
       " -0.8944271909999157,\n",
       " 0.0,\n",
       " 0.8944271909999157,\n",
       " -2.23606797749979,\n",
       " -1.341640786499874,\n",
       " -0.8944271909999157,\n",
       " 2.23606797749979,\n",
       " 1.341640786499874]"
      ]
     },
     "execution_count": 39,
     "metadata": {},
     "output_type": "execute_result"
    }
   ],
   "source": [
    "[mean_standardized(20) for _ in range(30)]"
   ]
  },
  {
   "cell_type": "markdown",
   "id": "bf991717",
   "metadata": {
    "hidden": true
   },
   "source": [
    "ランダム変数なので，実行する度に異なる値が並ぶ。また同じ値が複数回発生していることも確認できるだろう。"
   ]
  },
  {
   "cell_type": "markdown",
   "id": "cb53dc8b",
   "metadata": {
    "heading_collapsed": true,
    "hidden": true
   },
   "source": [
    "### ヒストグラム"
   ]
  },
  {
   "cell_type": "markdown",
   "id": "463762d0",
   "metadata": {
    "hidden": true
   },
   "source": [
    "では実際にヒストグラムをプロットしてみよう。例として次の数値を使う。\n",
    "* 同時に投げるコインの数（標本の大きさ）：`n=1`\n",
    "* シミュレーションの回数（`n`枚の同時コイントスの回数）：`N=30`"
   ]
  },
  {
   "cell_type": "code",
   "execution_count": 40,
   "id": "e0529f95",
   "metadata": {
    "hidden": true
   },
   "outputs": [
    {
     "name": "stdout",
     "output_type": "stream",
     "text": [
      "標準化平均の唯一の値の数（x軸）：2\n"
     ]
    },
    {
     "data": {
      "image/png": "[encoded data removed]",
      "text/plain": [
       "<Figure size 432x288 with 1 Axes>"
      ]
     },
     "metadata": {
      "filenames": {
       "image/png": "/Users/tetsu/Documents/My_Simulation/Python/JupyterBooks/py4basics.github.io/_build/jupyter_execute/1_Basics_VI_116_1.png"
      },
      "needs_background": "light"
     },
     "output_type": "display_data"
    }
   ],
   "source": [
    "# パラメータの設定\n",
    "n = 1\n",
    "N = 10\n",
    "\n",
    "# コイントスのシミュレーション\n",
    "tosses = [mean_standardized(n) for _ in range(N)] #1\n",
    "\n",
    "# 標準化平均の唯一の値の数\n",
    "unique = len(set(tosses))                         #2\n",
    "print(f'標準化平均の唯一の値の数（x軸）：{unique}')       #3\n",
    "\n",
    "# ヒストグラム\n",
    "plt.hist(tosses,\n",
    "         bins=unique,\n",
    "         ec='white',\n",
    "         density=True)\n",
    "plt.title(f'Coins: n={n},\\nRepetition: N={N}',\n",
    "          size=23)                                #4\n",
    "plt.xlabel('Standardized Mean', size=15)          #5\n",
    "pass"
   ]
  },
  {
   "cell_type": "markdown",
   "id": "c58b1f51",
   "metadata": {
    "hidden": true
   },
   "source": [
    "＜コードの説明＞\n",
    "* `#1`：`n`枚の同時コイントスを`N`回繰り返し，標準化平均を計算したリストを変数`tosses`に割り当てる。\n",
    "* `#2`：`set()`関数は引数の唯一の値を返すが，`set(tosses)`は標準化平均の唯一の値を返す。更に，`len(set(tosses))`はその数を返しており，その値を変数`unique`に割り当てている。\n",
    "* `#3`：`unique`の値を表示する。\n",
    "* `#4`：タイトルを設定する。\n",
    "* `#5`：横軸のラベルを設定する。"
   ]
  },
  {
   "cell_type": "markdown",
   "id": "0104b607",
   "metadata": {
    "hidden": true
   },
   "source": [
    "＜注意点＞\n",
    "* ヒストグラムの柱の幅は階級区間を示すが，シミュレーションの値がそれぞれの区間内で散らばっているのでは**ない**。左の柱にある値は`-1.0`のみであり，右の柱にある値は`1.0`のみである。その２つの数が「標準化平均の唯一の値の数」である。"
   ]
  },
  {
   "cell_type": "markdown",
   "id": "9676a1bd",
   "metadata": {
    "hidden": true
   },
   "source": [
    "````{note}\n",
    "棒グラフとして表示したい場合は`plt.bar()`を使うことができる。\n",
    "```\n",
    "n = 1\n",
    "N = 10\n",
    "tosses = [mean_standardized(n) for _ in range(N)]\n",
    "unique = sorted(list(set(tosses)))\n",
    "count_on_y_axis = [tosses.count(i) for i in unique]\n",
    "xlabel = [str(i) for i in unique]\n",
    "plt.bar(xlabel, count_on_y_axis)\n",
    "plt.title(f'Coins: n={n}, Repetition: N={N}', size=23)\n",
    "plt.xlabel('Standardized Mean', size=15)\n",
    "plt.show()\n",
    "```\n",
    "````"
   ]
  },
  {
   "cell_type": "markdown",
   "id": "bf383e27",
   "metadata": {
    "heading_collapsed": true,
    "hidden": true
   },
   "source": [
    "### ヒストグラムの関数化"
   ]
  },
  {
   "cell_type": "markdown",
   "id": "e79c676e",
   "metadata": {
    "hidden": true
   },
   "source": [
    "ヒストグラムを描くことができたが，`n`と`N`が異なる値を取る度に上のコードをコピペして使うの面倒なので，関数としてまとめよう。"
   ]
  },
  {
   "cell_type": "code",
   "execution_count": 41,
   "id": "28bee65e",
   "metadata": {
    "hidden": true
   },
   "outputs": [],
   "source": [
    "def draw_hist(n, N=10_000):   #1\n",
    "    \n",
    "    # コイントスのシミュレーション\n",
    "    tosses = [mean_standardized(n) for _ in range(N)]\n",
    "\n",
    "    # 標準化平均の唯一の値の数\n",
    "    unique = len(set(tosses))\n",
    "    print(f'標準化平均の唯一の値の数（x軸）：{unique}')\n",
    "\n",
    "    # ヒストグラム\n",
    "    plt.hist(tosses,\n",
    "             bins=unique,\n",
    "             ec='white',\n",
    "             density=True)\n",
    "    plt.title(f'Coins: n={n},\\n Repetition: N={N}',\n",
    "              size=23)\n",
    "    plt.xlabel('Standardized Mean', size=15)\n",
    "    \n",
    "    return plt.show()         #2"
   ]
  },
  {
   "cell_type": "markdown",
   "id": "d8fdafc7",
   "metadata": {
    "hidden": true
   },
   "source": [
    "この関数の中身は上のコードと同じとなる。違いは次の２点だけである。\n",
    "* `#1`：関数名を`draw_hist`として，引数は`n`と`N`。ただし，`N`のデフォルトの値を`10_000`\n",
    "* `#2`：`plt.show()`とは，文字通りこの行の「上で作成された図を表示する」ことを意味している。即ち，「図の表示」を返している。"
   ]
  },
  {
   "cell_type": "markdown",
   "id": "b4d0ff2b",
   "metadata": {
    "heading_collapsed": true,
    "hidden": true
   },
   "source": [
    "### シミュレーション"
   ]
  },
  {
   "cell_type": "markdown",
   "id": "0148da26",
   "metadata": {
    "hidden": true
   },
   "source": [
    "これでシミュレーションの準備は整った。`n`（と`N`）の数値を変えてプロットしてみよう。"
   ]
  },
  {
   "cell_type": "code",
   "execution_count": 42,
   "id": "aee99723",
   "metadata": {
    "hidden": true
   },
   "outputs": [
    {
     "name": "stdout",
     "output_type": "stream",
     "text": [
      "標準化平均の唯一の値の数（x軸）：2\n"
     ]
    },
    {
     "data": {
      "image/png": "[encoded data removed]",
      "text/plain": [
       "<Figure size 432x288 with 1 Axes>"
      ]
     },
     "metadata": {
      "filenames": {
       "image/png": "/Users/tetsu/Documents/My_Simulation/Python/JupyterBooks/py4basics.github.io/_build/jupyter_execute/1_Basics_VI_126_1.png"
      },
      "needs_background": "light"
     },
     "output_type": "display_data"
    },
    {
     "name": "stdout",
     "output_type": "stream",
     "text": [
      "標準化平均の唯一の値の数（x軸）：2\n"
     ]
    },
    {
     "data": {
      "image/png": "[encoded data removed]",
      "text/plain": [
       "<Figure size 432x288 with 1 Axes>"
      ]
     },
     "metadata": {
      "filenames": {
       "image/png": "/Users/tetsu/Documents/My_Simulation/Python/JupyterBooks/py4basics.github.io/_build/jupyter_execute/1_Basics_VI_126_3.png"
      },
      "needs_background": "light"
     },
     "output_type": "display_data"
    }
   ],
   "source": [
    "draw_hist(1, 5)\n",
    "draw_hist(1)"
   ]
  },
  {
   "cell_type": "markdown",
   "id": "8d134b45",
   "metadata": {
    "hidden": true
   },
   "source": [
    "`N`が小さい（`10`）とランダムな影響が強く現れるが，大きくなると（`10000`）大数の法則によって`-1`と`1`の割合は`0.5`に近づいている。一方で，`N`が大きくなっても，分布は標準正規分布とは大きく異なっている。"
   ]
  },
  {
   "cell_type": "code",
   "execution_count": 43,
   "id": "1c01cc3e",
   "metadata": {
    "hidden": true
   },
   "outputs": [
    {
     "name": "stdout",
     "output_type": "stream",
     "text": [
      "標準化平均の唯一の値の数（x軸）：3\n"
     ]
    },
    {
     "data": {
      "image/png": "[encoded data removed]",
      "text/plain": [
       "<Figure size 432x288 with 1 Axes>"
      ]
     },
     "metadata": {
      "filenames": {
       "image/png": "/Users/tetsu/Documents/My_Simulation/Python/JupyterBooks/py4basics.github.io/_build/jupyter_execute/1_Basics_VI_128_1.png"
      },
      "needs_background": "light"
     },
     "output_type": "display_data"
    },
    {
     "name": "stdout",
     "output_type": "stream",
     "text": [
      "標準化平均の唯一の値の数（x軸）：3\n"
     ]
    },
    {
     "data": {
      "image/png": "[encoded data removed]",
      "text/plain": [
       "<Figure size 432x288 with 1 Axes>"
      ]
     },
     "metadata": {
      "filenames": {
       "image/png": "/Users/tetsu/Documents/My_Simulation/Python/JupyterBooks/py4basics.github.io/_build/jupyter_execute/1_Basics_VI_128_3.png"
      },
      "needs_background": "light"
     },
     "output_type": "display_data"
    }
   ],
   "source": [
    "draw_hist(2,10)\n",
    "draw_hist(2)"
   ]
  },
  {
   "cell_type": "markdown",
   "id": "1735eba4",
   "metadata": {
    "hidden": true
   },
   "source": [
    "`N`が大きくなると，大数の法則によって左右対称の分布となっている。しかし，依然として標準正規分布とは異なっている。"
   ]
  },
  {
   "cell_type": "code",
   "execution_count": 44,
   "id": "007d2e5a",
   "metadata": {
    "hidden": true
   },
   "outputs": [
    {
     "name": "stdout",
     "output_type": "stream",
     "text": [
      "標準化平均の唯一の値の数（x軸）：7\n"
     ]
    },
    {
     "data": {
      "image/png": "[encoded data removed]",
      "text/plain": [
       "<Figure size 432x288 with 1 Axes>"
      ]
     },
     "metadata": {
      "filenames": {
       "image/png": "/Users/tetsu/Documents/My_Simulation/Python/JupyterBooks/py4basics.github.io/_build/jupyter_execute/1_Basics_VI_130_1.png"
      },
      "needs_background": "light"
     },
     "output_type": "display_data"
    },
    {
     "name": "stdout",
     "output_type": "stream",
     "text": [
      "標準化平均の唯一の値の数（x軸）：13\n"
     ]
    },
    {
     "data": {
      "image/png": "[encoded data removed]",
      "text/plain": [
       "<Figure size 432x288 with 1 Axes>"
      ]
     },
     "metadata": {
      "filenames": {
       "image/png": "/Users/tetsu/Documents/My_Simulation/Python/JupyterBooks/py4basics.github.io/_build/jupyter_execute/1_Basics_VI_130_3.png"
      },
      "needs_background": "light"
     },
     "output_type": "display_data"
    }
   ],
   "source": [
    "draw_hist(12,24)\n",
    "draw_hist(12)"
   ]
  },
  {
   "cell_type": "markdown",
   "id": "82e83988",
   "metadata": {
    "hidden": true
   },
   "source": [
    "`N`が小さいとランダムな要素が際立ち明確ではないが，`n`増加すると標準正規分布に近づいていることが分かる。"
   ]
  },
  {
   "cell_type": "code",
   "execution_count": 45,
   "id": "95e8d719",
   "metadata": {
    "hidden": true
   },
   "outputs": [
    {
     "name": "stdout",
     "output_type": "stream",
     "text": [
      "標準化平均の唯一の値の数（x軸）：18\n"
     ]
    },
    {
     "data": {
      "image/png": "[encoded data removed]",
      "text/plain": [
       "<Figure size 432x288 with 1 Axes>"
      ]
     },
     "metadata": {
      "filenames": {
       "image/png": "/Users/tetsu/Documents/My_Simulation/Python/JupyterBooks/py4basics.github.io/_build/jupyter_execute/1_Basics_VI_132_1.png"
      },
      "needs_background": "light"
     },
     "output_type": "display_data"
    },
    {
     "name": "stdout",
     "output_type": "stream",
     "text": [
      "標準化平均の唯一の値の数（x軸）：33\n"
     ]
    },
    {
     "data": {
      "image/png": "[encoded data removed]",
      "text/plain": [
       "<Figure size 432x288 with 1 Axes>"
      ]
     },
     "metadata": {
      "filenames": {
       "image/png": "/Users/tetsu/Documents/My_Simulation/Python/JupyterBooks/py4basics.github.io/_build/jupyter_execute/1_Basics_VI_132_3.png"
      },
      "needs_background": "light"
     },
     "output_type": "display_data"
    }
   ],
   "source": [
    "draw_hist(64,100)\n",
    "draw_hist(64)"
   ]
  },
  {
   "cell_type": "markdown",
   "id": "0f9441ba",
   "metadata": {
    "hidden": true
   },
   "source": [
    "標準正規分布に大きく近づいたことが確認できる。\n",
    "\n",
    "更に`n`が増加すると，分布は標準正規分布に収束していくことになる。次のコードは`n=1000`と`N=10_000`の下でのヒストグラムと標準正規分布を重ねてプロットしている。標準正規分布の近似としては十分な重なり具合と言っていいだろう。"
   ]
  },
  {
   "cell_type": "code",
   "execution_count": 46,
   "id": "a9bfd303",
   "metadata": {
    "hidden": true,
    "scrolled": true,
    "tags": [
     "hide-input"
    ]
   },
   "outputs": [
    {
     "name": "stdout",
     "output_type": "stream",
     "text": [
      "標準化平均の唯一の値の数（x軸）：111\n"
     ]
    },
    {
     "data": {
      "image/png": "[encoded data removed]",
      "text/plain": [
       "<Figure size 432x288 with 1 Axes>"
      ]
     },
     "metadata": {
      "filenames": {
       "image/png": "/Users/tetsu/Documents/My_Simulation/Python/JupyterBooks/py4basics.github.io/_build/jupyter_execute/1_Basics_VI_134_1.png"
      },
      "needs_background": "light"
     },
     "output_type": "display_data"
    }
   ],
   "source": [
    "def draw_hist_normal(n, N=10_000):\n",
    "    \n",
    "    # 標準正規分布 ------------------------------------\n",
    "    from scipy.stats import norm\n",
    "    x = xvalues(-4,4,100)\n",
    "    plt.plot(x, norm.pdf(x,0,1))\n",
    "\n",
    "    # コイントスのシミュレーション -------------------------\n",
    "    tosses = [mean_standardized(n) for _ in range(N)]\n",
    "    unique = len(set(tosses))\n",
    "    print(f'標準化平均の唯一の値の数（x軸）：{unique}')\n",
    "    plt.hist(tosses,\n",
    "             bins=[standardize(n+1, h) for h in range(n+1+1)],\n",
    "             ec='white', density=True)\n",
    "    plt.title(f'Coins: n={n},\\n Repetition: N={N}',size=23)\n",
    "    plt.xlabel('Standardized Mean', size=15)\n",
    "    plt.xlim([-4,4])\n",
    "    \n",
    "    return plt.show()\n",
    "\n",
    "draw_hist_normal(1000)"
   ]
  }
 ],
 "metadata": {
  "celltoolbar": "Tags",
  "kernelspec": {
   "display_name": "Python 3 (ipykernel)",
   "language": "python",
   "name": "python3"
  },
  "language_info": {
   "codemirror_mode": {
    "name": "ipython",
    "version": 3
   },
   "file_extension": ".py",
   "mimetype": "text/x-python",
   "name": "python",
   "nbconvert_exporter": "python",
   "pygments_lexer": "ipython3",
   "version": "3.9.0"
  }
 },
 "nbformat": 4,
 "nbformat_minor": 5
}