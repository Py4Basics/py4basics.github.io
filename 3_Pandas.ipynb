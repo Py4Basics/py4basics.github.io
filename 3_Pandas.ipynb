{
 "cells": [
  {
   "cell_type": "markdown",
   "metadata": {},
   "source": [
    "(chap:pandas)=\n",
    "# `Pandas`：データ分析"
   ]
  },
  {
   "cell_type": "markdown",
   "metadata": {},
   "source": [
    "<div name=\"html-admonition\" style=\"font-size: 0.8em\">\n",
    "<input type=\"button\" onclick=\"location.href='https://translate.google.com/translate?hl=&sl=ja&tl=en&u='+window.location;\" value=\"Google translation\" style=\"color:#ffffff;background-color:#008080; height:25px\" onmouseover=\"this.style.background='#99ccff'\" onmouseout=\"this.style.background='#008080'\"/> in English or the language of your choice.\n",
    "</div><br>"
   ]
  },
  {
   "cell_type": "code",
   "execution_count": null,
   "metadata": {},
   "outputs": [],
   "source": [
    "import pandas as pd\n",
    "import py4macro\n",
    "\n",
    "# 警告メッセージを非表示\n",
    "import warnings\n",
    "warnings.filterwarnings(\"ignore\")"
   ]
  },
  {
   "cell_type": "markdown",
   "metadata": {
    "heading_collapsed": true,
    "jp-MarkdownHeadingCollapsed": true
   },
   "source": [
    "## 説明"
   ]
  },
  {
   "cell_type": "markdown",
   "metadata": {
    "hidden": true
   },
   "source": [
    "`Pandas`はデータを扱う上で欠かせないパッケージであり，エクセルをイメージすれば良いだろう。`Pandas`にはエクセルのスプレッド・シートに対応する`DataFrame`（データ・フレーム）と`Series`（シリーズ）呼ばれるオブジェクトがあり，それらを駆使してデータ分析をおこなう。\n",
    "\n",
    "`DataFrame`は次の表の様になっている。まず、用語の整理をしよう。\n",
    "\n",
    "|   | X  | Y    | Z   |\n",
    "|---|----|------|-----|\n",
    "| 0 | 10 |  5.0 | 3.0 |\n",
    "| 1 | 20 | 30.0 | 2.0 |\n",
    "| 2 | 30 | 15.0 | 5.0 |\n",
    "\n",
    "* **列**とは縦に沿ったデータの集まりであり、`X`の列には`10`、`20`、`30`がある。`Y`と`Z`も同様にそれぞれの値から構成される列となる。\n",
    "* **行**とは横に沿ったデータの集まりであり、`0`の行には`10`、`5.0`、`3.0`がある。`1`と`2`も同様にそれぞれの値から構成される行となる。\n",
    "* **インデックス**とは**行**を特定するための数字やラベル（文字列）を表し、上の例では左側に縦に並ぶ`0`、`1`、`2`がインデックスである。インデックスには２種類がある。\n",
    "    * **位置番号**：上の例では、`0`は`0`番目の行を、`1`は`1`番目の行を、`2`は`2`番目の行を示す。このサイトでは、これを**インデックス番号**もしくは**行番号**と呼ぶ。\n",
    "    * **ラベル**：各行を特定するための整数や文字列を指す。以下で`DataFrame`の詳細な説明をする際に`df`という変数に`DataFrame`を割り当てるが、そこでは国名（文字列）がラベルに使われている。このサイトでは、これを**行ラベル**と呼ぶ。\n",
    "* **列**のラベルと位置番号\n",
    "    * **ラベル**：列を特定するための整数や文字列を指す。上の例では、`X`，`Y`，`Z`がラベルであり、このサイトでは**列ラベル**と呼ぶ。\n",
    "    * **位置番号**：上の例では、`X`は`0`番目の列を、`Y`は`1`番目の列を、`Z`は`2`番目の列を示す。このサイトでは、これを**列番号**と呼ぶ。\n",
    "* 上の例では行番号と列ラベル以外の数字がデータとなっている。"
   ]
  },
  {
   "cell_type": "markdown",
   "metadata": {
    "hidden": true
   },
   "source": [
    "上の表のように、`DataFrame`は１つ以上の行と列から構成されている。一方、`Series`には１つの列（もしくは行と考えることもできる）のみしかない点が大きな違いである。\n",
    "\n",
    "これらの特徴により複雑なデータの扱いが簡単になる。例えば，`NumPy`を使うと目的のデータにアクセスしたい場合、行番号と列番号を把握する必要がある。一方、`Pandas`では行と列にラベルを使うことにより（例えば，行`Japan`の列`gdp`のようにデータを特定することが可能となる），データの操作が非常に簡単になる。また，`Pandas`は`NumPy`に基づいているため，ベクトル演算の機能が使える。\n",
    "\n",
    "ここで説明できない他の使い方については[このサイト](https://github.com/ysdyt/pandas_tutorial)と[このサイト](https://note.nkmk.me/python-pandas-post-summary/)が参考になるだろう。\n",
    "\n",
    "`Pandas`は通常`pd`という名前で読み込む。\n",
    "```\n",
    "import pandas as pd\n",
    "```"
   ]
  },
  {
   "cell_type": "markdown",
   "metadata": {
    "heading_collapsed": true,
    "jp-MarkdownHeadingCollapsed": true,
    "tags": [
     "remove-cell"
    ]
   },
   "source": [
    "## データの読み込みとデータのチェック"
   ]
  },
  {
   "cell_type": "markdown",
   "metadata": {
    "hidden": true,
    "jp-MarkdownHeadingCollapsed": true
   },
   "source": [
    "(sec:3-data)=\n",
    "## データの読み込みとデータのチェック"
   ]
  },
  {
   "cell_type": "markdown",
   "metadata": {
    "hidden": true
   },
   "source": [
    "様々なデータを読み込むことが可能だが，ここでは`read_csv()`関数を使って`.csv`ファイルを読み込むことにする。（`csv`はcomma separated valuesの略称であり、.csvファイルについては[この検索結果](https://www.google.com/search?q=csv%E3%83%95%E3%82%A1%E3%82%A4%E3%83%AB%E3%81%A8%E3%81%AF)を参照）ここで使う`data1.csv`は[ここをクリック](https://raw.githubusercontent.com/Py4Basics/py4basics.github.io/source/data/data1.csv)をマウスの右クリックすることによりダウンロードすることもできる。"
   ]
  },
  {
   "cell_type": "code",
   "execution_count": null,
   "metadata": {
    "hidden": true
   },
   "outputs": [],
   "source": [
    "# データの読み込み\n",
    "df = pd.read_csv('./data/data1.csv')"
   ]
  },
  {
   "cell_type": "markdown",
   "metadata": {
    "hidden": true
   },
   "source": [
    "`df`全体を表示させる。"
   ]
  },
  {
   "cell_type": "code",
   "execution_count": null,
   "metadata": {
    "hidden": true
   },
   "outputs": [],
   "source": [
    "df"
   ]
  },
  {
   "cell_type": "markdown",
   "metadata": {},
   "source": [
    "数値はPenn World Tableと呼ばれるデータセットに基づき作成している。\n",
    "* `country`：国名\n",
    "* `gdp`：国内総生産（Gross Domestic Product, current PPPs; in billions 2011US\\$）\n",
    "* `con`：消費（consumption, current PPPs; in billions 2011US\\$）\n",
    "* `inv`：投資（investment, current PPPs; in billions 2011US\\$）\n",
    "* `pop`：人口（population, in millions）\n",
    "* `continent`：大陸（continent）"
   ]
  },
  {
   "cell_type": "markdown",
   "metadata": {
    "hidden": true
   },
   "source": [
    "行はインデックス（番号）になっており，そのまま使っても全く問題ない。ここでは列`country`を行ラベルに設定して`Pandas`の使い方について説明することにする。\n",
    "\n",
    "* `set_index()`：引数の列を行ラベルにするメソッド（行ラベルは文字列とすること）"
   ]
  },
  {
   "cell_type": "code",
   "execution_count": null,
   "metadata": {
    "hidden": true
   },
   "outputs": [],
   "source": [
    "df = df.set_index('country')\n",
    "df"
   ]
  },
  {
   "cell_type": "markdown",
   "metadata": {
    "hidden": true
   },
   "source": [
    "````{tip}\n",
    "* `df.set_index('country')`は直接`df`に影響を与えない。単に，書き換えるとどうなるかを表示しているだけとなる。ここでは`df`に再度割り当てることにより`df`自体を上書きしている。\n",
    "* 出力にある`NaN`（Not a Number）は欠損値を示す。\n",
    "* 行ラベルに`country`という列ラベルが残るが，それを消すにはメソッド`.rename_axis('')`を使うと良いだろう。ここで`''`は空の文字列である。`.rename_axis(None)`でも同じ結果となる。もしくは次のコードでも良い。\n",
    "```\n",
    "df.index.name = '' \n",
    "```\n",
    "````"
   ]
  },
  {
   "cell_type": "markdown",
   "metadata": {
    "hidden": true
   },
   "source": [
    "行数が多い場合（例えば，10000）、全てを表示してもあまり意味がない。そこでよく使う`df`のメソッドに、最初や最後の数行だけを表示するメソッド`.head()`と`.tail()`を紹介する。\n",
    "\n",
    "`df`の最初の５行を表示させる。"
   ]
  },
  {
   "cell_type": "code",
   "execution_count": null,
   "metadata": {
    "hidden": true
   },
   "outputs": [],
   "source": [
    "df.head()"
   ]
  },
  {
   "cell_type": "markdown",
   "metadata": {
    "hidden": true
   },
   "source": [
    "引数に`2`を指定すると最初の`2`行のみ表示される。"
   ]
  },
  {
   "cell_type": "code",
   "execution_count": null,
   "metadata": {
    "hidden": true
   },
   "outputs": [],
   "source": [
    "df.head(2)"
   ]
  },
  {
   "cell_type": "markdown",
   "metadata": {
    "hidden": true
   },
   "source": [
    "最後の`5`行を表示させる。引数に整数を入れて表示行数を指定することも可能。"
   ]
  },
  {
   "cell_type": "code",
   "execution_count": null,
   "metadata": {
    "hidden": true
   },
   "outputs": [],
   "source": [
    "df.tail()"
   ]
  },
  {
   "cell_type": "markdown",
   "metadata": {
    "hidden": true
   },
   "source": [
    "次に`df`の情報の特徴を確認するメソッド`.info()`を使ってみよう。"
   ]
  },
  {
   "cell_type": "code",
   "execution_count": null,
   "metadata": {
    "hidden": true
   },
   "outputs": [],
   "source": [
    "df.info()"
   ]
  },
  {
   "cell_type": "markdown",
   "metadata": {
    "hidden": true
   },
   "source": [
    "**説明**：\n",
    "* `<class 'pandas.core.frame.DataFrame'>`\n",
    "    * `class`とはデータ型と同じ意味である。\n",
    "    * `pandas.core.frame.DataFrame`がデータ型名でありクラス名でもある。\n",
    "    * 例えば、`type(1)`を実行すると`int`（整数型）というデータ型が表示するが，これはクラス名でもある。`print(type(1))`を実行すると`<class 'int'>`と表示され、クラス名も`int`であることが分かる。\n",
    "* `Index: 10 entries, Chine to UK`\n",
    "    * 行のインデックスの情報\n",
    "    * `Chine`から`UK`までの`10`個のデータ\n",
    "* `Data columns (total 5 columns):`\n",
    "    * 列の数（5つ）\n",
    "* `gdp  10 non-null int64`\n",
    "    * 列インデックスは`0`\n",
    "    * `10`の非欠損値のデータ（`non-null`とは非欠損値を意味）があり，欠損値なし（行数が`10`であり、`10`の非欠損値であるため，即ち，欠損値数は`11-11=0`）\n",
    "    * データ型は`int64`\n",
    "* `con  9 non-null float64`\n",
    "    * 列インデックスは`1`\n",
    "    * 9の非欠損値データがあり，欠損値数は`1＝10-9`\n",
    "    * データ型は`float64`\n",
    "* `inv  8 non-null float64`\n",
    "    * 列インデックスは`2`\n",
    "    * `8`の非欠損値データがあり，欠損値数は`2＝10-8`\n",
    "    * データ型は`float64`\n",
    "* `pop  10 non-null int64`\n",
    "    * 列インデックスは`3`\n",
    "    * `10`の非欠損値データがあり，欠損値数なし`0＝10-10`\n",
    "    * データ型は`int64`\n",
    "* `continent   10 non-null object`\n",
    "    * 列インデックスは`4`\n",
    "    * `10`の非欠損値データがあり，欠損値数なし`0＝10-10`\n",
    "    * データ型は`object`（文字列などのデータ型）\n",
    "    * （注意）整数型や浮動小数点型に文字列が混ざっている場合にも列のデータ型は`object`になる\n",
    "* `dtypes: float64(2), int64(2), object(1)`\n",
    "    * `df`の列にどのようなのデータ型があるかを示す\n",
    "    * `float64`と`int64`が2列つずつ，文字列は１列\n",
    "* `memory usage: 480.0+ bytes`\n",
    "    * メモリー使用量は約`480.0`バイト\n",
    "\n",
    "データを読み込んだら必ず`info()`を使って欠損値の数や列のデータ型を確認するようにしよう。\n",
    "\n",
    "また，データの統計的な特徴は次の`.describe()`メソッドでチェックできる。"
   ]
  },
  {
   "cell_type": "code",
   "execution_count": null,
   "metadata": {
    "hidden": true
   },
   "outputs": [],
   "source": [
    "df.describe()"
   ]
  },
  {
   "cell_type": "markdown",
   "metadata": {
    "hidden": true
   },
   "source": [
    "* `count`：観測値の数\n",
    "* `mean`：平均\n",
    "* `std`：標準偏差\n",
    "* `min`：最小値\n",
    "* `max`：最大値\n",
    "* `25%`：第１四分位数\n",
    "* `50%`：第２四分位数（中央値）\n",
    "* `75%`：第３四分位数\n",
    "* `max`：最大値\n",
    "\n",
    "\n",
    "次のデータ属性`.shape`を使って`df`の行と列の長さを確認することができる。返値はタプルで，`(行の数，列の数)`と解釈する。"
   ]
  },
  {
   "cell_type": "code",
   "execution_count": null,
   "metadata": {
    "hidden": true
   },
   "outputs": [],
   "source": [
    "df.shape"
   ]
  },
  {
   "cell_type": "markdown",
   "metadata": {
    "hidden": true
   },
   "source": [
    "返値はタプルなので，行数は以下で取得できる。"
   ]
  },
  {
   "cell_type": "code",
   "execution_count": null,
   "metadata": {
    "hidden": true
   },
   "outputs": [],
   "source": [
    "df.shape[0]"
   ]
  },
  {
   "cell_type": "markdown",
   "metadata": {
    "hidden": true
   },
   "source": [
    "`len()`関数を使って行数を示すこともできる。"
   ]
  },
  {
   "cell_type": "code",
   "execution_count": null,
   "metadata": {
    "hidden": true
   },
   "outputs": [],
   "source": [
    "len(df)"
   ]
  },
  {
   "cell_type": "markdown",
   "metadata": {
    "heading_collapsed": true,
    "jp-MarkdownHeadingCollapsed": true
   },
   "source": [
    "## `DataFrame`の構成要素"
   ]
  },
  {
   "cell_type": "markdown",
   "metadata": {
    "hidden": true
   },
   "source": [
    "`DataFrame`には様々な属性があるが、次の３点について説明する。\n",
    "\n",
    "* データ：`df.to_numpy()`もしくは`df.values`で抽出できる。\n",
    "* 列ラベル：`df.columns`で抽出できる。\n",
    "* 行ラベル：`df.index`で抽出できる。\n",
    "\n",
    "まずデータ自体を抽出してみよう。"
   ]
  },
  {
   "cell_type": "code",
   "execution_count": null,
   "metadata": {
    "hidden": true
   },
   "outputs": [],
   "source": [
    "df.to_numpy()"
   ]
  },
  {
   "cell_type": "code",
   "execution_count": null,
   "metadata": {
    "hidden": true
   },
   "outputs": [],
   "source": [
    "type(df.to_numpy())"
   ]
  },
  {
   "cell_type": "markdown",
   "metadata": {
    "hidden": true
   },
   "source": [
    "これで分かることは，メインのデータの部分は`NumPy`の`ndarray`（`n`次元`array`）であることだ。即ち，`Pandas`は`NumPy`に基づいて構築されており，データ値の計算などは`array`が裏で動いているということである。`Pandas`は行と列のラベルを追加し，より直感的に使えるように拡張しているのである。"
   ]
  },
  {
   "cell_type": "markdown",
   "metadata": {
    "hidden": true
   },
   "source": [
    "次に列ラベルを取り出してみる。"
   ]
  },
  {
   "cell_type": "code",
   "execution_count": null,
   "metadata": {
    "hidden": true
   },
   "outputs": [],
   "source": [
    "df.columns"
   ]
  },
  {
   "cell_type": "markdown",
   "metadata": {
    "hidden": true
   },
   "source": [
    "`dtype='object'`から列ラベルに使われているデータ型（`dtype`）はオブジェクト型（`object`）だとわかる。\n",
    "\n",
    "* 上でも簡単に説明したが、オブジェクト型とは文字型を含む「その他」のデータ型と理解すれば良いだろう。\n",
    "* `df.columns`の戻り値にある`dtype='object'`と`df.to_numpy()`の戻り値にある`dtype=object`は同じ意味。\n",
    "\n",
    "列ラベル自体のデータ型（もしくは、クラス名）は次のコードで調べることができる。"
   ]
  },
  {
   "cell_type": "code",
   "execution_count": null,
   "metadata": {
    "hidden": true
   },
   "outputs": [],
   "source": [
    "type(df.columns)"
   ]
  },
  {
   "cell_type": "markdown",
   "metadata": {
    "hidden": true
   },
   "source": [
    "`dir()`もしくは`py4macro.see()`で調べると多くのメソッドや属性が確認できるが，その中に`.tolist()`が含まれており，これを使うことにより列ラベルをリストに変換することができる。"
   ]
  },
  {
   "cell_type": "code",
   "execution_count": null,
   "metadata": {
    "hidden": true
   },
   "outputs": [],
   "source": [
    "df_columns = df.columns.tolist()\n",
    "df_columns"
   ]
  },
  {
   "cell_type": "markdown",
   "metadata": {
    "hidden": true
   },
   "source": [
    "行ラベルについても同じことができる。"
   ]
  },
  {
   "cell_type": "code",
   "execution_count": null,
   "metadata": {
    "hidden": true
   },
   "outputs": [],
   "source": [
    "df.index"
   ]
  },
  {
   "cell_type": "markdown",
   "metadata": {
    "hidden": true
   },
   "source": [
    "行ラベルの各要素のデータ型`object`は文字列を意味している。列`country`を行ラベルに指定したが，行ラベル名を削除したので`name=''`となっている。行ラベル自体（もしくは全体）のデータ型（クラス名）は"
   ]
  },
  {
   "cell_type": "code",
   "execution_count": null,
   "metadata": {
    "hidden": true
   },
   "outputs": [],
   "source": [
    "type(df.index)"
   ]
  },
  {
   "cell_type": "markdown",
   "metadata": {
    "hidden": true
   },
   "source": [
    "であり，ラベルをリストとして抽出することもできる。"
   ]
  },
  {
   "cell_type": "code",
   "execution_count": null,
   "metadata": {
    "hidden": true
   },
   "outputs": [],
   "source": [
    "df_index = df.index.tolist()\n",
    "df_index"
   ]
  },
  {
   "cell_type": "markdown",
   "metadata": {
    "editable": true,
    "heading_collapsed": true,
    "jp-MarkdownHeadingCollapsed": true,
    "slideshow": {
     "slide_type": ""
    },
    "tags": []
   },
   "source": [
    "## 要素の抽出"
   ]
  },
  {
   "cell_type": "markdown",
   "metadata": {
    "jp-MarkdownHeadingCollapsed": true
   },
   "source": [
    "### 説明"
   ]
  },
  {
   "cell_type": "markdown",
   "metadata": {
    "editable": true,
    "hidden": true,
    "slideshow": {
     "slide_type": ""
    },
    "tags": []
   },
   "source": [
    "`NumPy`の`array`の場合，`[,]`を使い要素を抽出した。`Pandas`の場合，様々な抽出方法があるが，覚えやすく少しでも間違いの可能性を減らすために，そして可読性向上のために`array`に対応する以下の２つの方法を使うことにする。\n",
    "\n",
    "* ラベルを使う方法：`.loc[,]`\n",
    "* インデックスを使う方法：`.iloc[,]`（これは`array`の`[ ]`と同じと考えて良い）\n",
    "\n",
    "１つ目の`loc`はラベルのlocationと覚えよう。２つ目はの`iloc`の`i`はインデックス（index）の`i`であり，index locationという意味である。使い方は`array`の場合と基本的に同じである。\n",
    "\n",
    "* `,`の左は行，右は列を表す。\n",
    "* 行または列を連続して選択する（slicing）場合は`:`を使う。（`start:end`）\n",
    "    * `:`の左右を省略する場合は，「全て」という意味になる。\n",
    "    * `:`の左を省略すると「最初から」という意味になる。\n",
    "    * `:`の右を省略すると「最後まで」という意味になる。\n",
    "    * `.loc[,]`の場合，`end`を含む。（要注意！）\n",
    "    * `.iloc[,]`の場合，`end`は含まず，その１つ前のインデックスまでが含まれる。\n",
    "* `,`の右に書く`:`は省略可能であるが省略しないことを推奨する。\n",
    "\n",
    "「特例」として`.loc[,]`と`.iloc[,]`以外に\n",
    "* ラベルと`[]`だけを使い**列**を選択する方法\n",
    "\n",
    "も説明する。"
   ]
  },
  {
   "cell_type": "markdown",
   "metadata": {
    "editable": true,
    "hidden": true,
    "slideshow": {
     "slide_type": ""
    },
    "tags": []
   },
   "source": [
    "```{warning}\n",
    "* `.loc[,]`の場合，`end`を含む。（要注意！）\n",
    "* `.iloc[,]`の場合，`end`は含まず，その１つ前のインデックスまでが含まれる。\n",
    "```"
   ]
  },
  {
   "cell_type": "markdown",
   "metadata": {
    "editable": true,
    "heading_collapsed": true,
    "hidden": true,
    "jp-MarkdownHeadingCollapsed": true,
    "slideshow": {
     "slide_type": ""
    },
    "tags": []
   },
   "source": [
    "### `.loc[,]`（ラベル使用）"
   ]
  },
  {
   "cell_type": "markdown",
   "metadata": {
    "hidden": true
   },
   "source": [
    "**１つの行を`Series`として抽出**"
   ]
  },
  {
   "cell_type": "code",
   "execution_count": null,
   "metadata": {
    "hidden": true
   },
   "outputs": [],
   "source": [
    "df.loc['Japan',:]"
   ]
  },
  {
   "cell_type": "markdown",
   "metadata": {
    "hidden": true
   },
   "source": [
    "**１つの行を`DataFrame`として抽出**"
   ]
  },
  {
   "cell_type": "code",
   "execution_count": null,
   "metadata": {
    "hidden": true
   },
   "outputs": [],
   "source": [
    "df.loc[['Japan'],:]"
   ]
  },
  {
   "cell_type": "markdown",
   "metadata": {},
   "source": [
    "`Series`と`DataFrame`を比べると、表示が異なることが分かると思う。コードには次の違いがある。\n",
    "* `DataFrame`で抽出する場合、`:`の左側に`[]`を使う。\n",
    "* `Series`で抽出する場合、`:`の左側に`[]`を使わない。"
   ]
  },
  {
   "cell_type": "markdown",
   "metadata": {
    "hidden": true
   },
   "source": [
    "**複数行を抽出**"
   ]
  },
  {
   "cell_type": "code",
   "execution_count": null,
   "metadata": {
    "hidden": true
   },
   "outputs": [],
   "source": [
    "df.loc[['Japan', 'UK'],:]"
   ]
  },
  {
   "cell_type": "markdown",
   "metadata": {},
   "source": [
    "上のコードでは、`:`の左側にリストが使われている。次のコードでも同じ結果となる。"
   ]
  },
  {
   "cell_type": "code",
   "execution_count": null,
   "metadata": {},
   "outputs": [],
   "source": [
    "rows = ['Japan', 'UK']  #1\n",
    "\n",
    "df.loc[rows,:]          #2"
   ]
  },
  {
   "cell_type": "markdown",
   "metadata": {},
   "source": [
    "`#1`の`rows`はリストであり、`#2`の`:`の左側にリストが使われていることが分かる。"
   ]
  },
  {
   "cell_type": "markdown",
   "metadata": {
    "hidden": true
   },
   "source": [
    "**複数行を連続抽出（slicing）**"
   ]
  },
  {
   "cell_type": "code",
   "execution_count": null,
   "metadata": {
    "hidden": true
   },
   "outputs": [],
   "source": [
    "df.loc['France':'Japan',:]"
   ]
  },
  {
   "cell_type": "markdown",
   "metadata": {},
   "source": [
    "スライシングの場合、`:`の左右に`[]`は使わない。"
   ]
  },
  {
   "cell_type": "markdown",
   "metadata": {
    "hidden": true
   },
   "source": [
    "**１つの列を`Series`として抽出**"
   ]
  },
  {
   "cell_type": "code",
   "execution_count": null,
   "metadata": {
    "hidden": true
   },
   "outputs": [],
   "source": [
    "df.loc[:,'gdp']"
   ]
  },
  {
   "cell_type": "markdown",
   "metadata": {},
   "source": [
    "`Series`で抽出するので、`:`の右に`[]`は使わない。"
   ]
  },
  {
   "cell_type": "markdown",
   "metadata": {
    "hidden": true
   },
   "source": [
    "**１つの列を`DataFrame`として抽出**"
   ]
  },
  {
   "cell_type": "code",
   "execution_count": null,
   "metadata": {
    "hidden": true
   },
   "outputs": [],
   "source": [
    "df.loc[:,['gdp']]"
   ]
  },
  {
   "cell_type": "markdown",
   "metadata": {},
   "source": [
    "`DataFrame`として抽出するために、`:`の右に`[]`を使っている。"
   ]
  },
  {
   "cell_type": "markdown",
   "metadata": {
    "hidden": true
   },
   "source": [
    "**複数列を抽出**"
   ]
  },
  {
   "cell_type": "code",
   "execution_count": null,
   "metadata": {
    "hidden": true
   },
   "outputs": [],
   "source": [
    "df.loc[:,['gdp','pop']]"
   ]
  },
  {
   "cell_type": "markdown",
   "metadata": {},
   "source": [
    "次のようにしても同じ結果となる。"
   ]
  },
  {
   "cell_type": "code",
   "execution_count": null,
   "metadata": {},
   "outputs": [],
   "source": [
    "cols = ['gdp','pop']\n",
    "\n",
    "df.loc[:,cols]"
   ]
  },
  {
   "cell_type": "markdown",
   "metadata": {
    "hidden": true
   },
   "source": [
    "**複数列を連続抽出（slicing）**"
   ]
  },
  {
   "cell_type": "code",
   "execution_count": null,
   "metadata": {
    "hidden": true
   },
   "outputs": [],
   "source": [
    "df.loc[:,'con':'pop']"
   ]
  },
  {
   "cell_type": "markdown",
   "metadata": {
    "heading_collapsed": true,
    "hidden": true,
    "jp-MarkdownHeadingCollapsed": true,
    "tags": [
     "remove-cell"
    ]
   },
   "source": [
    "### `.iloc[]`（位置番号を使用）"
   ]
  },
  {
   "cell_type": "markdown",
   "metadata": {
    "hidden": true,
    "jp-MarkdownHeadingCollapsed": true
   },
   "source": [
    "(sec:3-iloc)=\n",
    "### `.iloc[]`（位置番号を使用）"
   ]
  },
  {
   "cell_type": "markdown",
   "metadata": {
    "hidden": true
   },
   "source": [
    "**１つの行を`Series`として抽出**"
   ]
  },
  {
   "cell_type": "code",
   "execution_count": null,
   "metadata": {
    "hidden": true
   },
   "outputs": [],
   "source": [
    "df.iloc[5,:]"
   ]
  },
  {
   "cell_type": "markdown",
   "metadata": {
    "hidden": true
   },
   "source": [
    "**１つの行を`DataFrame`として抽出**"
   ]
  },
  {
   "cell_type": "code",
   "execution_count": null,
   "metadata": {
    "hidden": true
   },
   "outputs": [],
   "source": [
    "df.iloc[[5],:]"
   ]
  },
  {
   "cell_type": "markdown",
   "metadata": {
    "hidden": true
   },
   "source": [
    "**複数行を抽出**"
   ]
  },
  {
   "cell_type": "code",
   "execution_count": null,
   "metadata": {
    "hidden": true
   },
   "outputs": [],
   "source": [
    "df.iloc[[1,5],:]"
   ]
  },
  {
   "cell_type": "markdown",
   "metadata": {
    "hidden": true
   },
   "source": [
    "**複数行を連続抽出（slicing）**"
   ]
  },
  {
   "cell_type": "code",
   "execution_count": null,
   "metadata": {
    "hidden": true
   },
   "outputs": [],
   "source": [
    "df.iloc[1:6,:]"
   ]
  },
  {
   "cell_type": "markdown",
   "metadata": {
    "hidden": true
   },
   "source": [
    "**１つの列を`Series`として抽出**"
   ]
  },
  {
   "cell_type": "code",
   "execution_count": null,
   "metadata": {
    "hidden": true
   },
   "outputs": [],
   "source": [
    "df.iloc[:,1]"
   ]
  },
  {
   "cell_type": "markdown",
   "metadata": {
    "hidden": true
   },
   "source": [
    "**１つの列を`DataFrame`として抽出**"
   ]
  },
  {
   "cell_type": "code",
   "execution_count": null,
   "metadata": {
    "hidden": true
   },
   "outputs": [],
   "source": [
    "df.iloc[:,[1]]"
   ]
  },
  {
   "cell_type": "markdown",
   "metadata": {
    "hidden": true
   },
   "source": [
    "**複数列を選択**"
   ]
  },
  {
   "cell_type": "code",
   "execution_count": null,
   "metadata": {
    "hidden": true
   },
   "outputs": [],
   "source": [
    "df.iloc[:,[1,3]]"
   ]
  },
  {
   "cell_type": "markdown",
   "metadata": {},
   "source": [
    "次のコードでも同じ結果となる。"
   ]
  },
  {
   "cell_type": "code",
   "execution_count": null,
   "metadata": {},
   "outputs": [],
   "source": [
    "cols = [1, 3]\n",
    "\n",
    "df.iloc[:,cols]"
   ]
  },
  {
   "cell_type": "markdown",
   "metadata": {
    "hidden": true
   },
   "source": [
    "**複数列を連続抽出（slicing）**"
   ]
  },
  {
   "cell_type": "code",
   "execution_count": null,
   "metadata": {
    "hidden": true
   },
   "outputs": [],
   "source": [
    "df.iloc[:,1:3]"
   ]
  },
  {
   "cell_type": "markdown",
   "metadata": {
    "heading_collapsed": true,
    "hidden": true,
    "jp-MarkdownHeadingCollapsed": true
   },
   "source": [
    "### `[]`で列の選択（ラベル使用）"
   ]
  },
  {
   "cell_type": "markdown",
   "metadata": {
    "hidden": true
   },
   "source": [
    "**１つの列を`Series`として抽出**"
   ]
  },
  {
   "cell_type": "code",
   "execution_count": null,
   "metadata": {
    "hidden": true
   },
   "outputs": [],
   "source": [
    "df['gdp']"
   ]
  },
  {
   "cell_type": "markdown",
   "metadata": {
    "hidden": true
   },
   "source": [
    "**１つの列を`DataFrame`として抽出**"
   ]
  },
  {
   "cell_type": "code",
   "execution_count": null,
   "metadata": {
    "hidden": true
   },
   "outputs": [],
   "source": [
    "df[['gdp']]"
   ]
  },
  {
   "cell_type": "markdown",
   "metadata": {},
   "source": [
    "上の２つのコードの違いに注意しよう。\n",
    "* `DataFrame`で抽出する場合、角括弧が二重になっている。即ち、`[[]]`\n",
    "* `Series`で抽出する場合、角括弧が二重になっていない。即ち、`[]`\n",
    "\n",
    "次の様に考えよう。`[]`を使って列を抽出する場合、\n",
    "* `[]`の中にラベル名をそのまま書くと`Series`として抽出される。\n",
    "* `[]`の中にラベル名を**リスト**として書くと`DataFrame`として抽出される。"
   ]
  },
  {
   "cell_type": "markdown",
   "metadata": {
    "hidden": true
   },
   "source": [
    "**複数列を選択**"
   ]
  },
  {
   "cell_type": "code",
   "execution_count": null,
   "metadata": {
    "hidden": true
   },
   "outputs": [],
   "source": [
    "df[['gdp','pop']]"
   ]
  },
  {
   "cell_type": "markdown",
   "metadata": {
    "editable": true,
    "heading_collapsed": true,
    "jp-MarkdownHeadingCollapsed": true,
    "slideshow": {
     "slide_type": ""
    },
    "tags": []
   },
   "source": [
    "## ある条件の下で行の抽出"
   ]
  },
  {
   "cell_type": "markdown",
   "metadata": {
    "editable": true,
    "heading_collapsed": true,
    "hidden": true,
    "jp-MarkdownHeadingCollapsed": true,
    "slideshow": {
     "slide_type": ""
    },
    "tags": []
   },
   "source": [
    "### １つの条件の場合"
   ]
  },
  {
   "cell_type": "markdown",
   "metadata": {
    "editable": true,
    "heading_collapsed": true,
    "hidden": true,
    "jp-MarkdownHeadingCollapsed": true,
    "slideshow": {
     "slide_type": ""
    },
    "tags": []
   },
   "source": [
    "#### 例１：GDPが1200未満の行の抽出"
   ]
  },
  {
   "cell_type": "markdown",
   "metadata": {
    "hidden": true
   },
   "source": [
    "まず条件を作る。"
   ]
  },
  {
   "cell_type": "code",
   "execution_count": null,
   "metadata": {
    "hidden": true
   },
   "outputs": [],
   "source": [
    "df['gdp'] < 1200"
   ]
  },
  {
   "cell_type": "markdown",
   "metadata": {
    "hidden": true
   },
   "source": [
    "この条件では，GDPが100未満の行は`True`，以上の行は`False`となる。この条件を`cond`というの変数に割り当てる。`()`を省いても良いが，ある方が分かりやすいだろう。"
   ]
  },
  {
   "cell_type": "code",
   "execution_count": null,
   "metadata": {
    "hidden": true
   },
   "outputs": [],
   "source": [
    "cond = (df['gdp'] < 1200)"
   ]
  },
  {
   "cell_type": "markdown",
   "metadata": {
    "hidden": true
   },
   "source": [
    "`cond`を`.loc[,]`の引数とすることにより，`True`の行だけを抽出できる。（注意：`cond`を使って**行**を抽出しようとしているので`,`の左側に書く。）"
   ]
  },
  {
   "cell_type": "code",
   "execution_count": null,
   "metadata": {
    "hidden": true
   },
   "outputs": [],
   "source": [
    "df.loc[cond,:]"
   ]
  },
  {
   "cell_type": "markdown",
   "metadata": {
    "hidden": true
   },
   "source": [
    "この条件の下で`inv`だけを抽出したい場合\n",
    "\n",
    "* `df.loc[cond,'inv']`\n",
    "\n",
    "とする。"
   ]
  },
  {
   "cell_type": "markdown",
   "metadata": {
    "hidden": true
   },
   "source": [
    "```{warning}\n",
    "以下のように抽出を連続ですることも可能だが，避けるように！\n",
    "* `df.loc[cond,:]['inv']`\n",
    "* `df.loc[cond,:].loc[:,'inv']`\n",
    "```"
   ]
  },
  {
   "cell_type": "markdown",
   "metadata": {
    "editable": true,
    "heading_collapsed": true,
    "hidden": true,
    "jp-MarkdownHeadingCollapsed": true,
    "slideshow": {
     "slide_type": ""
    },
    "tags": []
   },
   "source": [
    "#### 例２：`continent`が`Asia`の行を抽出"
   ]
  },
  {
   "cell_type": "code",
   "execution_count": null,
   "metadata": {
    "hidden": true
   },
   "outputs": [],
   "source": [
    "cond = (df.loc[:,'continent'] == 'Asia')\n",
    "\n",
    "df.loc[cond,:]"
   ]
  },
  {
   "cell_type": "markdown",
   "metadata": {
    "editable": true,
    "heading_collapsed": true,
    "hidden": true,
    "jp-MarkdownHeadingCollapsed": true,
    "slideshow": {
     "slide_type": ""
    },
    "tags": []
   },
   "source": [
    "### 複数条件の場合"
   ]
  },
  {
   "cell_type": "markdown",
   "metadata": {
    "editable": true,
    "heading_collapsed": true,
    "hidden": true,
    "jp-MarkdownHeadingCollapsed": true,
    "slideshow": {
     "slide_type": ""
    },
    "tags": []
   },
   "source": [
    "#### 例３"
   ]
  },
  {
   "cell_type": "markdown",
   "metadata": {
    "hidden": true
   },
   "source": [
    "以下の条件の**両方**が満たされる場合：\n",
    "\n",
    "* `gdp`が`5000`以上\n",
    "* `inv`が`2000`以下\n",
    "\n",
    "それぞれの条件を作成する。"
   ]
  },
  {
   "cell_type": "code",
   "execution_count": null,
   "metadata": {},
   "outputs": [],
   "source": [
    "df"
   ]
  },
  {
   "cell_type": "code",
   "execution_count": null,
   "metadata": {
    "hidden": true
   },
   "outputs": [],
   "source": [
    "cond1 = (df['gdp'] >= 5000)\n",
    "cond2 = (df['inv'] <= 2000)"
   ]
  },
  {
   "cell_type": "markdown",
   "metadata": {
    "hidden": true
   },
   "source": [
    "２つの条件が同時に満たされる条件を作成する。"
   ]
  },
  {
   "cell_type": "code",
   "execution_count": null,
   "metadata": {
    "hidden": true
   },
   "outputs": [],
   "source": [
    "cond = (cond1 & cond2)"
   ]
  },
  {
   "cell_type": "markdown",
   "metadata": {
    "hidden": true
   },
   "source": [
    "＜注意＞\n",
    "* `&`を使っている。理由は，`cond1`と`cond2`のそれぞれの行の要素を比較して真偽値から構成される`Series`を返すためである。従って，一つの値をもう一つの値と比べて真偽値を計算する`and`を使うとエラーが発生する。\n",
    "* `DataFrame`や`Series`で`&`を使う場合は，比較コードを`()`の中に入れることを推奨する。`&`は優先されて計算されるためである。（上の例では問題は発生しなし。）"
   ]
  },
  {
   "cell_type": "markdown",
   "metadata": {
    "hidden": true
   },
   "source": [
    "`cond`を引数に使い行を抽出する。"
   ]
  },
  {
   "cell_type": "code",
   "execution_count": null,
   "metadata": {
    "hidden": true
   },
   "outputs": [],
   "source": [
    "df.loc[cond, :]"
   ]
  },
  {
   "cell_type": "markdown",
   "metadata": {
    "editable": true,
    "heading_collapsed": true,
    "hidden": true,
    "jp-MarkdownHeadingCollapsed": true,
    "slideshow": {
     "slide_type": ""
    },
    "tags": []
   },
   "source": [
    "#### 例４"
   ]
  },
  {
   "cell_type": "markdown",
   "metadata": {
    "hidden": true
   },
   "source": [
    "以下の条件の**どちらか**が満たされる場合：\n",
    "* `gdp`は`5000`以上\n",
    "* `con`は`2000`以下"
   ]
  },
  {
   "cell_type": "code",
   "execution_count": null,
   "metadata": {
    "hidden": true
   },
   "outputs": [],
   "source": [
    "cond1 = (df['gdp'] >= 5000)\n",
    "cond2 = (df['con'] <= 2000)\n",
    "cond = (cond1 | cond2)\n",
    "\n",
    "df.loc[cond, :]"
   ]
  },
  {
   "cell_type": "markdown",
   "metadata": {
    "hidden": true
   },
   "source": [
    "＜注意＞\n",
    "* `|`を使っている。理由は，`cond1`と`cond2`のそれぞれの行の要素を比較して真偽値から構成される`Series`を返すためである。従って，一つの値をもう一つの値と比べて真偽値を計算する`or`を使うとエラーが発生する。\n",
    "* `DataFrame`や`Series`で`|`を使う場合は，比較コードを`()`の中に入れることを推奨する。`|`は優先されて計算されるためである。（上の例では問題は発生しなし。）"
   ]
  },
  {
   "cell_type": "markdown",
   "metadata": {
    "hidden": true
   },
   "source": [
    "＜コメント＞\n",
    "* 上の例では，`&`が`and`，`|`が`or`の役割を果たしている。同様に`~`が`not`（真偽値の反転）の代わりに使われる。\n",
    "* `DataFrame`や`Series`で`~`を使う場合は，コードを`()`の中に入れることを推奨する。`~`は優先されて計算されるためである。"
   ]
  },
  {
   "cell_type": "markdown",
   "metadata": {
    "editable": true,
    "heading_collapsed": true,
    "hidden": true,
    "jp-MarkdownHeadingCollapsed": true,
    "slideshow": {
     "slide_type": ""
    },
    "tags": []
   },
   "source": [
    "#### 例５"
   ]
  },
  {
   "cell_type": "markdown",
   "metadata": {
    "editable": true,
    "hidden": true,
    "slideshow": {
     "slide_type": ""
    },
    "tags": []
   },
   "source": [
    "以下の条件の**どちらか**が満たされ\n",
    "* `gdp`は`5000`以上\n",
    "* `con`は`2000`以下\n",
    "\n",
    "かつ以下の条件も**同時に**満たされる場合：\n",
    "* `continent`が`Asia`と等しい"
   ]
  },
  {
   "cell_type": "code",
   "execution_count": null,
   "metadata": {
    "editable": true,
    "hidden": true,
    "slideshow": {
     "slide_type": ""
    },
    "tags": []
   },
   "outputs": [],
   "source": [
    "cond1 = (df['gdp'] >= 5000)\n",
    "cond2 = (df['con'] <= 2000)\n",
    "cond3 = (df['continent'] == 'Asia')\n",
    "cond = ((cond1 | cond2) & cond3)\n",
    "\n",
    "df.loc[cond, :]"
   ]
  },
  {
   "cell_type": "markdown",
   "metadata": {
    "editable": true,
    "heading_collapsed": true,
    "hidden": true,
    "jp-MarkdownHeadingCollapsed": true,
    "slideshow": {
     "slide_type": ""
    },
    "tags": []
   },
   "source": [
    "### `query()`"
   ]
  },
  {
   "cell_type": "markdown",
   "metadata": {
    "editable": true,
    "hidden": true,
    "slideshow": {
     "slide_type": ""
    },
    "tags": []
   },
   "source": [
    "`query()`というメソッドを使うと、文字列を使い行の抽出コードを書くことができる。これにより直感的なコード書くことが可能となる。"
   ]
  },
  {
   "cell_type": "markdown",
   "metadata": {
    "editable": true,
    "hidden": true,
    "jp-MarkdownHeadingCollapsed": true,
    "slideshow": {
     "slide_type": ""
    },
    "tags": []
   },
   "source": [
    "#### 例１の場合："
   ]
  },
  {
   "cell_type": "code",
   "execution_count": null,
   "metadata": {
    "hidden": true
   },
   "outputs": [],
   "source": [
    "df.query('gdp < 1200')"
   ]
  },
  {
   "cell_type": "markdown",
   "metadata": {
    "editable": true,
    "heading_collapsed": true,
    "hidden": true,
    "jp-MarkdownHeadingCollapsed": true,
    "slideshow": {
     "slide_type": ""
    },
    "tags": []
   },
   "source": [
    "#### 例２の場合"
   ]
  },
  {
   "cell_type": "code",
   "execution_count": null,
   "metadata": {
    "hidden": true
   },
   "outputs": [],
   "source": [
    "df.query('continent == \"Asia\"')"
   ]
  },
  {
   "cell_type": "markdown",
   "metadata": {
    "editable": true,
    "hidden": true,
    "jp-MarkdownHeadingCollapsed": true,
    "slideshow": {
     "slide_type": ""
    },
    "tags": []
   },
   "source": [
    "#### 例３の場合"
   ]
  },
  {
   "cell_type": "code",
   "execution_count": null,
   "metadata": {
    "hidden": true
   },
   "outputs": [],
   "source": [
    "df.query('(gdp >= 5000) & (inv <= 2000)')"
   ]
  },
  {
   "cell_type": "markdown",
   "metadata": {
    "editable": true,
    "heading_collapsed": true,
    "hidden": true,
    "jp-MarkdownHeadingCollapsed": true,
    "slideshow": {
     "slide_type": ""
    },
    "tags": []
   },
   "source": [
    "#### 例４の場合"
   ]
  },
  {
   "cell_type": "code",
   "execution_count": null,
   "metadata": {
    "hidden": true
   },
   "outputs": [],
   "source": [
    "df.query('(gdp >= 5000) | (con <= 2000)')"
   ]
  },
  {
   "cell_type": "markdown",
   "metadata": {
    "editable": true,
    "heading_collapsed": true,
    "hidden": true,
    "jp-MarkdownHeadingCollapsed": true,
    "slideshow": {
     "slide_type": ""
    },
    "tags": []
   },
   "source": [
    "#### 例５の場合"
   ]
  },
  {
   "cell_type": "code",
   "execution_count": null,
   "metadata": {
    "editable": true,
    "hidden": true,
    "slideshow": {
     "slide_type": ""
    },
    "tags": []
   },
   "outputs": [],
   "source": [
    "df.query('(gdp >= 5000 | con <= 2000) & (continent == \"Asia\")')"
   ]
  },
  {
   "cell_type": "markdown",
   "metadata": {
    "editable": true,
    "hidden": true,
    "slideshow": {
     "slide_type": ""
    },
    "tags": []
   },
   "source": [
    "````{tip}\n",
    "`df`にない変数で条件を設定する場合`@`が必要になる。例えば，変数`z`という変数があるとしよう。\n",
    "\n",
    "```python\n",
    "z = 100\n",
    "```\n",
    "\n",
    "変数`z`の値に基づいて行の抽出をする場合は次のようにする。\n",
    "\n",
    "```python\n",
    "df.query('gdp < @z')\n",
    "```\n",
    "\n",
    "{glue:}`glue0_txt`\n",
    "````"
   ]
  },
  {
   "cell_type": "code",
   "execution_count": null,
   "metadata": {
    "editable": true,
    "hidden": true,
    "slideshow": {
     "slide_type": ""
    },
    "tags": [
     "remove-cell"
    ]
   },
   "outputs": [],
   "source": [
    "from myst_nb import glue\n",
    "z = 1200\n",
    "glue0 = df.query('gdp < @z')\n",
    "glue(\"glue0_txt\", glue0)"
   ]
  },
  {
   "cell_type": "markdown",
   "metadata": {
    "editable": true,
    "hidden": true,
    "slideshow": {
     "slide_type": ""
    },
    "tags": []
   },
   "source": [
    "```{warning}\n",
    "数字で始まる列ラベルに`.query()`を使うとエラーが発生するため，列ラベルを変更する必要がある。列ラベルを変更できない場合は異なる方法を使うように。\n",
    "```"
   ]
  },
  {
   "cell_type": "markdown",
   "metadata": {
    "editable": true,
    "heading_collapsed": true,
    "jp-MarkdownHeadingCollapsed": true,
    "slideshow": {
     "slide_type": ""
    },
    "tags": []
   },
   "source": [
    "## 列と行の追加と削除"
   ]
  },
  {
   "cell_type": "markdown",
   "metadata": {
    "editable": true,
    "heading_collapsed": true,
    "hidden": true,
    "jp-MarkdownHeadingCollapsed": true,
    "slideshow": {
     "slide_type": ""
    },
    "tags": []
   },
   "source": [
    "### 列の追加 `[ ]`"
   ]
  },
  {
   "cell_type": "markdown",
   "metadata": {
    "hidden": true
   },
   "source": [
    "`[]`に列ラベルを使って列を抽出することができるが，`[]`は列の追加にも使えるので，ここではその使い方を説明する。まず，全ての行が`1.0`となる列を作成するとしよう。その場合，以下のようにする。"
   ]
  },
  {
   "cell_type": "code",
   "execution_count": null,
   "metadata": {
    "hidden": true
   },
   "outputs": [],
   "source": [
    "df['Intercept'] = 1.0"
   ]
  },
  {
   "cell_type": "code",
   "execution_count": null,
   "metadata": {
    "hidden": true
   },
   "outputs": [],
   "source": [
    "df.head(2)"
   ]
  },
  {
   "cell_type": "markdown",
   "metadata": {
    "hidden": true
   },
   "source": [
    "次の例では既存の列から新たな列を作成する。まず１人当たりGDPの計算を計算し，それを変数`gdp_pc`に割り当てる。"
   ]
  },
  {
   "cell_type": "code",
   "execution_count": null,
   "metadata": {
    "hidden": true
   },
   "outputs": [],
   "source": [
    "gdp_pc = df['gdp'] / df['pop']\n",
    "\n",
    "gdp_pc.head()"
   ]
  },
  {
   "cell_type": "markdown",
   "metadata": {
    "hidden": true
   },
   "source": [
    "これは`Series`であり，`gdp_pc`として`df`に追加する。"
   ]
  },
  {
   "cell_type": "code",
   "execution_count": null,
   "metadata": {
    "hidden": true
   },
   "outputs": [],
   "source": [
    "df['gdp_pc'] = gdp_pc"
   ]
  },
  {
   "cell_type": "code",
   "execution_count": null,
   "metadata": {
    "hidden": true
   },
   "outputs": [],
   "source": [
    "df.head(2)"
   ]
  },
  {
   "cell_type": "markdown",
   "metadata": {
    "heading_collapsed": true,
    "hidden": true,
    "jp-MarkdownHeadingCollapsed": true
   },
   "source": [
    "### 列の追加 `.loc[,]`"
   ]
  },
  {
   "cell_type": "markdown",
   "metadata": {
    "hidden": true
   },
   "source": [
    "`.loc[]`は行と列の抽出に使ったが，追加にも使える。`[]`と同じと考えれば良いだろう。次の例では`pop`を2倍した列を追加している。"
   ]
  },
  {
   "cell_type": "code",
   "execution_count": null,
   "metadata": {
    "hidden": true
   },
   "outputs": [],
   "source": [
    "df.loc[:,'2pop'] = 2 * df['pop']"
   ]
  },
  {
   "cell_type": "code",
   "execution_count": null,
   "metadata": {},
   "outputs": [],
   "source": [
    "df.head(3)"
   ]
  },
  {
   "cell_type": "markdown",
   "metadata": {
    "heading_collapsed": true,
    "hidden": true,
    "jp-MarkdownHeadingCollapsed": true
   },
   "source": [
    "### 列の削除 `del`"
   ]
  },
  {
   "cell_type": "code",
   "execution_count": null,
   "metadata": {
    "hidden": true
   },
   "outputs": [],
   "source": [
    "del df['2pop']"
   ]
  },
  {
   "cell_type": "markdown",
   "metadata": {},
   "source": [
    "ここで`del`はdeleteの略。"
   ]
  },
  {
   "cell_type": "code",
   "execution_count": null,
   "metadata": {},
   "outputs": [],
   "source": [
    "df.head(2)"
   ]
  },
  {
   "cell_type": "markdown",
   "metadata": {},
   "source": [
    "列`2pop`が削除されている。"
   ]
  },
  {
   "cell_type": "markdown",
   "metadata": {
    "heading_collapsed": true,
    "hidden": true,
    "jp-MarkdownHeadingCollapsed": true
   },
   "source": [
    "### 列の削除 `drop()`"
   ]
  },
  {
   "cell_type": "markdown",
   "metadata": {
    "hidden": true
   },
   "source": [
    "`DataFrame`には`.drop()`というメソッドが用意されているので，それを使うことも可能である。\n",
    "\n",
    "下のコードの説明：\n",
    "* 引数\n",
    "    * 第１引数（位置引数）：削除する列ラベルのリスト（一つの列のみを指定する場合はリストではなく、そのまま列ラベルを書いても可）\n",
    "    * 第２引数（キーワード引数）：`axis=columns`もしくは`axis=1`（`1`は列を表しし、`0`は行を表す）\n",
    "* `df.drop()`はコピーを作るだけなので，元の`df`を上書きしたい場合は次のどちらかが必要となる。\n",
    "    * `df`に再割り当てする。\n",
    "    * オプション`inplace=True`（デフォルトは`False`）を追加する。"
   ]
  },
  {
   "cell_type": "code",
   "execution_count": null,
   "metadata": {
    "hidden": true
   },
   "outputs": [],
   "source": [
    "df = df.drop(['Intercept','gdp_pc'], axis='columns')\n",
    "\n",
    "# df.drop('Intercept', axis='columns', inplace=True)"
   ]
  },
  {
   "cell_type": "code",
   "execution_count": null,
   "metadata": {},
   "outputs": [],
   "source": [
    "df.head(2)"
   ]
  },
  {
   "cell_type": "markdown",
   "metadata": {
    "heading_collapsed": true,
    "hidden": true,
    "jp-MarkdownHeadingCollapsed": true
   },
   "source": [
    "### 行の追加 `.loc[,]`"
   ]
  },
  {
   "cell_type": "markdown",
   "metadata": {
    "hidden": true
   },
   "source": [
    "`.loc[,]`はh行と列の抽出，そして列の追加に使ったが，行の追加にも使える。"
   ]
  },
  {
   "cell_type": "code",
   "execution_count": null,
   "metadata": {
    "hidden": true
   },
   "outputs": [],
   "source": [
    "df.loc['US',:] = [20566, 14462, 4557, 329, 'North America']"
   ]
  },
  {
   "cell_type": "code",
   "execution_count": null,
   "metadata": {
    "hidden": true
   },
   "outputs": [],
   "source": [
    "df.tail(3)"
   ]
  },
  {
   "cell_type": "markdown",
   "metadata": {
    "hidden": true
   },
   "source": [
    "上の例では，最初の4つの要素は整数として入力されたが，`df`の中では浮動小数点に変換されている。"
   ]
  },
  {
   "cell_type": "markdown",
   "metadata": {
    "heading_collapsed": true,
    "hidden": true,
    "jp-MarkdownHeadingCollapsed": true
   },
   "source": [
    "### 行の削除 `drop()`"
   ]
  },
  {
   "cell_type": "markdown",
   "metadata": {
    "hidden": true
   },
   "source": [
    "`.drop()`は列を削除する際に紹介したが、行の削除にも使えるメソッドである。\n",
    "\n",
    "* 引数\n",
    "    * 第１引数（位置引数）：削除する行ラベルのリスト（一つの行のみを指定する場合はリストではなく、そのまま行ラベルを書いても可）\n",
    "    * 第２引数（キーワード引数）：`axis=rows`もしくは`axis=0`（`1`は列を表しし、`0`は行を表す）\n",
    "* `df.drop()`はコピーを作るだけなので，元の`df`を上書きしたい場合は次のどちらかが必要となる。\n",
    "    * `df`に再割り当てする。\n",
    "    * オプション`inplace=True`（デフォルトは`False`）を追加する。"
   ]
  },
  {
   "cell_type": "code",
   "execution_count": null,
   "metadata": {
    "hidden": true
   },
   "outputs": [],
   "source": [
    "df = df.drop('US', axis='rows')\n",
    "\n",
    "# df.drop('US', axis=0, inplace=True)"
   ]
  },
  {
   "cell_type": "code",
   "execution_count": null,
   "metadata": {},
   "outputs": [],
   "source": [
    "df.tail()"
   ]
  },
  {
   "cell_type": "markdown",
   "metadata": {},
   "source": [
    "`US`の行が削除されている。"
   ]
  },
  {
   "cell_type": "markdown",
   "metadata": {
    "editable": true,
    "heading_collapsed": true,
    "jp-MarkdownHeadingCollapsed": true,
    "slideshow": {
     "slide_type": ""
    },
    "tags": []
   },
   "source": [
    "## 欠損値の扱い"
   ]
  },
  {
   "cell_type": "markdown",
   "metadata": {
    "hidden": true
   },
   "source": [
    "`Pandas`では欠損値は`NaN`（Not a Number）や`<NA>`（Not Availabel）と表示されるが，`null`と呼んだりもする。"
   ]
  },
  {
   "cell_type": "markdown",
   "metadata": {
    "heading_collapsed": true,
    "hidden": true,
    "jp-MarkdownHeadingCollapsed": true
   },
   "source": [
    "### 欠損値の確認"
   ]
  },
  {
   "cell_type": "markdown",
   "metadata": {
    "hidden": true
   },
   "source": [
    "欠損値があるかどうかの確認は，`df.info()`でもできるが，以下のメソッドを組み合わせることでも可能である。\n",
    "\n",
    "* `isna()`：（is it na?の略）それぞれの要素について`NaN`の場合`True`を，そうでない場合は`False`を返す。（`DataFrame`の全ての要素が`True/False`となる。）\n",
    "* `sum()`：`df`の上から下に**行**（rows）を縦断して，それぞれの列の中にある`True`数える。\n",
    "    * デフォルトで引数`axis='rows'`が指定されている。\n",
    "    * 引数値`rows`は複数！（`0`でも可）\n",
    "* `sum(axis='columns')`：`df`の左から右に**列**（columns）を横断して，それぞれの行の中にある`True`を数える。\n",
    "    * 引数値`columns`は複数！（`1`でも可）\n",
    "    \n",
    "（注意）`sum()`の`axis`は「行を縦断」か「列を横断」かを指定する。"
   ]
  },
  {
   "cell_type": "code",
   "execution_count": null,
   "metadata": {
    "hidden": true
   },
   "outputs": [],
   "source": [
    "df.isna().sum()"
   ]
  },
  {
   "cell_type": "markdown",
   "metadata": {
    "hidden": true
   },
   "source": [
    "`inv`と`con`に`NaN`があることがわかる。`axis='columns'`を設定すると`NaN`がある行を確認できる。"
   ]
  },
  {
   "cell_type": "code",
   "execution_count": null,
   "metadata": {
    "hidden": true
   },
   "outputs": [],
   "source": [
    "df.isna().sum(axis='columns')"
   ]
  },
  {
   "cell_type": "markdown",
   "metadata": {
    "hidden": true
   },
   "source": [
    "---\n",
    "`NaN`がある行だけを抽出したい場合がある。その場合はメソッド`any()`が役に立つ。\n",
    "\n",
    "* `any()`：`df`の上から下に行（`rows`）を縦断して，それぞれの列の中で一つ以上`True`がある場合には`True`を，一つもない場合は`False`を返す。\n",
    "    * デフォルトで引数`axis='rows'`が指定されている。\n",
    "    * 引数値`rows`は複数！（`0`でも可）\n",
    "* `any(axis='columns')`：dfの左から右に列（`columns`）を横断して，それぞれの行の中で一つ以上`True`がある場合には`True`を，一つもない場合は`False`を返す。\n",
    "    * 引数値`columns`は複数！（1でも可）\n",
    "\n",
    "（注意）`any()`の`axis`は「行を縦断」か「列を横断」かを指定する。"
   ]
  },
  {
   "cell_type": "code",
   "execution_count": null,
   "metadata": {
    "hidden": true
   },
   "outputs": [],
   "source": [
    "cond = df.isna().any(axis='columns')\n",
    "df.loc[cond,:]"
   ]
  },
  {
   "cell_type": "markdown",
   "metadata": {
    "hidden": true
   },
   "source": [
    "これで`NaN`がある行だけを抽出できた。"
   ]
  },
  {
   "cell_type": "markdown",
   "metadata": {
    "heading_collapsed": true,
    "hidden": true,
    "jp-MarkdownHeadingCollapsed": true
   },
   "source": [
    "### 欠損値がある行の削除"
   ]
  },
  {
   "cell_type": "markdown",
   "metadata": {
    "hidden": true
   },
   "source": [
    "欠損値がある全ての行を削除する。"
   ]
  },
  {
   "cell_type": "code",
   "execution_count": null,
   "metadata": {
    "hidden": true
   },
   "outputs": [],
   "source": [
    "df.dropna()"
   ]
  },
  {
   "cell_type": "markdown",
   "metadata": {
    "hidden": true
   },
   "source": [
    "`Taiwan`と`UK`が削除されている。\n",
    "\n",
    "このメソッドは，欠損値を削除するとどうなるかを示すだけであり`df`自体は影響は受けない。`df`自体から`NaN`がある行を削除する場合は`inplace=True`のオプション（デフォルトでは`False`になっている）を加えて\n",
    "```\n",
    "df.dropna(inplace=True)\n",
    "```\n",
    "とするか，削除後の`df`を`df`自体に再割り当てする。\n",
    "```\n",
    "df = df.dropna()\n",
    "```"
   ]
  },
  {
   "cell_type": "markdown",
   "metadata": {
    "hidden": true
   },
   "source": [
    "また，ある列で`NaN`がある行のみを削除する場合は，引数`subset`を使う。\n",
    "次のコードでは、`con`に`NaN`がある行のみを削除している。"
   ]
  },
  {
   "cell_type": "code",
   "execution_count": null,
   "metadata": {
    "hidden": true
   },
   "outputs": [],
   "source": [
    "df.dropna(subset=['con'])"
   ]
  },
  {
   "cell_type": "markdown",
   "metadata": {
    "hidden": true
   },
   "source": [
    "（注意）オプション`subset=`には削除する列が１つであっても、`[]`を使いリストとして指定する。"
   ]
  },
  {
   "cell_type": "markdown",
   "metadata": {
    "heading_collapsed": true,
    "jp-MarkdownHeadingCollapsed": true
   },
   "source": [
    "## 並び替え"
   ]
  },
  {
   "cell_type": "markdown",
   "metadata": {
    "hidden": true
   },
   "source": [
    "行の並び替えにはメソッド`.sort_values()`を使う。引数に列ラベルを指定することにより、その列を基準に行を昇順に並び替える。\n",
    "\n",
    "`df`を`gdp`の昇順に並び替えてみよう。"
   ]
  },
  {
   "cell_type": "code",
   "execution_count": null,
   "metadata": {
    "hidden": true
   },
   "outputs": [],
   "source": [
    "df.sort_values('gdp').head()"
   ]
  },
  {
   "cell_type": "markdown",
   "metadata": {
    "hidden": true
   },
   "source": [
    "降順にする場合は、引数`ascending=False`を付け加える（デフォルトでは`ascending=True`となっている）。"
   ]
  },
  {
   "cell_type": "code",
   "execution_count": null,
   "metadata": {
    "hidden": true
   },
   "outputs": [],
   "source": [
    "df.sort_values('gdp', ascending=False).head()"
   ]
  },
  {
   "cell_type": "markdown",
   "metadata": {
    "hidden": true
   },
   "source": [
    "複数の列を基準に並び替えする場合は、引数`ascending=`に真偽値をリストとして指定する。"
   ]
  },
  {
   "cell_type": "code",
   "execution_count": null,
   "metadata": {
    "hidden": true
   },
   "outputs": [],
   "source": [
    "df.sort_values(['continent','gdp'], ascending=[True,False])"
   ]
  },
  {
   "cell_type": "markdown",
   "metadata": {
    "hidden": true
   },
   "source": [
    "ここでは`continent`に従って先に並び替えられ，その後に`gdp`に従って並び替えられている。`ascending`は昇順（`True`）か降順（`False`）かを指定する引数であり，`['continent','gdp']`と`ascending=['True','False']`の順番が対応している。"
   ]
  },
  {
   "cell_type": "markdown",
   "metadata": {
    "heading_collapsed": true,
    "hidden": true,
    "jp-MarkdownHeadingCollapsed": true
   },
   "source": [
    "## 行番号を振り直す"
   ]
  },
  {
   "cell_type": "markdown",
   "metadata": {
    "hidden": true
   },
   "source": [
    "[](sec:3-data)においてデータを読み込んだ後，直ぐに`.set_index('year')`を使い，列`year`を行ラベルに設定した。もちろん，必ずしもそうする必要はなく，行番号（`0`，`1`，`2`，...）のままで作業をおこなっても全く問題ない。また行ラベルを設定した後に，行インデックスに戻したい場合もあるだろう。その場合には，メソッド`.reset_index()`を使うと，行のインデックスを0,1,2,..と振り直すことができる。`df`を使うと次のようになる。"
   ]
  },
  {
   "cell_type": "code",
   "execution_count": null,
   "metadata": {
    "hidden": true,
    "tags": [
     "output_scroll"
    ]
   },
   "outputs": [],
   "source": [
    "df.reset_index()"
   ]
  },
  {
   "cell_type": "markdown",
   "metadata": {
    "hidden": true
   },
   "source": [
    "行ラベルがなくなり、元の行ラベル名は削除していたので、列ラベルないまま新たな列として追加されている。列ラベルを追加したい場合は、以下で説明するが、次のようにすれば良い。\n",
    "```\n",
    "df = df.rename({'':'country'}, axis='columns')\n",
    "```\n",
    "ここで`''`は空の文字列を示す。一方で、元の行ラベルを列として追加したくない場合もある。その場合、`reset_index()`に引数`drop=True`を加えると良い。"
   ]
  },
  {
   "cell_type": "code",
   "execution_count": null,
   "metadata": {
    "hidden": true
   },
   "outputs": [],
   "source": [
    "df.reset_index(drop=True).head()"
   ]
  },
  {
   "cell_type": "markdown",
   "metadata": {},
   "source": [
    "`.reset_index()`は、変更した場合にどのように見えるかを表示しているだけなので、`df`自体を変更する場合は`df`に再割り当てする必要がある。"
   ]
  },
  {
   "cell_type": "markdown",
   "metadata": {
    "heading_collapsed": true,
    "hidden": true,
    "jp-MarkdownHeadingCollapsed": true
   },
   "source": [
    "## 列のラベルの変更"
   ]
  },
  {
   "cell_type": "markdown",
   "metadata": {
    "hidden": true
   },
   "source": [
    "列ラベルを変更する場合は、メソッド`.rename()`を使うと良いだろう。引数は次の形で設定する。\n",
    "\n",
    "$$\\text{.rename}\\left(\\text{columns=}辞書\\right)$$\n",
    "\n",
    "ここで「辞書」は次のルールで指定する。\n",
    "* `key`:元のラベル\n",
    "* `value`：新しいラベル\n",
    "\n",
    "次のコードでは，`df`の`pop`を`pop_new`に，`id`を`continent_new`に変更している。"
   ]
  },
  {
   "cell_type": "code",
   "execution_count": null,
   "metadata": {
    "hidden": true
   },
   "outputs": [],
   "source": [
    "df.rename(columns={'pop':'pop_new','continent':'continent_new'}).head()"
   ]
  },
  {
   "cell_type": "markdown",
   "metadata": {
    "hidden": true
   },
   "source": [
    "ただし，再割り当てしないと`df`は変更されないので注意しよう。即ち，上のコードでは`df`の行ラベルは変更されていない。\n",
    "\n",
    "`.rename()`以外にも次のように変更することも可能である。"
   ]
  },
  {
   "cell_type": "code",
   "execution_count": null,
   "metadata": {
    "hidden": true
   },
   "outputs": [],
   "source": [
    "df.columns = ['gdp','inv','con','pop_new','continent_new']"
   ]
  },
  {
   "cell_type": "markdown",
   "metadata": {
    "hidden": true
   },
   "source": [
    "このコードは\n",
    "> 右辺の文字列のリストを`df.columns`に割り当てる\n",
    "\n",
    "と読むことができる。このコードにより割り当てが完了し，`df`は変更されることになる。`df`を表示してみよう。"
   ]
  },
  {
   "cell_type": "code",
   "execution_count": null,
   "metadata": {
    "hidden": true
   },
   "outputs": [],
   "source": [
    "df.head(2)"
   ]
  },
  {
   "cell_type": "markdown",
   "metadata": {
    "hidden": true
   },
   "source": [
    "この方法が簡単そうだが、全ての列ラベルをリストとして準備する必要がある点である。列の数が多いと面倒なので，そういう場合は`.rename()`の方が使いやすいだろう。元の列ラベルに戻しておこう。"
   ]
  },
  {
   "cell_type": "code",
   "execution_count": null,
   "metadata": {},
   "outputs": [],
   "source": [
    "df = df.rename({'pop_new':'pop', 'continent_new':'continent'}, axis='columns')"
   ]
  },
  {
   "cell_type": "markdown",
   "metadata": {
    "heading_collapsed": true,
    "jp-MarkdownHeadingCollapsed": true
   },
   "source": [
    "## 便利な使うメソッド"
   ]
  },
  {
   "cell_type": "markdown",
   "metadata": {
    "hidden": true
   },
   "source": [
    "列`id`には文字列があり，行のデータをカテゴリー別に分けていると考えることができる。メソッド`.unique()`を使うと，選択した列に重複したデータがある場合，ユニークなものだけを抽出できる。"
   ]
  },
  {
   "cell_type": "code",
   "execution_count": null,
   "metadata": {
    "hidden": true
   },
   "outputs": [],
   "source": [
    "df['continent'].unique()"
   ]
  },
  {
   "cell_type": "markdown",
   "metadata": {
    "hidden": true
   },
   "source": [
    "まな類似するメソッドに`.nunique()`があり，カテゴリー数を返す。"
   ]
  },
  {
   "cell_type": "code",
   "execution_count": null,
   "metadata": {
    "hidden": true
   },
   "outputs": [],
   "source": [
    "df['continent'].nunique()"
   ]
  },
  {
   "cell_type": "markdown",
   "metadata": {
    "hidden": true
   },
   "source": [
    "関連するメソッドに`.value_counts()`がある。これを使うとカテゴリーの内訳を確認するすることができる。各カテゴリーに対応する行数（度数）を表示するには"
   ]
  },
  {
   "cell_type": "code",
   "execution_count": null,
   "metadata": {
    "hidden": true
   },
   "outputs": [],
   "source": [
    "df.loc[:,'continent'].value_counts()"
   ]
  },
  {
   "cell_type": "markdown",
   "metadata": {
    "hidden": true
   },
   "source": [
    "とする。引数`normalize=True`を追加すると，相対度数として表示できる。"
   ]
  },
  {
   "cell_type": "code",
   "execution_count": null,
   "metadata": {
    "hidden": true
   },
   "outputs": [],
   "source": [
    "df.loc[:,'continent'].value_counts(normalize=True)"
   ]
  },
  {
   "cell_type": "markdown",
   "metadata": {
    "hidden": true
   },
   "source": [
    "`df`のように行数が少ない`DataFrame`の場合，これらのメソッドの有用性を見出すことは難しいが，何千行あるデータを扱っていると想像してみよう。そのような大きなデータを扱う場合は非常に重宝するメソッドだろう。"
   ]
  },
  {
   "cell_type": "markdown",
   "metadata": {
    "heading_collapsed": true,
    "hidden": true
   },
   "source": [
    "## 統計関連のメソッド"
   ]
  },
  {
   "cell_type": "markdown",
   "metadata": {
    "jp-MarkdownHeadingCollapsed": true
   },
   "source": [
    "### 時系列データ"
   ]
  },
  {
   "cell_type": "markdown",
   "metadata": {
    "hidden": true
   },
   "source": [
    "統計関連のメソッドを幾つか紹介するために日本の時系列データからなる`.csv`ファイルを読み込むことにする。`data2.csv`は[ここをクリック](https://raw.githubusercontent.com/Py4Basics/py4basics.github.io/source/data/data2.csv)をマウスの右クリックすることによりダウンロードすることもできる。"
   ]
  },
  {
   "cell_type": "code",
   "execution_count": null,
   "metadata": {},
   "outputs": [],
   "source": [
    "jp = pd.read_csv('./data/data2.csv')\n",
    "jp"
   ]
  },
  {
   "cell_type": "markdown",
   "metadata": {},
   "source": [
    "数値は日本の四半期データを年平均（単位：`10`億円）にしている。\n",
    "* `year`：年\n",
    "* `gdp`：国内総生産（Gross Domestic Product）\n",
    "* `con`：消費（consumption）\n",
    "* `inv`：投資（investment）\n",
    "* `gov`：政府支出（government expenditure）\n",
    "* `net_ex`：純輸出（net exports）\n",
    "\n",
    "列`year`を行ラベルに設定して説明を進めていくことにする。"
   ]
  },
  {
   "cell_type": "code",
   "execution_count": null,
   "metadata": {},
   "outputs": [],
   "source": [
    "jp = jp.set_index('year')\n",
    "jp.head(2)"
   ]
  },
  {
   "cell_type": "markdown",
   "metadata": {
    "jp-MarkdownHeadingCollapsed": true
   },
   "source": [
    "### メソッド"
   ]
  },
  {
   "cell_type": "markdown",
   "metadata": {},
   "source": [
    "**＜以下で説明する統計関連のメソッドに関する注意点＞**<br>\n",
    "* 計算して意味のある列のみを選択すること。`pandas`のバージョンにもよるが、文字列型の列を計算に含めるとエラーが発生する。`jp`は全てが浮動小数点となるため、以下では全ての列について計算を行なう。\n",
    "* 数値に含まれる欠損値は無視されることになる。"
   ]
  },
  {
   "cell_type": "markdown",
   "metadata": {
    "hidden": true
   },
   "source": [
    "上でも出てきたが`.sum()`は各列の合計を返す（`axis='rows'`がデフォルト）。"
   ]
  },
  {
   "cell_type": "code",
   "execution_count": null,
   "metadata": {
    "hidden": true
   },
   "outputs": [],
   "source": [
    "jp.sum()"
   ]
  },
  {
   "cell_type": "markdown",
   "metadata": {
    "hidden": true
   },
   "source": [
    "各行の合計を計算したい場合は引数`axis=1`もしくは`axis='columns'`を指定する。ここで`columns`となるのは列を横断すると覚えれば良いだろう。支出要素だけを合計してみよう。"
   ]
  },
  {
   "cell_type": "code",
   "execution_count": null,
   "metadata": {
    "hidden": true
   },
   "outputs": [],
   "source": [
    "jp.iloc[:,1:].sum(axis='columns')"
   ]
  },
  {
   "cell_type": "markdown",
   "metadata": {
    "hidden": true
   },
   "source": [
    "同じ使い方で次のメソッドが利用できる。\n",
    "* `.max()`：最大値\n",
    "* `.min()`：最小値\n",
    "* `.mean()`：（算術）平均\n",
    "* `.std()`：標準偏差\n",
    "    * 引数`ddof=1`はデフォルトで`1`\n",
    "    * `std()`はデフォルトで不偏標準偏差を計算する\n",
    "* `.var()`：分散\n",
    "    * 引数`ddof=1`はデフォルトで`1`\n",
    "    * `var()`はデフォルトで不偏分散を計算する\n",
    "\n",
    "次の２つも便利である。計算する際，欠損値は無視され，結果は`DataFrame`として返される。\n",
    "* `.cov()`：分散共分散行列\n",
    "    * 引数`ddof=1`はデフォルトで`1`\n",
    "    * `cov()`はデフォルトで不偏分散・共分散を計算する\n",
    "* `.corr()`：相関係数"
   ]
  },
  {
   "cell_type": "markdown",
   "metadata": {
    "hidden": true
   },
   "source": [
    "```{warning}\n",
    "`pandas`と`numpy`では，標準偏差，分散，共分散を計算する際の引数`ddof`のデフォルトの値が異なるので注意が必要！\n",
    "* `DataFrame`のメソッド\n",
    "    * `.std()`，`.var()`，`.cov()`の全てで`ddof=1`がデフォルト\n",
    "* `numpy`の関数\n",
    "    * `.std()`，`.var()`では`ddof=0`がデフォルト\n",
    "    * `.cov()`では`ddof=1`がデフォルト\n",
    "\n",
    "母集団の標準偏差・分散・共分散の不偏推定量を計算するには`ddof=1`が必要！！\n",
    "```"
   ]
  },
  {
   "cell_type": "markdown",
   "metadata": {
    "hidden": true
   },
   "source": [
    "```{warning}\n",
    "`DataFrame`のメソッド`.cov()`と`.corr()`は欠損値を自動的に無視する。従って，相関係数の場合，`.corr()`の結果と`.std()`を使う「手計算」の結果を比べる際は欠損値がどのように扱われているかに注意する必要がある。\n",
    "```"
   ]
  },
  {
   "cell_type": "markdown",
   "metadata": {
    "hidden": true
   },
   "source": [
    "例えば，`.cov()`を計算してみよう。"
   ]
  },
  {
   "cell_type": "code",
   "execution_count": null,
   "metadata": {
    "hidden": true
   },
   "outputs": [],
   "source": [
    "jp.cov()"
   ]
  },
  {
   "cell_type": "markdown",
   "metadata": {
    "hidden": true
   },
   "source": [
    "対角成分は分散であり，その他は行と列のラベルに対応する共分散となる。`.corr()`も同じ位置関係となる。"
   ]
  },
  {
   "cell_type": "code",
   "execution_count": null,
   "metadata": {},
   "outputs": [],
   "source": [
    "jp.corr()"
   ]
  },
  {
   "cell_type": "markdown",
   "metadata": {},
   "source": [
    "また変数の変化率（成長率）を計算するには`.pct_change()`が便利である（percent changeの略）。$x_t$を変数とすると、次式に従って毎期ごとの変化率を返すことになる。\n",
    "\n",
    "$$\n",
    "\\text{変化率}_t=\\frac{x_{t}-x_{t-1}}{x_{t-1}}\n",
    "$$"
   ]
  },
  {
   "cell_type": "code",
   "execution_count": null,
   "metadata": {
    "hidden": true
   },
   "outputs": [],
   "source": [
    "jp.pct_change()"
   ]
  },
  {
   "cell_type": "markdown",
   "metadata": {
    "hidden": true
   },
   "source": [
    "`2011`年が無いため，`2012`年の成長率は欠損値となっている。％表示するのであれば\n",
    "```\n",
    "100 * jp.pct_change()\n",
    "```\n",
    "とすれば良いだろう。"
   ]
  },
  {
   "cell_type": "markdown",
   "metadata": {},
   "source": [
    "`.pct_change()`と`.mean()`を続けて書くと簡単に（算術）平均成長率を計算することができる。"
   ]
  },
  {
   "cell_type": "code",
   "execution_count": null,
   "metadata": {
    "hidden": true
   },
   "outputs": [],
   "source": [
    "jp.pct_change().mean()"
   ]
  },
  {
   "cell_type": "markdown",
   "metadata": {
    "heading_collapsed": true,
    "jp-MarkdownHeadingCollapsed": true
   },
   "source": [
    "## `Series`について"
   ]
  },
  {
   "cell_type": "markdown",
   "metadata": {
    "hidden": true
   },
   "source": [
    "`Series`について簡単に説明する。`Series`はスプレッド・シートから１つの行または列を取り出したようなデータとイメージすれば良いだろう。`Series`には行と列を区別しないが、`Series`のインデックスは`DataFrame`のインデックスと同じと考えて良いだろう。ただし、以下では次の表現を使う。\n",
    "* インデックスが位置番号（`0`、`1`、`2`）を**インデックス番号**と呼ぶ。\n",
    "* インデックスがラベルの場合は、単に**ラベル**と呼ぶ。\n",
    "\n",
    "まず`df`の列`gdp`から`Series`を作ってみよう。"
   ]
  },
  {
   "cell_type": "code",
   "execution_count": null,
   "metadata": {
    "hidden": true
   },
   "outputs": [],
   "source": [
    "s = df.loc[:,'gdp']\n",
    "s"
   ]
  },
  {
   "cell_type": "markdown",
   "metadata": {
    "hidden": true
   },
   "source": [
    "````{note}\n",
    "```\n",
    "df.loc[:,['gdp']]\n",
    "```\n",
    "もしくは\n",
    "```\n",
    "df[['gdp']]\n",
    "```\n",
    "で列を抽出すると`DataFrame`が返される。また次のように`s`のメソッド`.to_frame()`を使うと`Series`を`DataFrame`に変換できるので、覚えておくと便利かも知れない。\n",
    "```\n",
    "s.to_frame()\n",
    "```\n",
    "新たに列ラベルを設定する場合は\n",
    "```\n",
    "s.to_frame('新たな列ラベル')\n",
    "```\n",
    "とする。\n",
    "````"
   ]
  },
  {
   "cell_type": "markdown",
   "metadata": {},
   "source": [
    "`df`の行ラベルが整数型であり、それが`s`のインデックスに使われている。\n",
    "また、`gdp`は`s`の名前（`Name`）として使われている。"
   ]
  },
  {
   "cell_type": "markdown",
   "metadata": {
    "heading_collapsed": true,
    "hidden": true,
    "jp-MarkdownHeadingCollapsed": true
   },
   "source": [
    "### 構成要素"
   ]
  },
  {
   "cell_type": "markdown",
   "metadata": {
    "hidden": true
   },
   "source": [
    "この例を使い`Series`の構成要素について説明する。\n",
    "\n",
    "* データ：`s.to_numpy()`もしくは`s.values`で抽出可能\n",
    "* `Series`名：`s.name`で抽出可能\n",
    "    * `df`の列ラベルから引き継がれているが、空の場合もある。\n",
    "* インデックス（番号もしくはラベル）：`s.index`で抽出可能\n",
    "    * 上の例では`df`の行ラベルから引き継がれている\n",
    "    * インデックス番号であれば、`0`,`1`,`2`,...と表示される。\n",
    "* インデックス名：`s.index.name`で抽出可能\n",
    "    * `df`の行ラベル名から引き継がれていが、空の場合もある。\n",
    "\n",
    "まずデータ自体を抽出する。"
   ]
  },
  {
   "cell_type": "code",
   "execution_count": null,
   "metadata": {
    "hidden": true
   },
   "outputs": [],
   "source": [
    "s.to_numpy()"
   ]
  },
  {
   "cell_type": "code",
   "execution_count": null,
   "metadata": {
    "hidden": true
   },
   "outputs": [],
   "source": [
    "type(s.to_numpy())"
   ]
  },
  {
   "cell_type": "markdown",
   "metadata": {
    "hidden": true
   },
   "source": [
    "`Series`名の抽出"
   ]
  },
  {
   "cell_type": "code",
   "execution_count": null,
   "metadata": {
    "hidden": true
   },
   "outputs": [],
   "source": [
    "s.name"
   ]
  },
  {
   "cell_type": "markdown",
   "metadata": {
    "hidden": true
   },
   "source": [
    "インデックスの抽出"
   ]
  },
  {
   "cell_type": "code",
   "execution_count": null,
   "metadata": {
    "hidden": true
   },
   "outputs": [],
   "source": [
    "s.index"
   ]
  },
  {
   "cell_type": "markdown",
   "metadata": {
    "hidden": true
   },
   "source": [
    "`dtype='object'`とあるが、ラベルは文字列であることがわかる。"
   ]
  },
  {
   "cell_type": "markdown",
   "metadata": {
    "heading_collapsed": true,
    "hidden": true,
    "jp-MarkdownHeadingCollapsed": true
   },
   "source": [
    "### 要素の抽出"
   ]
  },
  {
   "cell_type": "markdown",
   "metadata": {
    "hidden": true
   },
   "source": [
    "要素の抽出はラベルを使う方法とインデックス番号を使う方法がある。ラベルを使う場合を考えてみよう。`DataFrame`と同様に`.loc[]`を使う事ができる。違いは、`Series`の場合、行と列の区別がないのでラベルだけを指定すれば良い。"
   ]
  },
  {
   "cell_type": "code",
   "execution_count": null,
   "metadata": {
    "hidden": true
   },
   "outputs": [],
   "source": [
    "s.loc['Japan']"
   ]
  },
  {
   "cell_type": "markdown",
   "metadata": {
    "editable": true,
    "slideshow": {
     "slide_type": ""
    },
    "tags": []
   },
   "source": [
    "複数の場合はラベルをリストとする。"
   ]
  },
  {
   "cell_type": "code",
   "execution_count": null,
   "metadata": {
    "editable": true,
    "hidden": true,
    "slideshow": {
     "slide_type": ""
    },
    "tags": []
   },
   "outputs": [],
   "source": [
    "s.loc[['Japan','Korea','UK']]"
   ]
  },
  {
   "cell_type": "markdown",
   "metadata": {
    "editable": true,
    "hidden": true,
    "slideshow": {
     "slide_type": ""
    },
    "tags": []
   },
   "source": [
    "ラベルを使う場合，`.loc`を省略することができる。辞書と同じような形となる。"
   ]
  },
  {
   "cell_type": "code",
   "execution_count": null,
   "metadata": {
    "editable": true,
    "hidden": true,
    "slideshow": {
     "slide_type": ""
    },
    "tags": []
   },
   "outputs": [],
   "source": [
    "s['Japan']"
   ]
  },
  {
   "cell_type": "code",
   "execution_count": null,
   "metadata": {
    "editable": true,
    "hidden": true,
    "slideshow": {
     "slide_type": ""
    },
    "tags": []
   },
   "outputs": [],
   "source": [
    "s[['Japan','Korea','UK']]"
   ]
  },
  {
   "cell_type": "markdown",
   "metadata": {
    "editable": true,
    "hidden": true,
    "slideshow": {
     "slide_type": ""
    },
    "tags": []
   },
   "source": [
    "次にインデックス番号を使う要素の抽出方法を紹介しよう。`DataFrame`と同様に`.iloc[]`を使う。"
   ]
  },
  {
   "cell_type": "code",
   "execution_count": null,
   "metadata": {
    "editable": true,
    "hidden": true,
    "slideshow": {
     "slide_type": ""
    },
    "tags": []
   },
   "outputs": [],
   "source": [
    "s.iloc[5]"
   ]
  },
  {
   "cell_type": "markdown",
   "metadata": {
    "editable": true,
    "hidden": true,
    "slideshow": {
     "slide_type": ""
    },
    "tags": []
   },
   "source": [
    "複数のインデックスを使うことも可能である。"
   ]
  },
  {
   "cell_type": "code",
   "execution_count": null,
   "metadata": {
    "editable": true,
    "hidden": true,
    "slideshow": {
     "slide_type": ""
    },
    "tags": []
   },
   "outputs": [],
   "source": [
    "s.iloc[[1,3,5]]"
   ]
  },
  {
   "cell_type": "markdown",
   "metadata": {
    "editable": true,
    "hidden": true,
    "slideshow": {
     "slide_type": ""
    },
    "tags": []
   },
   "source": [
    "またスライシングも同様にできる。"
   ]
  },
  {
   "cell_type": "code",
   "execution_count": null,
   "metadata": {
    "editable": true,
    "hidden": true,
    "slideshow": {
     "slide_type": ""
    },
    "tags": []
   },
   "outputs": [],
   "source": [
    "s.iloc[5:-2]"
   ]
  },
  {
   "cell_type": "markdown",
   "metadata": {
    "editable": true,
    "slideshow": {
     "slide_type": ""
    },
    "tags": []
   },
   "source": [
    "```{warning}\n",
    "Pandasのバージョンによっては`.iloc`を省略して`s[1]`のようにして要素にアクセスできるかも知れないが、バージョンが進むと使えなくなるので注意しよう。\n",
    "```"
   ]
  },
  {
   "cell_type": "markdown",
   "metadata": {
    "editable": true,
    "hidden": true,
    "jp-MarkdownHeadingCollapsed": true,
    "slideshow": {
     "slide_type": ""
    },
    "tags": []
   },
   "source": [
    "### 統計学関連メソッド"
   ]
  },
  {
   "cell_type": "markdown",
   "metadata": {
    "editable": true,
    "hidden": true,
    "slideshow": {
     "slide_type": ""
    },
    "tags": []
   },
   "source": [
    "`Series`にも`DataFrame`と同じような統計学関連メソッドが実装されているので，`py4macro.see()`で調べてみよう。"
   ]
  },
  {
   "cell_type": "code",
   "execution_count": null,
   "metadata": {
    "editable": true,
    "hidden": true,
    "slideshow": {
     "slide_type": ""
    },
    "tags": [
     "output_scroll"
    ]
   },
   "outputs": [],
   "source": [
    "py4macro.see(s)"
   ]
  },
  {
   "cell_type": "markdown",
   "metadata": {
    "editable": true,
    "slideshow": {
     "slide_type": ""
    },
    "tags": []
   },
   "source": [
    "この中に\n",
    "* `.mean`：平均\n",
    "* `.std`：標準偏差\n",
    "* `.var`：分散\n",
    "* `.sum`：合計\n",
    "\n",
    "を計算するメソッドが含まれているのが確認できる。"
   ]
  },
  {
   "cell_type": "markdown",
   "metadata": {
    "editable": true,
    "heading_collapsed": true,
    "jp-MarkdownHeadingCollapsed": true,
    "slideshow": {
     "slide_type": ""
    },
    "tags": []
   },
   "source": [
    "## グループ計算"
   ]
  },
  {
   "cell_type": "markdown",
   "metadata": {
    "editable": true,
    "hidden": true,
    "slideshow": {
     "slide_type": ""
    },
    "tags": []
   },
   "source": [
    "再度`df`を使って説明する。表示してみよう。"
   ]
  },
  {
   "cell_type": "code",
   "execution_count": null,
   "metadata": {
    "editable": true,
    "hidden": true,
    "slideshow": {
     "slide_type": ""
    },
    "tags": []
   },
   "outputs": [],
   "source": [
    "df.head()"
   ]
  },
  {
   "cell_type": "markdown",
   "metadata": {
    "editable": true,
    "hidden": true,
    "slideshow": {
     "slide_type": ""
    },
    "tags": []
   },
   "source": [
    "`df`のメソッド`.mean()`を使うと列の平均を簡単に計算できることは説明した。`id`以外の列を取り出して計算してみよう。"
   ]
  },
  {
   "cell_type": "code",
   "execution_count": null,
   "metadata": {
    "editable": true,
    "hidden": true,
    "slideshow": {
     "slide_type": ""
    },
    "tags": []
   },
   "outputs": [],
   "source": [
    "df.iloc[:,:-1].mean()"
   ]
  },
  {
   "cell_type": "markdown",
   "metadata": {
    "editable": true,
    "hidden": true,
    "slideshow": {
     "slide_type": ""
    },
    "tags": []
   },
   "source": [
    "一方で，列`continent`には`Asia`と`Europe`があり，`df`を２つのグループに分けることができる。ここで問題になるのは，グループ別に列の平均を計算したい場合である。まず考えられる方法は`Asia`グループだけを抽出して平均を計算し，同じように`Europe`も計算するということだろう。もしグループ数が多い場合は`for`ループが必要になり，より長いコードを書く必要があり面倒に感じることになる。\n",
    "\n",
    "こういう場合のために，`DataFrame`には簡単にグループ計算を可能にする方法が用意されている。それが`.groupby()`というメソッドである。以下では`.groupby()`の使い方を`df`を使って３つのステップに分けて説明する。"
   ]
  },
  {
   "cell_type": "markdown",
   "metadata": {
    "editable": true,
    "heading_collapsed": true,
    "hidden": true,
    "jp-MarkdownHeadingCollapsed": true,
    "slideshow": {
     "slide_type": ""
    },
    "tags": []
   },
   "source": [
    "### ステップ１：グループ化する列を指定"
   ]
  },
  {
   "cell_type": "markdown",
   "metadata": {
    "editable": true,
    "hidden": true,
    "slideshow": {
     "slide_type": ""
    },
    "tags": []
   },
   "source": [
    "最初のステップでは，**グループ化したい列名**を引数として`.groupby()`を実行する。`df`を`continent`でグループ化したいので次のコードとなる。\n",
    "```\n",
    "df.groupby('continent')\n",
    "```\n",
    "\n",
    "**＜注意＞**<br>\n",
    "このコードは`DataFrame`を返すわけでは**ない**。返すのはグループ計算用のオブジェクトであり，それを使ってグループ計算をおこなう事になる。\n",
    "\n",
    "実際にコードを実行し，変数`df_groupby`に割り当てよう。"
   ]
  },
  {
   "cell_type": "code",
   "execution_count": null,
   "metadata": {
    "editable": true,
    "hidden": true,
    "slideshow": {
     "slide_type": ""
    },
    "tags": []
   },
   "outputs": [],
   "source": [
    "df_groupby = df.groupby('continent')"
   ]
  },
  {
   "cell_type": "markdown",
   "metadata": {
    "editable": true,
    "hidden": true,
    "slideshow": {
     "slide_type": ""
    },
    "tags": []
   },
   "source": [
    "`df_groupby`を実行してみよう。"
   ]
  },
  {
   "cell_type": "code",
   "execution_count": null,
   "metadata": {
    "editable": true,
    "hidden": true,
    "slideshow": {
     "slide_type": ""
    },
    "tags": []
   },
   "outputs": [],
   "source": [
    "df_groupby"
   ]
  },
  {
   "cell_type": "markdown",
   "metadata": {
    "editable": true,
    "hidden": true,
    "slideshow": {
     "slide_type": ""
    },
    "tags": []
   },
   "source": [
    "何も返されない。表示されているのは，PCメモリーのある箇所に`DataFrameGroupBy`というオブジェクトが存在すると伝えているだけである。"
   ]
  },
  {
   "cell_type": "markdown",
   "metadata": {
    "editable": true,
    "heading_collapsed": true,
    "hidden": true,
    "jp-MarkdownHeadingCollapsed": true,
    "slideshow": {
     "slide_type": ""
    },
    "tags": []
   },
   "source": [
    "### ステップ２：グループ計算したい列を指定"
   ]
  },
  {
   "cell_type": "markdown",
   "metadata": {
    "editable": true,
    "hidden": true,
    "slideshow": {
     "slide_type": ""
    },
    "tags": []
   },
   "source": [
    "次にグループ計算したい列を指定するが，次の様な書き方となる。\n",
    "```\n",
    "df_groupby[＜グループ計算したい列ラベル＞]\n",
    "```\n",
    "ここで`[]`を使っていることに注意しよう。例として`gdp`をグループ計算するとしよう。"
   ]
  },
  {
   "cell_type": "code",
   "execution_count": null,
   "metadata": {
    "editable": true,
    "hidden": true,
    "slideshow": {
     "slide_type": ""
    },
    "tags": []
   },
   "outputs": [],
   "source": [
    "df_groupby['gdp']"
   ]
  },
  {
   "cell_type": "markdown",
   "metadata": {
    "editable": true,
    "hidden": true,
    "slideshow": {
     "slide_type": ""
    },
    "tags": []
   },
   "source": [
    "ここでも新たなオブジェクト`SeriesGroupBy`のメモリーアドレスが表示されるだけである。どの様に計算するかを指定することにより，計算結果が返されることになる。それが次のステップである。"
   ]
  },
  {
   "cell_type": "markdown",
   "metadata": {
    "editable": true,
    "heading_collapsed": true,
    "hidden": true,
    "jp-MarkdownHeadingCollapsed": true,
    "slideshow": {
     "slide_type": ""
    },
    "tags": []
   },
   "source": [
    "### ステップ３：計算方法の指定"
   ]
  },
  {
   "cell_type": "markdown",
   "metadata": {
    "editable": true,
    "hidden": true,
    "slideshow": {
     "slide_type": ""
    },
    "tags": []
   },
   "source": [
    "ステップ１と２がグループ計算の準備段階であり，あとは実際にどのように計算したいかを指定する。例として，平均を考えてみよう。上でも出てきたが，平均はメソッド`.mean()`を使う。"
   ]
  },
  {
   "cell_type": "code",
   "execution_count": null,
   "metadata": {
    "editable": true,
    "hidden": true,
    "slideshow": {
     "slide_type": ""
    },
    "tags": []
   },
   "outputs": [],
   "source": [
    "df_groupby['gdp'].mean()"
   ]
  },
  {
   "cell_type": "markdown",
   "metadata": {
    "editable": true,
    "hidden": true,
    "slideshow": {
     "slide_type": ""
    },
    "tags": []
   },
   "source": [
    "グループ計算結果は`Series`として返されている。`.mean()`以外にも使える関数は準備されいる。`py4macro.see()`を使って属性・メソッドを調べてみよう。"
   ]
  },
  {
   "cell_type": "code",
   "execution_count": null,
   "metadata": {
    "editable": true,
    "hidden": true,
    "slideshow": {
     "slide_type": ""
    },
    "tags": []
   },
   "outputs": [],
   "source": [
    "py4macro.see(df_groupby['gdp'])"
   ]
  },
  {
   "cell_type": "markdown",
   "metadata": {
    "editable": true,
    "hidden": true,
    "slideshow": {
     "slide_type": ""
    },
    "tags": []
   },
   "source": [
    "主なメソッドとして次を挙げることができる（これらの計算で欠損値は無視される）。\n",
    "* `mean()`：平均\n",
    "* `median()`：中央値\n",
    "* `max()`：最大値\n",
    "* `min()`：最小値\n",
    "* `std()`：標準偏差\n",
    "* `var()`：分散\n",
    "* `sum()`：合計\n",
    "* `cumsum()`：累積和\n",
    "* `first()`：最初の値\n",
    "* `last()`：最後の値\n",
    "* `count()`：要素数\n",
    "* などなど\n",
    "\n",
    "このリストにない計算をしたい場合もあるだろう。その場合は，上のリストにもある`.agg()`（`aggregate()`も同じ）を使い，自作の関数を指定することができる。例えば，平均を計算する自作の関数`my_mean()`を考えてみよう。"
   ]
  },
  {
   "cell_type": "code",
   "execution_count": null,
   "metadata": {
    "editable": true,
    "hidden": true,
    "slideshow": {
     "slide_type": ""
    },
    "tags": []
   },
   "outputs": [],
   "source": [
    "def my_mean(x):\n",
    "    \n",
    "    return sum(x) / len(x)"
   ]
  },
  {
   "cell_type": "markdown",
   "metadata": {
    "editable": true,
    "hidden": true,
    "slideshow": {
     "slide_type": ""
    },
    "tags": []
   },
   "source": [
    "ここでの`x`はステップ２で指定する計算する対象の列と考えれば良いだろう。実際に実行してみよう。"
   ]
  },
  {
   "cell_type": "code",
   "execution_count": null,
   "metadata": {
    "editable": true,
    "hidden": true,
    "slideshow": {
     "slide_type": ""
    },
    "tags": []
   },
   "outputs": [],
   "source": [
    "df_groupby['gdp'].agg(my_mean)"
   ]
  },
  {
   "cell_type": "markdown",
   "metadata": {
    "editable": true,
    "hidden": true,
    "slideshow": {
     "slide_type": ""
    },
    "tags": []
   },
   "source": [
    "```{warning}\n",
    "この場合，`()`がなく，関数名だけを`.agg()`の引数にしている。関数名だけを`.agg`に渡し，`.agg`が渡された関数を実行するというイメージである。`()`を付けると`.agg()`に渡す前に関数を実行することになりエラーとなってしまう。\n",
    "```"
   ]
  },
  {
   "cell_type": "markdown",
   "metadata": {
    "editable": true,
    "heading_collapsed": true,
    "hidden": true,
    "jp-MarkdownHeadingCollapsed": true,
    "slideshow": {
     "slide_type": ""
    },
    "tags": []
   },
   "source": [
    "### 次のステップ"
   ]
  },
  {
   "cell_type": "markdown",
   "metadata": {
    "editable": true,
    "heading_collapsed": true,
    "hidden": true,
    "jp-MarkdownHeadingCollapsed": true,
    "slideshow": {
     "slide_type": ""
    },
    "tags": []
   },
   "source": [
    "#### １行で書く"
   ]
  },
  {
   "cell_type": "markdown",
   "metadata": {
    "editable": true,
    "hidden": true,
    "slideshow": {
     "slide_type": ""
    },
    "tags": []
   },
   "source": [
    "上の説明では３つのステップに分けたが，もちろん次のように３つのステップを次のように１行で書いても構わないし，むしろその場合が多いだろう。"
   ]
  },
  {
   "cell_type": "code",
   "execution_count": null,
   "metadata": {
    "editable": true,
    "hidden": true,
    "slideshow": {
     "slide_type": ""
    },
    "tags": []
   },
   "outputs": [],
   "source": [
    "df.groupby('continent')['gdp'].mean()"
   ]
  },
  {
   "cell_type": "markdown",
   "metadata": {
    "editable": true,
    "hidden": true,
    "slideshow": {
     "slide_type": ""
    },
    "tags": []
   },
   "source": [
    "このコードは次の様に読むことができる。\n",
    "> `df`を`id`でグループ分けして，`gdp`の平均を計算する。"
   ]
  },
  {
   "cell_type": "markdown",
   "metadata": {
    "editable": true,
    "heading_collapsed": true,
    "hidden": true,
    "jp-MarkdownHeadingCollapsed": true,
    "slideshow": {
     "slide_type": ""
    },
    "tags": []
   },
   "source": [
    "#### 複数選択"
   ]
  },
  {
   "cell_type": "markdown",
   "metadata": {
    "editable": true,
    "hidden": true,
    "slideshow": {
     "slide_type": ""
    },
    "tags": []
   },
   "source": [
    "各ステップでは列や関数を一つだけ選択・設定しているが，それぞれ複数選択することも可能である。\n",
    "* ステップ１ではグループ化する上で基準となる列を複数選択\n",
    "* ステップ２では計算対象となる列を複数選択\n",
    "* ステップ３では`.agg()`の引数に複数の関数を指定\n",
    "\n",
    "という具合である。ただその場合は，リストとして列や関数名を指定する必要がある。例えば，ステップ２で`gdp`と`inv`を選ぶとしよう。"
   ]
  },
  {
   "cell_type": "code",
   "execution_count": null,
   "metadata": {
    "editable": true,
    "hidden": true,
    "slideshow": {
     "slide_type": ""
    },
    "tags": []
   },
   "outputs": [],
   "source": [
    "df.groupby('continent')[['gdp','inv']].mean()"
   ]
  },
  {
   "cell_type": "markdown",
   "metadata": {
    "editable": true,
    "hidden": true,
    "slideshow": {
     "slide_type": ""
    },
    "tags": []
   },
   "source": [
    "結果は`DataFrame`として返されている。ステップ１もしくは３で複数選択すると`DataFrame`が`MultiIndex`（階層的な行と列）として返されることになるが，その簡単な説明については[Gapminder](https://py4basics.github.io/Gapminder.html)を参照して欲しい。より詳しい説明は他のサイトに譲ることにする。\n",
    "\n",
    "`df`のような小さな`DataFrame`では`.groupby`の威力はあまりピンとこないかも知れない。しかし大きな`DataFrame`を使うとその恩恵を強く感じることだろう。[Gapminder](https://py4basics.github.io/Gapminder.html)ではマクロ経済データを使い`.groupby()`の使い方の例を示している。興味がある人は是非！"
   ]
  }
 ],
 "metadata": {
  "celltoolbar": "Tags",
  "kernel_info": {
   "name": "python3"
  },
  "kernelspec": {
   "display_name": "Python 3 (ipykernel)",
   "language": "python",
   "name": "python3"
  },
  "language_info": {
   "codemirror_mode": {
    "name": "ipython",
    "version": 3
   },
   "file_extension": ".py",
   "mimetype": "text/x-python",
   "name": "python",
   "nbconvert_exporter": "python",
   "pygments_lexer": "ipython3",
   "version": "3.12.2"
  },
  "nteract": {
   "version": "0.15.0"
  },
  "toc": {
   "base_numbering": 1,
   "nav_menu": {},
   "number_sections": true,
   "sideBar": true,
   "skip_h1_title": false,
   "title_cell": "Table of Contents",
   "title_sidebar": "Contents",
   "toc_cell": false,
   "toc_position": {},
   "toc_section_display": true,
   "toc_window_display": false
  }
 },
 "nbformat": 4,
 "nbformat_minor": 4
}
